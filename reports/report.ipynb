{
 "cells": [
  {
   "cell_type": "raw",
   "metadata": {},
   "source": [
    "---\n",
    "title: \"Project Report\"\n",
    "format:\n",
    "  html:\n",
    "    code-fold: true\n",
    "jupyter: python3\n",
    "---"
   ]
  },
  {
   "attachments": {},
   "cell_type": "markdown",
   "metadata": {},
   "source": [
    "## Motivation\n",
    "\n",
    "The project idea is based on a CNN news article regarding working hours in South Korea (https://edition.cnn.com/2018/07/02/health/south-korea-work-hours/index.html). It sais that South Korea cutted its work limit from 68 hours a week to 52. A comparison of \"Average annual hours actually worked per worker\"  by country (https://stats.oecd.org/Index.aspx?DataSetCode=ANHRS#) shows that in 2021 South Korea had the 4th highest amount of hours of 35 countries tracked by OECD. The average was 1.915 hours where Germany worked the least with 1.349 hours.\n",
    "\n",
    "South Korea and Germany are both known for strong economies but obviously behave different regarding working hours. Due to this fact the project group (herein, \"we\") decided to investigate the subject of **labor productivity**. **Productivity** is commonly defined as a ratio between the volume of output and the volume of inputs. In other words, it measures how efficiently production inputs, such as **labour**, is used in an economy to produce a given level of output. Hence it is a key source for economic growth and affects our future worklife.\n",
    "\n",
    "## Research Questions\n",
    "1) Does the longer average annual working hours increase labor productivity?\n",
    "2) What is the most related factor in improving labor productivity?\n",
    "  - Annual working hours per worker\n",
    "  - GDP of the country\n",
    "  - Gini coefficient of country\n",
    "  - Life satisfaction level of worker\n",
    "  - Amount of health expenditure of worker\n",
    "\n",
    "Please find the literature, our research question is motivated by, in the sources.\n",
    "\n",
    "\n",
    "## Hypotheses\n",
    "1) There is no correlation between working hours and labor productivity. (= Null hypothesis of our first research question)\n",
    "2) Life satisfaction level of country is the most related factor (regarding factors listed above) in improving labor productivity.\n",
    "\n",
    "## Data description\n",
    "\n",
    "The initial data set consinst of 3.471 observations with a time range from 1950 to 2017. Due to fact that time series analysis is not the goal of this project, the data set was flagged on the latest observations of 2017. The adjusted data set consinst of 66 observations, 11 columns.\n",
    "\n",
    "### Variables description\n",
    "\n",
    "First four columns include four spatial and temporal dimensions:\n",
    "- Continent: Continent name\n",
    "- Country: Country name\n",
    "- Country Code: Country codes by alpha-3\n",
    "- Year: Calendar Year - Only 2017 data was considered in this analysis to satisfy the independence condition\n",
    "\n",
    "At least six columns have useful and unique numeric predictors, and each column contains different numeric informations that could be independent variable. There is one variable that can be defined as a dependent variable to perform an analysis based on the research problem described below.\n",
    "- Resonable dependent variable:  \n",
    "  - Productivity: Labour Productivity is measured as gross domestic product (GDP) per hour of work. This data is adjusted for inflation and for differences in the cost of living between countries.\n",
    "- Independent variable\n",
    "  - Ø-working hours: Working hours are the annual average per worker\n",
    "  - GDP: GDP per capita by country\n",
    "  - Population: Population by country\n",
    "  - Gini coefficient: Determinates the level of income inequality (0 = perfect equality / 1 = maximal inequality)\n",
    "  - Life safisfaction: The level of life satisfaction for each country has been measured by survey: “Please imagine a ladder, with steps numbered from 0 at the bottom to 10 at the top. The top of the ladder represents the best possible life for you and the bottom of the ladder represents the worst possible life for you. On which step of the ladder would you say you personally feel you stand at this time?”\n",
    "  - Health expenditure: Healthcare expenditure per capita is measured in current international-$, which adjusts for price differences between countries.\n",
    "\n",
    "Please find the source description in the Appendix.\n",
    "\n",
    "### Limitations\n",
    "- The amount of observations is very small. The sample size could undermine the validity of the model results.\n",
    "- As Productivity is a figure calculated from Ø-working hours and GDP it could cause multicollinearity.\n",
    "\n",
    "The following table (Table 1) shows the first 5 observations of the data set consolidated from the exports:"
   ]
  },
  {
   "cell_type": "code",
   "execution_count": 1,
   "metadata": {},
   "outputs": [],
   "source": [
    "\n",
    "# Setup\n",
    "import numpy as np\n",
    "import pandas as pd\n",
    "import altair as alt\n",
    "import matplotlib.pyplot as plt\n",
    "import joblib\n",
    "\n",
    "from sklearn.model_selection import train_test_split\n",
    "from sklearn.model_selection import cross_val_score\n",
    "from sklearn.linear_model import LinearRegression\n",
    "from sklearn.neighbors import KNeighborsRegressor\n",
    "from sklearn.metrics import r2_score\n",
    "from sklearn.metrics import mean_squared_error\n",
    "from sklearn.metrics import mean_absolute_error\n",
    "\n",
    "from sklearn.preprocessing import StandardScaler\n",
    "from sklearn.linear_model import Lasso\n",
    "from sklearn.linear_model import LassoCV\n",
    "\n",
    "import seaborn as sns # Python data visualization library based on matplotlib. Used pairplot function in data exploration and heatmap function for visualization of multicollinearity check\n",
    "\n",
    "# statmodels - supports specifying models using R-style formulas and pandas DataFrames\n",
    "from statsmodels.stats.outliers_influence import variance_inflation_factor # Measure for the increase of the variance of the parameter estimates if an additional variable, given by the design matrix is added to the linear regression. It is a measure for multicollinearity of the design matrix\n",
    "from statsmodels.tools.tools import add_constant # Add a column to an array\n",
    "from statsmodels.formula.api import ols # API that focuses on models and the most frequently used statistical test, and tools for Ordinary Least Squares regression"
   ]
  },
  {
   "attachments": {},
   "cell_type": "markdown",
   "metadata": {},
   "source": [
    "### Table 1: Overview Dataframe"
   ]
  },
  {
   "cell_type": "code",
   "execution_count": 2,
   "metadata": {},
   "outputs": [
    {
     "data": {
      "text/html": [
       "<div>\n",
       "<style scoped>\n",
       "    .dataframe tbody tr th:only-of-type {\n",
       "        vertical-align: middle;\n",
       "    }\n",
       "\n",
       "    .dataframe tbody tr th {\n",
       "        vertical-align: top;\n",
       "    }\n",
       "\n",
       "    .dataframe thead th {\n",
       "        text-align: right;\n",
       "    }\n",
       "</style>\n",
       "<table border=\"1\" class=\"dataframe\">\n",
       "  <thead>\n",
       "    <tr style=\"text-align: right;\">\n",
       "      <th></th>\n",
       "      <th>Continent</th>\n",
       "      <th>Country</th>\n",
       "      <th>Code</th>\n",
       "      <th>Year</th>\n",
       "      <th>Average annual working hours per worker</th>\n",
       "      <th>GDP per capita</th>\n",
       "      <th>Population</th>\n",
       "      <th>Gini coefficient</th>\n",
       "      <th>Life satisfaction</th>\n",
       "      <th>Productivity</th>\n",
       "      <th>Current health expenditure per capita</th>\n",
       "    </tr>\n",
       "  </thead>\n",
       "  <tbody>\n",
       "    <tr>\n",
       "      <th>0</th>\n",
       "      <td>Americas</td>\n",
       "      <td>Argentina</td>\n",
       "      <td>ARG</td>\n",
       "      <td>2017</td>\n",
       "      <td>1691.5363</td>\n",
       "      <td>23272.18</td>\n",
       "      <td>44054616</td>\n",
       "      <td>NaN</td>\n",
       "      <td>6.085561</td>\n",
       "      <td>30.955460</td>\n",
       "      <td>2470.11</td>\n",
       "    </tr>\n",
       "    <tr>\n",
       "      <th>1</th>\n",
       "      <td>Oceania</td>\n",
       "      <td>Australia</td>\n",
       "      <td>AUS</td>\n",
       "      <td>2017</td>\n",
       "      <td>1731.4943</td>\n",
       "      <td>52536.19</td>\n",
       "      <td>24590336</td>\n",
       "      <td>NaN</td>\n",
       "      <td>7.233995</td>\n",
       "      <td>60.341679</td>\n",
       "      <td>4715.83</td>\n",
       "    </tr>\n",
       "    <tr>\n",
       "      <th>2</th>\n",
       "      <td>Europe</td>\n",
       "      <td>Austria</td>\n",
       "      <td>AUT</td>\n",
       "      <td>2017</td>\n",
       "      <td>1613.0519</td>\n",
       "      <td>51954.28</td>\n",
       "      <td>8797497</td>\n",
       "      <td>0.297376</td>\n",
       "      <td>7.195361</td>\n",
       "      <td>64.780170</td>\n",
       "      <td>5641.18</td>\n",
       "    </tr>\n",
       "    <tr>\n",
       "      <th>3</th>\n",
       "      <td>Asia</td>\n",
       "      <td>Bangladesh</td>\n",
       "      <td>BGD</td>\n",
       "      <td>2017</td>\n",
       "      <td>2232.3542</td>\n",
       "      <td>4112.70</td>\n",
       "      <td>161793968</td>\n",
       "      <td>NaN</td>\n",
       "      <td>5.114217</td>\n",
       "      <td>4.307637</td>\n",
       "      <td>101.18</td>\n",
       "    </tr>\n",
       "    <tr>\n",
       "      <th>4</th>\n",
       "      <td>Europe</td>\n",
       "      <td>Belgium</td>\n",
       "      <td>BEL</td>\n",
       "      <td>2017</td>\n",
       "      <td>1544.2690</td>\n",
       "      <td>45150.20</td>\n",
       "      <td>11384491</td>\n",
       "      <td>0.273880</td>\n",
       "      <td>6.772138</td>\n",
       "      <td>68.516521</td>\n",
       "      <td>5450.48</td>\n",
       "    </tr>\n",
       "  </tbody>\n",
       "</table>\n",
       "</div>"
      ],
      "text/plain": [
       "  Continent     Country Code  Year  Average annual working hours per worker  \\\n",
       "0  Americas   Argentina  ARG  2017                                1691.5363   \n",
       "1   Oceania   Australia  AUS  2017                                1731.4943   \n",
       "2    Europe     Austria  AUT  2017                                1613.0519   \n",
       "3      Asia  Bangladesh  BGD  2017                                2232.3542   \n",
       "4    Europe     Belgium  BEL  2017                                1544.2690   \n",
       "\n",
       "   GDP per capita  Population  Gini coefficient  Life satisfaction  \\\n",
       "0        23272.18    44054616               NaN           6.085561   \n",
       "1        52536.19    24590336               NaN           7.233995   \n",
       "2        51954.28     8797497          0.297376           7.195361   \n",
       "3         4112.70   161793968               NaN           5.114217   \n",
       "4        45150.20    11384491          0.273880           6.772138   \n",
       "\n",
       "   Productivity  Current health expenditure per capita  \n",
       "0     30.955460                                2470.11  \n",
       "1     60.341679                                4715.83  \n",
       "2     64.780170                                5641.18  \n",
       "3      4.307637                                 101.18  \n",
       "4     68.516521                                5450.48  "
      ]
     },
     "execution_count": 2,
     "metadata": {},
     "output_type": "execute_result"
    }
   ],
   "source": [
    "# import data and first view on dataframe\n",
    "df = pd.read_csv('https://raw.githubusercontent.com/jh294/project/main/data/raw/Labor_Productivity_Analysis_final.csv',sep=';',decimal=',')\n",
    "df = df.rename(columns = {'gini_coefficient':'Gini coefficient'})\n",
    "df.head(5)"
   ]
  },
  {
   "attachments": {},
   "cell_type": "markdown",
   "metadata": {},
   "source": [
    "As explained in the variables description above, we set different variables as independent variables. In setting variables, we collected and selected factors that might be related to Productivity, and by doing so we attempted to identify which independent variables were most closely related to Productivity, our response variable.\n",
    "For example, Life satisfaction is believed to be closely related to Productivity, but it is difficult to answer the question of whether this factor has the greatest influence among the Productivity-related variables. Therefore, further analysis can identify the relationship between this variable and the response variable."
   ]
  },
  {
   "attachments": {},
   "cell_type": "markdown",
   "metadata": {},
   "source": [
    "### Table 2: Data information"
   ]
  },
  {
   "cell_type": "code",
   "execution_count": 3,
   "metadata": {},
   "outputs": [
    {
     "name": "stdout",
     "output_type": "stream",
     "text": [
      "<class 'pandas.core.frame.DataFrame'>\n",
      "RangeIndex: 66 entries, 0 to 65\n",
      "Data columns (total 11 columns):\n",
      " #   Column                                   Non-Null Count  Dtype  \n",
      "---  ------                                   --------------  -----  \n",
      " 0   Continent                                66 non-null     object \n",
      " 1   Country                                  66 non-null     object \n",
      " 2   Code                                     66 non-null     object \n",
      " 3   Year                                     66 non-null     int64  \n",
      " 4   Average annual working hours per worker  66 non-null     float64\n",
      " 5   GDP per capita                           66 non-null     float64\n",
      " 6   Population                               66 non-null     int64  \n",
      " 7   Gini coefficient                         48 non-null     float64\n",
      " 8   Life satisfaction                        65 non-null     float64\n",
      " 9   Productivity                             65 non-null     float64\n",
      " 10  Current health expenditure per capita    64 non-null     float64\n",
      "dtypes: float64(6), int64(2), object(3)\n",
      "memory usage: 5.8+ KB\n"
     ]
    }
   ],
   "source": [
    "df.info()"
   ]
  },
  {
   "attachments": {},
   "cell_type": "markdown",
   "metadata": {},
   "source": [
    "## Data corrections\n",
    "\n",
    "As we can already investigate null values in Table 1 and Table 2, first of all we check the dataframe for these cases.\n",
    "\n",
    "### Shortening of variable names\n",
    "- We shortened some variable names to make the graphics easier to understand."
   ]
  },
  {
   "cell_type": "code",
   "execution_count": 4,
   "metadata": {},
   "outputs": [],
   "source": [
    "df = df.rename(columns={'Average annual working hours per worker': 'Ø working hours', \n",
    "                        'GDP per capita': 'GDP',\n",
    "                        'Population': 'Population',\n",
    "                        'Gini coefficient': 'Gini coefficient',\n",
    "                        'Life satisfaction': 'Life satisfaction',\n",
    "                        'Productivity': 'Productivity',\n",
    "                        'Current health expenditure per capita': 'Health expenditure'})"
   ]
  },
  {
   "attachments": {},
   "cell_type": "markdown",
   "metadata": {},
   "source": [
    "- Average annual working hours per worker -> Ø working hours\n",
    "- GDP per capita -> GDP\n",
    "- Current health expenditure per capita -> Health expenditure\n"
   ]
  },
  {
   "attachments": {},
   "cell_type": "markdown",
   "metadata": {},
   "source": [
    "### Table 3: Null values"
   ]
  },
  {
   "cell_type": "code",
   "execution_count": 5,
   "metadata": {},
   "outputs": [
    {
     "name": "stdout",
     "output_type": "stream",
     "text": [
      "Continent              0\n",
      "Country                0\n",
      "Code                   0\n",
      "Year                   0\n",
      "Ø working hours        0\n",
      "GDP                    0\n",
      "Population             0\n",
      "Gini coefficient      18\n",
      "Life satisfaction      1\n",
      "Productivity           1\n",
      "Health expenditure     2\n",
      "dtype: int64\n"
     ]
    }
   ],
   "source": [
    "# Check for missing values for each variable.\n",
    "print(df.isnull().sum())"
   ]
  },
  {
   "attachments": {},
   "cell_type": "markdown",
   "metadata": {},
   "source": [
    "This information reflects that our data set contains some null values we need to handle with. As a rule of thumb a linear regression with one dependent and one independent variable requires at least 30 observations. Hence it can be assumed that the number of observations is sufficient for a simple linear regression model. Regarding a multiple linear regression model for each additional indipendent variable added to the equation an additional 10 observations are required (https://home.csulb.edu/~msaintg/ppa696/696regmx.htm#:~:text=Regression%20with%20only%20one%20dependent,variable%20added%20to%20the%20equation). \n",
    "In our case, a dataset of at least 80 observations would be required to take every independent variable into account. For this reason we cannot afford to eliminate the observations with missing values. Alternativley we will appropriately replace the missing values with mean or median. Despite the data correction we furthermore need to think about eleminating isolated variables of our multiple linear regression model. \n",
    "\n",
    "Additionally we were thinking about a method called oversampling to add artificial samples. However, research on this subject revealed, that this method only works for categorical variables to adjust the class distribution of a data set. Hence it is not practicable for this project.\n",
    "\n",
    "To deal with existing missing values we had to figure out what is a better measure of the central tendency of data and use that value to appropriately replace missing values.\n",
    "We generated distribution plots to decide which techniques to use.\n",
    "    - Outliers data points will have a significant impact on the mean and hence, in such cases, it is not recommended to use the mean for replacing the missing values. \n",
    "    - For symmetric data distribution, one can use the mean value for imputing missing values.\n",
    "\n",
    "Please find the additional boxplot visualization in the Appendix.\n",
    "\n",
    "### Chart 1: Distribution Plot"
   ]
  },
  {
   "cell_type": "code",
   "execution_count": 6,
   "metadata": {},
   "outputs": [
    {
     "name": "stderr",
     "output_type": "stream",
     "text": [
      "c:\\Users\\ji_so\\anaconda3\\envs\\stats\\lib\\site-packages\\altair\\utils\\core.py:317: FutureWarning: iteritems is deprecated and will be removed in a future version. Use .items instead.\n",
      "  for col_name, dtype in df.dtypes.iteritems():\n"
     ]
    },
    {
     "data": {
      "text/html": [
       "\n",
       "<div id=\"altair-viz-4e9477b2f4734fffbc2debdb54b80147\"></div>\n",
       "<script type=\"text/javascript\">\n",
       "  var VEGA_DEBUG = (typeof VEGA_DEBUG == \"undefined\") ? {} : VEGA_DEBUG;\n",
       "  (function(spec, embedOpt){\n",
       "    let outputDiv = document.currentScript.previousElementSibling;\n",
       "    if (outputDiv.id !== \"altair-viz-4e9477b2f4734fffbc2debdb54b80147\") {\n",
       "      outputDiv = document.getElementById(\"altair-viz-4e9477b2f4734fffbc2debdb54b80147\");\n",
       "    }\n",
       "    const paths = {\n",
       "      \"vega\": \"https://cdn.jsdelivr.net/npm//vega@5?noext\",\n",
       "      \"vega-lib\": \"https://cdn.jsdelivr.net/npm//vega-lib?noext\",\n",
       "      \"vega-lite\": \"https://cdn.jsdelivr.net/npm//vega-lite@4.17.0?noext\",\n",
       "      \"vega-embed\": \"https://cdn.jsdelivr.net/npm//vega-embed@6?noext\",\n",
       "    };\n",
       "\n",
       "    function maybeLoadScript(lib, version) {\n",
       "      var key = `${lib.replace(\"-\", \"\")}_version`;\n",
       "      return (VEGA_DEBUG[key] == version) ?\n",
       "        Promise.resolve(paths[lib]) :\n",
       "        new Promise(function(resolve, reject) {\n",
       "          var s = document.createElement('script');\n",
       "          document.getElementsByTagName(\"head\")[0].appendChild(s);\n",
       "          s.async = true;\n",
       "          s.onload = () => {\n",
       "            VEGA_DEBUG[key] = version;\n",
       "            return resolve(paths[lib]);\n",
       "          };\n",
       "          s.onerror = () => reject(`Error loading script: ${paths[lib]}`);\n",
       "          s.src = paths[lib];\n",
       "        });\n",
       "    }\n",
       "\n",
       "    function showError(err) {\n",
       "      outputDiv.innerHTML = `<div class=\"error\" style=\"color:red;\">${err}</div>`;\n",
       "      throw err;\n",
       "    }\n",
       "\n",
       "    function displayChart(vegaEmbed) {\n",
       "      vegaEmbed(outputDiv, spec, embedOpt)\n",
       "        .catch(err => showError(`Javascript Error: ${err.message}<br>This usually means there's a typo in your chart specification. See the javascript console for the full traceback.`));\n",
       "    }\n",
       "\n",
       "    if(typeof define === \"function\" && define.amd) {\n",
       "      requirejs.config({paths});\n",
       "      require([\"vega-embed\"], displayChart, err => showError(`Error loading script: ${err.message}`));\n",
       "    } else {\n",
       "      maybeLoadScript(\"vega\", \"5\")\n",
       "        .then(() => maybeLoadScript(\"vega-lite\", \"4.17.0\"))\n",
       "        .then(() => maybeLoadScript(\"vega-embed\", \"6\"))\n",
       "        .catch(showError)\n",
       "        .then(() => displayChart(vegaEmbed));\n",
       "    }\n",
       "  })({\"config\": {\"view\": {\"continuousWidth\": 400, \"continuousHeight\": 300}}, \"repeat\": {\"column\": [\"Productivity\", \"\\u00d8 working hours\", \"GDP\", \"Population\", \"Gini coefficient\", \"Life satisfaction\", \"Health expenditure\"]}, \"spec\": {\"data\": {\"name\": \"data-0f784a42502bfd1e3cf82a51730ef2f6\"}, \"mark\": \"bar\", \"encoding\": {\"x\": {\"bin\": true, \"field\": {\"repeat\": \"column\"}, \"type\": \"quantitative\"}, \"y\": {\"aggregate\": \"count\", \"type\": \"quantitative\"}}, \"height\": 100, \"width\": 100}, \"$schema\": \"https://vega.github.io/schema/vega-lite/v4.17.0.json\", \"datasets\": {\"data-0f784a42502bfd1e3cf82a51730ef2f6\": [{\"Continent\": \"Americas\", \"Country\": \"Argentina\", \"Code\": \"ARG\", \"Year\": 2017, \"\\u00d8 working hours\": 1691.5363, \"GDP\": 23272.18, \"Population\": 44054616, \"Gini coefficient\": null, \"Life satisfaction\": 6.085560799, \"Productivity\": 30.95546039, \"Health expenditure\": 2470.11}, {\"Continent\": \"Oceania\", \"Country\": \"Australia\", \"Code\": \"AUS\", \"Year\": 2017, \"\\u00d8 working hours\": 1731.4943, \"GDP\": 52536.19, \"Population\": 24590336, \"Gini coefficient\": null, \"Life satisfaction\": 7.233994961, \"Productivity\": 60.3416786, \"Health expenditure\": 4715.83}, {\"Continent\": \"Europe\", \"Country\": \"Austria\", \"Code\": \"AUT\", \"Year\": 2017, \"\\u00d8 working hours\": 1613.0519, \"GDP\": 51954.28, \"Population\": 8797497, \"Gini coefficient\": 0.29737585, \"Life satisfaction\": 7.195361137, \"Productivity\": 64.7801697, \"Health expenditure\": 5641.18}, {\"Continent\": \"Asia\", \"Country\": \"Bangladesh\", \"Code\": \"BGD\", \"Year\": 2017, \"\\u00d8 working hours\": 2232.3542, \"GDP\": 4112.7, \"Population\": 161793968, \"Gini coefficient\": null, \"Life satisfaction\": 5.114216805, \"Productivity\": 4.307636988, \"Health expenditure\": 101.18}, {\"Continent\": \"Europe\", \"Country\": \"Belgium\", \"Code\": \"BEL\", \"Year\": 2017, \"\\u00d8 working hours\": 1544.269, \"GDP\": 45150.2, \"Population\": 11384491, \"Gini coefficient\": 0.273879678, \"Life satisfaction\": 6.772138119, \"Productivity\": 68.51652068, \"Health expenditure\": 5450.48}, {\"Continent\": \"Americas\", \"Country\": \"Brazil\", \"Code\": \"BRA\", \"Year\": 2017, \"\\u00d8 working hours\": 1709.4856, \"GDP\": 14284.61, \"Population\": 208504960, \"Gini coefficient\": 0.5333405, \"Life satisfaction\": 6.451148987, \"Productivity\": 19.18829359, \"Health expenditure\": 1375.66}, {\"Continent\": \"Europe\", \"Country\": \"Bulgaria\", \"Code\": \"BGR\", \"Year\": 2017, \"\\u00d8 working hours\": 1643.5475, \"GDP\": 19579.83, \"Population\": 7182430, \"Gini coefficient\": 0.403790468, \"Life satisfaction\": 5.108438015, \"Productivity\": 25.39212178, \"Health expenditure\": 1607.71}, {\"Continent\": \"Asia\", \"Country\": \"Cambodia\", \"Code\": \"KHM\", \"Year\": 2017, \"\\u00d8 working hours\": 2455.5508, \"GDP\": 3950.93, \"Population\": 15830694, \"Gini coefficient\": null, \"Life satisfaction\": 4.998284817, \"Productivity\": 3.022649989, \"Health expenditure\": 224.81}, {\"Continent\": \"Americas\", \"Country\": \"Canada\", \"Code\": \"CAN\", \"Year\": 2017, \"\\u00d8 working hours\": 1696.4624, \"GDP\": 48902.64, \"Population\": 36554344, \"Gini coefficient\": 0.333082063, \"Life satisfaction\": 7.1090765, \"Productivity\": 56.25571848, \"Health expenditure\": 5208.72}, {\"Continent\": \"Americas\", \"Country\": \"Chile\", \"Code\": \"CHL\", \"Year\": 2017, \"\\u00d8 working hours\": 1974.0, \"GDP\": 22864.05, \"Population\": 18368582, \"Gini coefficient\": 0.444410284, \"Life satisfaction\": 5.942250252, \"Productivity\": 27.26079146, \"Health expenditure\": 2219.14}, {\"Continent\": \"Asia\", \"Country\": \"China\", \"Code\": \"CHN\", \"Year\": 2017, \"\\u00d8 working hours\": 2174.3501, \"GDP\": 13854.23, \"Population\": 1410275968, \"Gini coefficient\": 0.390757759, \"Life satisfaction\": 5.144120216, \"Productivity\": 11.35773921, \"Health expenditure\": 706.37}, {\"Continent\": \"Americas\", \"Country\": \"Colombia\", \"Code\": \"COL\", \"Year\": 2017, \"\\u00d8 working hours\": 1997.748, \"GDP\": 13426.76, \"Population\": 48351668, \"Gini coefficient\": 0.497154848, \"Life satisfaction\": 6.350297928, \"Productivity\": 15.63291474, \"Health expenditure\": 1088.17}, {\"Continent\": \"Americas\", \"Country\": \"Costa Rica\", \"Code\": \"CRI\", \"Year\": 2017, \"\\u00d8 working hours\": 2212.3835, \"GDP\": 18127.81, \"Population\": 4993849, \"Gini coefficient\": 0.483465406, \"Life satisfaction\": 6.997618675, \"Productivity\": 18.72804079, \"Health expenditure\": 1439.77}, {\"Continent\": \"Europe\", \"Country\": \"Croatia\", \"Code\": \"HRV\", \"Year\": 2017, \"\\u00d8 working hours\": 1834.9327, \"GDP\": 25359.7, \"Population\": 4192468, \"Gini coefficient\": 0.303545759, \"Life satisfaction\": 5.625743866, \"Productivity\": 33.15712673, \"Health expenditure\": 1804.07}, {\"Continent\": \"Asia\", \"Country\": \"Cyprus\", \"Code\": \"CYP\", \"Year\": 2017, \"\\u00d8 working hours\": 1783.5206, \"GDP\": 31253.99, \"Population\": 1208527, \"Gini coefficient\": 0.31416234, \"Life satisfaction\": 6.136832714, \"Productivity\": 42.59221773, \"Health expenditure\": 2532.87}, {\"Continent\": \"Europe\", \"Country\": \"Czechia\", \"Code\": \"CZE\", \"Year\": 2017, \"\\u00d8 working hours\": 1776.162, \"GDP\": 35579.26, \"Population\": 10531315, \"Gini coefficient\": 0.248522097, \"Life satisfaction\": null, \"Productivity\": 39.42304869, \"Health expenditure\": 2785.65}, {\"Continent\": \"Europe\", \"Country\": \"Denmark\", \"Code\": \"DNK\", \"Year\": 2017, \"\\u00d8 working hours\": 1400.3815, \"GDP\": 51671.6, \"Population\": 5737286, \"Gini coefficient\": 0.287466614, \"Life satisfaction\": 7.693003178, \"Productivity\": 72.54114087, \"Health expenditure\": 5573.28}, {\"Continent\": \"Americas\", \"Country\": \"Ecuador\", \"Code\": \"ECU\", \"Year\": 2017, \"\\u00d8 working hours\": 1701.3558, \"GDP\": 11413.08, \"Population\": 16696947, \"Gini coefficient\": 0.446730295, \"Life satisfaction\": 5.809131145, \"Productivity\": 15.32391947, \"Health expenditure\": 863.05}, {\"Continent\": \"Europe\", \"Country\": \"Estonia\", \"Code\": \"EST\", \"Year\": 2017, \"\\u00d8 working hours\": 1856.6827, \"GDP\": 30981.6, \"Population\": 1317550, \"Gini coefficient\": 0.303550262, \"Life satisfaction\": 6.034641266, \"Productivity\": 33.48799406, \"Health expenditure\": 2241.85}, {\"Continent\": \"Europe\", \"Country\": \"Finland\", \"Code\": \"FIN\", \"Year\": 2017, \"\\u00d8 working hours\": 1659.2806, \"GDP\": 43827.15, \"Population\": 5508146, \"Gini coefficient\": 0.273830854, \"Life satisfaction\": 7.780347824, \"Productivity\": 58.88463786, \"Health expenditure\": 4339.1}, {\"Continent\": \"Europe\", \"Country\": \"France\", \"Code\": \"FRA\", \"Year\": 2017, \"\\u00d8 working hours\": 1514.1371, \"GDP\": 42818.76, \"Population\": 64144092, \"Gini coefficient\": 0.316320654, \"Life satisfaction\": 6.689644337, \"Productivity\": 68.37434064, \"Health expenditure\": 5059.99}, {\"Continent\": \"Europe\", \"Country\": \"Germany\", \"Code\": \"DEU\", \"Year\": 2017, \"\\u00d8 working hours\": 1353.8868, \"GDP\": 51253.33, \"Population\": 82624368, \"Gini coefficient\": 0.312019051, \"Life satisfaction\": 7.035472393, \"Productivity\": 69.84848268, \"Health expenditure\": 6028.25}, {\"Continent\": \"Europe\", \"Country\": \"Greece\", \"Code\": \"GRC\", \"Year\": 2017, \"\\u00d8 working hours\": 2016.8954, \"GDP\": 26477.58, \"Population\": 10692230, \"Gini coefficient\": 0.343520211, \"Life satisfaction\": 5.952157497, \"Productivity\": 33.35995335, \"Health expenditure\": 2325.62}, {\"Continent\": \"Asia\", \"Country\": \"Hong Kong\", \"Code\": \"HKG\", \"Year\": 2017, \"\\u00d8 working hours\": 2185.5789, \"GDP\": 49927.07, \"Population\": 7461508, \"Gini coefficient\": null, \"Life satisfaction\": 5.659317017, \"Productivity\": 44.37298407, \"Health expenditure\": null}, {\"Continent\": \"Europe\", \"Country\": \"Hungary\", \"Code\": \"HUN\", \"Year\": 2017, \"\\u00d8 working hours\": 1937.3325, \"GDP\": 26908.97, \"Population\": 9788940, \"Gini coefficient\": 0.305841235, \"Life satisfaction\": 6.000259876, \"Productivity\": 33.0558028, \"Health expenditure\": 1988.7}, {\"Continent\": \"Europe\", \"Country\": \"Iceland\", \"Code\": \"ISL\", \"Year\": 2017, \"\\u00d8 working hours\": 1493.3651, \"GDP\": 49844.32, \"Population\": 343641, \"Gini coefficient\": 0.261315802, \"Life satisfaction\": 7.532504559, \"Productivity\": 59.12501586, \"Health expenditure\": 4762.73}, {\"Continent\": \"Asia\", \"Country\": \"India\", \"Code\": \"IND\", \"Year\": 2017, \"\\u00d8 working hours\": 2117.0117, \"GDP\": 6188.46, \"Population\": 1354195712, \"Gini coefficient\": 0.359430473, \"Life satisfaction\": 3.24876976, \"Productivity\": 8.009787126, \"Health expenditure\": 181.53}, {\"Continent\": \"Asia\", \"Country\": \"Indonesia\", \"Code\": \"IDN\", \"Year\": 2017, \"\\u00d8 working hours\": 2024.287, \"GDP\": 10640.7, \"Population\": 264498848, \"Gini coefficient\": 0.38785263, \"Life satisfaction\": 5.346512794, \"Productivity\": 11.35478727, \"Health expenditure\": 317.59}, {\"Continent\": \"Europe\", \"Country\": \"Ireland\", \"Code\": \"IRL\", \"Year\": 2017, \"\\u00d8 working hours\": 1745.6843, \"GDP\": 86808.65, \"Population\": 4771860, \"Gini coefficient\": 0.313598037, \"Life satisfaction\": 7.254841328, \"Productivity\": 109.488306, \"Health expenditure\": 5582.93}, {\"Continent\": \"Asia\", \"Country\": \"Israel\", \"Code\": \"ISR\", \"Year\": 2017, \"\\u00d8 working hours\": 1920.6106, \"GDP\": 38979.03, \"Population\": 8309256, \"Gini coefficient\": 0.382020644, \"Life satisfaction\": 7.331779957, \"Productivity\": 41.0201119, \"Health expenditure\": 2992.02}, {\"Continent\": \"Europe\", \"Country\": \"Italy\", \"Code\": \"ITA\", \"Year\": 2017, \"\\u00d8 working hours\": 1722.6113, \"GDP\": 40155.51, \"Population\": 60004024, \"Gini coefficient\": 0.359280009, \"Life satisfaction\": 6.445416927, \"Productivity\": 56.27207136, \"Health expenditure\": 3616.67}, {\"Continent\": \"Asia\", \"Country\": \"Japan\", \"Code\": \"JPN\", \"Year\": 2017, \"\\u00d8 working hours\": 1738.3633, \"GDP\": 39598.29, \"Population\": 126662464, \"Gini coefficient\": null, \"Life satisfaction\": 5.908039093, \"Productivity\": 42.4229346, \"Health expenditure\": 4398.02}, {\"Continent\": \"Europe\", \"Country\": \"Latvia\", \"Code\": \"LVA\", \"Year\": 2017, \"\\u00d8 working hours\": 1874.5979, \"GDP\": 27162.37, \"Population\": 1954861, \"Gini coefficient\": 0.355719346, \"Life satisfaction\": 5.969753742, \"Productivity\": 31.56864146, \"Health expenditure\": 1703.6}, {\"Continent\": \"Europe\", \"Country\": \"Lithuania\", \"Code\": \"LTU\", \"Year\": 2017, \"\\u00d8 working hours\": 1844.0171, \"GDP\": 29832.8, \"Population\": 2904452, \"Gini coefficient\": 0.372896992, \"Life satisfaction\": 6.064097881, \"Productivity\": 32.99194736, \"Health expenditure\": 2178.09}, {\"Continent\": \"Europe\", \"Country\": \"Luxembourg\", \"Code\": \"LUX\", \"Year\": 2017, \"\\u00d8 working hours\": 1518.8575, \"GDP\": 90597.55, \"Population\": 596290, \"Gini coefficient\": 0.345157399, \"Life satisfaction\": 7.404015541, \"Productivity\": 83.16536059, \"Health expenditure\": 5980.64}, {\"Continent\": \"Asia\", \"Country\": \"Malaysia\", \"Code\": \"MYS\", \"Year\": 2017, \"\\u00d8 working hours\": 2238.2729, \"GDP\": 24159.17, \"Population\": 31975812, \"Gini coefficient\": null, \"Life satisfaction\": 5.427954197, \"Productivity\": 23.65407513, \"Health expenditure\": 987.58}, {\"Continent\": \"Europe\", \"Country\": \"Malta\", \"Code\": \"MLT\", \"Year\": 2017, \"\\u00d8 working hours\": 2040.0317, \"GDP\": 35154.08, \"Population\": 479507, \"Gini coefficient\": 0.292322386, \"Life satisfaction\": 6.73297739, \"Productivity\": 39.21617358, \"Health expenditure\": 3873.25}, {\"Continent\": \"Americas\", \"Country\": \"Mexico\", \"Code\": \"MEX\", \"Year\": 2017, \"\\u00d8 working hours\": 2255.0, \"GDP\": 18939.9, \"Population\": 122839256, \"Gini coefficient\": null, \"Life satisfaction\": 6.431945324, \"Productivity\": 21.02031412, \"Health expenditure\": 1076.31}, {\"Continent\": \"Asia\", \"Country\": \"Myanmar\", \"Code\": \"MMR\", \"Year\": 2017, \"\\u00d8 working hours\": 2437.8633, \"GDP\": 4762.93, \"Population\": 52288344, \"Gini coefficient\": 0.306968695, \"Life satisfaction\": 4.43423748, \"Productivity\": 4.735483675, \"Health expenditure\": 214.63}, {\"Continent\": \"Europe\", \"Country\": \"Netherlands\", \"Code\": \"NLD\", \"Year\": 2017, \"\\u00d8 working hours\": 1430.0229, \"GDP\": 54233.45, \"Population\": 17207204, \"Gini coefficient\": 0.285358194, \"Life satisfaction\": 7.42526865, \"Productivity\": 70.61846134, \"Health expenditure\": 5602.59}, {\"Continent\": \"Oceania\", \"Country\": \"New Zealand\", \"Code\": \"NZL\", \"Year\": 2017, \"\\u00d8 working hours\": 1752.0, \"GDP\": 39728.86, \"Population\": 4746253, \"Gini coefficient\": null, \"Life satisfaction\": 7.205174446, \"Productivity\": 42.73759913, \"Health expenditure\": 3875.54}, {\"Continent\": \"Africa\", \"Country\": \"Nigeria\", \"Code\": \"NGA\", \"Year\": 2017, \"\\u00d8 working hours\": 1827.2401, \"GDP\": 5060.98, \"Population\": 193495904, \"Gini coefficient\": null, \"Life satisfaction\": 4.356419086, \"Productivity\": null, \"Health expenditure\": 194.81}, {\"Continent\": \"Europe\", \"Country\": \"Norway\", \"Code\": \"NOR\", \"Year\": 2017, \"\\u00d8 working hours\": 1417.4723, \"GDP\": 69604.79, \"Population\": 5277396, \"Gini coefficient\": 0.269873302, \"Life satisfaction\": 7.442139626, \"Productivity\": 96.84903378, \"Health expenditure\": 6630.84}, {\"Continent\": \"Asia\", \"Country\": \"Pakistan\", \"Code\": \"PAK\", \"Year\": 2017, \"\\u00d8 working hours\": 2096.1443, \"GDP\": 4743.69, \"Population\": 216379648, \"Gini coefficient\": null, \"Life satisfaction\": 4.442717552, \"Productivity\": 8.322207396, \"Health expenditure\": 132.67}, {\"Continent\": \"Americas\", \"Country\": \"Peru\", \"Code\": \"PER\", \"Year\": 2017, \"\\u00d8 working hours\": 1932.4581, \"GDP\": 11956.63, \"Population\": 31605488, \"Gini coefficient\": 0.4329279, \"Life satisfaction\": 5.999381542, \"Productivity\": 10.7489986, \"Health expenditure\": 624.02}, {\"Continent\": \"Asia\", \"Country\": \"Philippines\", \"Code\": \"PHL\", \"Year\": 2017, \"\\u00d8 working hours\": 2148.5645, \"GDP\": 7858.48, \"Population\": 106738496, \"Gini coefficient\": null, \"Life satisfaction\": 6.267745018, \"Productivity\": 9.450449282, \"Health expenditure\": 321.62}, {\"Continent\": \"Europe\", \"Country\": \"Poland\", \"Code\": \"POL\", \"Year\": 2017, \"\\u00d8 working hours\": 2028.4952, \"GDP\": 29047.82, \"Population\": 38532816, \"Gini coefficient\": 0.302965813, \"Life satisfaction\": 6.24209404, \"Productivity\": 33.66429154, \"Health expenditure\": 1972.37}, {\"Continent\": \"Europe\", \"Country\": \"Portugal\", \"Code\": \"PRT\", \"Year\": 2017, \"\\u00d8 working hours\": 1863.1744, \"GDP\": 30430.03, \"Population\": 10307528, \"Gini coefficient\": 0.338038412, \"Life satisfaction\": 6.095473289, \"Productivity\": 34.62209549, \"Health expenditure\": 3072.32}, {\"Continent\": \"Europe\", \"Country\": \"Romania\", \"Code\": \"ROU\", \"Year\": 2017, \"\\u00d8 working hours\": 1805.9998, \"GDP\": 25424.06, \"Population\": 19698852, \"Gini coefficient\": 0.360168279, \"Life satisfaction\": 6.129942417, \"Productivity\": 32.2711146, \"Health expenditure\": 1398.55}, {\"Continent\": \"Europe\", \"Country\": \"Russia\", \"Code\": \"RUS\", \"Year\": 2017, \"\\u00d8 working hours\": 1974.0, \"GDP\": 26797.82, \"Population\": 145452544, \"Gini coefficient\": 0.37239071, \"Life satisfaction\": 5.440523624, \"Productivity\": 27.44623652, \"Health expenditure\": 1406.2}, {\"Continent\": \"Asia\", \"Country\": \"Singapore\", \"Code\": \"SGP\", \"Year\": 2017, \"\\u00d8 working hours\": 2237.7263, \"GDP\": 81444.79, \"Population\": 5764489, \"Gini coefficient\": null, \"Life satisfaction\": 6.378359795, \"Productivity\": 54.29877798, \"Health expenditure\": 4091.44}, {\"Continent\": \"Europe\", \"Country\": \"Slovakia\", \"Code\": \"SVK\", \"Year\": 2017, \"\\u00d8 working hours\": 1745.2307, \"GDP\": 26467.1, \"Population\": 5439418, \"Gini coefficient\": 0.23237751, \"Life satisfaction\": 6.243428707, \"Productivity\": 35.16566573, \"Health expenditure\": 2038.16}, {\"Continent\": \"Europe\", \"Country\": \"Slovenia\", \"Code\": \"SVN\", \"Year\": 2017, \"\\u00d8 working hours\": 1655.089, \"GDP\": 31594.71, \"Population\": 2098396, \"Gini coefficient\": 0.242193073, \"Life satisfaction\": 6.665273666, \"Productivity\": 40.55475278, \"Health expenditure\": 2998.32}, {\"Continent\": \"Africa\", \"Country\": \"South Africa\", \"Code\": \"ZAF\", \"Year\": 2017, \"\\u00d8 working hours\": 2209.0916, \"GDP\": 12735.03, \"Population\": 56641208, \"Gini coefficient\": null, \"Life satisfaction\": 5.034863472, \"Productivity\": 18.05485455, \"Health expenditure\": 1107.89}, {\"Continent\": \"Asia\", \"Country\": \"South Korea\", \"Code\": \"KOR\", \"Year\": 2017, \"\\u00d8 working hours\": 2063.3315, \"GDP\": 40875.21, \"Population\": 51511640, \"Gini coefficient\": null, \"Life satisfaction\": 5.902816772, \"Productivity\": 39.08392755, \"Health expenditure\": 2925.95}, {\"Continent\": \"Europe\", \"Country\": \"Spain\", \"Code\": \"ESP\", \"Year\": 2017, \"\\u00d8 working hours\": 1686.4973, \"GDP\": 38928.51, \"Population\": 46584168, \"Gini coefficient\": 0.346545469, \"Life satisfaction\": 6.457449436, \"Productivity\": 56.06301345, \"Health expenditure\": 3556.87}, {\"Continent\": \"Asia\", \"Country\": \"Sri Lanka\", \"Code\": \"LKA\", \"Year\": 2017, \"\\u00d8 working hours\": 1923.9354, \"GDP\": 12733.1, \"Population\": 21506816, \"Gini coefficient\": null, \"Life satisfaction\": 4.213299274, \"Productivity\": 17.04851325, \"Health expenditure\": 459.25}, {\"Continent\": \"Europe\", \"Country\": \"Sweden\", \"Code\": \"SWE\", \"Year\": 2017, \"\\u00d8 working hours\": 1609.2896, \"GDP\": 52032.67, \"Population\": 10058191, \"Gini coefficient\": 0.287746034, \"Life satisfaction\": 7.398092747, \"Productivity\": 64.3374695, \"Health expenditure\": 5655.7}, {\"Continent\": \"Europe\", \"Country\": \"Switzerland\", \"Code\": \"CHE\", \"Year\": 2017, \"\\u00d8 working hours\": 1589.6758, \"GDP\": 73624.98, \"Population\": 8451688, \"Gini coefficient\": 0.32676334, \"Life satisfaction\": 7.69422102, \"Productivity\": 80.58822762, \"Health expenditure\": 7989.64}, {\"Continent\": \"Asia\", \"Country\": \"Taiwan\", \"Code\": \"TWN\", \"Year\": 2017, \"\\u00d8 working hours\": 1990.3212, \"GDP\": 45375.41, \"Population\": 23665028, \"Gini coefficient\": null, \"Life satisfaction\": 6.537089825, \"Productivity\": 44.99929907, \"Health expenditure\": null}, {\"Continent\": \"Asia\", \"Country\": \"Thailand\", \"Code\": \"THA\", \"Year\": 2017, \"\\u00d8 working hours\": 2185.4456, \"GDP\": 16665.38, \"Population\": 70898208, \"Gini coefficient\": 0.36528755, \"Life satisfaction\": 6.02215147, \"Productivity\": 14.74583813, \"Health expenditure\": 669.58}, {\"Continent\": \"Asia\", \"Country\": \"Turkey\", \"Code\": \"TUR\", \"Year\": 2017, \"\\u00d8 working hours\": 1832.0, \"GDP\": 26611.18, \"Population\": 82089824, \"Gini coefficient\": 0.414056667, \"Life satisfaction\": 4.87207365, \"Productivity\": 41.79920311, \"Health expenditure\": 1166.73}, {\"Continent\": \"Europe\", \"Country\": \"United Kingdom\", \"Code\": \"GBR\", \"Year\": 2017, \"\\u00d8 working hours\": 1670.2728, \"GDP\": 44093.93, \"Population\": 66064808, \"Gini coefficient\": 0.351488307, \"Life satisfaction\": 7.157151222, \"Productivity\": 54.67692069, \"Health expenditure\": 4515.59}, {\"Continent\": \"Americas\", \"Country\": \"United States\", \"Code\": \"USA\", \"Year\": 2017, \"\\u00d8 working hours\": 1757.2255, \"GDP\": 60116.57, \"Population\": 329791232, \"Gini coefficient\": 0.411805587, \"Life satisfaction\": 6.943701267, \"Productivity\": 71.63857051, \"Health expenditure\": 10103.09}, {\"Continent\": \"Americas\", \"Country\": \"Uruguay\", \"Code\": \"URY\", \"Year\": 2017, \"\\u00d8 working hours\": 1552.347, \"GDP\": 20615.56, \"Population\": 3422205, \"Gini coefficient\": 0.394645312, \"Life satisfaction\": 6.600337029, \"Productivity\": 28.29584596, \"Health expenditure\": 2029.89}, {\"Continent\": \"Asia\", \"Country\": \"Vietnam\", \"Code\": \"VNM\", \"Year\": 2017, \"\\u00d8 working hours\": 2169.5916, \"GDP\": 6841.65, \"Population\": 94033048, \"Gini coefficient\": null, \"Life satisfaction\": 5.467451096, \"Productivity\": 5.652919029, \"Health expenditure\": 423.98}]}}, {\"mode\": \"vega-lite\"});\n",
       "</script>"
      ],
      "text/plain": [
       "alt.RepeatChart(...)"
      ]
     },
     "execution_count": 6,
     "metadata": {},
     "output_type": "execute_result"
    }
   ],
   "source": [
    "alt.Chart(df).mark_bar().encode(\n",
    "    alt.X(alt.repeat(\"column\"), type=\"quantitative\", bin=True),\n",
    "    y='count()',\n",
    ").properties(\n",
    "    width=100,\n",
    "    height=100\n",
    ").repeat(\n",
    "    column=['Productivity', 'Ø working hours', 'GDP', 'Population','Gini coefficient','Life satisfaction','Health expenditure']\n",
    ")"
   ]
  },
  {
   "attachments": {},
   "cell_type": "markdown",
   "metadata": {},
   "source": [
    "Exploration of data distribution with histograms shows that all variables are unimodel. Productivity, GDP and Health expenditure are right skrewed variables whereas the other variables ara symmetry. \n",
    "\n",
    "Gini coefficient, Life satisfaction, Productivity and Health expenditure have no symmetric data distribution. Hence we replace the missing values with median."
   ]
  },
  {
   "cell_type": "code",
   "execution_count": 7,
   "metadata": {},
   "outputs": [],
   "source": [
    "df['Gini coefficient'] = df['Gini coefficient'].fillna(df['Gini coefficient'].median())\n",
    "df['Life satisfaction'] = df['Life satisfaction'].fillna(df['Life satisfaction'].median())\n",
    "df['Productivity'] = df['Productivity'].fillna(df['Productivity'].median())\n",
    "df['Health expenditure'] = df['Health expenditure'].fillna(df['Health expenditure'].median())"
   ]
  },
  {
   "attachments": {},
   "cell_type": "markdown",
   "metadata": {},
   "source": [
    "As we adjusted all variables with null values, we make a final check.\n",
    "\n",
    "### Table 4: Check adjusted null values"
   ]
  },
  {
   "cell_type": "code",
   "execution_count": 8,
   "metadata": {},
   "outputs": [
    {
     "name": "stdout",
     "output_type": "stream",
     "text": [
      "Continent             0\n",
      "Country               0\n",
      "Code                  0\n",
      "Year                  0\n",
      "Ø working hours       0\n",
      "GDP                   0\n",
      "Population            0\n",
      "Gini coefficient      0\n",
      "Life satisfaction     0\n",
      "Productivity          0\n",
      "Health expenditure    0\n",
      "dtype: int64\n"
     ]
    }
   ],
   "source": [
    "#check\n",
    "print(df.isnull().sum())"
   ]
  },
  {
   "attachments": {},
   "cell_type": "markdown",
   "metadata": {},
   "source": [
    "There is no missing value anymore in our data, but we need an additional final step in our data correction. As we want to undergo a lasso regression model we need at least one categorical variable. Hence we change the type of continent from object to category. Table 5 gives information of the adjusted dataset after data corrections."
   ]
  },
  {
   "cell_type": "code",
   "execution_count": 9,
   "metadata": {},
   "outputs": [],
   "source": [
    "# variable Continent is categorical\n",
    "df['Continent'] = df['Continent'].astype('category')"
   ]
  },
  {
   "attachments": {},
   "cell_type": "markdown",
   "metadata": {},
   "source": [
    "### Exploratory data analysis (EDA)"
   ]
  },
  {
   "cell_type": "code",
   "execution_count": 10,
   "metadata": {},
   "outputs": [
    {
     "data": {
      "text/html": [
       "<div>\n",
       "<style scoped>\n",
       "    .dataframe tbody tr th:only-of-type {\n",
       "        vertical-align: middle;\n",
       "    }\n",
       "\n",
       "    .dataframe tbody tr th {\n",
       "        vertical-align: top;\n",
       "    }\n",
       "\n",
       "    .dataframe thead th {\n",
       "        text-align: right;\n",
       "    }\n",
       "</style>\n",
       "<table border=\"1\" class=\"dataframe\">\n",
       "  <thead>\n",
       "    <tr style=\"text-align: right;\">\n",
       "      <th></th>\n",
       "      <th>count</th>\n",
       "      <th>mean</th>\n",
       "      <th>std</th>\n",
       "      <th>min</th>\n",
       "      <th>25%</th>\n",
       "      <th>50%</th>\n",
       "      <th>75%</th>\n",
       "      <th>max</th>\n",
       "    </tr>\n",
       "  </thead>\n",
       "  <tbody>\n",
       "    <tr>\n",
       "      <th>Productivity</th>\n",
       "      <td>66.0</td>\n",
       "      <td>39.129739</td>\n",
       "      <td>23.782922</td>\n",
       "      <td>3.02265</td>\n",
       "      <td>19.646299</td>\n",
       "      <td>34.622095</td>\n",
       "      <td>56.207542</td>\n",
       "      <td>109.488306</td>\n",
       "    </tr>\n",
       "  </tbody>\n",
       "</table>\n",
       "</div>"
      ],
      "text/plain": [
       "              count       mean        std      min        25%        50%  \\\n",
       "Productivity   66.0  39.129739  23.782922  3.02265  19.646299  34.622095   \n",
       "\n",
       "                    75%         max  \n",
       "Productivity  56.207542  109.488306  "
      ]
     },
     "execution_count": 10,
     "metadata": {},
     "output_type": "execute_result"
    }
   ],
   "source": [
    "summary_statistics = pd.DataFrame(df['Productivity'].describe()).T\n",
    "summary_statistics"
   ]
  },
  {
   "cell_type": "code",
   "execution_count": 11,
   "metadata": {},
   "outputs": [
    {
     "name": "stderr",
     "output_type": "stream",
     "text": [
      "c:\\Users\\ji_so\\anaconda3\\envs\\stats\\lib\\site-packages\\altair\\utils\\core.py:317: FutureWarning: iteritems is deprecated and will be removed in a future version. Use .items instead.\n",
      "  for col_name, dtype in df.dtypes.iteritems():\n"
     ]
    },
    {
     "data": {
      "text/html": [
       "\n",
       "<div id=\"altair-viz-c87c21b5dd874989be46239ffb0c192c\"></div>\n",
       "<script type=\"text/javascript\">\n",
       "  var VEGA_DEBUG = (typeof VEGA_DEBUG == \"undefined\") ? {} : VEGA_DEBUG;\n",
       "  (function(spec, embedOpt){\n",
       "    let outputDiv = document.currentScript.previousElementSibling;\n",
       "    if (outputDiv.id !== \"altair-viz-c87c21b5dd874989be46239ffb0c192c\") {\n",
       "      outputDiv = document.getElementById(\"altair-viz-c87c21b5dd874989be46239ffb0c192c\");\n",
       "    }\n",
       "    const paths = {\n",
       "      \"vega\": \"https://cdn.jsdelivr.net/npm//vega@5?noext\",\n",
       "      \"vega-lib\": \"https://cdn.jsdelivr.net/npm//vega-lib?noext\",\n",
       "      \"vega-lite\": \"https://cdn.jsdelivr.net/npm//vega-lite@4.17.0?noext\",\n",
       "      \"vega-embed\": \"https://cdn.jsdelivr.net/npm//vega-embed@6?noext\",\n",
       "    };\n",
       "\n",
       "    function maybeLoadScript(lib, version) {\n",
       "      var key = `${lib.replace(\"-\", \"\")}_version`;\n",
       "      return (VEGA_DEBUG[key] == version) ?\n",
       "        Promise.resolve(paths[lib]) :\n",
       "        new Promise(function(resolve, reject) {\n",
       "          var s = document.createElement('script');\n",
       "          document.getElementsByTagName(\"head\")[0].appendChild(s);\n",
       "          s.async = true;\n",
       "          s.onload = () => {\n",
       "            VEGA_DEBUG[key] = version;\n",
       "            return resolve(paths[lib]);\n",
       "          };\n",
       "          s.onerror = () => reject(`Error loading script: ${paths[lib]}`);\n",
       "          s.src = paths[lib];\n",
       "        });\n",
       "    }\n",
       "\n",
       "    function showError(err) {\n",
       "      outputDiv.innerHTML = `<div class=\"error\" style=\"color:red;\">${err}</div>`;\n",
       "      throw err;\n",
       "    }\n",
       "\n",
       "    function displayChart(vegaEmbed) {\n",
       "      vegaEmbed(outputDiv, spec, embedOpt)\n",
       "        .catch(err => showError(`Javascript Error: ${err.message}<br>This usually means there's a typo in your chart specification. See the javascript console for the full traceback.`));\n",
       "    }\n",
       "\n",
       "    if(typeof define === \"function\" && define.amd) {\n",
       "      requirejs.config({paths});\n",
       "      require([\"vega-embed\"], displayChart, err => showError(`Error loading script: ${err.message}`));\n",
       "    } else {\n",
       "      maybeLoadScript(\"vega\", \"5\")\n",
       "        .then(() => maybeLoadScript(\"vega-lite\", \"4.17.0\"))\n",
       "        .then(() => maybeLoadScript(\"vega-embed\", \"6\"))\n",
       "        .catch(showError)\n",
       "        .then(() => displayChart(vegaEmbed));\n",
       "    }\n",
       "  })({\"config\": {\"view\": {\"continuousWidth\": 400, \"continuousHeight\": 300}}, \"data\": {\"name\": \"data-7e5e1d31b7d7dfe3b746d19bb1e7c61c\"}, \"mark\": \"bar\", \"encoding\": {\"color\": {\"field\": \"Continent\", \"legend\": {\"title\": \"Continent by color\"}, \"type\": \"nominal\"}, \"x\": {\"axis\": {\"title\": \"Productivity\", \"titleAnchor\": \"end\"}, \"field\": \"Productivity\", \"type\": \"quantitative\"}, \"y\": {\"axis\": {\"labelAngle\": 0, \"title\": \"Country\", \"titleAnchor\": \"start\"}, \"field\": \"Country\", \"sort\": \"-x\", \"type\": \"nominal\"}}, \"height\": 650, \"title\": \"Productivity per Country\", \"width\": 300, \"$schema\": \"https://vega.github.io/schema/vega-lite/v4.17.0.json\", \"datasets\": {\"data-7e5e1d31b7d7dfe3b746d19bb1e7c61c\": [{\"Continent\": \"Americas\", \"Country\": \"Argentina\", \"Code\": \"ARG\", \"Year\": 2017, \"\\u00d8 working hours\": 1691.5363, \"GDP\": 23272.18, \"Population\": 44054616, \"Gini coefficient\": 0.3407793115, \"Life satisfaction\": 6.085560799, \"Productivity\": 30.95546039, \"Health expenditure\": 2470.11}, {\"Continent\": \"Oceania\", \"Country\": \"Australia\", \"Code\": \"AUS\", \"Year\": 2017, \"\\u00d8 working hours\": 1731.4943, \"GDP\": 52536.19, \"Population\": 24590336, \"Gini coefficient\": 0.3407793115, \"Life satisfaction\": 7.233994961, \"Productivity\": 60.3416786, \"Health expenditure\": 4715.83}, {\"Continent\": \"Europe\", \"Country\": \"Austria\", \"Code\": \"AUT\", \"Year\": 2017, \"\\u00d8 working hours\": 1613.0519, \"GDP\": 51954.28, \"Population\": 8797497, \"Gini coefficient\": 0.29737585, \"Life satisfaction\": 7.195361137, \"Productivity\": 64.7801697, \"Health expenditure\": 5641.18}, {\"Continent\": \"Asia\", \"Country\": \"Bangladesh\", \"Code\": \"BGD\", \"Year\": 2017, \"\\u00d8 working hours\": 2232.3542, \"GDP\": 4112.7, \"Population\": 161793968, \"Gini coefficient\": 0.3407793115, \"Life satisfaction\": 5.114216805, \"Productivity\": 4.307636988, \"Health expenditure\": 101.18}, {\"Continent\": \"Europe\", \"Country\": \"Belgium\", \"Code\": \"BEL\", \"Year\": 2017, \"\\u00d8 working hours\": 1544.269, \"GDP\": 45150.2, \"Population\": 11384491, \"Gini coefficient\": 0.273879678, \"Life satisfaction\": 6.772138119, \"Productivity\": 68.51652068, \"Health expenditure\": 5450.48}, {\"Continent\": \"Americas\", \"Country\": \"Brazil\", \"Code\": \"BRA\", \"Year\": 2017, \"\\u00d8 working hours\": 1709.4856, \"GDP\": 14284.61, \"Population\": 208504960, \"Gini coefficient\": 0.5333405, \"Life satisfaction\": 6.451148987, \"Productivity\": 19.18829359, \"Health expenditure\": 1375.66}, {\"Continent\": \"Europe\", \"Country\": \"Bulgaria\", \"Code\": \"BGR\", \"Year\": 2017, \"\\u00d8 working hours\": 1643.5475, \"GDP\": 19579.83, \"Population\": 7182430, \"Gini coefficient\": 0.403790468, \"Life satisfaction\": 5.108438015, \"Productivity\": 25.39212178, \"Health expenditure\": 1607.71}, {\"Continent\": \"Asia\", \"Country\": \"Cambodia\", \"Code\": \"KHM\", \"Year\": 2017, \"\\u00d8 working hours\": 2455.5508, \"GDP\": 3950.93, \"Population\": 15830694, \"Gini coefficient\": 0.3407793115, \"Life satisfaction\": 4.998284817, \"Productivity\": 3.022649989, \"Health expenditure\": 224.81}, {\"Continent\": \"Americas\", \"Country\": \"Canada\", \"Code\": \"CAN\", \"Year\": 2017, \"\\u00d8 working hours\": 1696.4624, \"GDP\": 48902.64, \"Population\": 36554344, \"Gini coefficient\": 0.333082063, \"Life satisfaction\": 7.1090765, \"Productivity\": 56.25571848, \"Health expenditure\": 5208.72}, {\"Continent\": \"Americas\", \"Country\": \"Chile\", \"Code\": \"CHL\", \"Year\": 2017, \"\\u00d8 working hours\": 1974.0, \"GDP\": 22864.05, \"Population\": 18368582, \"Gini coefficient\": 0.444410284, \"Life satisfaction\": 5.942250252, \"Productivity\": 27.26079146, \"Health expenditure\": 2219.14}, {\"Continent\": \"Asia\", \"Country\": \"China\", \"Code\": \"CHN\", \"Year\": 2017, \"\\u00d8 working hours\": 2174.3501, \"GDP\": 13854.23, \"Population\": 1410275968, \"Gini coefficient\": 0.390757759, \"Life satisfaction\": 5.144120216, \"Productivity\": 11.35773921, \"Health expenditure\": 706.37}, {\"Continent\": \"Americas\", \"Country\": \"Colombia\", \"Code\": \"COL\", \"Year\": 2017, \"\\u00d8 working hours\": 1997.748, \"GDP\": 13426.76, \"Population\": 48351668, \"Gini coefficient\": 0.497154848, \"Life satisfaction\": 6.350297928, \"Productivity\": 15.63291474, \"Health expenditure\": 1088.17}, {\"Continent\": \"Americas\", \"Country\": \"Costa Rica\", \"Code\": \"CRI\", \"Year\": 2017, \"\\u00d8 working hours\": 2212.3835, \"GDP\": 18127.81, \"Population\": 4993849, \"Gini coefficient\": 0.483465406, \"Life satisfaction\": 6.997618675, \"Productivity\": 18.72804079, \"Health expenditure\": 1439.77}, {\"Continent\": \"Europe\", \"Country\": \"Croatia\", \"Code\": \"HRV\", \"Year\": 2017, \"\\u00d8 working hours\": 1834.9327, \"GDP\": 25359.7, \"Population\": 4192468, \"Gini coefficient\": 0.303545759, \"Life satisfaction\": 5.625743866, \"Productivity\": 33.15712673, \"Health expenditure\": 1804.07}, {\"Continent\": \"Asia\", \"Country\": \"Cyprus\", \"Code\": \"CYP\", \"Year\": 2017, \"\\u00d8 working hours\": 1783.5206, \"GDP\": 31253.99, \"Population\": 1208527, \"Gini coefficient\": 0.31416234, \"Life satisfaction\": 6.136832714, \"Productivity\": 42.59221773, \"Health expenditure\": 2532.87}, {\"Continent\": \"Europe\", \"Country\": \"Czechia\", \"Code\": \"CZE\", \"Year\": 2017, \"\\u00d8 working hours\": 1776.162, \"GDP\": 35579.26, \"Population\": 10531315, \"Gini coefficient\": 0.248522097, \"Life satisfaction\": 6.24209404, \"Productivity\": 39.42304869, \"Health expenditure\": 2785.65}, {\"Continent\": \"Europe\", \"Country\": \"Denmark\", \"Code\": \"DNK\", \"Year\": 2017, \"\\u00d8 working hours\": 1400.3815, \"GDP\": 51671.6, \"Population\": 5737286, \"Gini coefficient\": 0.287466614, \"Life satisfaction\": 7.693003178, \"Productivity\": 72.54114087, \"Health expenditure\": 5573.28}, {\"Continent\": \"Americas\", \"Country\": \"Ecuador\", \"Code\": \"ECU\", \"Year\": 2017, \"\\u00d8 working hours\": 1701.3558, \"GDP\": 11413.08, \"Population\": 16696947, \"Gini coefficient\": 0.446730295, \"Life satisfaction\": 5.809131145, \"Productivity\": 15.32391947, \"Health expenditure\": 863.05}, {\"Continent\": \"Europe\", \"Country\": \"Estonia\", \"Code\": \"EST\", \"Year\": 2017, \"\\u00d8 working hours\": 1856.6827, \"GDP\": 30981.6, \"Population\": 1317550, \"Gini coefficient\": 0.303550262, \"Life satisfaction\": 6.034641266, \"Productivity\": 33.48799406, \"Health expenditure\": 2241.85}, {\"Continent\": \"Europe\", \"Country\": \"Finland\", \"Code\": \"FIN\", \"Year\": 2017, \"\\u00d8 working hours\": 1659.2806, \"GDP\": 43827.15, \"Population\": 5508146, \"Gini coefficient\": 0.273830854, \"Life satisfaction\": 7.780347824, \"Productivity\": 58.88463786, \"Health expenditure\": 4339.1}, {\"Continent\": \"Europe\", \"Country\": \"France\", \"Code\": \"FRA\", \"Year\": 2017, \"\\u00d8 working hours\": 1514.1371, \"GDP\": 42818.76, \"Population\": 64144092, \"Gini coefficient\": 0.316320654, \"Life satisfaction\": 6.689644337, \"Productivity\": 68.37434064, \"Health expenditure\": 5059.99}, {\"Continent\": \"Europe\", \"Country\": \"Germany\", \"Code\": \"DEU\", \"Year\": 2017, \"\\u00d8 working hours\": 1353.8868, \"GDP\": 51253.33, \"Population\": 82624368, \"Gini coefficient\": 0.312019051, \"Life satisfaction\": 7.035472393, \"Productivity\": 69.84848268, \"Health expenditure\": 6028.25}, {\"Continent\": \"Europe\", \"Country\": \"Greece\", \"Code\": \"GRC\", \"Year\": 2017, \"\\u00d8 working hours\": 2016.8954, \"GDP\": 26477.58, \"Population\": 10692230, \"Gini coefficient\": 0.343520211, \"Life satisfaction\": 5.952157497, \"Productivity\": 33.35995335, \"Health expenditure\": 2325.62}, {\"Continent\": \"Asia\", \"Country\": \"Hong Kong\", \"Code\": \"HKG\", \"Year\": 2017, \"\\u00d8 working hours\": 2185.5789, \"GDP\": 49927.07, \"Population\": 7461508, \"Gini coefficient\": 0.3407793115, \"Life satisfaction\": 5.659317017, \"Productivity\": 44.37298407, \"Health expenditure\": 2230.495}, {\"Continent\": \"Europe\", \"Country\": \"Hungary\", \"Code\": \"HUN\", \"Year\": 2017, \"\\u00d8 working hours\": 1937.3325, \"GDP\": 26908.97, \"Population\": 9788940, \"Gini coefficient\": 0.305841235, \"Life satisfaction\": 6.000259876, \"Productivity\": 33.0558028, \"Health expenditure\": 1988.7}, {\"Continent\": \"Europe\", \"Country\": \"Iceland\", \"Code\": \"ISL\", \"Year\": 2017, \"\\u00d8 working hours\": 1493.3651, \"GDP\": 49844.32, \"Population\": 343641, \"Gini coefficient\": 0.261315802, \"Life satisfaction\": 7.532504559, \"Productivity\": 59.12501586, \"Health expenditure\": 4762.73}, {\"Continent\": \"Asia\", \"Country\": \"India\", \"Code\": \"IND\", \"Year\": 2017, \"\\u00d8 working hours\": 2117.0117, \"GDP\": 6188.46, \"Population\": 1354195712, \"Gini coefficient\": 0.359430473, \"Life satisfaction\": 3.24876976, \"Productivity\": 8.009787126, \"Health expenditure\": 181.53}, {\"Continent\": \"Asia\", \"Country\": \"Indonesia\", \"Code\": \"IDN\", \"Year\": 2017, \"\\u00d8 working hours\": 2024.287, \"GDP\": 10640.7, \"Population\": 264498848, \"Gini coefficient\": 0.38785263, \"Life satisfaction\": 5.346512794, \"Productivity\": 11.35478727, \"Health expenditure\": 317.59}, {\"Continent\": \"Europe\", \"Country\": \"Ireland\", \"Code\": \"IRL\", \"Year\": 2017, \"\\u00d8 working hours\": 1745.6843, \"GDP\": 86808.65, \"Population\": 4771860, \"Gini coefficient\": 0.313598037, \"Life satisfaction\": 7.254841328, \"Productivity\": 109.488306, \"Health expenditure\": 5582.93}, {\"Continent\": \"Asia\", \"Country\": \"Israel\", \"Code\": \"ISR\", \"Year\": 2017, \"\\u00d8 working hours\": 1920.6106, \"GDP\": 38979.03, \"Population\": 8309256, \"Gini coefficient\": 0.382020644, \"Life satisfaction\": 7.331779957, \"Productivity\": 41.0201119, \"Health expenditure\": 2992.02}, {\"Continent\": \"Europe\", \"Country\": \"Italy\", \"Code\": \"ITA\", \"Year\": 2017, \"\\u00d8 working hours\": 1722.6113, \"GDP\": 40155.51, \"Population\": 60004024, \"Gini coefficient\": 0.359280009, \"Life satisfaction\": 6.445416927, \"Productivity\": 56.27207136, \"Health expenditure\": 3616.67}, {\"Continent\": \"Asia\", \"Country\": \"Japan\", \"Code\": \"JPN\", \"Year\": 2017, \"\\u00d8 working hours\": 1738.3633, \"GDP\": 39598.29, \"Population\": 126662464, \"Gini coefficient\": 0.3407793115, \"Life satisfaction\": 5.908039093, \"Productivity\": 42.4229346, \"Health expenditure\": 4398.02}, {\"Continent\": \"Europe\", \"Country\": \"Latvia\", \"Code\": \"LVA\", \"Year\": 2017, \"\\u00d8 working hours\": 1874.5979, \"GDP\": 27162.37, \"Population\": 1954861, \"Gini coefficient\": 0.355719346, \"Life satisfaction\": 5.969753742, \"Productivity\": 31.56864146, \"Health expenditure\": 1703.6}, {\"Continent\": \"Europe\", \"Country\": \"Lithuania\", \"Code\": \"LTU\", \"Year\": 2017, \"\\u00d8 working hours\": 1844.0171, \"GDP\": 29832.8, \"Population\": 2904452, \"Gini coefficient\": 0.372896992, \"Life satisfaction\": 6.064097881, \"Productivity\": 32.99194736, \"Health expenditure\": 2178.09}, {\"Continent\": \"Europe\", \"Country\": \"Luxembourg\", \"Code\": \"LUX\", \"Year\": 2017, \"\\u00d8 working hours\": 1518.8575, \"GDP\": 90597.55, \"Population\": 596290, \"Gini coefficient\": 0.345157399, \"Life satisfaction\": 7.404015541, \"Productivity\": 83.16536059, \"Health expenditure\": 5980.64}, {\"Continent\": \"Asia\", \"Country\": \"Malaysia\", \"Code\": \"MYS\", \"Year\": 2017, \"\\u00d8 working hours\": 2238.2729, \"GDP\": 24159.17, \"Population\": 31975812, \"Gini coefficient\": 0.3407793115, \"Life satisfaction\": 5.427954197, \"Productivity\": 23.65407513, \"Health expenditure\": 987.58}, {\"Continent\": \"Europe\", \"Country\": \"Malta\", \"Code\": \"MLT\", \"Year\": 2017, \"\\u00d8 working hours\": 2040.0317, \"GDP\": 35154.08, \"Population\": 479507, \"Gini coefficient\": 0.292322386, \"Life satisfaction\": 6.73297739, \"Productivity\": 39.21617358, \"Health expenditure\": 3873.25}, {\"Continent\": \"Americas\", \"Country\": \"Mexico\", \"Code\": \"MEX\", \"Year\": 2017, \"\\u00d8 working hours\": 2255.0, \"GDP\": 18939.9, \"Population\": 122839256, \"Gini coefficient\": 0.3407793115, \"Life satisfaction\": 6.431945324, \"Productivity\": 21.02031412, \"Health expenditure\": 1076.31}, {\"Continent\": \"Asia\", \"Country\": \"Myanmar\", \"Code\": \"MMR\", \"Year\": 2017, \"\\u00d8 working hours\": 2437.8633, \"GDP\": 4762.93, \"Population\": 52288344, \"Gini coefficient\": 0.306968695, \"Life satisfaction\": 4.43423748, \"Productivity\": 4.735483675, \"Health expenditure\": 214.63}, {\"Continent\": \"Europe\", \"Country\": \"Netherlands\", \"Code\": \"NLD\", \"Year\": 2017, \"\\u00d8 working hours\": 1430.0229, \"GDP\": 54233.45, \"Population\": 17207204, \"Gini coefficient\": 0.285358194, \"Life satisfaction\": 7.42526865, \"Productivity\": 70.61846134, \"Health expenditure\": 5602.59}, {\"Continent\": \"Oceania\", \"Country\": \"New Zealand\", \"Code\": \"NZL\", \"Year\": 2017, \"\\u00d8 working hours\": 1752.0, \"GDP\": 39728.86, \"Population\": 4746253, \"Gini coefficient\": 0.3407793115, \"Life satisfaction\": 7.205174446, \"Productivity\": 42.73759913, \"Health expenditure\": 3875.54}, {\"Continent\": \"Africa\", \"Country\": \"Nigeria\", \"Code\": \"NGA\", \"Year\": 2017, \"\\u00d8 working hours\": 1827.2401, \"GDP\": 5060.98, \"Population\": 193495904, \"Gini coefficient\": 0.3407793115, \"Life satisfaction\": 4.356419086, \"Productivity\": 34.62209549, \"Health expenditure\": 194.81}, {\"Continent\": \"Europe\", \"Country\": \"Norway\", \"Code\": \"NOR\", \"Year\": 2017, \"\\u00d8 working hours\": 1417.4723, \"GDP\": 69604.79, \"Population\": 5277396, \"Gini coefficient\": 0.269873302, \"Life satisfaction\": 7.442139626, \"Productivity\": 96.84903378, \"Health expenditure\": 6630.84}, {\"Continent\": \"Asia\", \"Country\": \"Pakistan\", \"Code\": \"PAK\", \"Year\": 2017, \"\\u00d8 working hours\": 2096.1443, \"GDP\": 4743.69, \"Population\": 216379648, \"Gini coefficient\": 0.3407793115, \"Life satisfaction\": 4.442717552, \"Productivity\": 8.322207396, \"Health expenditure\": 132.67}, {\"Continent\": \"Americas\", \"Country\": \"Peru\", \"Code\": \"PER\", \"Year\": 2017, \"\\u00d8 working hours\": 1932.4581, \"GDP\": 11956.63, \"Population\": 31605488, \"Gini coefficient\": 0.4329279, \"Life satisfaction\": 5.999381542, \"Productivity\": 10.7489986, \"Health expenditure\": 624.02}, {\"Continent\": \"Asia\", \"Country\": \"Philippines\", \"Code\": \"PHL\", \"Year\": 2017, \"\\u00d8 working hours\": 2148.5645, \"GDP\": 7858.48, \"Population\": 106738496, \"Gini coefficient\": 0.3407793115, \"Life satisfaction\": 6.267745018, \"Productivity\": 9.450449282, \"Health expenditure\": 321.62}, {\"Continent\": \"Europe\", \"Country\": \"Poland\", \"Code\": \"POL\", \"Year\": 2017, \"\\u00d8 working hours\": 2028.4952, \"GDP\": 29047.82, \"Population\": 38532816, \"Gini coefficient\": 0.302965813, \"Life satisfaction\": 6.24209404, \"Productivity\": 33.66429154, \"Health expenditure\": 1972.37}, {\"Continent\": \"Europe\", \"Country\": \"Portugal\", \"Code\": \"PRT\", \"Year\": 2017, \"\\u00d8 working hours\": 1863.1744, \"GDP\": 30430.03, \"Population\": 10307528, \"Gini coefficient\": 0.338038412, \"Life satisfaction\": 6.095473289, \"Productivity\": 34.62209549, \"Health expenditure\": 3072.32}, {\"Continent\": \"Europe\", \"Country\": \"Romania\", \"Code\": \"ROU\", \"Year\": 2017, \"\\u00d8 working hours\": 1805.9998, \"GDP\": 25424.06, \"Population\": 19698852, \"Gini coefficient\": 0.360168279, \"Life satisfaction\": 6.129942417, \"Productivity\": 32.2711146, \"Health expenditure\": 1398.55}, {\"Continent\": \"Europe\", \"Country\": \"Russia\", \"Code\": \"RUS\", \"Year\": 2017, \"\\u00d8 working hours\": 1974.0, \"GDP\": 26797.82, \"Population\": 145452544, \"Gini coefficient\": 0.37239071, \"Life satisfaction\": 5.440523624, \"Productivity\": 27.44623652, \"Health expenditure\": 1406.2}, {\"Continent\": \"Asia\", \"Country\": \"Singapore\", \"Code\": \"SGP\", \"Year\": 2017, \"\\u00d8 working hours\": 2237.7263, \"GDP\": 81444.79, \"Population\": 5764489, \"Gini coefficient\": 0.3407793115, \"Life satisfaction\": 6.378359795, \"Productivity\": 54.29877798, \"Health expenditure\": 4091.44}, {\"Continent\": \"Europe\", \"Country\": \"Slovakia\", \"Code\": \"SVK\", \"Year\": 2017, \"\\u00d8 working hours\": 1745.2307, \"GDP\": 26467.1, \"Population\": 5439418, \"Gini coefficient\": 0.23237751, \"Life satisfaction\": 6.243428707, \"Productivity\": 35.16566573, \"Health expenditure\": 2038.16}, {\"Continent\": \"Europe\", \"Country\": \"Slovenia\", \"Code\": \"SVN\", \"Year\": 2017, \"\\u00d8 working hours\": 1655.089, \"GDP\": 31594.71, \"Population\": 2098396, \"Gini coefficient\": 0.242193073, \"Life satisfaction\": 6.665273666, \"Productivity\": 40.55475278, \"Health expenditure\": 2998.32}, {\"Continent\": \"Africa\", \"Country\": \"South Africa\", \"Code\": \"ZAF\", \"Year\": 2017, \"\\u00d8 working hours\": 2209.0916, \"GDP\": 12735.03, \"Population\": 56641208, \"Gini coefficient\": 0.3407793115, \"Life satisfaction\": 5.034863472, \"Productivity\": 18.05485455, \"Health expenditure\": 1107.89}, {\"Continent\": \"Asia\", \"Country\": \"South Korea\", \"Code\": \"KOR\", \"Year\": 2017, \"\\u00d8 working hours\": 2063.3315, \"GDP\": 40875.21, \"Population\": 51511640, \"Gini coefficient\": 0.3407793115, \"Life satisfaction\": 5.902816772, \"Productivity\": 39.08392755, \"Health expenditure\": 2925.95}, {\"Continent\": \"Europe\", \"Country\": \"Spain\", \"Code\": \"ESP\", \"Year\": 2017, \"\\u00d8 working hours\": 1686.4973, \"GDP\": 38928.51, \"Population\": 46584168, \"Gini coefficient\": 0.346545469, \"Life satisfaction\": 6.457449436, \"Productivity\": 56.06301345, \"Health expenditure\": 3556.87}, {\"Continent\": \"Asia\", \"Country\": \"Sri Lanka\", \"Code\": \"LKA\", \"Year\": 2017, \"\\u00d8 working hours\": 1923.9354, \"GDP\": 12733.1, \"Population\": 21506816, \"Gini coefficient\": 0.3407793115, \"Life satisfaction\": 4.213299274, \"Productivity\": 17.04851325, \"Health expenditure\": 459.25}, {\"Continent\": \"Europe\", \"Country\": \"Sweden\", \"Code\": \"SWE\", \"Year\": 2017, \"\\u00d8 working hours\": 1609.2896, \"GDP\": 52032.67, \"Population\": 10058191, \"Gini coefficient\": 0.287746034, \"Life satisfaction\": 7.398092747, \"Productivity\": 64.3374695, \"Health expenditure\": 5655.7}, {\"Continent\": \"Europe\", \"Country\": \"Switzerland\", \"Code\": \"CHE\", \"Year\": 2017, \"\\u00d8 working hours\": 1589.6758, \"GDP\": 73624.98, \"Population\": 8451688, \"Gini coefficient\": 0.32676334, \"Life satisfaction\": 7.69422102, \"Productivity\": 80.58822762, \"Health expenditure\": 7989.64}, {\"Continent\": \"Asia\", \"Country\": \"Taiwan\", \"Code\": \"TWN\", \"Year\": 2017, \"\\u00d8 working hours\": 1990.3212, \"GDP\": 45375.41, \"Population\": 23665028, \"Gini coefficient\": 0.3407793115, \"Life satisfaction\": 6.537089825, \"Productivity\": 44.99929907, \"Health expenditure\": 2230.495}, {\"Continent\": \"Asia\", \"Country\": \"Thailand\", \"Code\": \"THA\", \"Year\": 2017, \"\\u00d8 working hours\": 2185.4456, \"GDP\": 16665.38, \"Population\": 70898208, \"Gini coefficient\": 0.36528755, \"Life satisfaction\": 6.02215147, \"Productivity\": 14.74583813, \"Health expenditure\": 669.58}, {\"Continent\": \"Asia\", \"Country\": \"Turkey\", \"Code\": \"TUR\", \"Year\": 2017, \"\\u00d8 working hours\": 1832.0, \"GDP\": 26611.18, \"Population\": 82089824, \"Gini coefficient\": 0.414056667, \"Life satisfaction\": 4.87207365, \"Productivity\": 41.79920311, \"Health expenditure\": 1166.73}, {\"Continent\": \"Europe\", \"Country\": \"United Kingdom\", \"Code\": \"GBR\", \"Year\": 2017, \"\\u00d8 working hours\": 1670.2728, \"GDP\": 44093.93, \"Population\": 66064808, \"Gini coefficient\": 0.351488307, \"Life satisfaction\": 7.157151222, \"Productivity\": 54.67692069, \"Health expenditure\": 4515.59}, {\"Continent\": \"Americas\", \"Country\": \"United States\", \"Code\": \"USA\", \"Year\": 2017, \"\\u00d8 working hours\": 1757.2255, \"GDP\": 60116.57, \"Population\": 329791232, \"Gini coefficient\": 0.411805587, \"Life satisfaction\": 6.943701267, \"Productivity\": 71.63857051, \"Health expenditure\": 10103.09}, {\"Continent\": \"Americas\", \"Country\": \"Uruguay\", \"Code\": \"URY\", \"Year\": 2017, \"\\u00d8 working hours\": 1552.347, \"GDP\": 20615.56, \"Population\": 3422205, \"Gini coefficient\": 0.394645312, \"Life satisfaction\": 6.600337029, \"Productivity\": 28.29584596, \"Health expenditure\": 2029.89}, {\"Continent\": \"Asia\", \"Country\": \"Vietnam\", \"Code\": \"VNM\", \"Year\": 2017, \"\\u00d8 working hours\": 2169.5916, \"GDP\": 6841.65, \"Population\": 94033048, \"Gini coefficient\": 0.3407793115, \"Life satisfaction\": 5.467451096, \"Productivity\": 5.652919029, \"Health expenditure\": 423.98}]}}, {\"mode\": \"vega-lite\"});\n",
       "</script>"
      ],
      "text/plain": [
       "alt.Chart(...)"
      ]
     },
     "execution_count": 11,
     "metadata": {},
     "output_type": "execute_result"
    }
   ],
   "source": [
    "alt.Chart(df).mark_bar().encode(\n",
    "    y=alt.X('Country',\n",
    "            sort='-x',\n",
    "            axis=alt.Axis(title=\"Country\", \n",
    "                          labelAngle=0,\n",
    "                          titleAnchor=\"start\")),\n",
    "    x=alt.Y('Productivity', \n",
    "            axis=alt.Axis(title = \"Productivity\",\n",
    "                          titleAnchor=\"end\")),\n",
    "                          color=alt.Color('Continent', legend=alt.Legend(title=\"Continent by color\"))\n",
    ").properties(\n",
    "    title='Productivity per Country',\n",
    "    width=300,\n",
    "    height=650\n",
    ")"
   ]
  },
  {
   "cell_type": "code",
   "execution_count": 12,
   "metadata": {},
   "outputs": [
    {
     "data": {
      "text/html": [
       "\n",
       "<div id=\"altair-viz-7adfd644b6b043729ca0506d6439235e\"></div>\n",
       "<script type=\"text/javascript\">\n",
       "  var VEGA_DEBUG = (typeof VEGA_DEBUG == \"undefined\") ? {} : VEGA_DEBUG;\n",
       "  (function(spec, embedOpt){\n",
       "    let outputDiv = document.currentScript.previousElementSibling;\n",
       "    if (outputDiv.id !== \"altair-viz-7adfd644b6b043729ca0506d6439235e\") {\n",
       "      outputDiv = document.getElementById(\"altair-viz-7adfd644b6b043729ca0506d6439235e\");\n",
       "    }\n",
       "    const paths = {\n",
       "      \"vega\": \"https://cdn.jsdelivr.net/npm//vega@5?noext\",\n",
       "      \"vega-lib\": \"https://cdn.jsdelivr.net/npm//vega-lib?noext\",\n",
       "      \"vega-lite\": \"https://cdn.jsdelivr.net/npm//vega-lite@4.17.0?noext\",\n",
       "      \"vega-embed\": \"https://cdn.jsdelivr.net/npm//vega-embed@6?noext\",\n",
       "    };\n",
       "\n",
       "    function maybeLoadScript(lib, version) {\n",
       "      var key = `${lib.replace(\"-\", \"\")}_version`;\n",
       "      return (VEGA_DEBUG[key] == version) ?\n",
       "        Promise.resolve(paths[lib]) :\n",
       "        new Promise(function(resolve, reject) {\n",
       "          var s = document.createElement('script');\n",
       "          document.getElementsByTagName(\"head\")[0].appendChild(s);\n",
       "          s.async = true;\n",
       "          s.onload = () => {\n",
       "            VEGA_DEBUG[key] = version;\n",
       "            return resolve(paths[lib]);\n",
       "          };\n",
       "          s.onerror = () => reject(`Error loading script: ${paths[lib]}`);\n",
       "          s.src = paths[lib];\n",
       "        });\n",
       "    }\n",
       "\n",
       "    function showError(err) {\n",
       "      outputDiv.innerHTML = `<div class=\"error\" style=\"color:red;\">${err}</div>`;\n",
       "      throw err;\n",
       "    }\n",
       "\n",
       "    function displayChart(vegaEmbed) {\n",
       "      vegaEmbed(outputDiv, spec, embedOpt)\n",
       "        .catch(err => showError(`Javascript Error: ${err.message}<br>This usually means there's a typo in your chart specification. See the javascript console for the full traceback.`));\n",
       "    }\n",
       "\n",
       "    if(typeof define === \"function\" && define.amd) {\n",
       "      requirejs.config({paths});\n",
       "      require([\"vega-embed\"], displayChart, err => showError(`Error loading script: ${err.message}`));\n",
       "    } else {\n",
       "      maybeLoadScript(\"vega\", \"5\")\n",
       "        .then(() => maybeLoadScript(\"vega-lite\", \"4.17.0\"))\n",
       "        .then(() => maybeLoadScript(\"vega-embed\", \"6\"))\n",
       "        .catch(showError)\n",
       "        .then(() => displayChart(vegaEmbed));\n",
       "    }\n",
       "  })({\"config\": {\"view\": {\"continuousWidth\": 400, \"continuousHeight\": 300}}, \"data\": {\"name\": \"data-7e5e1d31b7d7dfe3b746d19bb1e7c61c\"}, \"mark\": {\"type\": \"circle\", \"size\": 100}, \"encoding\": {\"color\": {\"field\": \"Continent\", \"legend\": {\"title\": \"Continent by color\"}, \"type\": \"nominal\"}, \"x\": {\"field\": \"\\u00d8 working hours\", \"type\": \"quantitative\"}, \"y\": {\"field\": \"Productivity\", \"type\": \"quantitative\"}}, \"height\": 250, \"selection\": {\"selector001\": {\"type\": \"interval\", \"bind\": \"scales\", \"encodings\": [\"x\", \"y\"]}}, \"title\": \"Productivity vs. \\u00d8-working hours\", \"width\": 200, \"$schema\": \"https://vega.github.io/schema/vega-lite/v4.17.0.json\", \"datasets\": {\"data-7e5e1d31b7d7dfe3b746d19bb1e7c61c\": [{\"Continent\": \"Americas\", \"Country\": \"Argentina\", \"Code\": \"ARG\", \"Year\": 2017, \"\\u00d8 working hours\": 1691.5363, \"GDP\": 23272.18, \"Population\": 44054616, \"Gini coefficient\": 0.3407793115, \"Life satisfaction\": 6.085560799, \"Productivity\": 30.95546039, \"Health expenditure\": 2470.11}, {\"Continent\": \"Oceania\", \"Country\": \"Australia\", \"Code\": \"AUS\", \"Year\": 2017, \"\\u00d8 working hours\": 1731.4943, \"GDP\": 52536.19, \"Population\": 24590336, \"Gini coefficient\": 0.3407793115, \"Life satisfaction\": 7.233994961, \"Productivity\": 60.3416786, \"Health expenditure\": 4715.83}, {\"Continent\": \"Europe\", \"Country\": \"Austria\", \"Code\": \"AUT\", \"Year\": 2017, \"\\u00d8 working hours\": 1613.0519, \"GDP\": 51954.28, \"Population\": 8797497, \"Gini coefficient\": 0.29737585, \"Life satisfaction\": 7.195361137, \"Productivity\": 64.7801697, \"Health expenditure\": 5641.18}, {\"Continent\": \"Asia\", \"Country\": \"Bangladesh\", \"Code\": \"BGD\", \"Year\": 2017, \"\\u00d8 working hours\": 2232.3542, \"GDP\": 4112.7, \"Population\": 161793968, \"Gini coefficient\": 0.3407793115, \"Life satisfaction\": 5.114216805, \"Productivity\": 4.307636988, \"Health expenditure\": 101.18}, {\"Continent\": \"Europe\", \"Country\": \"Belgium\", \"Code\": \"BEL\", \"Year\": 2017, \"\\u00d8 working hours\": 1544.269, \"GDP\": 45150.2, \"Population\": 11384491, \"Gini coefficient\": 0.273879678, \"Life satisfaction\": 6.772138119, \"Productivity\": 68.51652068, \"Health expenditure\": 5450.48}, {\"Continent\": \"Americas\", \"Country\": \"Brazil\", \"Code\": \"BRA\", \"Year\": 2017, \"\\u00d8 working hours\": 1709.4856, \"GDP\": 14284.61, \"Population\": 208504960, \"Gini coefficient\": 0.5333405, \"Life satisfaction\": 6.451148987, \"Productivity\": 19.18829359, \"Health expenditure\": 1375.66}, {\"Continent\": \"Europe\", \"Country\": \"Bulgaria\", \"Code\": \"BGR\", \"Year\": 2017, \"\\u00d8 working hours\": 1643.5475, \"GDP\": 19579.83, \"Population\": 7182430, \"Gini coefficient\": 0.403790468, \"Life satisfaction\": 5.108438015, \"Productivity\": 25.39212178, \"Health expenditure\": 1607.71}, {\"Continent\": \"Asia\", \"Country\": \"Cambodia\", \"Code\": \"KHM\", \"Year\": 2017, \"\\u00d8 working hours\": 2455.5508, \"GDP\": 3950.93, \"Population\": 15830694, \"Gini coefficient\": 0.3407793115, \"Life satisfaction\": 4.998284817, \"Productivity\": 3.022649989, \"Health expenditure\": 224.81}, {\"Continent\": \"Americas\", \"Country\": \"Canada\", \"Code\": \"CAN\", \"Year\": 2017, \"\\u00d8 working hours\": 1696.4624, \"GDP\": 48902.64, \"Population\": 36554344, \"Gini coefficient\": 0.333082063, \"Life satisfaction\": 7.1090765, \"Productivity\": 56.25571848, \"Health expenditure\": 5208.72}, {\"Continent\": \"Americas\", \"Country\": \"Chile\", \"Code\": \"CHL\", \"Year\": 2017, \"\\u00d8 working hours\": 1974.0, \"GDP\": 22864.05, \"Population\": 18368582, \"Gini coefficient\": 0.444410284, \"Life satisfaction\": 5.942250252, \"Productivity\": 27.26079146, \"Health expenditure\": 2219.14}, {\"Continent\": \"Asia\", \"Country\": \"China\", \"Code\": \"CHN\", \"Year\": 2017, \"\\u00d8 working hours\": 2174.3501, \"GDP\": 13854.23, \"Population\": 1410275968, \"Gini coefficient\": 0.390757759, \"Life satisfaction\": 5.144120216, \"Productivity\": 11.35773921, \"Health expenditure\": 706.37}, {\"Continent\": \"Americas\", \"Country\": \"Colombia\", \"Code\": \"COL\", \"Year\": 2017, \"\\u00d8 working hours\": 1997.748, \"GDP\": 13426.76, \"Population\": 48351668, \"Gini coefficient\": 0.497154848, \"Life satisfaction\": 6.350297928, \"Productivity\": 15.63291474, \"Health expenditure\": 1088.17}, {\"Continent\": \"Americas\", \"Country\": \"Costa Rica\", \"Code\": \"CRI\", \"Year\": 2017, \"\\u00d8 working hours\": 2212.3835, \"GDP\": 18127.81, \"Population\": 4993849, \"Gini coefficient\": 0.483465406, \"Life satisfaction\": 6.997618675, \"Productivity\": 18.72804079, \"Health expenditure\": 1439.77}, {\"Continent\": \"Europe\", \"Country\": \"Croatia\", \"Code\": \"HRV\", \"Year\": 2017, \"\\u00d8 working hours\": 1834.9327, \"GDP\": 25359.7, \"Population\": 4192468, \"Gini coefficient\": 0.303545759, \"Life satisfaction\": 5.625743866, \"Productivity\": 33.15712673, \"Health expenditure\": 1804.07}, {\"Continent\": \"Asia\", \"Country\": \"Cyprus\", \"Code\": \"CYP\", \"Year\": 2017, \"\\u00d8 working hours\": 1783.5206, \"GDP\": 31253.99, \"Population\": 1208527, \"Gini coefficient\": 0.31416234, \"Life satisfaction\": 6.136832714, \"Productivity\": 42.59221773, \"Health expenditure\": 2532.87}, {\"Continent\": \"Europe\", \"Country\": \"Czechia\", \"Code\": \"CZE\", \"Year\": 2017, \"\\u00d8 working hours\": 1776.162, \"GDP\": 35579.26, \"Population\": 10531315, \"Gini coefficient\": 0.248522097, \"Life satisfaction\": 6.24209404, \"Productivity\": 39.42304869, \"Health expenditure\": 2785.65}, {\"Continent\": \"Europe\", \"Country\": \"Denmark\", \"Code\": \"DNK\", \"Year\": 2017, \"\\u00d8 working hours\": 1400.3815, \"GDP\": 51671.6, \"Population\": 5737286, \"Gini coefficient\": 0.287466614, \"Life satisfaction\": 7.693003178, \"Productivity\": 72.54114087, \"Health expenditure\": 5573.28}, {\"Continent\": \"Americas\", \"Country\": \"Ecuador\", \"Code\": \"ECU\", \"Year\": 2017, \"\\u00d8 working hours\": 1701.3558, \"GDP\": 11413.08, \"Population\": 16696947, \"Gini coefficient\": 0.446730295, \"Life satisfaction\": 5.809131145, \"Productivity\": 15.32391947, \"Health expenditure\": 863.05}, {\"Continent\": \"Europe\", \"Country\": \"Estonia\", \"Code\": \"EST\", \"Year\": 2017, \"\\u00d8 working hours\": 1856.6827, \"GDP\": 30981.6, \"Population\": 1317550, \"Gini coefficient\": 0.303550262, \"Life satisfaction\": 6.034641266, \"Productivity\": 33.48799406, \"Health expenditure\": 2241.85}, {\"Continent\": \"Europe\", \"Country\": \"Finland\", \"Code\": \"FIN\", \"Year\": 2017, \"\\u00d8 working hours\": 1659.2806, \"GDP\": 43827.15, \"Population\": 5508146, \"Gini coefficient\": 0.273830854, \"Life satisfaction\": 7.780347824, \"Productivity\": 58.88463786, \"Health expenditure\": 4339.1}, {\"Continent\": \"Europe\", \"Country\": \"France\", \"Code\": \"FRA\", \"Year\": 2017, \"\\u00d8 working hours\": 1514.1371, \"GDP\": 42818.76, \"Population\": 64144092, \"Gini coefficient\": 0.316320654, \"Life satisfaction\": 6.689644337, \"Productivity\": 68.37434064, \"Health expenditure\": 5059.99}, {\"Continent\": \"Europe\", \"Country\": \"Germany\", \"Code\": \"DEU\", \"Year\": 2017, \"\\u00d8 working hours\": 1353.8868, \"GDP\": 51253.33, \"Population\": 82624368, \"Gini coefficient\": 0.312019051, \"Life satisfaction\": 7.035472393, \"Productivity\": 69.84848268, \"Health expenditure\": 6028.25}, {\"Continent\": \"Europe\", \"Country\": \"Greece\", \"Code\": \"GRC\", \"Year\": 2017, \"\\u00d8 working hours\": 2016.8954, \"GDP\": 26477.58, \"Population\": 10692230, \"Gini coefficient\": 0.343520211, \"Life satisfaction\": 5.952157497, \"Productivity\": 33.35995335, \"Health expenditure\": 2325.62}, {\"Continent\": \"Asia\", \"Country\": \"Hong Kong\", \"Code\": \"HKG\", \"Year\": 2017, \"\\u00d8 working hours\": 2185.5789, \"GDP\": 49927.07, \"Population\": 7461508, \"Gini coefficient\": 0.3407793115, \"Life satisfaction\": 5.659317017, \"Productivity\": 44.37298407, \"Health expenditure\": 2230.495}, {\"Continent\": \"Europe\", \"Country\": \"Hungary\", \"Code\": \"HUN\", \"Year\": 2017, \"\\u00d8 working hours\": 1937.3325, \"GDP\": 26908.97, \"Population\": 9788940, \"Gini coefficient\": 0.305841235, \"Life satisfaction\": 6.000259876, \"Productivity\": 33.0558028, \"Health expenditure\": 1988.7}, {\"Continent\": \"Europe\", \"Country\": \"Iceland\", \"Code\": \"ISL\", \"Year\": 2017, \"\\u00d8 working hours\": 1493.3651, \"GDP\": 49844.32, \"Population\": 343641, \"Gini coefficient\": 0.261315802, \"Life satisfaction\": 7.532504559, \"Productivity\": 59.12501586, \"Health expenditure\": 4762.73}, {\"Continent\": \"Asia\", \"Country\": \"India\", \"Code\": \"IND\", \"Year\": 2017, \"\\u00d8 working hours\": 2117.0117, \"GDP\": 6188.46, \"Population\": 1354195712, \"Gini coefficient\": 0.359430473, \"Life satisfaction\": 3.24876976, \"Productivity\": 8.009787126, \"Health expenditure\": 181.53}, {\"Continent\": \"Asia\", \"Country\": \"Indonesia\", \"Code\": \"IDN\", \"Year\": 2017, \"\\u00d8 working hours\": 2024.287, \"GDP\": 10640.7, \"Population\": 264498848, \"Gini coefficient\": 0.38785263, \"Life satisfaction\": 5.346512794, \"Productivity\": 11.35478727, \"Health expenditure\": 317.59}, {\"Continent\": \"Europe\", \"Country\": \"Ireland\", \"Code\": \"IRL\", \"Year\": 2017, \"\\u00d8 working hours\": 1745.6843, \"GDP\": 86808.65, \"Population\": 4771860, \"Gini coefficient\": 0.313598037, \"Life satisfaction\": 7.254841328, \"Productivity\": 109.488306, \"Health expenditure\": 5582.93}, {\"Continent\": \"Asia\", \"Country\": \"Israel\", \"Code\": \"ISR\", \"Year\": 2017, \"\\u00d8 working hours\": 1920.6106, \"GDP\": 38979.03, \"Population\": 8309256, \"Gini coefficient\": 0.382020644, \"Life satisfaction\": 7.331779957, \"Productivity\": 41.0201119, \"Health expenditure\": 2992.02}, {\"Continent\": \"Europe\", \"Country\": \"Italy\", \"Code\": \"ITA\", \"Year\": 2017, \"\\u00d8 working hours\": 1722.6113, \"GDP\": 40155.51, \"Population\": 60004024, \"Gini coefficient\": 0.359280009, \"Life satisfaction\": 6.445416927, \"Productivity\": 56.27207136, \"Health expenditure\": 3616.67}, {\"Continent\": \"Asia\", \"Country\": \"Japan\", \"Code\": \"JPN\", \"Year\": 2017, \"\\u00d8 working hours\": 1738.3633, \"GDP\": 39598.29, \"Population\": 126662464, \"Gini coefficient\": 0.3407793115, \"Life satisfaction\": 5.908039093, \"Productivity\": 42.4229346, \"Health expenditure\": 4398.02}, {\"Continent\": \"Europe\", \"Country\": \"Latvia\", \"Code\": \"LVA\", \"Year\": 2017, \"\\u00d8 working hours\": 1874.5979, \"GDP\": 27162.37, \"Population\": 1954861, \"Gini coefficient\": 0.355719346, \"Life satisfaction\": 5.969753742, \"Productivity\": 31.56864146, \"Health expenditure\": 1703.6}, {\"Continent\": \"Europe\", \"Country\": \"Lithuania\", \"Code\": \"LTU\", \"Year\": 2017, \"\\u00d8 working hours\": 1844.0171, \"GDP\": 29832.8, \"Population\": 2904452, \"Gini coefficient\": 0.372896992, \"Life satisfaction\": 6.064097881, \"Productivity\": 32.99194736, \"Health expenditure\": 2178.09}, {\"Continent\": \"Europe\", \"Country\": \"Luxembourg\", \"Code\": \"LUX\", \"Year\": 2017, \"\\u00d8 working hours\": 1518.8575, \"GDP\": 90597.55, \"Population\": 596290, \"Gini coefficient\": 0.345157399, \"Life satisfaction\": 7.404015541, \"Productivity\": 83.16536059, \"Health expenditure\": 5980.64}, {\"Continent\": \"Asia\", \"Country\": \"Malaysia\", \"Code\": \"MYS\", \"Year\": 2017, \"\\u00d8 working hours\": 2238.2729, \"GDP\": 24159.17, \"Population\": 31975812, \"Gini coefficient\": 0.3407793115, \"Life satisfaction\": 5.427954197, \"Productivity\": 23.65407513, \"Health expenditure\": 987.58}, {\"Continent\": \"Europe\", \"Country\": \"Malta\", \"Code\": \"MLT\", \"Year\": 2017, \"\\u00d8 working hours\": 2040.0317, \"GDP\": 35154.08, \"Population\": 479507, \"Gini coefficient\": 0.292322386, \"Life satisfaction\": 6.73297739, \"Productivity\": 39.21617358, \"Health expenditure\": 3873.25}, {\"Continent\": \"Americas\", \"Country\": \"Mexico\", \"Code\": \"MEX\", \"Year\": 2017, \"\\u00d8 working hours\": 2255.0, \"GDP\": 18939.9, \"Population\": 122839256, \"Gini coefficient\": 0.3407793115, \"Life satisfaction\": 6.431945324, \"Productivity\": 21.02031412, \"Health expenditure\": 1076.31}, {\"Continent\": \"Asia\", \"Country\": \"Myanmar\", \"Code\": \"MMR\", \"Year\": 2017, \"\\u00d8 working hours\": 2437.8633, \"GDP\": 4762.93, \"Population\": 52288344, \"Gini coefficient\": 0.306968695, \"Life satisfaction\": 4.43423748, \"Productivity\": 4.735483675, \"Health expenditure\": 214.63}, {\"Continent\": \"Europe\", \"Country\": \"Netherlands\", \"Code\": \"NLD\", \"Year\": 2017, \"\\u00d8 working hours\": 1430.0229, \"GDP\": 54233.45, \"Population\": 17207204, \"Gini coefficient\": 0.285358194, \"Life satisfaction\": 7.42526865, \"Productivity\": 70.61846134, \"Health expenditure\": 5602.59}, {\"Continent\": \"Oceania\", \"Country\": \"New Zealand\", \"Code\": \"NZL\", \"Year\": 2017, \"\\u00d8 working hours\": 1752.0, \"GDP\": 39728.86, \"Population\": 4746253, \"Gini coefficient\": 0.3407793115, \"Life satisfaction\": 7.205174446, \"Productivity\": 42.73759913, \"Health expenditure\": 3875.54}, {\"Continent\": \"Africa\", \"Country\": \"Nigeria\", \"Code\": \"NGA\", \"Year\": 2017, \"\\u00d8 working hours\": 1827.2401, \"GDP\": 5060.98, \"Population\": 193495904, \"Gini coefficient\": 0.3407793115, \"Life satisfaction\": 4.356419086, \"Productivity\": 34.62209549, \"Health expenditure\": 194.81}, {\"Continent\": \"Europe\", \"Country\": \"Norway\", \"Code\": \"NOR\", \"Year\": 2017, \"\\u00d8 working hours\": 1417.4723, \"GDP\": 69604.79, \"Population\": 5277396, \"Gini coefficient\": 0.269873302, \"Life satisfaction\": 7.442139626, \"Productivity\": 96.84903378, \"Health expenditure\": 6630.84}, {\"Continent\": \"Asia\", \"Country\": \"Pakistan\", \"Code\": \"PAK\", \"Year\": 2017, \"\\u00d8 working hours\": 2096.1443, \"GDP\": 4743.69, \"Population\": 216379648, \"Gini coefficient\": 0.3407793115, \"Life satisfaction\": 4.442717552, \"Productivity\": 8.322207396, \"Health expenditure\": 132.67}, {\"Continent\": \"Americas\", \"Country\": \"Peru\", \"Code\": \"PER\", \"Year\": 2017, \"\\u00d8 working hours\": 1932.4581, \"GDP\": 11956.63, \"Population\": 31605488, \"Gini coefficient\": 0.4329279, \"Life satisfaction\": 5.999381542, \"Productivity\": 10.7489986, \"Health expenditure\": 624.02}, {\"Continent\": \"Asia\", \"Country\": \"Philippines\", \"Code\": \"PHL\", \"Year\": 2017, \"\\u00d8 working hours\": 2148.5645, \"GDP\": 7858.48, \"Population\": 106738496, \"Gini coefficient\": 0.3407793115, \"Life satisfaction\": 6.267745018, \"Productivity\": 9.450449282, \"Health expenditure\": 321.62}, {\"Continent\": \"Europe\", \"Country\": \"Poland\", \"Code\": \"POL\", \"Year\": 2017, \"\\u00d8 working hours\": 2028.4952, \"GDP\": 29047.82, \"Population\": 38532816, \"Gini coefficient\": 0.302965813, \"Life satisfaction\": 6.24209404, \"Productivity\": 33.66429154, \"Health expenditure\": 1972.37}, {\"Continent\": \"Europe\", \"Country\": \"Portugal\", \"Code\": \"PRT\", \"Year\": 2017, \"\\u00d8 working hours\": 1863.1744, \"GDP\": 30430.03, \"Population\": 10307528, \"Gini coefficient\": 0.338038412, \"Life satisfaction\": 6.095473289, \"Productivity\": 34.62209549, \"Health expenditure\": 3072.32}, {\"Continent\": \"Europe\", \"Country\": \"Romania\", \"Code\": \"ROU\", \"Year\": 2017, \"\\u00d8 working hours\": 1805.9998, \"GDP\": 25424.06, \"Population\": 19698852, \"Gini coefficient\": 0.360168279, \"Life satisfaction\": 6.129942417, \"Productivity\": 32.2711146, \"Health expenditure\": 1398.55}, {\"Continent\": \"Europe\", \"Country\": \"Russia\", \"Code\": \"RUS\", \"Year\": 2017, \"\\u00d8 working hours\": 1974.0, \"GDP\": 26797.82, \"Population\": 145452544, \"Gini coefficient\": 0.37239071, \"Life satisfaction\": 5.440523624, \"Productivity\": 27.44623652, \"Health expenditure\": 1406.2}, {\"Continent\": \"Asia\", \"Country\": \"Singapore\", \"Code\": \"SGP\", \"Year\": 2017, \"\\u00d8 working hours\": 2237.7263, \"GDP\": 81444.79, \"Population\": 5764489, \"Gini coefficient\": 0.3407793115, \"Life satisfaction\": 6.378359795, \"Productivity\": 54.29877798, \"Health expenditure\": 4091.44}, {\"Continent\": \"Europe\", \"Country\": \"Slovakia\", \"Code\": \"SVK\", \"Year\": 2017, \"\\u00d8 working hours\": 1745.2307, \"GDP\": 26467.1, \"Population\": 5439418, \"Gini coefficient\": 0.23237751, \"Life satisfaction\": 6.243428707, \"Productivity\": 35.16566573, \"Health expenditure\": 2038.16}, {\"Continent\": \"Europe\", \"Country\": \"Slovenia\", \"Code\": \"SVN\", \"Year\": 2017, \"\\u00d8 working hours\": 1655.089, \"GDP\": 31594.71, \"Population\": 2098396, \"Gini coefficient\": 0.242193073, \"Life satisfaction\": 6.665273666, \"Productivity\": 40.55475278, \"Health expenditure\": 2998.32}, {\"Continent\": \"Africa\", \"Country\": \"South Africa\", \"Code\": \"ZAF\", \"Year\": 2017, \"\\u00d8 working hours\": 2209.0916, \"GDP\": 12735.03, \"Population\": 56641208, \"Gini coefficient\": 0.3407793115, \"Life satisfaction\": 5.034863472, \"Productivity\": 18.05485455, \"Health expenditure\": 1107.89}, {\"Continent\": \"Asia\", \"Country\": \"South Korea\", \"Code\": \"KOR\", \"Year\": 2017, \"\\u00d8 working hours\": 2063.3315, \"GDP\": 40875.21, \"Population\": 51511640, \"Gini coefficient\": 0.3407793115, \"Life satisfaction\": 5.902816772, \"Productivity\": 39.08392755, \"Health expenditure\": 2925.95}, {\"Continent\": \"Europe\", \"Country\": \"Spain\", \"Code\": \"ESP\", \"Year\": 2017, \"\\u00d8 working hours\": 1686.4973, \"GDP\": 38928.51, \"Population\": 46584168, \"Gini coefficient\": 0.346545469, \"Life satisfaction\": 6.457449436, \"Productivity\": 56.06301345, \"Health expenditure\": 3556.87}, {\"Continent\": \"Asia\", \"Country\": \"Sri Lanka\", \"Code\": \"LKA\", \"Year\": 2017, \"\\u00d8 working hours\": 1923.9354, \"GDP\": 12733.1, \"Population\": 21506816, \"Gini coefficient\": 0.3407793115, \"Life satisfaction\": 4.213299274, \"Productivity\": 17.04851325, \"Health expenditure\": 459.25}, {\"Continent\": \"Europe\", \"Country\": \"Sweden\", \"Code\": \"SWE\", \"Year\": 2017, \"\\u00d8 working hours\": 1609.2896, \"GDP\": 52032.67, \"Population\": 10058191, \"Gini coefficient\": 0.287746034, \"Life satisfaction\": 7.398092747, \"Productivity\": 64.3374695, \"Health expenditure\": 5655.7}, {\"Continent\": \"Europe\", \"Country\": \"Switzerland\", \"Code\": \"CHE\", \"Year\": 2017, \"\\u00d8 working hours\": 1589.6758, \"GDP\": 73624.98, \"Population\": 8451688, \"Gini coefficient\": 0.32676334, \"Life satisfaction\": 7.69422102, \"Productivity\": 80.58822762, \"Health expenditure\": 7989.64}, {\"Continent\": \"Asia\", \"Country\": \"Taiwan\", \"Code\": \"TWN\", \"Year\": 2017, \"\\u00d8 working hours\": 1990.3212, \"GDP\": 45375.41, \"Population\": 23665028, \"Gini coefficient\": 0.3407793115, \"Life satisfaction\": 6.537089825, \"Productivity\": 44.99929907, \"Health expenditure\": 2230.495}, {\"Continent\": \"Asia\", \"Country\": \"Thailand\", \"Code\": \"THA\", \"Year\": 2017, \"\\u00d8 working hours\": 2185.4456, \"GDP\": 16665.38, \"Population\": 70898208, \"Gini coefficient\": 0.36528755, \"Life satisfaction\": 6.02215147, \"Productivity\": 14.74583813, \"Health expenditure\": 669.58}, {\"Continent\": \"Asia\", \"Country\": \"Turkey\", \"Code\": \"TUR\", \"Year\": 2017, \"\\u00d8 working hours\": 1832.0, \"GDP\": 26611.18, \"Population\": 82089824, \"Gini coefficient\": 0.414056667, \"Life satisfaction\": 4.87207365, \"Productivity\": 41.79920311, \"Health expenditure\": 1166.73}, {\"Continent\": \"Europe\", \"Country\": \"United Kingdom\", \"Code\": \"GBR\", \"Year\": 2017, \"\\u00d8 working hours\": 1670.2728, \"GDP\": 44093.93, \"Population\": 66064808, \"Gini coefficient\": 0.351488307, \"Life satisfaction\": 7.157151222, \"Productivity\": 54.67692069, \"Health expenditure\": 4515.59}, {\"Continent\": \"Americas\", \"Country\": \"United States\", \"Code\": \"USA\", \"Year\": 2017, \"\\u00d8 working hours\": 1757.2255, \"GDP\": 60116.57, \"Population\": 329791232, \"Gini coefficient\": 0.411805587, \"Life satisfaction\": 6.943701267, \"Productivity\": 71.63857051, \"Health expenditure\": 10103.09}, {\"Continent\": \"Americas\", \"Country\": \"Uruguay\", \"Code\": \"URY\", \"Year\": 2017, \"\\u00d8 working hours\": 1552.347, \"GDP\": 20615.56, \"Population\": 3422205, \"Gini coefficient\": 0.394645312, \"Life satisfaction\": 6.600337029, \"Productivity\": 28.29584596, \"Health expenditure\": 2029.89}, {\"Continent\": \"Asia\", \"Country\": \"Vietnam\", \"Code\": \"VNM\", \"Year\": 2017, \"\\u00d8 working hours\": 2169.5916, \"GDP\": 6841.65, \"Population\": 94033048, \"Gini coefficient\": 0.3407793115, \"Life satisfaction\": 5.467451096, \"Productivity\": 5.652919029, \"Health expenditure\": 423.98}]}}, {\"mode\": \"vega-lite\"});\n",
       "</script>"
      ],
      "text/plain": [
       "alt.Chart(...)"
      ]
     },
     "execution_count": 12,
     "metadata": {},
     "output_type": "execute_result"
    }
   ],
   "source": [
    "#case by case view\n",
    "alt.Chart(df).mark_circle(size=100).encode(\n",
    "    x='Ø working hours:Q',\n",
    "    y='Productivity:Q',\n",
    "    color=alt.Color('Continent', legend=alt.Legend(title=\"Continent by color\"))\n",
    ").interactive(\n",
    ").properties(\n",
    "    title='Productivity vs. Ø-working hours',\n",
    "    width=200,\n",
    "    height=250\n",
    ")"
   ]
  },
  {
   "attachments": {},
   "cell_type": "markdown",
   "metadata": {},
   "source": [
    "As we can see in our scatterplot, we can assume that there is a negative, linear association between these two variables."
   ]
  },
  {
   "cell_type": "markdown",
   "metadata": {},
   "source": [
    "## Methodology"
   ]
  },
  {
   "attachments": {},
   "cell_type": "markdown",
   "metadata": {},
   "source": [
    "As we work with observational data, we expected a correlation among the predictor variables. The matrix shows numerous high values, especially for productivity and GDP or Productivity and Health expenditure. Hence we have a collinearity problem which could cause a reduction on the precision of our estimated coefficients. It is questionable if we can identify independent variables that are significant as we cannot trust the p-value of our regression model."
   ]
  },
  {
   "attachments": {},
   "cell_type": "markdown",
   "metadata": {},
   "source": [
    "## Evaluation of our first hypothesis\n",
    "\n",
    "**Null hypothesis**: There is no correlation between Ø-working hours and Productivity.\n",
    "\n",
    "**Alternative hypothesis**: There is a correlation between Ø-working hours and Productivity.\n",
    "\n",
    "For our first hypothesis we only have to take the variables Productivity and Ø-working hours into account. Form the EDA we assumed a linear relationship of these two variables. Hence we use a simple linear regression model for evaluation. With this simple method, we can first exclude all unnecessary variables so that we can look at how our independent variable (Ø-working hours) affects the dependent variable (Productivity).\n",
    "\n",
    "### **Simple linear regression model**\n",
    "\n",
    "Define X and y variable for later use"
   ]
  },
  {
   "cell_type": "code",
   "execution_count": 13,
   "metadata": {},
   "outputs": [],
   "source": [
    "# define outcome variable as y_label\n",
    "y_label_H1 = 'Productivity'\n",
    "\n",
    "# select features\n",
    "X_H1 = df[[\"Ø working hours\"]]\n",
    "\n",
    "# create response\n",
    "y_H1 = df[y_label_H1]"
   ]
  },
  {
   "attachments": {},
   "cell_type": "markdown",
   "metadata": {},
   "source": [
    "### Data Splitting"
   ]
  },
  {
   "attachments": {},
   "cell_type": "markdown",
   "metadata": {},
   "source": [
    "Splitting into train and test data and investigating"
   ]
  },
  {
   "cell_type": "code",
   "execution_count": 14,
   "metadata": {},
   "outputs": [
    {
     "data": {
      "text/plain": [
       "((52, 1), (52,))"
      ]
     },
     "execution_count": 14,
     "metadata": {},
     "output_type": "execute_result"
    }
   ],
   "source": [
    "X_train_H1, X_test_H1, y_train_H1, y_test_H1 = train_test_split(X_H1, y_H1, \n",
    "                                                    test_size=0.2, \n",
    "                                                    shuffle=True,\n",
    "                                                    random_state=42)\n",
    "\n",
    "X_train_H1.shape, y_train_H1.shape"
   ]
  },
  {
   "attachments": {},
   "cell_type": "markdown",
   "metadata": {},
   "source": [
    "We make a copy of the training data since we don’t want to alter our data during data exploration."
   ]
  },
  {
   "cell_type": "code",
   "execution_count": 15,
   "metadata": {},
   "outputs": [],
   "source": [
    "df_train_H1 = pd.DataFrame(X_train_H1.copy())\n",
    "df_train_H1 = df_train_H1.join(pd.DataFrame(y_train_H1))"
   ]
  },
  {
   "cell_type": "code",
   "execution_count": 16,
   "metadata": {},
   "outputs": [
    {
     "data": {
      "text/html": [
       "<div>\n",
       "<style scoped>\n",
       "    .dataframe tbody tr th:only-of-type {\n",
       "        vertical-align: middle;\n",
       "    }\n",
       "\n",
       "    .dataframe tbody tr th {\n",
       "        vertical-align: top;\n",
       "    }\n",
       "\n",
       "    .dataframe thead th {\n",
       "        text-align: right;\n",
       "    }\n",
       "</style>\n",
       "<table border=\"1\" class=\"dataframe\">\n",
       "  <thead>\n",
       "    <tr style=\"text-align: right;\">\n",
       "      <th></th>\n",
       "      <th>Ø working hours</th>\n",
       "      <th>Productivity</th>\n",
       "    </tr>\n",
       "  </thead>\n",
       "  <tbody>\n",
       "    <tr>\n",
       "      <th>34</th>\n",
       "      <td>1518.8575</td>\n",
       "      <td>83.165361</td>\n",
       "    </tr>\n",
       "    <tr>\n",
       "      <th>25</th>\n",
       "      <td>1493.3651</td>\n",
       "      <td>59.125016</td>\n",
       "    </tr>\n",
       "  </tbody>\n",
       "</table>\n",
       "</div>"
      ],
      "text/plain": [
       "    Ø working hours  Productivity\n",
       "34        1518.8575     83.165361\n",
       "25        1493.3651     59.125016"
      ]
     },
     "execution_count": 16,
     "metadata": {},
     "output_type": "execute_result"
    }
   ],
   "source": [
    "df_train_H1.head(2)"
   ]
  },
  {
   "attachments": {},
   "cell_type": "markdown",
   "metadata": {},
   "source": [
    "### Analysis\n",
    "\n",
    "### Descriptive statistics"
   ]
  },
  {
   "cell_type": "code",
   "execution_count": 17,
   "metadata": {},
   "outputs": [
    {
     "data": {
      "text/html": [
       "<div>\n",
       "<style scoped>\n",
       "    .dataframe tbody tr th:only-of-type {\n",
       "        vertical-align: middle;\n",
       "    }\n",
       "\n",
       "    .dataframe tbody tr th {\n",
       "        vertical-align: top;\n",
       "    }\n",
       "\n",
       "    .dataframe thead th {\n",
       "        text-align: right;\n",
       "    }\n",
       "</style>\n",
       "<table border=\"1\" class=\"dataframe\">\n",
       "  <thead>\n",
       "    <tr style=\"text-align: right;\">\n",
       "      <th></th>\n",
       "      <th>count</th>\n",
       "      <th>mean</th>\n",
       "      <th>std</th>\n",
       "      <th>min</th>\n",
       "      <th>25%</th>\n",
       "      <th>50%</th>\n",
       "      <th>75%</th>\n",
       "      <th>max</th>\n",
       "    </tr>\n",
       "  </thead>\n",
       "  <tbody>\n",
       "    <tr>\n",
       "      <th>Ø working hours</th>\n",
       "      <td>52.0</td>\n",
       "      <td>1861.423508</td>\n",
       "      <td>269.327956</td>\n",
       "      <td>1353.88680</td>\n",
       "      <td>1658.232700</td>\n",
       "      <td>1844.34135</td>\n",
       "      <td>2031.379325</td>\n",
       "      <td>2455.550800</td>\n",
       "    </tr>\n",
       "    <tr>\n",
       "      <th>Productivity</th>\n",
       "      <td>52.0</td>\n",
       "      <td>39.929674</td>\n",
       "      <td>24.617458</td>\n",
       "      <td>3.02265</td>\n",
       "      <td>20.278949</td>\n",
       "      <td>37.19092</td>\n",
       "      <td>56.912948</td>\n",
       "      <td>109.488306</td>\n",
       "    </tr>\n",
       "  </tbody>\n",
       "</table>\n",
       "</div>"
      ],
      "text/plain": [
       "                 count         mean         std         min          25%  \\\n",
       "Ø working hours   52.0  1861.423508  269.327956  1353.88680  1658.232700   \n",
       "Productivity      52.0    39.929674   24.617458     3.02265    20.278949   \n",
       "\n",
       "                        50%          75%          max  \n",
       "Ø working hours  1844.34135  2031.379325  2455.550800  \n",
       "Productivity       37.19092    56.912948   109.488306  "
      ]
     },
     "execution_count": 17,
     "metadata": {},
     "output_type": "execute_result"
    }
   ],
   "source": [
    "df_train_H1.describe().T"
   ]
  },
  {
   "attachments": {},
   "cell_type": "markdown",
   "metadata": {},
   "source": [
    "### Simple regression model"
   ]
  },
  {
   "attachments": {},
   "cell_type": "markdown",
   "metadata": {},
   "source": [
    "Introduction simple linear regression"
   ]
  },
  {
   "cell_type": "code",
   "execution_count": 18,
   "metadata": {},
   "outputs": [],
   "source": [
    "reg_H1 = LinearRegression()\n",
    "reg2_H1 = KNeighborsRegressor(n_neighbors=3)"
   ]
  },
  {
   "attachments": {},
   "cell_type": "markdown",
   "metadata": {},
   "source": [
    "### Training & Validation"
   ]
  },
  {
   "attachments": {},
   "cell_type": "markdown",
   "metadata": {},
   "source": [
    "We cannot ensure how well our model will perform. Therefore, as a better option, we will split our data into two sets: the training set and the test set, and then perform k-fold cross-validation. In k-fold cross-validation, the data set is split into k (here k = 5) iterations into training and test data sets. From each training and testing set we can get the error rate, so with this value we can observe how well our model performs on instances it has never seen before.\n",
    "If the training error is small (i.e. our model makes few errors in the training set) but the generalization error is high, this means that our model is overfitting the training data."
   ]
  },
  {
   "cell_type": "code",
   "execution_count": 19,
   "metadata": {},
   "outputs": [],
   "source": [
    "# cross-validation with 5 folds\n",
    "scores_H1 = cross_val_score(reg_H1, X_train_H1, y_train_H1, cv=5, scoring='neg_mean_squared_error') *-1\n",
    "scores2_H1 = cross_val_score(reg2_H1, X_train_H1, y_train_H1, cv=5, scoring='neg_mean_squared_error') *-1"
   ]
  },
  {
   "cell_type": "code",
   "execution_count": 20,
   "metadata": {},
   "outputs": [
    {
     "data": {
      "text/html": [
       "<style type=\"text/css\">\n",
       "#T_a61f0_row0_col0, #T_a61f0_row0_col1 {\n",
       "  background-color: #08306b;\n",
       "  color: #f1f1f1;\n",
       "}\n",
       "#T_a61f0_row1_col0 {\n",
       "  background-color: #3080bd;\n",
       "  color: #f1f1f1;\n",
       "}\n",
       "#T_a61f0_row1_col1 {\n",
       "  background-color: #1967ad;\n",
       "  color: #f1f1f1;\n",
       "}\n",
       "#T_a61f0_row2_col0, #T_a61f0_row3_col1 {\n",
       "  background-color: #f7fbff;\n",
       "  color: #000000;\n",
       "}\n",
       "#T_a61f0_row2_col1 {\n",
       "  background-color: #edf4fc;\n",
       "  color: #000000;\n",
       "}\n",
       "#T_a61f0_row3_col0 {\n",
       "  background-color: #e2edf8;\n",
       "  color: #000000;\n",
       "}\n",
       "#T_a61f0_row4_col0 {\n",
       "  background-color: #e6f0f9;\n",
       "  color: #000000;\n",
       "}\n",
       "#T_a61f0_row4_col1 {\n",
       "  background-color: #77b5d9;\n",
       "  color: #000000;\n",
       "}\n",
       "</style>\n",
       "<table id=\"T_a61f0\">\n",
       "  <thead>\n",
       "    <tr>\n",
       "      <th class=\"blank level0\" >&nbsp;</th>\n",
       "      <th id=\"T_a61f0_level0_col0\" class=\"col_heading level0 col0\" >lr</th>\n",
       "      <th id=\"T_a61f0_level0_col1\" class=\"col_heading level0 col1\" >knn</th>\n",
       "    </tr>\n",
       "  </thead>\n",
       "  <tbody>\n",
       "    <tr>\n",
       "      <th id=\"T_a61f0_level0_row0\" class=\"row_heading level0 row0\" >1</th>\n",
       "      <td id=\"T_a61f0_row0_col0\" class=\"data row0 col0\" >624.227040</td>\n",
       "      <td id=\"T_a61f0_row0_col1\" class=\"data row0 col1\" >734.592660</td>\n",
       "    </tr>\n",
       "    <tr>\n",
       "      <th id=\"T_a61f0_level0_row1\" class=\"row_heading level0 row1\" >2</th>\n",
       "      <td id=\"T_a61f0_row1_col0\" class=\"data row1 col0\" >456.552360</td>\n",
       "      <td id=\"T_a61f0_row1_col1\" class=\"data row1 col1\" >593.315306</td>\n",
       "    </tr>\n",
       "    <tr>\n",
       "      <th id=\"T_a61f0_level0_row2\" class=\"row_heading level0 row2\" >3</th>\n",
       "      <td id=\"T_a61f0_row2_col0\" class=\"data row2 col0\" >77.597734</td>\n",
       "      <td id=\"T_a61f0_row2_col1\" class=\"data row2 col1\" >111.456937</td>\n",
       "    </tr>\n",
       "    <tr>\n",
       "      <th id=\"T_a61f0_level0_row3\" class=\"row_heading level0 row3\" >4</th>\n",
       "      <td id=\"T_a61f0_row3_col0\" class=\"data row3 col0\" >136.651296</td>\n",
       "      <td id=\"T_a61f0_row3_col1\" class=\"data row3 col1\" >75.916928</td>\n",
       "    </tr>\n",
       "    <tr>\n",
       "      <th id=\"T_a61f0_level0_row4\" class=\"row_heading level0 row4\" >5</th>\n",
       "      <td id=\"T_a61f0_row4_col0\" class=\"data row4 col0\" >126.544454</td>\n",
       "      <td id=\"T_a61f0_row4_col1\" class=\"data row4 col1\" >385.322855</td>\n",
       "    </tr>\n",
       "  </tbody>\n",
       "</table>\n"
      ],
      "text/plain": [
       "<pandas.io.formats.style.Styler at 0x186beb4f0a0>"
      ]
     },
     "execution_count": 20,
     "metadata": {},
     "output_type": "execute_result"
    }
   ],
   "source": [
    "# store cross-validation scores\n",
    "df_scores_H1 = pd.DataFrame({\"lr\": scores_H1, \n",
    "                          \"knn\": scores2_H1})\n",
    "\n",
    "# reset index to match the number of folds\n",
    "df_scores_H1.index += 1\n",
    "\n",
    "# print dataframe\n",
    "df_scores_H1.style.background_gradient(cmap='Blues')"
   ]
  },
  {
   "cell_type": "code",
   "execution_count": 21,
   "metadata": {},
   "outputs": [
    {
     "name": "stderr",
     "output_type": "stream",
     "text": [
      "c:\\Users\\ji_so\\anaconda3\\envs\\stats\\lib\\site-packages\\altair\\utils\\core.py:317: FutureWarning: iteritems is deprecated and will be removed in a future version. Use .items instead.\n",
      "  for col_name, dtype in df.dtypes.iteritems():\n"
     ]
    },
    {
     "data": {
      "text/html": [
       "\n",
       "<div id=\"altair-viz-917b4c0c52bf49349c76ff4066f7329d\"></div>\n",
       "<script type=\"text/javascript\">\n",
       "  var VEGA_DEBUG = (typeof VEGA_DEBUG == \"undefined\") ? {} : VEGA_DEBUG;\n",
       "  (function(spec, embedOpt){\n",
       "    let outputDiv = document.currentScript.previousElementSibling;\n",
       "    if (outputDiv.id !== \"altair-viz-917b4c0c52bf49349c76ff4066f7329d\") {\n",
       "      outputDiv = document.getElementById(\"altair-viz-917b4c0c52bf49349c76ff4066f7329d\");\n",
       "    }\n",
       "    const paths = {\n",
       "      \"vega\": \"https://cdn.jsdelivr.net/npm//vega@5?noext\",\n",
       "      \"vega-lib\": \"https://cdn.jsdelivr.net/npm//vega-lib?noext\",\n",
       "      \"vega-lite\": \"https://cdn.jsdelivr.net/npm//vega-lite@4.17.0?noext\",\n",
       "      \"vega-embed\": \"https://cdn.jsdelivr.net/npm//vega-embed@6?noext\",\n",
       "    };\n",
       "\n",
       "    function maybeLoadScript(lib, version) {\n",
       "      var key = `${lib.replace(\"-\", \"\")}_version`;\n",
       "      return (VEGA_DEBUG[key] == version) ?\n",
       "        Promise.resolve(paths[lib]) :\n",
       "        new Promise(function(resolve, reject) {\n",
       "          var s = document.createElement('script');\n",
       "          document.getElementsByTagName(\"head\")[0].appendChild(s);\n",
       "          s.async = true;\n",
       "          s.onload = () => {\n",
       "            VEGA_DEBUG[key] = version;\n",
       "            return resolve(paths[lib]);\n",
       "          };\n",
       "          s.onerror = () => reject(`Error loading script: ${paths[lib]}`);\n",
       "          s.src = paths[lib];\n",
       "        });\n",
       "    }\n",
       "\n",
       "    function showError(err) {\n",
       "      outputDiv.innerHTML = `<div class=\"error\" style=\"color:red;\">${err}</div>`;\n",
       "      throw err;\n",
       "    }\n",
       "\n",
       "    function displayChart(vegaEmbed) {\n",
       "      vegaEmbed(outputDiv, spec, embedOpt)\n",
       "        .catch(err => showError(`Javascript Error: ${err.message}<br>This usually means there's a typo in your chart specification. See the javascript console for the full traceback.`));\n",
       "    }\n",
       "\n",
       "    if(typeof define === \"function\" && define.amd) {\n",
       "      requirejs.config({paths});\n",
       "      require([\"vega-embed\"], displayChart, err => showError(`Error loading script: ${err.message}`));\n",
       "    } else {\n",
       "      maybeLoadScript(\"vega\", \"5\")\n",
       "        .then(() => maybeLoadScript(\"vega-lite\", \"4.17.0\"))\n",
       "        .then(() => maybeLoadScript(\"vega-embed\", \"6\"))\n",
       "        .catch(showError)\n",
       "        .then(() => displayChart(vegaEmbed));\n",
       "    }\n",
       "  })({\"config\": {\"view\": {\"continuousWidth\": 400, \"continuousHeight\": 300}}, \"repeat\": {\"layer\": [\"lr\", \"knn\"]}, \"spec\": {\"data\": {\"name\": \"data-1c27c121a3133c19e6d77453a7db9962\"}, \"mark\": {\"type\": \"line\", \"point\": {}}, \"encoding\": {\"color\": {\"datum\": {\"repeat\": \"layer\"}}, \"x\": {\"axis\": {\"tickCount\": 5}, \"bin\": false, \"field\": \"index\", \"title\": \"Fold\", \"type\": \"quantitative\"}, \"y\": {\"aggregate\": \"mean\", \"field\": {\"repeat\": \"layer\"}, \"title\": \"Mean squared error (MSE)\"}}}, \"$schema\": \"https://vega.github.io/schema/vega-lite/v4.17.0.json\", \"datasets\": {\"data-1c27c121a3133c19e6d77453a7db9962\": [{\"index\": 1, \"lr\": 624.2270396487905, \"knn\": 734.5926597782453}, {\"index\": 2, \"lr\": 456.5523604066042, \"knn\": 593.3153063171004}, {\"index\": 3, \"lr\": 77.59773380991487, \"knn\": 111.45693655375158}, {\"index\": 4, \"lr\": 136.65129628731574, \"knn\": 75.9169278993184}, {\"index\": 5, \"lr\": 126.54445402563303, \"knn\": 385.32285482572604}]}}, {\"mode\": \"vega-lite\"});\n",
       "</script>"
      ],
      "text/plain": [
       "alt.RepeatChart(...)"
      ]
     },
     "execution_count": 21,
     "metadata": {},
     "output_type": "execute_result"
    }
   ],
   "source": [
    "alt.Chart(df_scores_H1.reset_index()).mark_line(\n",
    "     point=alt.OverlayMarkDef()\n",
    ").encode(\n",
    "    x=alt.X(\"index\", bin=False, title=\"Fold\", axis=alt.Axis(tickCount=5)),\n",
    "    y=alt.Y(\n",
    "        alt.repeat(\"layer\"), aggregate=\"mean\", title=\"Mean squared error (MSE)\"\n",
    "    ),\n",
    "    color=alt.datum(alt.repeat(\"layer\")),\n",
    ").repeat(layer=[\"lr\", \"knn\"])"
   ]
  },
  {
   "cell_type": "code",
   "execution_count": 22,
   "metadata": {},
   "outputs": [
    {
     "data": {
      "text/html": [
       "<div>\n",
       "<style scoped>\n",
       "    .dataframe tbody tr th:only-of-type {\n",
       "        vertical-align: middle;\n",
       "    }\n",
       "\n",
       "    .dataframe tbody tr th {\n",
       "        vertical-align: top;\n",
       "    }\n",
       "\n",
       "    .dataframe thead th {\n",
       "        text-align: right;\n",
       "    }\n",
       "</style>\n",
       "<table border=\"1\" class=\"dataframe\">\n",
       "  <thead>\n",
       "    <tr style=\"text-align: right;\">\n",
       "      <th></th>\n",
       "      <th>count</th>\n",
       "      <th>mean</th>\n",
       "      <th>std</th>\n",
       "      <th>min</th>\n",
       "      <th>25%</th>\n",
       "      <th>50%</th>\n",
       "      <th>75%</th>\n",
       "      <th>max</th>\n",
       "    </tr>\n",
       "  </thead>\n",
       "  <tbody>\n",
       "    <tr>\n",
       "      <th>lr</th>\n",
       "      <td>5.0</td>\n",
       "      <td>284.314577</td>\n",
       "      <td>242.195193</td>\n",
       "      <td>77.597734</td>\n",
       "      <td>126.544454</td>\n",
       "      <td>136.651296</td>\n",
       "      <td>456.552360</td>\n",
       "      <td>624.22704</td>\n",
       "    </tr>\n",
       "    <tr>\n",
       "      <th>knn</th>\n",
       "      <td>5.0</td>\n",
       "      <td>380.120937</td>\n",
       "      <td>289.762629</td>\n",
       "      <td>75.916928</td>\n",
       "      <td>111.456937</td>\n",
       "      <td>385.322855</td>\n",
       "      <td>593.315306</td>\n",
       "      <td>734.59266</td>\n",
       "    </tr>\n",
       "  </tbody>\n",
       "</table>\n",
       "</div>"
      ],
      "text/plain": [
       "     count        mean         std        min         25%         50%  \\\n",
       "lr     5.0  284.314577  242.195193  77.597734  126.544454  136.651296   \n",
       "knn    5.0  380.120937  289.762629  75.916928  111.456937  385.322855   \n",
       "\n",
       "            75%        max  \n",
       "lr   456.552360  624.22704  \n",
       "knn  593.315306  734.59266  "
      ]
     },
     "execution_count": 22,
     "metadata": {},
     "output_type": "execute_result"
    }
   ],
   "source": [
    "df_scores_H1.describe().T"
   ]
  },
  {
   "attachments": {},
   "cell_type": "markdown",
   "metadata": {},
   "source": [
    "The difference in performance between the two models is relatively small. Hence we choose linear regression"
   ]
  },
  {
   "attachments": {},
   "cell_type": "markdown",
   "metadata": {},
   "source": [
    "### Final Training"
   ]
  },
  {
   "cell_type": "code",
   "execution_count": 23,
   "metadata": {},
   "outputs": [
    {
     "data": {
      "text/html": [
       "<style>#sk-container-id-1 {color: black;background-color: white;}#sk-container-id-1 pre{padding: 0;}#sk-container-id-1 div.sk-toggleable {background-color: white;}#sk-container-id-1 label.sk-toggleable__label {cursor: pointer;display: block;width: 100%;margin-bottom: 0;padding: 0.3em;box-sizing: border-box;text-align: center;}#sk-container-id-1 label.sk-toggleable__label-arrow:before {content: \"▸\";float: left;margin-right: 0.25em;color: #696969;}#sk-container-id-1 label.sk-toggleable__label-arrow:hover:before {color: black;}#sk-container-id-1 div.sk-estimator:hover label.sk-toggleable__label-arrow:before {color: black;}#sk-container-id-1 div.sk-toggleable__content {max-height: 0;max-width: 0;overflow: hidden;text-align: left;background-color: #f0f8ff;}#sk-container-id-1 div.sk-toggleable__content pre {margin: 0.2em;color: black;border-radius: 0.25em;background-color: #f0f8ff;}#sk-container-id-1 input.sk-toggleable__control:checked~div.sk-toggleable__content {max-height: 200px;max-width: 100%;overflow: auto;}#sk-container-id-1 input.sk-toggleable__control:checked~label.sk-toggleable__label-arrow:before {content: \"▾\";}#sk-container-id-1 div.sk-estimator input.sk-toggleable__control:checked~label.sk-toggleable__label {background-color: #d4ebff;}#sk-container-id-1 div.sk-label input.sk-toggleable__control:checked~label.sk-toggleable__label {background-color: #d4ebff;}#sk-container-id-1 input.sk-hidden--visually {border: 0;clip: rect(1px 1px 1px 1px);clip: rect(1px, 1px, 1px, 1px);height: 1px;margin: -1px;overflow: hidden;padding: 0;position: absolute;width: 1px;}#sk-container-id-1 div.sk-estimator {font-family: monospace;background-color: #f0f8ff;border: 1px dotted black;border-radius: 0.25em;box-sizing: border-box;margin-bottom: 0.5em;}#sk-container-id-1 div.sk-estimator:hover {background-color: #d4ebff;}#sk-container-id-1 div.sk-parallel-item::after {content: \"\";width: 100%;border-bottom: 1px solid gray;flex-grow: 1;}#sk-container-id-1 div.sk-label:hover label.sk-toggleable__label {background-color: #d4ebff;}#sk-container-id-1 div.sk-serial::before {content: \"\";position: absolute;border-left: 1px solid gray;box-sizing: border-box;top: 0;bottom: 0;left: 50%;z-index: 0;}#sk-container-id-1 div.sk-serial {display: flex;flex-direction: column;align-items: center;background-color: white;padding-right: 0.2em;padding-left: 0.2em;position: relative;}#sk-container-id-1 div.sk-item {position: relative;z-index: 1;}#sk-container-id-1 div.sk-parallel {display: flex;align-items: stretch;justify-content: center;background-color: white;position: relative;}#sk-container-id-1 div.sk-item::before, #sk-container-id-1 div.sk-parallel-item::before {content: \"\";position: absolute;border-left: 1px solid gray;box-sizing: border-box;top: 0;bottom: 0;left: 50%;z-index: -1;}#sk-container-id-1 div.sk-parallel-item {display: flex;flex-direction: column;z-index: 1;position: relative;background-color: white;}#sk-container-id-1 div.sk-parallel-item:first-child::after {align-self: flex-end;width: 50%;}#sk-container-id-1 div.sk-parallel-item:last-child::after {align-self: flex-start;width: 50%;}#sk-container-id-1 div.sk-parallel-item:only-child::after {width: 0;}#sk-container-id-1 div.sk-dashed-wrapped {border: 1px dashed gray;margin: 0 0.4em 0.5em 0.4em;box-sizing: border-box;padding-bottom: 0.4em;background-color: white;}#sk-container-id-1 div.sk-label label {font-family: monospace;font-weight: bold;display: inline-block;line-height: 1.2em;}#sk-container-id-1 div.sk-label-container {text-align: center;}#sk-container-id-1 div.sk-container {/* jupyter's `normalize.less` sets `[hidden] { display: none; }` but bootstrap.min.css set `[hidden] { display: none !important; }` so we also need the `!important` here to be able to override the default hidden behavior on the sphinx rendered scikit-learn.org. See: https://github.com/scikit-learn/scikit-learn/issues/21755 */display: inline-block !important;position: relative;}#sk-container-id-1 div.sk-text-repr-fallback {display: none;}</style><div id=\"sk-container-id-1\" class=\"sk-top-container\"><div class=\"sk-text-repr-fallback\"><pre>LinearRegression()</pre><b>In a Jupyter environment, please rerun this cell to show the HTML representation or trust the notebook. <br />On GitHub, the HTML representation is unable to render, please try loading this page with nbviewer.org.</b></div><div class=\"sk-container\" hidden><div class=\"sk-item\"><div class=\"sk-estimator sk-toggleable\"><input class=\"sk-toggleable__control sk-hidden--visually\" id=\"sk-estimator-id-1\" type=\"checkbox\" checked><label for=\"sk-estimator-id-1\" class=\"sk-toggleable__label sk-toggleable__label-arrow\">LinearRegression</label><div class=\"sk-toggleable__content\"><pre>LinearRegression()</pre></div></div></div></div></div>"
      ],
      "text/plain": [
       "LinearRegression()"
      ]
     },
     "execution_count": 23,
     "metadata": {},
     "output_type": "execute_result"
    }
   ],
   "source": [
    "# Fit the model\n",
    "reg_H1.fit(X_train_H1, y_train_H1)"
   ]
  },
  {
   "attachments": {},
   "cell_type": "markdown",
   "metadata": {},
   "source": [
    "Intercept and coefficient:"
   ]
  },
  {
   "cell_type": "code",
   "execution_count": 24,
   "metadata": {},
   "outputs": [
    {
     "data": {
      "text/html": [
       "<div>\n",
       "<style scoped>\n",
       "    .dataframe tbody tr th:only-of-type {\n",
       "        vertical-align: middle;\n",
       "    }\n",
       "\n",
       "    .dataframe tbody tr th {\n",
       "        vertical-align: top;\n",
       "    }\n",
       "\n",
       "    .dataframe thead th {\n",
       "        text-align: right;\n",
       "    }\n",
       "</style>\n",
       "<table border=\"1\" class=\"dataframe\">\n",
       "  <thead>\n",
       "    <tr style=\"text-align: right;\">\n",
       "      <th></th>\n",
       "      <th></th>\n",
       "      <th>Simple Linear Regression</th>\n",
       "    </tr>\n",
       "  </thead>\n",
       "  <tbody>\n",
       "    <tr>\n",
       "      <th>0</th>\n",
       "      <td>Intercept</td>\n",
       "      <td>163.016654</td>\n",
       "    </tr>\n",
       "    <tr>\n",
       "      <th>1</th>\n",
       "      <td>Coefficient</td>\n",
       "      <td>[-0.06613]</td>\n",
       "    </tr>\n",
       "  </tbody>\n",
       "</table>\n",
       "</div>"
      ],
      "text/plain": [
       "               Simple Linear Regression\n",
       "0    Intercept               163.016654\n",
       "1  Coefficient               [-0.06613]"
      ]
     },
     "execution_count": 24,
     "metadata": {},
     "output_type": "execute_result"
    }
   ],
   "source": [
    "results_RQ1 = pd.DataFrame({'': ['Intercept','Coefficient'],\n",
    "                        'Simple Linear Regression': [reg_H1.intercept_, reg_H1.coef_.round(5)]})\n",
    "\n",
    "results_RQ1"
   ]
  },
  {
   "attachments": {},
   "cell_type": "markdown",
   "metadata": {},
   "source": [
    "**Regression equation**: The intercept, 163,02, is the average predicted Productivity that we assume if the Ø-working hours is 0. To find the average Productivity with Ø-working hours, we simply plug in Ø-working hours=1 to obtain 163,02 - 0,06613 * 1 = 162,95.\n",
    "\n"
   ]
  },
  {
   "attachments": {},
   "cell_type": "markdown",
   "metadata": {},
   "source": [
    "Prediction for our test data"
   ]
  },
  {
   "cell_type": "code",
   "execution_count": 25,
   "metadata": {},
   "outputs": [],
   "source": [
    "y_pred_H1 = reg_H1.predict(X_test_H1)"
   ]
  },
  {
   "attachments": {},
   "cell_type": "markdown",
   "metadata": {},
   "source": [
    "Result table of simple linear regression:"
   ]
  },
  {
   "cell_type": "code",
   "execution_count": 26,
   "metadata": {},
   "outputs": [
    {
     "data": {
      "text/html": [
       "<div>\n",
       "<style scoped>\n",
       "    .dataframe tbody tr th:only-of-type {\n",
       "        vertical-align: middle;\n",
       "    }\n",
       "\n",
       "    .dataframe tbody tr th {\n",
       "        vertical-align: top;\n",
       "    }\n",
       "\n",
       "    .dataframe thead th {\n",
       "        text-align: right;\n",
       "    }\n",
       "</style>\n",
       "<table border=\"1\" class=\"dataframe\">\n",
       "  <thead>\n",
       "    <tr style=\"text-align: right;\">\n",
       "      <th></th>\n",
       "      <th></th>\n",
       "      <th>Simple Linear Regression</th>\n",
       "    </tr>\n",
       "  </thead>\n",
       "  <tbody>\n",
       "    <tr>\n",
       "      <th>0</th>\n",
       "      <td>R²</td>\n",
       "      <td>0.51931</td>\n",
       "    </tr>\n",
       "    <tr>\n",
       "      <th>1</th>\n",
       "      <td>Adjusted R²</td>\n",
       "      <td>0.47926</td>\n",
       "    </tr>\n",
       "    <tr>\n",
       "      <th>2</th>\n",
       "      <td>MSE</td>\n",
       "      <td>195.77492</td>\n",
       "    </tr>\n",
       "    <tr>\n",
       "      <th>3</th>\n",
       "      <td>RMSE</td>\n",
       "      <td>13.99196</td>\n",
       "    </tr>\n",
       "    <tr>\n",
       "      <th>4</th>\n",
       "      <td>MAE</td>\n",
       "      <td>11.17991</td>\n",
       "    </tr>\n",
       "  </tbody>\n",
       "</table>\n",
       "</div>"
      ],
      "text/plain": [
       "                Simple Linear Regression\n",
       "0           R²                   0.51931\n",
       "1  Adjusted R²                   0.47926\n",
       "2          MSE                 195.77492\n",
       "3         RMSE                  13.99196\n",
       "4          MAE                  11.17991"
      ]
     },
     "execution_count": 26,
     "metadata": {},
     "output_type": "execute_result"
    }
   ],
   "source": [
    "results_SLR = pd.DataFrame({'': ['R²','Adjusted R²','MSE','RMSE','MAE'],\n",
    "                        'Simple Linear Regression': [(r2_score(y_test_H1, y_pred_H1).round(5)),\n",
    "                        ((1-(1-r2_score(y_test_H1, y_pred_H1))*((len(X_test_H1)-1)/(len(X_test_H1)-len(X_test_H1.columns)-1))).round(5)),\n",
    "                        (mean_squared_error(y_test_H1, y_pred_H1).round(5)),\n",
    "                        (mean_squared_error(y_test_H1, y_pred_H1, squared=False).round(5)),\n",
    "                        (mean_absolute_error(y_test_H1, y_pred_H1).round(5))]})\n",
    "\n",
    "results_SLR"
   ]
  },
  {
   "attachments": {},
   "cell_type": "markdown",
   "metadata": {},
   "source": [
    "Model diagnostics:"
   ]
  },
  {
   "cell_type": "code",
   "execution_count": 27,
   "metadata": {},
   "outputs": [],
   "source": [
    "# Additional function for OLS <- this function will be rolled back after using the OLS function\n",
    "df.columns = [c.replace(' ','_') for c in df.columns]"
   ]
  },
  {
   "cell_type": "code",
   "execution_count": 28,
   "metadata": {},
   "outputs": [],
   "source": [
    "Singlie_RM = ols(\"Productivity ~ Ø_working_hours\", data=df).fit()"
   ]
  },
  {
   "cell_type": "code",
   "execution_count": 29,
   "metadata": {},
   "outputs": [
    {
     "name": "stdout",
     "output_type": "stream",
     "text": [
      "                            OLS Regression Results                            \n",
      "==============================================================================\n",
      "Dep. Variable:           Productivity   R-squared:                       0.526\n",
      "Model:                            OLS   Adj. R-squared:                  0.519\n",
      "Method:                 Least Squares   F-statistic:                     71.03\n",
      "Date:                Mon, 16 Jan 2023   Prob (F-statistic):           5.69e-12\n",
      "Time:                        19:27:06   Log-Likelihood:                -277.66\n",
      "No. Observations:                  66   AIC:                             559.3\n",
      "Df Residuals:                      64   BIC:                             563.7\n",
      "Df Model:                           1                                         \n",
      "Covariance Type:            nonrobust                                         \n",
      "===================================================================================\n",
      "                      coef    std err          t      P>|t|      [0.025      0.975]\n",
      "-----------------------------------------------------------------------------------\n",
      "Intercept         162.6904     14.801     10.992      0.000     133.122     192.258\n",
      "Ø_working_hours    -0.0664      0.008     -8.428      0.000      -0.082      -0.051\n",
      "==============================================================================\n",
      "Omnibus:                       15.301   Durbin-Watson:                   1.974\n",
      "Prob(Omnibus):                  0.000   Jarque-Bera (JB):               23.925\n",
      "Skew:                           0.828   Prob(JB):                     6.38e-06\n",
      "Kurtosis:                       5.440   Cond. No.                     1.37e+04\n",
      "==============================================================================\n",
      "\n",
      "Notes:\n",
      "[1] Standard Errors assume that the covariance matrix of the errors is correctly specified.\n",
      "[2] The condition number is large, 1.37e+04. This might indicate that there are\n",
      "strong multicollinearity or other numerical problems.\n"
     ]
    }
   ],
   "source": [
    "# print regression results\n",
    "print(Singlie_RM.summary())"
   ]
  },
  {
   "attachments": {},
   "cell_type": "markdown",
   "metadata": {},
   "source": [
    "Here, the p-value is statistically significant. It shows strong proof against the null hypothesis because since the probability is less than 5%. Based on this, we accept the alternative hypothesis and dismiss the null hypothesis.\n",
    "\n",
    "Accepted hypothsis: There is a correlation between Ø-working hours and Productivity.\n",
    "\n",
    "However, the R² of this model is only about 52%. From this result we can also see that there is strong multicollinearity or other numerical problems in this model. In the case of multicollinearity, this reduces the accuracy of the estimated coefficients, which weakens the statistical power of our regression model. Therefore we might not be able to trust the p-values to identify independent variables that are statistically significant."
   ]
  },
  {
   "cell_type": "code",
   "execution_count": 30,
   "metadata": {},
   "outputs": [],
   "source": [
    "df.columns = [c.replace('_',' ') for c in df.columns]"
   ]
  },
  {
   "attachments": {},
   "cell_type": "markdown",
   "metadata": {},
   "source": [
    "## Evaluation of our second hypothese with using various models\n",
    "\n",
    "Our second hypothesis relates to more than one independent variable. Therefore, we will use two different models to evaluate this hypothesis: **Multiple linear regression & Lasso regression**\n",
    "\n",
    "Life satisfaction level of country is the most related factor (regarding all existing factors) in improving Productivity.\n",
    "\n",
    "\n",
    "\n",
    "### **Multiple linear regression**\n",
    "\n",
    "We extend the simple linear regression with additional predictor variables and stick to one response variable. We want to investigate the relationship between those predictor variables and the response variable. The selection of the variables for the model will be done by evaluating the adjusted R², as it describes the variation of outcome explained by a predictor."
   ]
  },
  {
   "cell_type": "markdown",
   "metadata": {},
   "source": [
    "### Variable lists"
   ]
  },
  {
   "attachments": {},
   "cell_type": "markdown",
   "metadata": {},
   "source": [
    "We define X and y variables:\n",
    "- X = \"Ø-working hours\", \"GDP\", \"Population\", \"Gini coefficient\", \"Life satisfaction\", \"Health expenditure\"\n",
    "- y = \"Productivity\""
   ]
  },
  {
   "cell_type": "code",
   "execution_count": 31,
   "metadata": {},
   "outputs": [],
   "source": [
    "# define outcome variable as y_label\n",
    "y_label = 'Productivity'\n",
    "\n",
    "# select features\n",
    "features = [\"Ø working hours\", \n",
    "            \"GDP\",\n",
    "            \"Population\",\n",
    "            \"Gini coefficient\",\n",
    "            \"Life satisfaction\",\n",
    "            \"Health expenditure\"\n",
    "            ]\n",
    "\n",
    "\n",
    "# create feature data\n",
    "X = df[features]\n",
    "\n",
    "# create response\n",
    "y = df[y_label]"
   ]
  },
  {
   "cell_type": "markdown",
   "metadata": {},
   "source": [
    "### Data splitting"
   ]
  },
  {
   "attachments": {},
   "cell_type": "markdown",
   "metadata": {},
   "source": [
    "We split our data into train and test data:"
   ]
  },
  {
   "cell_type": "code",
   "execution_count": 32,
   "metadata": {},
   "outputs": [],
   "source": [
    "X_train, X_test, y_train, y_test = train_test_split(X, y, \n",
    "                                                    test_size=0.2,\n",
    "                                                    random_state=42)"
   ]
  },
  {
   "cell_type": "code",
   "execution_count": 33,
   "metadata": {},
   "outputs": [],
   "source": [
    "# data exploration set\n",
    "df_train = pd.DataFrame(X_train.copy())\n",
    "df_train = df_train.join(pd.DataFrame(y_train))"
   ]
  },
  {
   "cell_type": "markdown",
   "metadata": {},
   "source": [
    "## Analysis"
   ]
  },
  {
   "cell_type": "markdown",
   "metadata": {},
   "source": [
    "### Descriptive statistics"
   ]
  },
  {
   "attachments": {},
   "cell_type": "markdown",
   "metadata": {},
   "source": [
    "Descriptive statistics of our training data:"
   ]
  },
  {
   "cell_type": "code",
   "execution_count": 34,
   "metadata": {},
   "outputs": [
    {
     "data": {
      "text/html": [
       "<div>\n",
       "<style scoped>\n",
       "    .dataframe tbody tr th:only-of-type {\n",
       "        vertical-align: middle;\n",
       "    }\n",
       "\n",
       "    .dataframe tbody tr th {\n",
       "        vertical-align: top;\n",
       "    }\n",
       "\n",
       "    .dataframe thead th {\n",
       "        text-align: right;\n",
       "    }\n",
       "</style>\n",
       "<table border=\"1\" class=\"dataframe\">\n",
       "  <thead>\n",
       "    <tr style=\"text-align: right;\">\n",
       "      <th></th>\n",
       "      <th>count</th>\n",
       "      <th>mean</th>\n",
       "      <th>std</th>\n",
       "      <th>min</th>\n",
       "      <th>25%</th>\n",
       "      <th>50%</th>\n",
       "      <th>75%</th>\n",
       "      <th>max</th>\n",
       "    </tr>\n",
       "  </thead>\n",
       "  <tbody>\n",
       "    <tr>\n",
       "      <th>Ø working hours</th>\n",
       "      <td>52.0</td>\n",
       "      <td>1.861424e+03</td>\n",
       "      <td>2.693280e+02</td>\n",
       "      <td>1353.886800</td>\n",
       "      <td>1.658233e+03</td>\n",
       "      <td>1.844341e+03</td>\n",
       "      <td>2.031379e+03</td>\n",
       "      <td>2.455551e+03</td>\n",
       "    </tr>\n",
       "    <tr>\n",
       "      <th>GDP</th>\n",
       "      <td>52.0</td>\n",
       "      <td>3.399115e+04</td>\n",
       "      <td>2.126770e+04</td>\n",
       "      <td>3950.930000</td>\n",
       "      <td>1.837127e+04</td>\n",
       "      <td>3.070581e+04</td>\n",
       "      <td>4.625722e+04</td>\n",
       "      <td>9.059755e+04</td>\n",
       "    </tr>\n",
       "    <tr>\n",
       "      <th>Population</th>\n",
       "      <td>52.0</td>\n",
       "      <td>9.095150e+07</td>\n",
       "      <td>2.667830e+08</td>\n",
       "      <td>343641.000000</td>\n",
       "      <td>5.700403e+06</td>\n",
       "      <td>1.626382e+07</td>\n",
       "      <td>5.337656e+07</td>\n",
       "      <td>1.410276e+09</td>\n",
       "    </tr>\n",
       "    <tr>\n",
       "      <th>Gini coefficient</th>\n",
       "      <td>52.0</td>\n",
       "      <td>3.358921e-01</td>\n",
       "      <td>5.104864e-02</td>\n",
       "      <td>0.232378</td>\n",
       "      <td>3.052685e-01</td>\n",
       "      <td>3.407793e-01</td>\n",
       "      <td>3.566471e-01</td>\n",
       "      <td>4.971548e-01</td>\n",
       "    </tr>\n",
       "    <tr>\n",
       "      <th>Life satisfaction</th>\n",
       "      <td>52.0</td>\n",
       "      <td>6.190933e+00</td>\n",
       "      <td>9.956634e-01</td>\n",
       "      <td>3.248770</td>\n",
       "      <td>5.604619e+00</td>\n",
       "      <td>6.242094e+00</td>\n",
       "      <td>7.053873e+00</td>\n",
       "      <td>7.780348e+00</td>\n",
       "    </tr>\n",
       "    <tr>\n",
       "      <th>Health expenditure</th>\n",
       "      <td>52.0</td>\n",
       "      <td>2.806152e+03</td>\n",
       "      <td>2.066024e+03</td>\n",
       "      <td>101.180000</td>\n",
       "      <td>1.085205e+03</td>\n",
       "      <td>2.236172e+03</td>\n",
       "      <td>4.477472e+03</td>\n",
       "      <td>7.989640e+03</td>\n",
       "    </tr>\n",
       "    <tr>\n",
       "      <th>Productivity</th>\n",
       "      <td>52.0</td>\n",
       "      <td>3.992967e+01</td>\n",
       "      <td>2.461746e+01</td>\n",
       "      <td>3.022650</td>\n",
       "      <td>2.027895e+01</td>\n",
       "      <td>3.719092e+01</td>\n",
       "      <td>5.691295e+01</td>\n",
       "      <td>1.094883e+02</td>\n",
       "    </tr>\n",
       "  </tbody>\n",
       "</table>\n",
       "</div>"
      ],
      "text/plain": [
       "                    count          mean           std            min  \\\n",
       "Ø working hours      52.0  1.861424e+03  2.693280e+02    1353.886800   \n",
       "GDP                  52.0  3.399115e+04  2.126770e+04    3950.930000   \n",
       "Population           52.0  9.095150e+07  2.667830e+08  343641.000000   \n",
       "Gini coefficient     52.0  3.358921e-01  5.104864e-02       0.232378   \n",
       "Life satisfaction    52.0  6.190933e+00  9.956634e-01       3.248770   \n",
       "Health expenditure   52.0  2.806152e+03  2.066024e+03     101.180000   \n",
       "Productivity         52.0  3.992967e+01  2.461746e+01       3.022650   \n",
       "\n",
       "                             25%           50%           75%           max  \n",
       "Ø working hours     1.658233e+03  1.844341e+03  2.031379e+03  2.455551e+03  \n",
       "GDP                 1.837127e+04  3.070581e+04  4.625722e+04  9.059755e+04  \n",
       "Population          5.700403e+06  1.626382e+07  5.337656e+07  1.410276e+09  \n",
       "Gini coefficient    3.052685e-01  3.407793e-01  3.566471e-01  4.971548e-01  \n",
       "Life satisfaction   5.604619e+00  6.242094e+00  7.053873e+00  7.780348e+00  \n",
       "Health expenditure  1.085205e+03  2.236172e+03  4.477472e+03  7.989640e+03  \n",
       "Productivity        2.027895e+01  3.719092e+01  5.691295e+01  1.094883e+02  "
      ]
     },
     "execution_count": 34,
     "metadata": {},
     "output_type": "execute_result"
    }
   ],
   "source": [
    "df_train.describe().T"
   ]
  },
  {
   "cell_type": "markdown",
   "metadata": {},
   "source": [
    "### Exploratory data analysis"
   ]
  },
  {
   "attachments": {},
   "cell_type": "markdown",
   "metadata": {},
   "source": [
    "We can see the relationship between variables by using pairplot and correlation table."
   ]
  },
  {
   "cell_type": "code",
   "execution_count": 35,
   "metadata": {},
   "outputs": [
    {
     "name": "stderr",
     "output_type": "stream",
     "text": [
      "c:\\Users\\ji_so\\anaconda3\\envs\\stats\\lib\\site-packages\\seaborn\\axisgrid.py:2095: UserWarning: The `size` parameter has been renamed to `height`; please update your code.\n",
      "  warnings.warn(msg, UserWarning)\n"
     ]
    },
    {
     "data": {
      "text/plain": [
       "<seaborn.axisgrid.PairGrid at 0x186bf2fcd60>"
      ]
     },
     "execution_count": 35,
     "metadata": {},
     "output_type": "execute_result"
    },
    {
     "data": {
      "image/png": "[encoded data removed]",
      "text/plain": [
       "<Figure size 1050x1050 with 56 Axes>"
      ]
     },
     "metadata": {},
     "output_type": "display_data"
    }
   ],
   "source": [
    "sns.pairplot(df_train, size=1.5)"
   ]
  },
  {
   "attachments": {},
   "cell_type": "markdown",
   "metadata": {},
   "source": [
    "Findings:\n",
    "\n",
    "- Positive association between GDP and Productivity, between Life satisfaction and Productivity as well as between Health expenditure and Productivity.\n",
    "- Negative association between Ø-working hours and Productivity as well as between Gini coefficient and Productivity.\n",
    "- Relationships seem to be linear in all cases."
   ]
  },
  {
   "cell_type": "markdown",
   "metadata": {},
   "source": [
    "### Relationships"
   ]
  },
  {
   "attachments": {},
   "cell_type": "markdown",
   "metadata": {},
   "source": [
    "We can inspect correlation between outcome and possible predictors:"
   ]
  },
  {
   "cell_type": "code",
   "execution_count": 36,
   "metadata": {},
   "outputs": [
    {
     "data": {
      "text/plain": [
       "Productivity          1.000000\n",
       "GDP                   0.933883\n",
       "Health expenditure    0.932841\n",
       "Life satisfaction     0.779188\n",
       "Population           -0.323232\n",
       "Gini coefficient     -0.459000\n",
       "Ø working hours      -0.723444\n",
       "Name: Productivity, dtype: float64"
      ]
     },
     "execution_count": 36,
     "metadata": {},
     "output_type": "execute_result"
    }
   ],
   "source": [
    "corr = df_train.corr()\n",
    "corr[y_label].sort_values(ascending=False)"
   ]
  },
  {
   "attachments": {},
   "cell_type": "markdown",
   "metadata": {},
   "source": [
    "We can take a look at all correlations:"
   ]
  },
  {
   "cell_type": "code",
   "execution_count": 37,
   "metadata": {},
   "outputs": [
    {
     "data": {
      "text/html": [
       "<style type=\"text/css\">\n",
       "#T_c4934_row0_col0, #T_c4934_row1_col1, #T_c4934_row2_col2, #T_c4934_row3_col3, #T_c4934_row4_col4, #T_c4934_row5_col5, #T_c4934_row6_col6 {\n",
       "  background-color: #08306b;\n",
       "  color: #f1f1f1;\n",
       "}\n",
       "#T_c4934_row0_col1, #T_c4934_row0_col4, #T_c4934_row0_col5, #T_c4934_row0_col6, #T_c4934_row4_col2, #T_c4934_row5_col0, #T_c4934_row5_col3 {\n",
       "  background-color: #f7fbff;\n",
       "  color: #000000;\n",
       "}\n",
       "#T_c4934_row0_col2 {\n",
       "  background-color: #69add5;\n",
       "  color: #f1f1f1;\n",
       "}\n",
       "#T_c4934_row0_col3 {\n",
       "  background-color: #66abd4;\n",
       "  color: #f1f1f1;\n",
       "}\n",
       "#T_c4934_row1_col0, #T_c4934_row6_col2 {\n",
       "  background-color: #e3eef8;\n",
       "  color: #000000;\n",
       "}\n",
       "#T_c4934_row1_col2, #T_c4934_row5_col2 {\n",
       "  background-color: #e0ecf8;\n",
       "  color: #000000;\n",
       "}\n",
       "#T_c4934_row1_col3 {\n",
       "  background-color: #ebf3fb;\n",
       "  color: #000000;\n",
       "}\n",
       "#T_c4934_row1_col4 {\n",
       "  background-color: #0d57a1;\n",
       "  color: #f1f1f1;\n",
       "}\n",
       "#T_c4934_row1_col5 {\n",
       "  background-color: #084184;\n",
       "  color: #f1f1f1;\n",
       "}\n",
       "#T_c4934_row1_col6, #T_c4934_row5_col6, #T_c4934_row6_col5 {\n",
       "  background-color: #083979;\n",
       "  color: #f1f1f1;\n",
       "}\n",
       "#T_c4934_row2_col0 {\n",
       "  background-color: #4f9bcb;\n",
       "  color: #f1f1f1;\n",
       "}\n",
       "#T_c4934_row2_col1 {\n",
       "  background-color: #d7e6f5;\n",
       "  color: #000000;\n",
       "}\n",
       "#T_c4934_row2_col3, #T_c4934_row3_col2 {\n",
       "  background-color: #7ab6d9;\n",
       "  color: #000000;\n",
       "}\n",
       "#T_c4934_row2_col4, #T_c4934_row3_col1 {\n",
       "  background-color: #e1edf8;\n",
       "  color: #000000;\n",
       "}\n",
       "#T_c4934_row2_col5 {\n",
       "  background-color: #c6dbef;\n",
       "  color: #000000;\n",
       "}\n",
       "#T_c4934_row2_col6 {\n",
       "  background-color: #caddf0;\n",
       "  color: #000000;\n",
       "}\n",
       "#T_c4934_row3_col0 {\n",
       "  background-color: #4e9acb;\n",
       "  color: #f1f1f1;\n",
       "}\n",
       "#T_c4934_row3_col4 {\n",
       "  background-color: #d3e4f3;\n",
       "  color: #000000;\n",
       "}\n",
       "#T_c4934_row3_col5, #T_c4934_row3_col6 {\n",
       "  background-color: #d9e7f5;\n",
       "  color: #000000;\n",
       "}\n",
       "#T_c4934_row4_col0 {\n",
       "  background-color: #eef5fc;\n",
       "  color: #000000;\n",
       "}\n",
       "#T_c4934_row4_col1 {\n",
       "  background-color: #0e59a2;\n",
       "  color: #f1f1f1;\n",
       "}\n",
       "#T_c4934_row4_col3 {\n",
       "  background-color: #e7f1fa;\n",
       "  color: #000000;\n",
       "}\n",
       "#T_c4934_row4_col5 {\n",
       "  background-color: #084a91;\n",
       "  color: #f1f1f1;\n",
       "}\n",
       "#T_c4934_row4_col6 {\n",
       "  background-color: #08519c;\n",
       "  color: #f1f1f1;\n",
       "}\n",
       "#T_c4934_row5_col1 {\n",
       "  background-color: #084387;\n",
       "  color: #f1f1f1;\n",
       "}\n",
       "#T_c4934_row5_col4 {\n",
       "  background-color: #084b93;\n",
       "  color: #f1f1f1;\n",
       "}\n",
       "#T_c4934_row6_col0, #T_c4934_row6_col3 {\n",
       "  background-color: #f5fafe;\n",
       "  color: #000000;\n",
       "}\n",
       "#T_c4934_row6_col1 {\n",
       "  background-color: #083a7a;\n",
       "  color: #f1f1f1;\n",
       "}\n",
       "#T_c4934_row6_col4 {\n",
       "  background-color: #0a539e;\n",
       "  color: #f1f1f1;\n",
       "}\n",
       "</style>\n",
       "<table id=\"T_c4934\">\n",
       "  <thead>\n",
       "    <tr>\n",
       "      <th class=\"blank level0\" >&nbsp;</th>\n",
       "      <th id=\"T_c4934_level0_col0\" class=\"col_heading level0 col0\" >Ø working hours</th>\n",
       "      <th id=\"T_c4934_level0_col1\" class=\"col_heading level0 col1\" >GDP</th>\n",
       "      <th id=\"T_c4934_level0_col2\" class=\"col_heading level0 col2\" >Population</th>\n",
       "      <th id=\"T_c4934_level0_col3\" class=\"col_heading level0 col3\" >Gini coefficient</th>\n",
       "      <th id=\"T_c4934_level0_col4\" class=\"col_heading level0 col4\" >Life satisfaction</th>\n",
       "      <th id=\"T_c4934_level0_col5\" class=\"col_heading level0 col5\" >Health expenditure</th>\n",
       "      <th id=\"T_c4934_level0_col6\" class=\"col_heading level0 col6\" >Productivity</th>\n",
       "    </tr>\n",
       "  </thead>\n",
       "  <tbody>\n",
       "    <tr>\n",
       "      <th id=\"T_c4934_level0_row0\" class=\"row_heading level0 row0\" >Ø working hours</th>\n",
       "      <td id=\"T_c4934_row0_col0\" class=\"data row0 col0\" >1.000000</td>\n",
       "      <td id=\"T_c4934_row0_col1\" class=\"data row0 col1\" >-0.560226</td>\n",
       "      <td id=\"T_c4934_row0_col2\" class=\"data row0 col2\" >0.271971</td>\n",
       "      <td id=\"T_c4934_row0_col3\" class=\"data row0 col3\" >0.282679</td>\n",
       "      <td id=\"T_c4934_row0_col4\" class=\"data row0 col4\" >-0.660058</td>\n",
       "      <td id=\"T_c4934_row0_col5\" class=\"data row0 col5\" >-0.743732</td>\n",
       "      <td id=\"T_c4934_row0_col6\" class=\"data row0 col6\" >-0.723444</td>\n",
       "    </tr>\n",
       "    <tr>\n",
       "      <th id=\"T_c4934_level0_row1\" class=\"row_heading level0 row1\" >GDP</th>\n",
       "      <td id=\"T_c4934_row1_col0\" class=\"data row1 col0\" >-0.560226</td>\n",
       "      <td id=\"T_c4934_row1_col1\" class=\"data row1 col1\" >1.000000</td>\n",
       "      <td id=\"T_c4934_row1_col2\" class=\"data row1 col2\" >-0.306050</td>\n",
       "      <td id=\"T_c4934_row1_col3\" class=\"data row1 col3\" >-0.384522</td>\n",
       "      <td id=\"T_c4934_row1_col4\" class=\"data row1 col4\" >0.751129</td>\n",
       "      <td id=\"T_c4934_row1_col5\" class=\"data row1 col5\" >0.885845</td>\n",
       "      <td id=\"T_c4934_row1_col6\" class=\"data row1 col6\" >0.933883</td>\n",
       "    </tr>\n",
       "    <tr>\n",
       "      <th id=\"T_c4934_level0_row2\" class=\"row_heading level0 row2\" >Population</th>\n",
       "      <td id=\"T_c4934_row2_col0\" class=\"data row2 col0\" >0.271971</td>\n",
       "      <td id=\"T_c4934_row2_col1\" class=\"data row2 col1\" >-0.306050</td>\n",
       "      <td id=\"T_c4934_row2_col2\" class=\"data row2 col2\" >1.000000</td>\n",
       "      <td id=\"T_c4934_row2_col3\" class=\"data row2 col3\" >0.207679</td>\n",
       "      <td id=\"T_c4934_row2_col4\" class=\"data row2 col4\" >-0.476370</td>\n",
       "      <td id=\"T_c4934_row2_col5\" class=\"data row2 col5\" >-0.304074</td>\n",
       "      <td id=\"T_c4934_row2_col6\" class=\"data row2 col6\" >-0.323232</td>\n",
       "    </tr>\n",
       "    <tr>\n",
       "      <th id=\"T_c4934_level0_row3\" class=\"row_heading level0 row3\" >Gini coefficient</th>\n",
       "      <td id=\"T_c4934_row3_col0\" class=\"data row3 col0\" >0.282679</td>\n",
       "      <td id=\"T_c4934_row3_col1\" class=\"data row3 col1\" >-0.384522</td>\n",
       "      <td id=\"T_c4934_row3_col2\" class=\"data row3 col2\" >0.207679</td>\n",
       "      <td id=\"T_c4934_row3_col3\" class=\"data row3 col3\" >1.000000</td>\n",
       "      <td id=\"T_c4934_row3_col4\" class=\"data row3 col4\" >-0.356457</td>\n",
       "      <td id=\"T_c4934_row3_col5\" class=\"data row3 col5\" >-0.475925</td>\n",
       "      <td id=\"T_c4934_row3_col6\" class=\"data row3 col6\" >-0.459000</td>\n",
       "    </tr>\n",
       "    <tr>\n",
       "      <th id=\"T_c4934_level0_row4\" class=\"row_heading level0 row4\" >Life satisfaction</th>\n",
       "      <td id=\"T_c4934_row4_col0\" class=\"data row4 col0\" >-0.660058</td>\n",
       "      <td id=\"T_c4934_row4_col1\" class=\"data row4 col1\" >0.751129</td>\n",
       "      <td id=\"T_c4934_row4_col2\" class=\"data row4 col2\" >-0.476370</td>\n",
       "      <td id=\"T_c4934_row4_col3\" class=\"data row4 col3\" >-0.356457</td>\n",
       "      <td id=\"T_c4934_row4_col4\" class=\"data row4 col4\" >1.000000</td>\n",
       "      <td id=\"T_c4934_row4_col5\" class=\"data row4 col5\" >0.826173</td>\n",
       "      <td id=\"T_c4934_row4_col6\" class=\"data row4 col6\" >0.779188</td>\n",
       "    </tr>\n",
       "    <tr>\n",
       "      <th id=\"T_c4934_level0_row5\" class=\"row_heading level0 row5\" >Health expenditure</th>\n",
       "      <td id=\"T_c4934_row5_col0\" class=\"data row5 col0\" >-0.743732</td>\n",
       "      <td id=\"T_c4934_row5_col1\" class=\"data row5 col1\" >0.885845</td>\n",
       "      <td id=\"T_c4934_row5_col2\" class=\"data row5 col2\" >-0.304074</td>\n",
       "      <td id=\"T_c4934_row5_col3\" class=\"data row5 col3\" >-0.475925</td>\n",
       "      <td id=\"T_c4934_row5_col4\" class=\"data row5 col4\" >0.826173</td>\n",
       "      <td id=\"T_c4934_row5_col5\" class=\"data row5 col5\" >1.000000</td>\n",
       "      <td id=\"T_c4934_row5_col6\" class=\"data row5 col6\" >0.932841</td>\n",
       "    </tr>\n",
       "    <tr>\n",
       "      <th id=\"T_c4934_level0_row6\" class=\"row_heading level0 row6\" >Productivity</th>\n",
       "      <td id=\"T_c4934_row6_col0\" class=\"data row6 col0\" >-0.723444</td>\n",
       "      <td id=\"T_c4934_row6_col1\" class=\"data row6 col1\" >0.933883</td>\n",
       "      <td id=\"T_c4934_row6_col2\" class=\"data row6 col2\" >-0.323232</td>\n",
       "      <td id=\"T_c4934_row6_col3\" class=\"data row6 col3\" >-0.459000</td>\n",
       "      <td id=\"T_c4934_row6_col4\" class=\"data row6 col4\" >0.779188</td>\n",
       "      <td id=\"T_c4934_row6_col5\" class=\"data row6 col5\" >0.932841</td>\n",
       "      <td id=\"T_c4934_row6_col6\" class=\"data row6 col6\" >1.000000</td>\n",
       "    </tr>\n",
       "  </tbody>\n",
       "</table>\n"
      ],
      "text/plain": [
       "<pandas.io.formats.style.Styler at 0x186c18404f0>"
      ]
     },
     "execution_count": 37,
     "metadata": {},
     "output_type": "execute_result"
    }
   ],
   "source": [
    "corr.style.background_gradient(cmap='Blues')"
   ]
  },
  {
   "attachments": {},
   "cell_type": "markdown",
   "metadata": {},
   "source": [
    "## Multiple linear regression"
   ]
  },
  {
   "cell_type": "markdown",
   "metadata": {},
   "source": [
    "### Select model"
   ]
  },
  {
   "attachments": {},
   "cell_type": "markdown",
   "metadata": {},
   "source": [
    "Select the linear regression model:"
   ]
  },
  {
   "cell_type": "code",
   "execution_count": 38,
   "metadata": {},
   "outputs": [],
   "source": [
    "reg = LinearRegression()"
   ]
  },
  {
   "cell_type": "markdown",
   "metadata": {},
   "source": [
    "### Fit model"
   ]
  },
  {
   "attachments": {},
   "cell_type": "markdown",
   "metadata": {},
   "source": [
    "Fit the model to the complete training data:"
   ]
  },
  {
   "cell_type": "code",
   "execution_count": 39,
   "metadata": {},
   "outputs": [
    {
     "data": {
      "text/html": [
       "<style>#sk-container-id-2 {color: black;background-color: white;}#sk-container-id-2 pre{padding: 0;}#sk-container-id-2 div.sk-toggleable {background-color: white;}#sk-container-id-2 label.sk-toggleable__label {cursor: pointer;display: block;width: 100%;margin-bottom: 0;padding: 0.3em;box-sizing: border-box;text-align: center;}#sk-container-id-2 label.sk-toggleable__label-arrow:before {content: \"▸\";float: left;margin-right: 0.25em;color: #696969;}#sk-container-id-2 label.sk-toggleable__label-arrow:hover:before {color: black;}#sk-container-id-2 div.sk-estimator:hover label.sk-toggleable__label-arrow:before {color: black;}#sk-container-id-2 div.sk-toggleable__content {max-height: 0;max-width: 0;overflow: hidden;text-align: left;background-color: #f0f8ff;}#sk-container-id-2 div.sk-toggleable__content pre {margin: 0.2em;color: black;border-radius: 0.25em;background-color: #f0f8ff;}#sk-container-id-2 input.sk-toggleable__control:checked~div.sk-toggleable__content {max-height: 200px;max-width: 100%;overflow: auto;}#sk-container-id-2 input.sk-toggleable__control:checked~label.sk-toggleable__label-arrow:before {content: \"▾\";}#sk-container-id-2 div.sk-estimator input.sk-toggleable__control:checked~label.sk-toggleable__label {background-color: #d4ebff;}#sk-container-id-2 div.sk-label input.sk-toggleable__control:checked~label.sk-toggleable__label {background-color: #d4ebff;}#sk-container-id-2 input.sk-hidden--visually {border: 0;clip: rect(1px 1px 1px 1px);clip: rect(1px, 1px, 1px, 1px);height: 1px;margin: -1px;overflow: hidden;padding: 0;position: absolute;width: 1px;}#sk-container-id-2 div.sk-estimator {font-family: monospace;background-color: #f0f8ff;border: 1px dotted black;border-radius: 0.25em;box-sizing: border-box;margin-bottom: 0.5em;}#sk-container-id-2 div.sk-estimator:hover {background-color: #d4ebff;}#sk-container-id-2 div.sk-parallel-item::after {content: \"\";width: 100%;border-bottom: 1px solid gray;flex-grow: 1;}#sk-container-id-2 div.sk-label:hover label.sk-toggleable__label {background-color: #d4ebff;}#sk-container-id-2 div.sk-serial::before {content: \"\";position: absolute;border-left: 1px solid gray;box-sizing: border-box;top: 0;bottom: 0;left: 50%;z-index: 0;}#sk-container-id-2 div.sk-serial {display: flex;flex-direction: column;align-items: center;background-color: white;padding-right: 0.2em;padding-left: 0.2em;position: relative;}#sk-container-id-2 div.sk-item {position: relative;z-index: 1;}#sk-container-id-2 div.sk-parallel {display: flex;align-items: stretch;justify-content: center;background-color: white;position: relative;}#sk-container-id-2 div.sk-item::before, #sk-container-id-2 div.sk-parallel-item::before {content: \"\";position: absolute;border-left: 1px solid gray;box-sizing: border-box;top: 0;bottom: 0;left: 50%;z-index: -1;}#sk-container-id-2 div.sk-parallel-item {display: flex;flex-direction: column;z-index: 1;position: relative;background-color: white;}#sk-container-id-2 div.sk-parallel-item:first-child::after {align-self: flex-end;width: 50%;}#sk-container-id-2 div.sk-parallel-item:last-child::after {align-self: flex-start;width: 50%;}#sk-container-id-2 div.sk-parallel-item:only-child::after {width: 0;}#sk-container-id-2 div.sk-dashed-wrapped {border: 1px dashed gray;margin: 0 0.4em 0.5em 0.4em;box-sizing: border-box;padding-bottom: 0.4em;background-color: white;}#sk-container-id-2 div.sk-label label {font-family: monospace;font-weight: bold;display: inline-block;line-height: 1.2em;}#sk-container-id-2 div.sk-label-container {text-align: center;}#sk-container-id-2 div.sk-container {/* jupyter's `normalize.less` sets `[hidden] { display: none; }` but bootstrap.min.css set `[hidden] { display: none !important; }` so we also need the `!important` here to be able to override the default hidden behavior on the sphinx rendered scikit-learn.org. See: https://github.com/scikit-learn/scikit-learn/issues/21755 */display: inline-block !important;position: relative;}#sk-container-id-2 div.sk-text-repr-fallback {display: none;}</style><div id=\"sk-container-id-2\" class=\"sk-top-container\"><div class=\"sk-text-repr-fallback\"><pre>LinearRegression()</pre><b>In a Jupyter environment, please rerun this cell to show the HTML representation or trust the notebook. <br />On GitHub, the HTML representation is unable to render, please try loading this page with nbviewer.org.</b></div><div class=\"sk-container\" hidden><div class=\"sk-item\"><div class=\"sk-estimator sk-toggleable\"><input class=\"sk-toggleable__control sk-hidden--visually\" id=\"sk-estimator-id-2\" type=\"checkbox\" checked><label for=\"sk-estimator-id-2\" class=\"sk-toggleable__label sk-toggleable__label-arrow\">LinearRegression</label><div class=\"sk-toggleable__content\"><pre>LinearRegression()</pre></div></div></div></div></div>"
      ],
      "text/plain": [
       "LinearRegression()"
      ]
     },
     "execution_count": 39,
     "metadata": {},
     "output_type": "execute_result"
    }
   ],
   "source": [
    "reg.fit(X_train, y_train)"
   ]
  },
  {
   "attachments": {},
   "cell_type": "markdown",
   "metadata": {},
   "source": [
    "Intercept and slope coefficients:"
   ]
  },
  {
   "cell_type": "code",
   "execution_count": 40,
   "metadata": {},
   "outputs": [
    {
     "data": {
      "text/html": [
       "<div>\n",
       "<style scoped>\n",
       "    .dataframe tbody tr th:only-of-type {\n",
       "        vertical-align: middle;\n",
       "    }\n",
       "\n",
       "    .dataframe tbody tr th {\n",
       "        vertical-align: top;\n",
       "    }\n",
       "\n",
       "    .dataframe thead th {\n",
       "        text-align: right;\n",
       "    }\n",
       "</style>\n",
       "<table border=\"1\" class=\"dataframe\">\n",
       "  <thead>\n",
       "    <tr style=\"text-align: right;\">\n",
       "      <th></th>\n",
       "      <th>Name</th>\n",
       "      <th>Coefficient</th>\n",
       "    </tr>\n",
       "  </thead>\n",
       "  <tbody>\n",
       "    <tr>\n",
       "      <th>0</th>\n",
       "      <td>Intercept</td>\n",
       "      <td>61.98351</td>\n",
       "    </tr>\n",
       "    <tr>\n",
       "      <th>1</th>\n",
       "      <td>Ø working hours</td>\n",
       "      <td>-0.01960</td>\n",
       "    </tr>\n",
       "    <tr>\n",
       "      <th>2</th>\n",
       "      <td>GDP</td>\n",
       "      <td>0.00071</td>\n",
       "    </tr>\n",
       "    <tr>\n",
       "      <th>3</th>\n",
       "      <td>Population</td>\n",
       "      <td>-0.00000</td>\n",
       "    </tr>\n",
       "    <tr>\n",
       "      <th>4</th>\n",
       "      <td>Gini coefficient</td>\n",
       "      <td>-31.44424</td>\n",
       "    </tr>\n",
       "    <tr>\n",
       "      <th>5</th>\n",
       "      <td>Life satisfaction</td>\n",
       "      <td>-1.08263</td>\n",
       "    </tr>\n",
       "    <tr>\n",
       "      <th>6</th>\n",
       "      <td>Health expenditure</td>\n",
       "      <td>0.00278</td>\n",
       "    </tr>\n",
       "  </tbody>\n",
       "</table>\n",
       "</div>"
      ],
      "text/plain": [
       "                 Name  Coefficient\n",
       "0           Intercept     61.98351\n",
       "1     Ø working hours     -0.01960\n",
       "2                 GDP      0.00071\n",
       "3          Population     -0.00000\n",
       "4    Gini coefficient    -31.44424\n",
       "5   Life satisfaction     -1.08263\n",
       "6  Health expenditure      0.00278"
      ]
     },
     "execution_count": 40,
     "metadata": {},
     "output_type": "execute_result"
    }
   ],
   "source": [
    "intercept = pd.DataFrame({\n",
    "    \"Name\": [\"Intercept\"],\n",
    "    \"Coefficient\":[reg.intercept_]}\n",
    "    )\n",
    "\n",
    "slope = pd.DataFrame({\n",
    "    \"Name\": features,\n",
    "    \"Coefficient\": reg.coef_}\n",
    ")\n",
    "\n",
    "table = pd.concat([intercept, slope], ignore_index=True, sort=False)\n",
    "\n",
    "round(table, 5)"
   ]
  },
  {
   "attachments": {},
   "cell_type": "markdown",
   "metadata": {},
   "source": [
    "We assumed that life satisfaction level of country is the most related factor (regarding all existing factors) in improving Productivity. We found that there is a correlation between life satisfaction and Productivity. However, we cannot explain that this variable is the most related factor, since the absolute value of the coefficient of the variable \"Gini coefficient\" is much larger than the life satisfaction coefficient."
   ]
  },
  {
   "attachments": {},
   "cell_type": "markdown",
   "metadata": {},
   "source": [
    "### Evaluation on data set"
   ]
  },
  {
   "attachments": {},
   "cell_type": "markdown",
   "metadata": {},
   "source": [
    "Make predictions on the data:"
   ]
  },
  {
   "cell_type": "code",
   "execution_count": 41,
   "metadata": {},
   "outputs": [],
   "source": [
    "y_pred_data = reg.predict(X)"
   ]
  },
  {
   "attachments": {},
   "cell_type": "markdown",
   "metadata": {},
   "source": [
    "Summary of evaluation on data set:"
   ]
  },
  {
   "cell_type": "code",
   "execution_count": 42,
   "metadata": {},
   "outputs": [
    {
     "data": {
      "text/html": [
       "<div>\n",
       "<style scoped>\n",
       "    .dataframe tbody tr th:only-of-type {\n",
       "        vertical-align: middle;\n",
       "    }\n",
       "\n",
       "    .dataframe tbody tr th {\n",
       "        vertical-align: top;\n",
       "    }\n",
       "\n",
       "    .dataframe thead th {\n",
       "        text-align: right;\n",
       "    }\n",
       "</style>\n",
       "<table border=\"1\" class=\"dataframe\">\n",
       "  <thead>\n",
       "    <tr style=\"text-align: right;\">\n",
       "      <th></th>\n",
       "      <th></th>\n",
       "      <th>Multiple Linear Regression</th>\n",
       "    </tr>\n",
       "  </thead>\n",
       "  <tbody>\n",
       "    <tr>\n",
       "      <th>0</th>\n",
       "      <td>R²</td>\n",
       "      <td>0.93656</td>\n",
       "    </tr>\n",
       "    <tr>\n",
       "      <th>1</th>\n",
       "      <td>Adjusted R²</td>\n",
       "      <td>0.93011</td>\n",
       "    </tr>\n",
       "    <tr>\n",
       "      <th>2</th>\n",
       "      <td>MSE</td>\n",
       "      <td>35.34075</td>\n",
       "    </tr>\n",
       "    <tr>\n",
       "      <th>3</th>\n",
       "      <td>RMSE</td>\n",
       "      <td>5.94481</td>\n",
       "    </tr>\n",
       "    <tr>\n",
       "      <th>4</th>\n",
       "      <td>MAE</td>\n",
       "      <td>3.99093</td>\n",
       "    </tr>\n",
       "  </tbody>\n",
       "</table>\n",
       "</div>"
      ],
      "text/plain": [
       "                Multiple Linear Regression\n",
       "0           R²                     0.93656\n",
       "1  Adjusted R²                     0.93011\n",
       "2          MSE                    35.34075\n",
       "3         RMSE                     5.94481\n",
       "4          MAE                     3.99093"
      ]
     },
     "execution_count": 42,
     "metadata": {},
     "output_type": "execute_result"
    }
   ],
   "source": [
    "results_MLR = pd.DataFrame({'': ['R²','Adjusted R²','MSE','RMSE','MAE'],\n",
    "                        'Multiple Linear Regression': [(r2_score(y, y_pred_data).round(5)),\n",
    "                        ((1-(1-r2_score(y, y_pred_data))*((len(X)-1)/(len(X)-len(X.columns)-1))).round(5)),\n",
    "                        (mean_squared_error(y, y_pred_data).round(5)),\n",
    "                        (mean_squared_error(y, y_pred_data, squared=False).round(5)),\n",
    "                        (mean_absolute_error(y, y_pred_data).round(5))]})\n",
    "\n",
    "results_MLR"
   ]
  },
  {
   "cell_type": "markdown",
   "metadata": {},
   "source": [
    "### Evaluation on test set"
   ]
  },
  {
   "attachments": {},
   "cell_type": "markdown",
   "metadata": {},
   "source": [
    "Make predictions on the test set:"
   ]
  },
  {
   "cell_type": "code",
   "execution_count": 43,
   "metadata": {},
   "outputs": [],
   "source": [
    "# obtain predictions\n",
    "y_pred_test = reg.predict(X_test)"
   ]
  },
  {
   "cell_type": "code",
   "execution_count": 44,
   "metadata": {},
   "outputs": [
    {
     "data": {
      "text/html": [
       "<div>\n",
       "<style scoped>\n",
       "    .dataframe tbody tr th:only-of-type {\n",
       "        vertical-align: middle;\n",
       "    }\n",
       "\n",
       "    .dataframe tbody tr th {\n",
       "        vertical-align: top;\n",
       "    }\n",
       "\n",
       "    .dataframe thead th {\n",
       "        text-align: right;\n",
       "    }\n",
       "</style>\n",
       "<table border=\"1\" class=\"dataframe\">\n",
       "  <thead>\n",
       "    <tr style=\"text-align: right;\">\n",
       "      <th></th>\n",
       "      <th></th>\n",
       "      <th>Multiple Linear Regression</th>\n",
       "    </tr>\n",
       "  </thead>\n",
       "  <tbody>\n",
       "    <tr>\n",
       "      <th>0</th>\n",
       "      <td>R²</td>\n",
       "      <td>0.89788</td>\n",
       "    </tr>\n",
       "    <tr>\n",
       "      <th>1</th>\n",
       "      <td>Adjusted R²</td>\n",
       "      <td>0.81035</td>\n",
       "    </tr>\n",
       "    <tr>\n",
       "      <th>2</th>\n",
       "      <td>MSE</td>\n",
       "      <td>41.59040</td>\n",
       "    </tr>\n",
       "    <tr>\n",
       "      <th>3</th>\n",
       "      <td>RMSE</td>\n",
       "      <td>6.44906</td>\n",
       "    </tr>\n",
       "    <tr>\n",
       "      <th>4</th>\n",
       "      <td>MAE</td>\n",
       "      <td>4.16722</td>\n",
       "    </tr>\n",
       "  </tbody>\n",
       "</table>\n",
       "</div>"
      ],
      "text/plain": [
       "                Multiple Linear Regression\n",
       "0           R²                     0.89788\n",
       "1  Adjusted R²                     0.81035\n",
       "2          MSE                    41.59040\n",
       "3         RMSE                     6.44906\n",
       "4          MAE                     4.16722"
      ]
     },
     "execution_count": 44,
     "metadata": {},
     "output_type": "execute_result"
    }
   ],
   "source": [
    "results_MLR_test = pd.DataFrame({'': ['R²','Adjusted R²','MSE','RMSE','MAE'],\n",
    "                        'Multiple Linear Regression': [(r2_score(y_test, y_pred_test).round(5)),\n",
    "                        ((1-(1-r2_score(y_test, y_pred_test))*((len(X_test)-1)/(len(X_test)-len(X_test.columns)-1))).round(5)),\n",
    "                        (mean_squared_error(y_test, y_pred_test).round(5)),\n",
    "                        (mean_squared_error(y_test, y_pred_test, squared=False).round(5)),\n",
    "                        (mean_absolute_error(y_test, y_pred_test).round(5))]})\n",
    "\n",
    "results_MLR_test"
   ]
  },
  {
   "attachments": {},
   "cell_type": "markdown",
   "metadata": {},
   "source": [
    "### Model diagnostics"
   ]
  },
  {
   "attachments": {},
   "cell_type": "markdown",
   "metadata": {},
   "source": [
    "Rename columns using underscores:"
   ]
  },
  {
   "cell_type": "code",
   "execution_count": 45,
   "metadata": {},
   "outputs": [],
   "source": [
    "df.columns = [c.replace(' ','_') for c in df.columns]"
   ]
  },
  {
   "attachments": {},
   "cell_type": "markdown",
   "metadata": {},
   "source": [
    "Estimate the model and save it as lm (linear model):"
   ]
  },
  {
   "cell_type": "code",
   "execution_count": 46,
   "metadata": {},
   "outputs": [],
   "source": [
    "lm = ols(\"Productivity ~ Ø_working_hours + GDP + Population + Gini_coefficient + Life_satisfaction + Health_expenditure\", data=df).fit()"
   ]
  },
  {
   "attachments": {},
   "cell_type": "markdown",
   "metadata": {},
   "source": [
    "Print regression results:"
   ]
  },
  {
   "cell_type": "code",
   "execution_count": 47,
   "metadata": {},
   "outputs": [
    {
     "name": "stdout",
     "output_type": "stream",
     "text": [
      "                            OLS Regression Results                            \n",
      "==============================================================================\n",
      "Dep. Variable:           Productivity   R-squared:                       0.938\n",
      "Model:                            OLS   Adj. R-squared:                  0.932\n",
      "Method:                 Least Squares   F-statistic:                     149.1\n",
      "Date:                Mon, 16 Jan 2023   Prob (F-statistic):           9.52e-34\n",
      "Time:                        19:27:22   Log-Likelihood:                -210.47\n",
      "No. Observations:                  66   AIC:                             434.9\n",
      "Df Residuals:                      59   BIC:                             450.3\n",
      "Df Model:                           6                                         \n",
      "Covariance Type:            nonrobust                                         \n",
      "======================================================================================\n",
      "                         coef    std err          t      P>|t|      [0.025      0.975]\n",
      "--------------------------------------------------------------------------------------\n",
      "Intercept             71.2118     13.134      5.422      0.000      44.931      97.492\n",
      "Ø_working_hours       -0.0231      0.004     -5.468      0.000      -0.032      -0.015\n",
      "GDP                    0.0007   8.03e-05      8.994      0.000       0.001       0.001\n",
      "Population         -1.695e-09   3.73e-09     -0.455      0.651   -9.15e-09    5.76e-09\n",
      "Gini_coefficient     -30.2290     14.688     -2.058      0.044     -59.621      -0.837\n",
      "Life_satisfaction     -1.3420      1.452     -0.924      0.359      -4.248       1.564\n",
      "Health_expenditure     0.0022      0.001      2.475      0.016       0.000       0.004\n",
      "==============================================================================\n",
      "Omnibus:                       23.461   Durbin-Watson:                   1.940\n",
      "Prob(Omnibus):                  0.000   Jarque-Bera (JB):               45.656\n",
      "Skew:                           1.174   Prob(JB):                     1.22e-10\n",
      "Kurtosis:                       6.330   Cond. No.                     5.30e+09\n",
      "==============================================================================\n",
      "\n",
      "Notes:\n",
      "[1] Standard Errors assume that the covariance matrix of the errors is correctly specified.\n",
      "[2] The condition number is large, 5.3e+09. This might indicate that there are\n",
      "strong multicollinearity or other numerical problems.\n"
     ]
    }
   ],
   "source": [
    "print(lm.summary())"
   ]
  },
  {
   "attachments": {},
   "cell_type": "markdown",
   "metadata": {},
   "source": [
    "The p-values of some variables are not statistically significant because their p-values are greater than 0.05. This result can be obtained if there are too many variables or if there is multicollinearity among the variables. Therefore, in the above model, we should consider removing variables that are not statistically significant.\n",
    "\n",
    "Compute regression with only variables which are statistically significant:"
   ]
  },
  {
   "cell_type": "code",
   "execution_count": 48,
   "metadata": {},
   "outputs": [],
   "source": [
    "# compute regression with only few variables\n",
    "lm2 = ols(\"Productivity ~ Ø_working_hours + GDP + Gini_coefficient + Health_expenditure\", data=df).fit()"
   ]
  },
  {
   "cell_type": "code",
   "execution_count": 49,
   "metadata": {},
   "outputs": [
    {
     "name": "stdout",
     "output_type": "stream",
     "text": [
      "                            OLS Regression Results                            \n",
      "==============================================================================\n",
      "Dep. Variable:           Productivity   R-squared:                       0.937\n",
      "Model:                            OLS   Adj. R-squared:                  0.933\n",
      "Method:                 Least Squares   F-statistic:                     227.7\n",
      "Date:                Mon, 16 Jan 2023   Prob (F-statistic):           6.38e-36\n",
      "Time:                        19:27:22   Log-Likelihood:                -210.95\n",
      "No. Observations:                  66   AIC:                             431.9\n",
      "Df Residuals:                      61   BIC:                             442.9\n",
      "Df Model:                           4                                         \n",
      "Covariance Type:            nonrobust                                         \n",
      "======================================================================================\n",
      "                         coef    std err          t      P>|t|      [0.025      0.975]\n",
      "--------------------------------------------------------------------------------------\n",
      "Intercept             63.4398      9.847      6.443      0.000      43.750      83.130\n",
      "Ø_working_hours       -0.0224      0.004     -5.513      0.000      -0.031      -0.014\n",
      "GDP                    0.0007   7.71e-05      9.213      0.000       0.001       0.001\n",
      "Gini_coefficient     -32.4247     14.307     -2.266      0.027     -61.034      -3.815\n",
      "Health_expenditure     0.0019      0.001      2.327      0.023       0.000       0.004\n",
      "==============================================================================\n",
      "Omnibus:                       27.094   Durbin-Watson:                   1.974\n",
      "Prob(Omnibus):                  0.000   Jarque-Bera (JB):               56.220\n",
      "Skew:                           1.342   Prob(JB):                     6.19e-13\n",
      "Kurtosis:                       6.639   Cond. No.                     7.91e+05\n",
      "==============================================================================\n",
      "\n",
      "Notes:\n",
      "[1] Standard Errors assume that the covariance matrix of the errors is correctly specified.\n",
      "[2] The condition number is large, 7.91e+05. This might indicate that there are\n",
      "strong multicollinearity or other numerical problems.\n"
     ]
    }
   ],
   "source": [
    "# print regression results\n",
    "print(lm2.summary())"
   ]
  },
  {
   "attachments": {},
   "cell_type": "markdown",
   "metadata": {},
   "source": [
    "See \"**Check for Multicollinearity**\" first before performing the next analysis:"
   ]
  },
  {
   "attachments": {},
   "cell_type": "markdown",
   "metadata": {},
   "source": [
    "The results tell us that even though we removed all statistically insignificant variables, the variables still show strong multicollinearity. This multicollinearity can make these p-values unreliable because it reduces the accuracy of the estimated coefficients and reduces the statistical power of the regression model. Therefore, considering the problem of multicollinearity, we need to test with other variables.\n",
    "- As Productivity is a figure calculated from Ø-working hours and GDP it could cause multicollinearity. Therefore, we will remove the possibly multicorrelated variables and subject the remaining variables to the next OLS."
   ]
  },
  {
   "attachments": {},
   "cell_type": "markdown",
   "metadata": {},
   "source": [
    "These remaining variables are also closely related to the second hypothesis:\n",
    "- Life_satisfaction: this variable relates to our second hypothesis\n",
    "- Gini_coefficient: this variable has the highest absolute coefficient value"
   ]
  },
  {
   "cell_type": "code",
   "execution_count": 50,
   "metadata": {},
   "outputs": [],
   "source": [
    "# compute regression with only few variables related to our second hypothesis\n",
    "# selected variables contain no multicollinearity problem (VIF)\n",
    "lm3 = ols(\"Productivity ~ Gini_coefficient + Life_satisfaction\", data=df).fit()"
   ]
  },
  {
   "cell_type": "code",
   "execution_count": 51,
   "metadata": {},
   "outputs": [
    {
     "name": "stdout",
     "output_type": "stream",
     "text": [
      "                            OLS Regression Results                            \n",
      "==============================================================================\n",
      "Dep. Variable:           Productivity   R-squared:                       0.605\n",
      "Model:                            OLS   Adj. R-squared:                  0.592\n",
      "Method:                 Least Squares   F-statistic:                     48.24\n",
      "Date:                Mon, 16 Jan 2023   Prob (F-statistic):           1.97e-13\n",
      "Time:                        19:27:22   Log-Likelihood:                -271.65\n",
      "No. Observations:                  66   AIC:                             549.3\n",
      "Df Residuals:                      63   BIC:                             555.9\n",
      "Df Model:                           2                                         \n",
      "Covariance Type:            nonrobust                                         \n",
      "=====================================================================================\n",
      "                        coef    std err          t      P>|t|      [0.025      0.975]\n",
      "-------------------------------------------------------------------------------------\n",
      "Intercept           -26.9548     18.957     -1.422      0.160     -64.837      10.928\n",
      "Gini_coefficient   -110.4328     33.779     -3.269      0.002    -177.935     -42.931\n",
      "Life_satisfaction    16.7845      2.018      8.317      0.000      12.752      20.818\n",
      "==============================================================================\n",
      "Omnibus:                        8.014   Durbin-Watson:                   2.050\n",
      "Prob(Omnibus):                  0.018   Jarque-Bera (JB):                7.332\n",
      "Skew:                           0.731   Prob(JB):                       0.0256\n",
      "Kurtosis:                       3.728   Cond. No.                         126.\n",
      "==============================================================================\n",
      "\n",
      "Notes:\n",
      "[1] Standard Errors assume that the covariance matrix of the errors is correctly specified.\n"
     ]
    }
   ],
   "source": [
    "# print regression results\n",
    "print(lm3.summary())"
   ]
  },
  {
   "attachments": {},
   "cell_type": "markdown",
   "metadata": {},
   "source": [
    "If we include only a few variables in our regression model that are directly related to our second hypothesis, we can observe that the p-value of these variables is statistically significant. The coefficient of these variables also explains the positive relationship between Life satisfaction and Productivity.\n",
    "\n",
    "As we already mention above, we can also notice that the absolute value of the coefficient of the variable \"Gini_coefficient\" is much larger than the Llife satisfaction coefficient. It indicates that the Life satisfaction is not the most related factor in improving Productivity."
   ]
  },
  {
   "attachments": {},
   "cell_type": "markdown",
   "metadata": {},
   "source": [
    "From a model point of view, this result shows us that we need to reduce the number of variables and consider the multicollinearity problem in order to evaluate our hypothesis correctly."
   ]
  },
  {
   "cell_type": "code",
   "execution_count": 52,
   "metadata": {},
   "outputs": [],
   "source": [
    "df.columns = [c.replace('_',' ') for c in df.columns]"
   ]
  },
  {
   "attachments": {},
   "cell_type": "markdown",
   "metadata": {},
   "source": [
    "## Check for multicollinearity"
   ]
  },
  {
   "attachments": {},
   "cell_type": "markdown",
   "metadata": {},
   "source": [
    "Inspect the correlation by using colormap:"
   ]
  },
  {
   "cell_type": "code",
   "execution_count": 53,
   "metadata": {},
   "outputs": [
    {
     "name": "stderr",
     "output_type": "stream",
     "text": [
      "C:\\Users\\ji_so\\AppData\\Local\\Temp\\ipykernel_41868\\2397920598.py:3: FutureWarning: The default value of numeric_only in DataFrame.corr is deprecated. In a future version, it will default to False. Select only valid columns or specify the value of numeric_only to silence this warning.\n",
      "  corr = df.corr()\n"
     ]
    },
    {
     "data": {
      "image/png": "[encoded data removed]",
      "text/plain": [
       "<Figure size 640x480 with 2 Axes>"
      ]
     },
     "metadata": {},
     "output_type": "display_data"
    }
   ],
   "source": [
    "# Inspect correlation\n",
    "# Calculate correlation using the default method ( \"pearson\")\n",
    "corr = df.corr()\n",
    "# optimize aesthetics: generate mask for removing duplicate / unnecessary info\n",
    "mask = np.zeros_like(corr, dtype=bool)\n",
    "mask[np.triu_indices_from(mask)] = True\n",
    "sns.set(font_scale=.7)\n",
    "# Generate a custom diverging colormap as indicator for correlations:\n",
    "cmap = sns.diverging_palette(220, 10, as_cmap=True)\n",
    "# Plot\n",
    "sns.heatmap(corr, mask=mask, cmap=cmap, annot=True,  square=True, annot_kws={\"size\": 8}, linewidth=0.1);"
   ]
  },
  {
   "attachments": {},
   "cell_type": "markdown",
   "metadata": {},
   "source": [
    "As we work with observational data, we expected a correlation among the predictor variables. The matrix shows numerous high values, especially for productivity and GDP or Productivity and Health expenditure. Hence we have a collinearity problem which could cause a reduction on the precision of our estimated coefficients. It is questionable if we can identify independent variables that are significant as we cannot trust the p-value of our regression model."
   ]
  },
  {
   "attachments": {},
   "cell_type": "markdown",
   "metadata": {},
   "source": [
    "### Variance inflation factor (VIF)\n",
    "- The smallest possible value for VIF is 1, which indicates the complete absence of collinearity.\n",
    "- VIF value that exceeds 5 indicates a problematic amount of collinearity and the parameter estimates will have large standard errors because of this."
   ]
  },
  {
   "cell_type": "code",
   "execution_count": 54,
   "metadata": {},
   "outputs": [
    {
     "data": {
      "text/html": [
       "<div>\n",
       "<style scoped>\n",
       "    .dataframe tbody tr th:only-of-type {\n",
       "        vertical-align: middle;\n",
       "    }\n",
       "\n",
       "    .dataframe tbody tr th {\n",
       "        vertical-align: top;\n",
       "    }\n",
       "\n",
       "    .dataframe thead th {\n",
       "        text-align: right;\n",
       "    }\n",
       "</style>\n",
       "<table border=\"1\" class=\"dataframe\">\n",
       "  <thead>\n",
       "    <tr style=\"text-align: right;\">\n",
       "      <th></th>\n",
       "      <th>VIF Factor</th>\n",
       "      <th>Feature</th>\n",
       "    </tr>\n",
       "  </thead>\n",
       "  <tbody>\n",
       "    <tr>\n",
       "      <th>0</th>\n",
       "      <td>295.25</td>\n",
       "      <td>const</td>\n",
       "    </tr>\n",
       "    <tr>\n",
       "      <th>1</th>\n",
       "      <td>2.03</td>\n",
       "      <td>Ø working hours</td>\n",
       "    </tr>\n",
       "    <tr>\n",
       "      <th>2</th>\n",
       "      <td>4.57</td>\n",
       "      <td>GDP</td>\n",
       "    </tr>\n",
       "    <tr>\n",
       "      <th>3</th>\n",
       "      <td>1.35</td>\n",
       "      <td>Population</td>\n",
       "    </tr>\n",
       "    <tr>\n",
       "      <th>4</th>\n",
       "      <td>1.19</td>\n",
       "      <td>Gini coefficient</td>\n",
       "    </tr>\n",
       "    <tr>\n",
       "      <th>5</th>\n",
       "      <td>3.25</td>\n",
       "      <td>Life satisfaction</td>\n",
       "    </tr>\n",
       "    <tr>\n",
       "      <th>6</th>\n",
       "      <td>6.28</td>\n",
       "      <td>Health expenditure</td>\n",
       "    </tr>\n",
       "  </tbody>\n",
       "</table>\n",
       "</div>"
      ],
      "text/plain": [
       "   VIF Factor             Feature\n",
       "0      295.25               const\n",
       "1        2.03     Ø working hours\n",
       "2        4.57                 GDP\n",
       "3        1.35          Population\n",
       "4        1.19    Gini coefficient\n",
       "5        3.25   Life satisfaction\n",
       "6        6.28  Health expenditure"
      ]
     },
     "execution_count": 54,
     "metadata": {},
     "output_type": "execute_result"
    }
   ],
   "source": [
    "# choose features and add constant\n",
    "features = add_constant(df[['Ø working hours', 'GDP', 'Population','Gini coefficient','Life satisfaction','Health expenditure']])\n",
    "# create empty DataFrame\n",
    "vif = pd.DataFrame()\n",
    "# calculate vif\n",
    "vif[\"VIF Factor\"] = [variance_inflation_factor(features.values, i) for i in range(features.shape[1])]\n",
    "# add feature names\n",
    "vif[\"Feature\"] = features.columns\n",
    "\n",
    "vif.round(2)"
   ]
  },
  {
   "attachments": {},
   "cell_type": "markdown",
   "metadata": {},
   "source": [
    "We have some problematic amount of collinearity in our data.\n",
    "- Health expenditure\n",
    "- GDP"
   ]
  },
  {
   "attachments": {},
   "cell_type": "markdown",
   "metadata": {},
   "source": [
    "## **Lasso regression model**"
   ]
  },
  {
   "attachments": {},
   "cell_type": "markdown",
   "metadata": {},
   "source": [
    "Lasso regression is based on the linear regression model, but additionally performs what is known as regularization, where additional information is introduced to prevent overfitting.\n",
    "As a result, we can fit a model containing all possible predictors and use lasso to perform variable selection using a technique that regularizes the coefficient estimates (it shrinks the coefficient estimates to zero). In particular, the minimization objective includes not only the residual sum of squares (RSS) - as in the OLS regression setting - but also the sum of the absolute values of coefficients."
   ]
  },
  {
   "attachments": {},
   "cell_type": "markdown",
   "metadata": {},
   "source": [
    "### Create labels and features"
   ]
  },
  {
   "attachments": {},
   "cell_type": "markdown",
   "metadata": {},
   "source": [
    "Since we will use the lasso algorithm from scikit learn, we need to encode our categorical features as numeric features (dummy variables):"
   ]
  },
  {
   "cell_type": "code",
   "execution_count": 55,
   "metadata": {},
   "outputs": [],
   "source": [
    "dummies = pd.get_dummies(df[['Continent']])"
   ]
  },
  {
   "attachments": {},
   "cell_type": "markdown",
   "metadata": {},
   "source": [
    "We create our label y:"
   ]
  },
  {
   "cell_type": "code",
   "execution_count": 56,
   "metadata": {},
   "outputs": [],
   "source": [
    "y_LR = df['Productivity']"
   ]
  },
  {
   "attachments": {},
   "cell_type": "markdown",
   "metadata": {},
   "source": [
    "We drop the column with the outcome variable (Productivity), and categorical columns for which we already created dummy variables:"
   ]
  },
  {
   "cell_type": "code",
   "execution_count": 57,
   "metadata": {},
   "outputs": [],
   "source": [
    "X_numerical = df.drop(['Productivity', 'Continent', 'Country', 'Code', 'Year'], axis=1).astype('float64')"
   ]
  },
  {
   "attachments": {},
   "cell_type": "markdown",
   "metadata": {},
   "source": [
    "Make a list of all numerical features (we need them later):"
   ]
  },
  {
   "cell_type": "code",
   "execution_count": 58,
   "metadata": {},
   "outputs": [],
   "source": [
    "# Make a list of all numerical features (we need them later):\n",
    "list_numerical = X_numerical.columns"
   ]
  },
  {
   "attachments": {},
   "cell_type": "markdown",
   "metadata": {},
   "source": [
    "Create all features:"
   ]
  },
  {
   "cell_type": "code",
   "execution_count": 59,
   "metadata": {},
   "outputs": [],
   "source": [
    "X_LR = pd.concat([X_numerical, dummies[['Continent_Americas', 'Continent_Oceania', 'Continent_Europe', 'Continent_Asia', 'Continent_Africa']]], axis=1)"
   ]
  },
  {
   "attachments": {},
   "cell_type": "markdown",
   "metadata": {},
   "source": [
    "### Split data"
   ]
  },
  {
   "attachments": {},
   "cell_type": "markdown",
   "metadata": {},
   "source": [
    "Split the data set into train and test set with the first 70% of the data for training and the remaining 30% for testing:"
   ]
  },
  {
   "cell_type": "code",
   "execution_count": 60,
   "metadata": {},
   "outputs": [],
   "source": [
    "X_train_LR, X_test_LR, y_train_LR, y_test_LR = train_test_split(X_LR, y_LR, test_size=0.3, random_state=10)"
   ]
  },
  {
   "attachments": {},
   "cell_type": "markdown",
   "metadata": {},
   "source": [
    "### Standardization"
   ]
  },
  {
   "attachments": {},
   "cell_type": "markdown",
   "metadata": {},
   "source": [
    "To avoid data leaks, the standardization of numerical features should always be done after data splitting and only from training data. In addition, we obtain all necessary statistics for our features (mean and standard deviation) from training data and use them for test data as well. Note that we do not standardize our dummy variables (which only have values of 0 or 1)."
   ]
  },
  {
   "cell_type": "code",
   "execution_count": 61,
   "metadata": {},
   "outputs": [],
   "source": [
    "scaler = StandardScaler().fit(X_train_LR[list_numerical]) \n",
    "\n",
    "X_train_LR[list_numerical] = scaler.transform(X_train_LR[list_numerical])\n",
    "X_test_LR[list_numerical] = scaler.transform(X_test_LR[list_numerical])"
   ]
  },
  {
   "cell_type": "code",
   "execution_count": 62,
   "metadata": {},
   "outputs": [
    {
     "data": {
      "text/html": [
       "<div>\n",
       "<style scoped>\n",
       "    .dataframe tbody tr th:only-of-type {\n",
       "        vertical-align: middle;\n",
       "    }\n",
       "\n",
       "    .dataframe tbody tr th {\n",
       "        vertical-align: top;\n",
       "    }\n",
       "\n",
       "    .dataframe thead th {\n",
       "        text-align: right;\n",
       "    }\n",
       "</style>\n",
       "<table border=\"1\" class=\"dataframe\">\n",
       "  <thead>\n",
       "    <tr style=\"text-align: right;\">\n",
       "      <th></th>\n",
       "      <th>Ø working hours</th>\n",
       "      <th>GDP</th>\n",
       "      <th>Population</th>\n",
       "      <th>Gini coefficient</th>\n",
       "      <th>Life satisfaction</th>\n",
       "      <th>Health expenditure</th>\n",
       "      <th>Continent_Americas</th>\n",
       "      <th>Continent_Oceania</th>\n",
       "      <th>Continent_Europe</th>\n",
       "      <th>Continent_Asia</th>\n",
       "      <th>Continent_Africa</th>\n",
       "    </tr>\n",
       "  </thead>\n",
       "  <tbody>\n",
       "    <tr>\n",
       "      <th>53</th>\n",
       "      <td>1.584451</td>\n",
       "      <td>-1.158539</td>\n",
       "      <td>-0.115808</td>\n",
       "      <td>-0.146033</td>\n",
       "      <td>-1.551031</td>\n",
       "      <td>-0.856020</td>\n",
       "      <td>0</td>\n",
       "      <td>0</td>\n",
       "      <td>0</td>\n",
       "      <td>0</td>\n",
       "      <td>1</td>\n",
       "    </tr>\n",
       "    <tr>\n",
       "      <th>10</th>\n",
       "      <td>1.427445</td>\n",
       "      <td>-1.095647</td>\n",
       "      <td>6.335670</td>\n",
       "      <td>0.712560</td>\n",
       "      <td>-1.416942</td>\n",
       "      <td>-1.044839</td>\n",
       "      <td>0</td>\n",
       "      <td>0</td>\n",
       "      <td>0</td>\n",
       "      <td>1</td>\n",
       "      <td>0</td>\n",
       "    </tr>\n",
       "    <tr>\n",
       "      <th>46</th>\n",
       "      <td>0.768288</td>\n",
       "      <td>-0.241857</td>\n",
       "      <td>-0.202113</td>\n",
       "      <td>-0.795642</td>\n",
       "      <td>-0.069422</td>\n",
       "      <td>-0.449489</td>\n",
       "      <td>0</td>\n",
       "      <td>0</td>\n",
       "      <td>1</td>\n",
       "      <td>0</td>\n",
       "      <td>0</td>\n",
       "    </tr>\n",
       "    <tr>\n",
       "      <th>44</th>\n",
       "      <td>0.334271</td>\n",
       "      <td>-1.202281</td>\n",
       "      <td>-0.235129</td>\n",
       "      <td>1.437013</td>\n",
       "      <td>-0.367298</td>\n",
       "      <td>-1.083565</td>\n",
       "      <td>1</td>\n",
       "      <td>0</td>\n",
       "      <td>0</td>\n",
       "      <td>0</td>\n",
       "      <td>0</td>\n",
       "    </tr>\n",
       "    <tr>\n",
       "      <th>35</th>\n",
       "      <td>1.716329</td>\n",
       "      <td>-0.516570</td>\n",
       "      <td>-0.233364</td>\n",
       "      <td>-0.146033</td>\n",
       "      <td>-1.068599</td>\n",
       "      <td>-0.912597</td>\n",
       "      <td>0</td>\n",
       "      <td>0</td>\n",
       "      <td>0</td>\n",
       "      <td>1</td>\n",
       "      <td>0</td>\n",
       "    </tr>\n",
       "  </tbody>\n",
       "</table>\n",
       "</div>"
      ],
      "text/plain": [
       "    Ø working hours       GDP  Population  Gini coefficient  \\\n",
       "53         1.584451 -1.158539   -0.115808         -0.146033   \n",
       "10         1.427445 -1.095647    6.335670          0.712560   \n",
       "46         0.768288 -0.241857   -0.202113         -0.795642   \n",
       "44         0.334271 -1.202281   -0.235129          1.437013   \n",
       "35         1.716329 -0.516570   -0.233364         -0.146033   \n",
       "\n",
       "    Life satisfaction  Health expenditure  Continent_Americas  \\\n",
       "53          -1.551031           -0.856020                   0   \n",
       "10          -1.416942           -1.044839                   0   \n",
       "46          -0.069422           -0.449489                   0   \n",
       "44          -0.367298           -1.083565                   1   \n",
       "35          -1.068599           -0.912597                   0   \n",
       "\n",
       "    Continent_Oceania  Continent_Europe  Continent_Asia  Continent_Africa  \n",
       "53                  0                 0               0                 1  \n",
       "10                  0                 0               1                 0  \n",
       "46                  0                 1               0                 0  \n",
       "44                  0                 0               0                 0  \n",
       "35                  0                 0               1                 0  "
      ]
     },
     "execution_count": 62,
     "metadata": {},
     "output_type": "execute_result"
    }
   ],
   "source": [
    "X_train_LR.head()"
   ]
  },
  {
   "attachments": {},
   "cell_type": "markdown",
   "metadata": {},
   "source": [
    "### Lasso regression"
   ]
  },
  {
   "attachments": {},
   "cell_type": "markdown",
   "metadata": {},
   "source": [
    "First, we apply lasso regression on the training set with an arbitrarily regularization parameter **alpha** of 1"
   ]
  },
  {
   "cell_type": "code",
   "execution_count": 63,
   "metadata": {},
   "outputs": [
    {
     "data": {
      "text/html": [
       "<style>#sk-container-id-3 {color: black;background-color: white;}#sk-container-id-3 pre{padding: 0;}#sk-container-id-3 div.sk-toggleable {background-color: white;}#sk-container-id-3 label.sk-toggleable__label {cursor: pointer;display: block;width: 100%;margin-bottom: 0;padding: 0.3em;box-sizing: border-box;text-align: center;}#sk-container-id-3 label.sk-toggleable__label-arrow:before {content: \"▸\";float: left;margin-right: 0.25em;color: #696969;}#sk-container-id-3 label.sk-toggleable__label-arrow:hover:before {color: black;}#sk-container-id-3 div.sk-estimator:hover label.sk-toggleable__label-arrow:before {color: black;}#sk-container-id-3 div.sk-toggleable__content {max-height: 0;max-width: 0;overflow: hidden;text-align: left;background-color: #f0f8ff;}#sk-container-id-3 div.sk-toggleable__content pre {margin: 0.2em;color: black;border-radius: 0.25em;background-color: #f0f8ff;}#sk-container-id-3 input.sk-toggleable__control:checked~div.sk-toggleable__content {max-height: 200px;max-width: 100%;overflow: auto;}#sk-container-id-3 input.sk-toggleable__control:checked~label.sk-toggleable__label-arrow:before {content: \"▾\";}#sk-container-id-3 div.sk-estimator input.sk-toggleable__control:checked~label.sk-toggleable__label {background-color: #d4ebff;}#sk-container-id-3 div.sk-label input.sk-toggleable__control:checked~label.sk-toggleable__label {background-color: #d4ebff;}#sk-container-id-3 input.sk-hidden--visually {border: 0;clip: rect(1px 1px 1px 1px);clip: rect(1px, 1px, 1px, 1px);height: 1px;margin: -1px;overflow: hidden;padding: 0;position: absolute;width: 1px;}#sk-container-id-3 div.sk-estimator {font-family: monospace;background-color: #f0f8ff;border: 1px dotted black;border-radius: 0.25em;box-sizing: border-box;margin-bottom: 0.5em;}#sk-container-id-3 div.sk-estimator:hover {background-color: #d4ebff;}#sk-container-id-3 div.sk-parallel-item::after {content: \"\";width: 100%;border-bottom: 1px solid gray;flex-grow: 1;}#sk-container-id-3 div.sk-label:hover label.sk-toggleable__label {background-color: #d4ebff;}#sk-container-id-3 div.sk-serial::before {content: \"\";position: absolute;border-left: 1px solid gray;box-sizing: border-box;top: 0;bottom: 0;left: 50%;z-index: 0;}#sk-container-id-3 div.sk-serial {display: flex;flex-direction: column;align-items: center;background-color: white;padding-right: 0.2em;padding-left: 0.2em;position: relative;}#sk-container-id-3 div.sk-item {position: relative;z-index: 1;}#sk-container-id-3 div.sk-parallel {display: flex;align-items: stretch;justify-content: center;background-color: white;position: relative;}#sk-container-id-3 div.sk-item::before, #sk-container-id-3 div.sk-parallel-item::before {content: \"\";position: absolute;border-left: 1px solid gray;box-sizing: border-box;top: 0;bottom: 0;left: 50%;z-index: -1;}#sk-container-id-3 div.sk-parallel-item {display: flex;flex-direction: column;z-index: 1;position: relative;background-color: white;}#sk-container-id-3 div.sk-parallel-item:first-child::after {align-self: flex-end;width: 50%;}#sk-container-id-3 div.sk-parallel-item:last-child::after {align-self: flex-start;width: 50%;}#sk-container-id-3 div.sk-parallel-item:only-child::after {width: 0;}#sk-container-id-3 div.sk-dashed-wrapped {border: 1px dashed gray;margin: 0 0.4em 0.5em 0.4em;box-sizing: border-box;padding-bottom: 0.4em;background-color: white;}#sk-container-id-3 div.sk-label label {font-family: monospace;font-weight: bold;display: inline-block;line-height: 1.2em;}#sk-container-id-3 div.sk-label-container {text-align: center;}#sk-container-id-3 div.sk-container {/* jupyter's `normalize.less` sets `[hidden] { display: none; }` but bootstrap.min.css set `[hidden] { display: none !important; }` so we also need the `!important` here to be able to override the default hidden behavior on the sphinx rendered scikit-learn.org. See: https://github.com/scikit-learn/scikit-learn/issues/21755 */display: inline-block !important;position: relative;}#sk-container-id-3 div.sk-text-repr-fallback {display: none;}</style><div id=\"sk-container-id-3\" class=\"sk-top-container\"><div class=\"sk-text-repr-fallback\"><pre>Lasso(alpha=1)</pre><b>In a Jupyter environment, please rerun this cell to show the HTML representation or trust the notebook. <br />On GitHub, the HTML representation is unable to render, please try loading this page with nbviewer.org.</b></div><div class=\"sk-container\" hidden><div class=\"sk-item\"><div class=\"sk-estimator sk-toggleable\"><input class=\"sk-toggleable__control sk-hidden--visually\" id=\"sk-estimator-id-3\" type=\"checkbox\" checked><label for=\"sk-estimator-id-3\" class=\"sk-toggleable__label sk-toggleable__label-arrow\">Lasso</label><div class=\"sk-toggleable__content\"><pre>Lasso(alpha=1)</pre></div></div></div></div></div>"
      ],
      "text/plain": [
       "Lasso(alpha=1)"
      ]
     },
     "execution_count": 63,
     "metadata": {},
     "output_type": "execute_result"
    }
   ],
   "source": [
    "reg_LR = Lasso(alpha=1)\n",
    "reg_LR.fit(X_train_LR, y_train_LR)"
   ]
  },
  {
   "attachments": {},
   "cell_type": "markdown",
   "metadata": {},
   "source": [
    "### Model evaluation"
   ]
  },
  {
   "attachments": {},
   "cell_type": "markdown",
   "metadata": {},
   "source": [
    "We print the R-squared score for the training and test set."
   ]
  },
  {
   "cell_type": "code",
   "execution_count": 64,
   "metadata": {},
   "outputs": [
    {
     "name": "stdout",
     "output_type": "stream",
     "text": [
      "R squared training set 93.49\n",
      "R squared test set 89.52\n"
     ]
    }
   ],
   "source": [
    "print('R squared training set', round(reg_LR.score(X_train_LR, y_train_LR)*100, 2))\n",
    "print('R squared test set', round(reg_LR.score(X_test_LR, y_test_LR)*100, 2))"
   ]
  },
  {
   "attachments": {},
   "cell_type": "markdown",
   "metadata": {},
   "source": [
    "MSE for the training and test set"
   ]
  },
  {
   "cell_type": "code",
   "execution_count": 65,
   "metadata": {},
   "outputs": [
    {
     "name": "stdout",
     "output_type": "stream",
     "text": [
      "MSE training set 32.97\n",
      "MSE test set 68.77\n"
     ]
    }
   ],
   "source": [
    "# Training data\n",
    "pred_train_LR = reg_LR.predict(X_train_LR)\n",
    "mse_train_LR = mean_squared_error(y_train_LR, pred_train_LR)\n",
    "print('MSE training set', round(mse_train_LR, 2))\n",
    "\n",
    "# Test data\n",
    "pred_LR = reg_LR.predict(X_test_LR)\n",
    "mse_test_LR =mean_squared_error(y_test_LR, pred_LR)\n",
    "print('MSE test set', round(mse_test_LR, 2))"
   ]
  },
  {
   "attachments": {},
   "cell_type": "markdown",
   "metadata": {},
   "source": [
    "### Role of alpha"
   ]
  },
  {
   "attachments": {},
   "cell_type": "markdown",
   "metadata": {},
   "source": [
    "To better understand the role of alpha, we plot the lasso coefficients as a function of alpha (max_iter are the maximum number of iterations) please find the visualization in Appendix."
   ]
  },
  {
   "attachments": {},
   "cell_type": "markdown",
   "metadata": {},
   "source": [
    "Moving from left to right in our plot, we notice that the lasso models initially contain many predictors with high magnitudes of coefficient estimates. As the alpha increases, the coefficient estimates approach zero."
   ]
  },
  {
   "attachments": {},
   "cell_type": "markdown",
   "metadata": {},
   "source": [
    "### Lasso with optimal alpha"
   ]
  },
  {
   "attachments": {},
   "cell_type": "markdown",
   "metadata": {},
   "source": [
    "To find the optimal value of alpha, we use scikit learns lasso linear model with iterative fitting along a regularization path (LassoCV). The best model is selected by cross-validation."
   ]
  },
  {
   "attachments": {},
   "cell_type": "markdown",
   "metadata": {},
   "source": [
    "### K-fold cross validation"
   ]
  },
  {
   "cell_type": "code",
   "execution_count": 66,
   "metadata": {},
   "outputs": [
    {
     "data": {
      "text/html": [
       "<style>#sk-container-id-4 {color: black;background-color: white;}#sk-container-id-4 pre{padding: 0;}#sk-container-id-4 div.sk-toggleable {background-color: white;}#sk-container-id-4 label.sk-toggleable__label {cursor: pointer;display: block;width: 100%;margin-bottom: 0;padding: 0.3em;box-sizing: border-box;text-align: center;}#sk-container-id-4 label.sk-toggleable__label-arrow:before {content: \"▸\";float: left;margin-right: 0.25em;color: #696969;}#sk-container-id-4 label.sk-toggleable__label-arrow:hover:before {color: black;}#sk-container-id-4 div.sk-estimator:hover label.sk-toggleable__label-arrow:before {color: black;}#sk-container-id-4 div.sk-toggleable__content {max-height: 0;max-width: 0;overflow: hidden;text-align: left;background-color: #f0f8ff;}#sk-container-id-4 div.sk-toggleable__content pre {margin: 0.2em;color: black;border-radius: 0.25em;background-color: #f0f8ff;}#sk-container-id-4 input.sk-toggleable__control:checked~div.sk-toggleable__content {max-height: 200px;max-width: 100%;overflow: auto;}#sk-container-id-4 input.sk-toggleable__control:checked~label.sk-toggleable__label-arrow:before {content: \"▾\";}#sk-container-id-4 div.sk-estimator input.sk-toggleable__control:checked~label.sk-toggleable__label {background-color: #d4ebff;}#sk-container-id-4 div.sk-label input.sk-toggleable__control:checked~label.sk-toggleable__label {background-color: #d4ebff;}#sk-container-id-4 input.sk-hidden--visually {border: 0;clip: rect(1px 1px 1px 1px);clip: rect(1px, 1px, 1px, 1px);height: 1px;margin: -1px;overflow: hidden;padding: 0;position: absolute;width: 1px;}#sk-container-id-4 div.sk-estimator {font-family: monospace;background-color: #f0f8ff;border: 1px dotted black;border-radius: 0.25em;box-sizing: border-box;margin-bottom: 0.5em;}#sk-container-id-4 div.sk-estimator:hover {background-color: #d4ebff;}#sk-container-id-4 div.sk-parallel-item::after {content: \"\";width: 100%;border-bottom: 1px solid gray;flex-grow: 1;}#sk-container-id-4 div.sk-label:hover label.sk-toggleable__label {background-color: #d4ebff;}#sk-container-id-4 div.sk-serial::before {content: \"\";position: absolute;border-left: 1px solid gray;box-sizing: border-box;top: 0;bottom: 0;left: 50%;z-index: 0;}#sk-container-id-4 div.sk-serial {display: flex;flex-direction: column;align-items: center;background-color: white;padding-right: 0.2em;padding-left: 0.2em;position: relative;}#sk-container-id-4 div.sk-item {position: relative;z-index: 1;}#sk-container-id-4 div.sk-parallel {display: flex;align-items: stretch;justify-content: center;background-color: white;position: relative;}#sk-container-id-4 div.sk-item::before, #sk-container-id-4 div.sk-parallel-item::before {content: \"\";position: absolute;border-left: 1px solid gray;box-sizing: border-box;top: 0;bottom: 0;left: 50%;z-index: -1;}#sk-container-id-4 div.sk-parallel-item {display: flex;flex-direction: column;z-index: 1;position: relative;background-color: white;}#sk-container-id-4 div.sk-parallel-item:first-child::after {align-self: flex-end;width: 50%;}#sk-container-id-4 div.sk-parallel-item:last-child::after {align-self: flex-start;width: 50%;}#sk-container-id-4 div.sk-parallel-item:only-child::after {width: 0;}#sk-container-id-4 div.sk-dashed-wrapped {border: 1px dashed gray;margin: 0 0.4em 0.5em 0.4em;box-sizing: border-box;padding-bottom: 0.4em;background-color: white;}#sk-container-id-4 div.sk-label label {font-family: monospace;font-weight: bold;display: inline-block;line-height: 1.2em;}#sk-container-id-4 div.sk-label-container {text-align: center;}#sk-container-id-4 div.sk-container {/* jupyter's `normalize.less` sets `[hidden] { display: none; }` but bootstrap.min.css set `[hidden] { display: none !important; }` so we also need the `!important` here to be able to override the default hidden behavior on the sphinx rendered scikit-learn.org. See: https://github.com/scikit-learn/scikit-learn/issues/21755 */display: inline-block !important;position: relative;}#sk-container-id-4 div.sk-text-repr-fallback {display: none;}</style><div id=\"sk-container-id-4\" class=\"sk-top-container\"><div class=\"sk-text-repr-fallback\"><pre>LassoCV(cv=5, max_iter=10000, random_state=0)</pre><b>In a Jupyter environment, please rerun this cell to show the HTML representation or trust the notebook. <br />On GitHub, the HTML representation is unable to render, please try loading this page with nbviewer.org.</b></div><div class=\"sk-container\" hidden><div class=\"sk-item\"><div class=\"sk-estimator sk-toggleable\"><input class=\"sk-toggleable__control sk-hidden--visually\" id=\"sk-estimator-id-4\" type=\"checkbox\" checked><label for=\"sk-estimator-id-4\" class=\"sk-toggleable__label sk-toggleable__label-arrow\">LassoCV</label><div class=\"sk-toggleable__content\"><pre>LassoCV(cv=5, max_iter=10000, random_state=0)</pre></div></div></div></div></div>"
      ],
      "text/plain": [
       "LassoCV(cv=5, max_iter=10000, random_state=0)"
      ]
     },
     "execution_count": 66,
     "metadata": {},
     "output_type": "execute_result"
    }
   ],
   "source": [
    "# Lasso with 5 fold cross-validation\n",
    "model_LR = LassoCV(cv=5, random_state=0, max_iter=10000)\n",
    "\n",
    "# Fit model\n",
    "model_LR.fit(X_train_LR, y_train_LR)"
   ]
  },
  {
   "attachments": {},
   "cell_type": "markdown",
   "metadata": {},
   "source": [
    "Show best value of penalization chosen by cross validation:"
   ]
  },
  {
   "cell_type": "code",
   "execution_count": 67,
   "metadata": {},
   "outputs": [
    {
     "data": {
      "text/plain": [
       "0.05302299651985887"
      ]
     },
     "execution_count": 67,
     "metadata": {},
     "output_type": "execute_result"
    }
   ],
   "source": [
    "model_LR.alpha_"
   ]
  },
  {
   "attachments": {},
   "cell_type": "markdown",
   "metadata": {},
   "source": [
    "### Best model"
   ]
  },
  {
   "attachments": {},
   "cell_type": "markdown",
   "metadata": {},
   "source": [
    "Use best value for our final model:"
   ]
  },
  {
   "cell_type": "code",
   "execution_count": 68,
   "metadata": {},
   "outputs": [
    {
     "data": {
      "text/html": [
       "<style>#sk-container-id-5 {color: black;background-color: white;}#sk-container-id-5 pre{padding: 0;}#sk-container-id-5 div.sk-toggleable {background-color: white;}#sk-container-id-5 label.sk-toggleable__label {cursor: pointer;display: block;width: 100%;margin-bottom: 0;padding: 0.3em;box-sizing: border-box;text-align: center;}#sk-container-id-5 label.sk-toggleable__label-arrow:before {content: \"▸\";float: left;margin-right: 0.25em;color: #696969;}#sk-container-id-5 label.sk-toggleable__label-arrow:hover:before {color: black;}#sk-container-id-5 div.sk-estimator:hover label.sk-toggleable__label-arrow:before {color: black;}#sk-container-id-5 div.sk-toggleable__content {max-height: 0;max-width: 0;overflow: hidden;text-align: left;background-color: #f0f8ff;}#sk-container-id-5 div.sk-toggleable__content pre {margin: 0.2em;color: black;border-radius: 0.25em;background-color: #f0f8ff;}#sk-container-id-5 input.sk-toggleable__control:checked~div.sk-toggleable__content {max-height: 200px;max-width: 100%;overflow: auto;}#sk-container-id-5 input.sk-toggleable__control:checked~label.sk-toggleable__label-arrow:before {content: \"▾\";}#sk-container-id-5 div.sk-estimator input.sk-toggleable__control:checked~label.sk-toggleable__label {background-color: #d4ebff;}#sk-container-id-5 div.sk-label input.sk-toggleable__control:checked~label.sk-toggleable__label {background-color: #d4ebff;}#sk-container-id-5 input.sk-hidden--visually {border: 0;clip: rect(1px 1px 1px 1px);clip: rect(1px, 1px, 1px, 1px);height: 1px;margin: -1px;overflow: hidden;padding: 0;position: absolute;width: 1px;}#sk-container-id-5 div.sk-estimator {font-family: monospace;background-color: #f0f8ff;border: 1px dotted black;border-radius: 0.25em;box-sizing: border-box;margin-bottom: 0.5em;}#sk-container-id-5 div.sk-estimator:hover {background-color: #d4ebff;}#sk-container-id-5 div.sk-parallel-item::after {content: \"\";width: 100%;border-bottom: 1px solid gray;flex-grow: 1;}#sk-container-id-5 div.sk-label:hover label.sk-toggleable__label {background-color: #d4ebff;}#sk-container-id-5 div.sk-serial::before {content: \"\";position: absolute;border-left: 1px solid gray;box-sizing: border-box;top: 0;bottom: 0;left: 50%;z-index: 0;}#sk-container-id-5 div.sk-serial {display: flex;flex-direction: column;align-items: center;background-color: white;padding-right: 0.2em;padding-left: 0.2em;position: relative;}#sk-container-id-5 div.sk-item {position: relative;z-index: 1;}#sk-container-id-5 div.sk-parallel {display: flex;align-items: stretch;justify-content: center;background-color: white;position: relative;}#sk-container-id-5 div.sk-item::before, #sk-container-id-5 div.sk-parallel-item::before {content: \"\";position: absolute;border-left: 1px solid gray;box-sizing: border-box;top: 0;bottom: 0;left: 50%;z-index: -1;}#sk-container-id-5 div.sk-parallel-item {display: flex;flex-direction: column;z-index: 1;position: relative;background-color: white;}#sk-container-id-5 div.sk-parallel-item:first-child::after {align-self: flex-end;width: 50%;}#sk-container-id-5 div.sk-parallel-item:last-child::after {align-self: flex-start;width: 50%;}#sk-container-id-5 div.sk-parallel-item:only-child::after {width: 0;}#sk-container-id-5 div.sk-dashed-wrapped {border: 1px dashed gray;margin: 0 0.4em 0.5em 0.4em;box-sizing: border-box;padding-bottom: 0.4em;background-color: white;}#sk-container-id-5 div.sk-label label {font-family: monospace;font-weight: bold;display: inline-block;line-height: 1.2em;}#sk-container-id-5 div.sk-label-container {text-align: center;}#sk-container-id-5 div.sk-container {/* jupyter's `normalize.less` sets `[hidden] { display: none; }` but bootstrap.min.css set `[hidden] { display: none !important; }` so we also need the `!important` here to be able to override the default hidden behavior on the sphinx rendered scikit-learn.org. See: https://github.com/scikit-learn/scikit-learn/issues/21755 */display: inline-block !important;position: relative;}#sk-container-id-5 div.sk-text-repr-fallback {display: none;}</style><div id=\"sk-container-id-5\" class=\"sk-top-container\"><div class=\"sk-text-repr-fallback\"><pre>Lasso(alpha=0.05302299651985887)</pre><b>In a Jupyter environment, please rerun this cell to show the HTML representation or trust the notebook. <br />On GitHub, the HTML representation is unable to render, please try loading this page with nbviewer.org.</b></div><div class=\"sk-container\" hidden><div class=\"sk-item\"><div class=\"sk-estimator sk-toggleable\"><input class=\"sk-toggleable__control sk-hidden--visually\" id=\"sk-estimator-id-5\" type=\"checkbox\" checked><label for=\"sk-estimator-id-5\" class=\"sk-toggleable__label sk-toggleable__label-arrow\">Lasso</label><div class=\"sk-toggleable__content\"><pre>Lasso(alpha=0.05302299651985887)</pre></div></div></div></div></div>"
      ],
      "text/plain": [
       "Lasso(alpha=0.05302299651985887)"
      ]
     },
     "execution_count": 68,
     "metadata": {},
     "output_type": "execute_result"
    }
   ],
   "source": [
    "# Set best alpha\n",
    "lasso_best = Lasso(alpha=model_LR.alpha_)\n",
    "lasso_best.fit(X_train_LR, y_train_LR)"
   ]
  },
  {
   "attachments": {},
   "cell_type": "markdown",
   "metadata": {},
   "source": [
    "Show model coefficients and names:"
   ]
  },
  {
   "cell_type": "code",
   "execution_count": 69,
   "metadata": {},
   "outputs": [
    {
     "data": {
      "text/html": [
       "<div>\n",
       "<style scoped>\n",
       "    .dataframe tbody tr th:only-of-type {\n",
       "        vertical-align: middle;\n",
       "    }\n",
       "\n",
       "    .dataframe tbody tr th {\n",
       "        vertical-align: top;\n",
       "    }\n",
       "\n",
       "    .dataframe thead th {\n",
       "        text-align: right;\n",
       "    }\n",
       "</style>\n",
       "<table border=\"1\" class=\"dataframe\">\n",
       "  <thead>\n",
       "    <tr style=\"text-align: right;\">\n",
       "      <th></th>\n",
       "      <th></th>\n",
       "      <th>Lasso Regression Coefficients</th>\n",
       "    </tr>\n",
       "  </thead>\n",
       "  <tbody>\n",
       "    <tr>\n",
       "      <th>0</th>\n",
       "      <td>Ø-working hours</td>\n",
       "      <td>-5.17080</td>\n",
       "    </tr>\n",
       "    <tr>\n",
       "      <th>1</th>\n",
       "      <td>GDP</td>\n",
       "      <td>20.40429</td>\n",
       "    </tr>\n",
       "    <tr>\n",
       "      <th>2</th>\n",
       "      <td>Population</td>\n",
       "      <td>-0.01506</td>\n",
       "    </tr>\n",
       "    <tr>\n",
       "      <th>3</th>\n",
       "      <td>Gini coefficient</td>\n",
       "      <td>-0.06025</td>\n",
       "    </tr>\n",
       "    <tr>\n",
       "      <th>4</th>\n",
       "      <td>Life satisfaction</td>\n",
       "      <td>-2.09740</td>\n",
       "    </tr>\n",
       "    <tr>\n",
       "      <th>5</th>\n",
       "      <td>Health expenditure</td>\n",
       "      <td>-0.28723</td>\n",
       "    </tr>\n",
       "    <tr>\n",
       "      <th>6</th>\n",
       "      <td>Continent_Americas</td>\n",
       "      <td>0.00000</td>\n",
       "    </tr>\n",
       "    <tr>\n",
       "      <th>7</th>\n",
       "      <td>Continent_Oceania</td>\n",
       "      <td>-2.73003</td>\n",
       "    </tr>\n",
       "    <tr>\n",
       "      <th>8</th>\n",
       "      <td>Continent_Europe</td>\n",
       "      <td>0.00000</td>\n",
       "    </tr>\n",
       "    <tr>\n",
       "      <th>9</th>\n",
       "      <td>Continent_Asia</td>\n",
       "      <td>-1.46664</td>\n",
       "    </tr>\n",
       "    <tr>\n",
       "      <th>10</th>\n",
       "      <td>Continent_Africa</td>\n",
       "      <td>11.80096</td>\n",
       "    </tr>\n",
       "  </tbody>\n",
       "</table>\n",
       "</div>"
      ],
      "text/plain": [
       "                        Lasso Regression Coefficients\n",
       "0      Ø-working hours                       -5.17080\n",
       "1                  GDP                       20.40429\n",
       "2           Population                       -0.01506\n",
       "3     Gini coefficient                       -0.06025\n",
       "4    Life satisfaction                       -2.09740\n",
       "5   Health expenditure                       -0.28723\n",
       "6   Continent_Americas                        0.00000\n",
       "7    Continent_Oceania                       -2.73003\n",
       "8     Continent_Europe                        0.00000\n",
       "9       Continent_Asia                       -1.46664\n",
       "10    Continent_Africa                       11.80096"
      ]
     },
     "execution_count": 69,
     "metadata": {},
     "output_type": "execute_result"
    }
   ],
   "source": [
    "results_LB = pd.DataFrame({'': ['Ø-working hours','GDP','Population','Gini coefficient','Life satisfaction','Health expenditure','Continent_Americas','Continent_Oceania','Continent_Europe','Continent_Asia','Continent_Africa'],\n",
    "                        'Lasso Regression Coefficients': [(lasso_best.coef_[0].round(5)),\n",
    "                        (lasso_best.coef_[1].round(5)),\n",
    "                        (lasso_best.coef_[2].round(5)),\n",
    "                        (lasso_best.coef_[3].round(5)),\n",
    "                        (lasso_best.coef_[4].round(5)),\n",
    "                        (lasso_best.coef_[5].round(5)),\n",
    "                        (lasso_best.coef_[6].round(5)),\n",
    "                        (lasso_best.coef_[7].round(5)),\n",
    "                        (lasso_best.coef_[8].round(5)),\n",
    "                        (lasso_best.coef_[9].round(5)),\n",
    "                        (lasso_best.coef_[10].round(5))]})\n",
    "\n",
    "results_LB\n"
   ]
  },
  {
   "attachments": {},
   "cell_type": "markdown",
   "metadata": {},
   "source": [
    "### Model evaluation"
   ]
  },
  {
   "attachments": {},
   "cell_type": "markdown",
   "metadata": {},
   "source": [
    "R² for lasso regression model:"
   ]
  },
  {
   "cell_type": "code",
   "execution_count": 70,
   "metadata": {},
   "outputs": [
    {
     "name": "stdout",
     "output_type": "stream",
     "text": [
      "R squared training set 96.08\n",
      "R squared test set 83.27\n"
     ]
    }
   ],
   "source": [
    "print('R squared training set', round(lasso_best.score(X_train_LR, y_train_LR)*100, 2))\n",
    "print('R squared test set', round(lasso_best.score(X_test_LR, y_test_LR)*100, 2))"
   ]
  },
  {
   "attachments": {},
   "cell_type": "markdown",
   "metadata": {},
   "source": [
    "MSE for lasso regression model:"
   ]
  },
  {
   "cell_type": "code",
   "execution_count": 71,
   "metadata": {},
   "outputs": [
    {
     "data": {
      "text/plain": [
       "109.71381501276998"
      ]
     },
     "execution_count": 71,
     "metadata": {},
     "output_type": "execute_result"
    }
   ],
   "source": [
    "mean_squared_error(y_test_LR, lasso_best.predict(X_test_LR))"
   ]
  },
  {
   "cell_type": "markdown",
   "metadata": {},
   "source": [
    "## Results"
   ]
  },
  {
   "attachments": {},
   "cell_type": "markdown",
   "metadata": {},
   "source": [
    "Result of our **first research question**\n",
    "- Result table of simple linear regression:"
   ]
  },
  {
   "cell_type": "code",
   "execution_count": 72,
   "metadata": {},
   "outputs": [
    {
     "data": {
      "text/html": [
       "<div>\n",
       "<style scoped>\n",
       "    .dataframe tbody tr th:only-of-type {\n",
       "        vertical-align: middle;\n",
       "    }\n",
       "\n",
       "    .dataframe tbody tr th {\n",
       "        vertical-align: top;\n",
       "    }\n",
       "\n",
       "    .dataframe thead th {\n",
       "        text-align: right;\n",
       "    }\n",
       "</style>\n",
       "<table border=\"1\" class=\"dataframe\">\n",
       "  <thead>\n",
       "    <tr style=\"text-align: right;\">\n",
       "      <th></th>\n",
       "      <th></th>\n",
       "      <th>Simple Linear Regression</th>\n",
       "    </tr>\n",
       "  </thead>\n",
       "  <tbody>\n",
       "    <tr>\n",
       "      <th>0</th>\n",
       "      <td>Intercept</td>\n",
       "      <td>163.016654</td>\n",
       "    </tr>\n",
       "    <tr>\n",
       "      <th>1</th>\n",
       "      <td>Coefficient</td>\n",
       "      <td>[-0.06613]</td>\n",
       "    </tr>\n",
       "  </tbody>\n",
       "</table>\n",
       "</div>"
      ],
      "text/plain": [
       "               Simple Linear Regression\n",
       "0    Intercept               163.016654\n",
       "1  Coefficient               [-0.06613]"
      ]
     },
     "execution_count": 72,
     "metadata": {},
     "output_type": "execute_result"
    }
   ],
   "source": [
    "results_RQ1 = pd.DataFrame({'': ['Intercept','Coefficient'],\n",
    "                        'Simple Linear Regression': [reg_H1.intercept_, reg_H1.coef_.round(5)]})\n",
    "\n",
    "results_RQ1"
   ]
  },
  {
   "cell_type": "code",
   "execution_count": 73,
   "metadata": {},
   "outputs": [
    {
     "data": {
      "text/html": [
       "<div>\n",
       "<style scoped>\n",
       "    .dataframe tbody tr th:only-of-type {\n",
       "        vertical-align: middle;\n",
       "    }\n",
       "\n",
       "    .dataframe tbody tr th {\n",
       "        vertical-align: top;\n",
       "    }\n",
       "\n",
       "    .dataframe thead th {\n",
       "        text-align: right;\n",
       "    }\n",
       "</style>\n",
       "<table border=\"1\" class=\"dataframe\">\n",
       "  <thead>\n",
       "    <tr style=\"text-align: right;\">\n",
       "      <th></th>\n",
       "      <th></th>\n",
       "      <th>Simple Linear Regression</th>\n",
       "    </tr>\n",
       "  </thead>\n",
       "  <tbody>\n",
       "    <tr>\n",
       "      <th>0</th>\n",
       "      <td>R²</td>\n",
       "      <td>0.51931</td>\n",
       "    </tr>\n",
       "    <tr>\n",
       "      <th>1</th>\n",
       "      <td>Adjusted R²</td>\n",
       "      <td>0.47926</td>\n",
       "    </tr>\n",
       "    <tr>\n",
       "      <th>2</th>\n",
       "      <td>MSE</td>\n",
       "      <td>195.77492</td>\n",
       "    </tr>\n",
       "    <tr>\n",
       "      <th>3</th>\n",
       "      <td>RMSE</td>\n",
       "      <td>13.99196</td>\n",
       "    </tr>\n",
       "    <tr>\n",
       "      <th>4</th>\n",
       "      <td>MAE</td>\n",
       "      <td>11.17991</td>\n",
       "    </tr>\n",
       "  </tbody>\n",
       "</table>\n",
       "</div>"
      ],
      "text/plain": [
       "                Simple Linear Regression\n",
       "0           R²                   0.51931\n",
       "1  Adjusted R²                   0.47926\n",
       "2          MSE                 195.77492\n",
       "3         RMSE                  13.99196\n",
       "4          MAE                  11.17991"
      ]
     },
     "execution_count": 73,
     "metadata": {},
     "output_type": "execute_result"
    }
   ],
   "source": [
    "results_RQ1_1 = pd.DataFrame({'': ['R²','Adjusted R²','MSE','RMSE','MAE'],\n",
    "                        'Simple Linear Regression': [(r2_score(y_test_H1, y_pred_H1).round(5)),\n",
    "                        ((1-(1-r2_score(y_test_H1, y_pred_H1))*((len(X_test_H1)-1)/(len(X_test_H1)-len(X_test_H1.columns)-1))).round(5)),\n",
    "                        (mean_squared_error(y_test_H1, y_pred_H1).round(5)),\n",
    "                        (mean_squared_error(y_test_H1, y_pred_H1, squared=False).round(5)),\n",
    "                        (mean_absolute_error(y_test_H1, y_pred_H1).round(5))]})\n",
    "\n",
    "results_RQ1_1"
   ]
  },
  {
   "attachments": {},
   "cell_type": "markdown",
   "metadata": {},
   "source": [
    "As we mentioned during the analysis above, the p-value is statistically significant. It shows strong evidence against the null hypothesis as the probability is less than 5%. We can therefore reject our null hypothesis and accept the following hypothesis:\n",
    "- There is a correlation between Ø-working hours and Productivity.\n",
    "\n",
    "- However, from this result we can also see that there is strong multicollinearity or other numerical problems in this model. In the case of multicollinearity, this reduces the accuracy of the estimated coefficients, which weakens the statistical power of your regression model. Therefore we might not be able to trust the p-values to identify independent variables that are statistically significant.\n",
    "\n",
    "- Also, we see a small R² of our model, which means that the quality of the model is low."
   ]
  },
  {
   "attachments": {},
   "cell_type": "markdown",
   "metadata": {},
   "source": [
    "Result of our **second research question**\n",
    "- Result table of multiple linear regression and lasso regression:"
   ]
  },
  {
   "cell_type": "code",
   "execution_count": 74,
   "metadata": {},
   "outputs": [
    {
     "data": {
      "text/html": [
       "<div>\n",
       "<style scoped>\n",
       "    .dataframe tbody tr th:only-of-type {\n",
       "        vertical-align: middle;\n",
       "    }\n",
       "\n",
       "    .dataframe tbody tr th {\n",
       "        vertical-align: top;\n",
       "    }\n",
       "\n",
       "    .dataframe thead th {\n",
       "        text-align: right;\n",
       "    }\n",
       "</style>\n",
       "<table border=\"1\" class=\"dataframe\">\n",
       "  <thead>\n",
       "    <tr style=\"text-align: right;\">\n",
       "      <th></th>\n",
       "      <th></th>\n",
       "      <th>Multiple Linear Regression</th>\n",
       "      <th>Lasso Regression</th>\n",
       "    </tr>\n",
       "  </thead>\n",
       "  <tbody>\n",
       "    <tr>\n",
       "      <th>0</th>\n",
       "      <td>R²</td>\n",
       "      <td>0.89788</td>\n",
       "      <td>0.83274</td>\n",
       "    </tr>\n",
       "    <tr>\n",
       "      <th>1</th>\n",
       "      <td>Adjusted R²</td>\n",
       "      <td>0.81035</td>\n",
       "      <td>0.60276</td>\n",
       "    </tr>\n",
       "    <tr>\n",
       "      <th>2</th>\n",
       "      <td>MSE</td>\n",
       "      <td>41.59040</td>\n",
       "      <td>109.71382</td>\n",
       "    </tr>\n",
       "    <tr>\n",
       "      <th>3</th>\n",
       "      <td>RMSE</td>\n",
       "      <td>6.44906</td>\n",
       "      <td>10.47444</td>\n",
       "    </tr>\n",
       "    <tr>\n",
       "      <th>4</th>\n",
       "      <td>MAE</td>\n",
       "      <td>4.16722</td>\n",
       "      <td>6.65880</td>\n",
       "    </tr>\n",
       "  </tbody>\n",
       "</table>\n",
       "</div>"
      ],
      "text/plain": [
       "                Multiple Linear Regression  Lasso Regression\n",
       "0           R²                     0.89788           0.83274\n",
       "1  Adjusted R²                     0.81035           0.60276\n",
       "2          MSE                    41.59040         109.71382\n",
       "3         RMSE                     6.44906          10.47444\n",
       "4          MAE                     4.16722           6.65880"
      ]
     },
     "execution_count": 74,
     "metadata": {},
     "output_type": "execute_result"
    }
   ],
   "source": [
    "results_RQ2_1 = pd.DataFrame({'': ['R²','Adjusted R²','MSE','RMSE','MAE'],\n",
    "                        'Multiple Linear Regression': [(r2_score(y_test, y_pred_test).round(5)),\n",
    "                        ((1-(1-r2_score(y_test, y_pred_test))*((len(X_test)-1)/(len(X_test)-len(X_test.columns)-1))).round(5)),\n",
    "                        (mean_squared_error(y_test, y_pred_test).round(5)),\n",
    "                        (mean_squared_error(y_test, y_pred_test, squared=False).round(5)),\n",
    "                        (mean_absolute_error(y_test, y_pred_test).round(5))], \n",
    "                        'Lasso Regression': [(r2_score(y_test_LR, lasso_best.predict(X_test_LR)).round(5)),\n",
    "                        ((1-(1-r2_score(y_test_LR, lasso_best.predict(X_test_LR)))*((len(X_test_LR)-1)/(len(X_test_LR)-len(X_test_LR.columns)-1))).round(5)),\n",
    "                        (mean_squared_error(y_test_LR, lasso_best.predict(X_test_LR)).round(5)),\n",
    "                        (mean_squared_error(y_test_LR, lasso_best.predict(X_test_LR), squared=False).round(5)),\n",
    "                        (mean_absolute_error(y_test_LR, lasso_best.predict(X_test_LR)).round(5))]})\n",
    "\n",
    "results_RQ2_1"
   ]
  },
  {
   "attachments": {},
   "cell_type": "markdown",
   "metadata": {},
   "source": [
    "By comparing the statistics of those models, it can be seen that the lasso regression model has a lower model quality than the multiple regression model.\n",
    "- R² of the lasso regression model is smaller than that of the multiple regression model.\n",
    "- Adjusted R² of the lasso regression model is also smaller then that of the multiple regression model.\n",
    "- The MSE, RMSE and MAE of lasso regression model are also higher than that of the multiple regression model.\n",
    "\n",
    "Hence, this indicates that the multiple linear regression model is preferable to the lasso regression model."
   ]
  },
  {
   "cell_type": "markdown",
   "metadata": {},
   "source": [
    "## Discussion + Conclusion\n"
   ]
  },
  {
   "attachments": {},
   "cell_type": "markdown",
   "metadata": {},
   "source": [
    "In this analysis, we used various models to test the two hypotheses mentioned in the introduction. By using models such as simple regression analysis, multiple regression analysis, and Lasso regression, we could observe the problems regarding to number of explanatory variables as well as multicollinearity between those variables, which could cause a reduction on the precision of our estimated coefficients.\n",
    "For future analyses, we should reduce the number of the predictors or choose alternative predictor variables in order to correctly evaluate our hypothesis.\n",
    "\n",
    "Despite these problems, we were able to explain two things about our hypothese:\n",
    "- Productivity decreases with increasing Ø-working hours, but the negative relationship is not as strong as expected.\n",
    "- While we can say that a country's Life satisfaction is strongly correlated with Productivity growth, we cannot say that it is the most relevant factor. This is because, contrary to expectations, the Gini coefficient has a large correlation with Productivity.\n",
    "\n",
    "*What happens in real world?*\n",
    "Our models are just an example statistic that does not 100 % reflect the real world. The real world is more complicated than we think and there are different variables, so we have to keep in mind that there are unexpected variables that can affect our response variable. Therefore, we must be careful with this interpretation. Although there are real associations, these data are observational data and cannot accurately interpret the causal relationship between variables in real world."
   ]
  },
  {
   "attachments": {},
   "cell_type": "markdown",
   "metadata": {},
   "source": [
    "# Sources\n",
    "Research Question:\n",
    "- OECD (2022), Labour productivity and utilisation (indicator). doi: 10.1787/02c02f63-en (Accessed on 11 December 2022) https://www.oecd-ilibrary.org/sites/3d9f648d-en/index.html?itemId=/content/component/3d9f648d-en\n",
    "- Pencavel, J. (2016), Recovery from Work and the Productivity of Working Hours. Economica, 83: 545-563. https://doi.org/10.1111/ecca.12206\n",
    "- Messenger, J. \"Working time and the future of work.\" ILO future of work research paper series 6.8 (2018): 33-37. http://www.ilo.int/wcmsp5/groups/public/---dgreports/---cabinet/documents/publication/wcms_649907.pdf\n",
    "\n",
    "Explorative data analysis:\n",
    "- Shelke, Mayuri S., Prashant R. Deshmukh, and Vijaya K. Shandilya. \"A review on imbalanced data handling using undersampling and oversampling technique.\" Int. J. Recent Trends Eng. Res 3.4 (2017): 444-449.\n"
   ]
  },
  {
   "attachments": {},
   "cell_type": "markdown",
   "metadata": {},
   "source": [
    "# Appendix"
   ]
  },
  {
   "attachments": {},
   "cell_type": "markdown",
   "metadata": {},
   "source": [
    "### Source description\n",
    "\n",
    "The original source of this data is the website https://ourworldindata.org/ which does specific analysis based on data gathered from various books and sources. The website has made it possible to observe each important indicator through various data visualizations based on different countries and on time scales. All data required for the purpose of our research was obtained from four main analyzes of original sources, all data provided in these analyzes are data from various published books and scholarly sources.\n",
    "- Four main analzyes of original website:\n",
    "  - Working hours\n",
    "  - Income Inequality\n",
    "  - Life Expectancy\n",
    "  - Happiness and Life Satisfaction\n",
    "Since we collected the necessary data after selecting the research topic first, we searched for analysis data with indicators suitable for the research purpose.\n",
    "\n",
    "\n",
    "At each of the links below, we collected various csv files for research purposes, and further integrated and organized the data for analysis through scripting in **MySQL**. \n",
    "\n",
    " - Annual working hours per worker (https://ourworldindata.org/grapher/annual-working-hours-per-worker): The measure is labeled “Average annual hours worked by persons engaged” (PWT label) and “Average annual hours worked per worker” (TED label). It refers to actual hours worked and is calculated as total annual hours worked divided by persons employed. Annual hours are based on estimates of weekly working hours and weeks worked.\n",
    "The original sources are National Accounts data when available; when unavailable, other databases (e.g., the Asian Productivity Organization’s Asian Productivity Database) and academic publications are used. \n",
    "\n",
    "  - Annual working hours vs. GDP per capita (https://ourworldindata.org/grapher/annual-working-hours-vs-gdp-per-capita-pwt?time=2019..latest): GDP per capita was extracted from Penn World Table (PWT), a standard source on real GDP across countries. Making use of prices collected across countries in benchmark years by the International Comparisons Program, and using these prices to construct\n",
    "purchasing-power-parity exchange rates, PWT converts GDP at national prices to a common currency – U.S. dollars – making them comparable across countries.\n",
    "\n",
    "  - Productivity (https://ourworldindata.org/grapher/labor-productivity-per-hour-pennworldtable?country=AUS~BEL~BRA~KHM~CHL~CHN~DEU~IND~ZAF~KOR~TWN~GBR~USA~CHE): Productivity is measured as GDP per hour of work. Again PWT was used as a source.\n",
    "\n",
    "  - Life expectancy vs. healthcare expenditure (https://ourworldindata.org/grapher/life-expectancy-vs-healthcare-expenditure): The health expenditure estimates have been prepared by the World Health Organization (WHO) under the framework of the System of Health Accounts 2011 (SHA 2011). The Health SHA 2011 tracks all health spending in a given country over a defined period of time regardless of the entity or institution that financed and managed that spending. It generates consistent and comprehensive data on health spending in a country, which in turn can contribute to evidence-based policy-making. \n",
    "\n",
    "  - Income inequality: Gini coefficient (https://ourworldindata.org/grapher/economic-inequality-gini-index): This data explorer is collated and adapted from the World Bank’s Poverty and Inequality Platform (PIP). The World Bank’s PIP data is a large collection of household surveys where steps have been taken by the World Bank to harmonize definitions and methods across countries and over time.\n",
    "      \n",
    "  - Self-reported life satisfaction (https://ourworldindata.org/grapher/happiness-cantril-ladder): The data is puplished by the World Happiness Report. Life evaluation was measured by the individual answers to the Cantril ladder question: “Please imagine a ladder, with steps numbered from 0 at the bottom to 10 at the top. The top of the ladder represents the best possible life for you and the bottom of the ladder represents the worst possible life for you. On which step of the ladder would you say you personally feel you stand at this time?” The value shown in a given year is the average of that year and the previous and following year. For example, the value given for 2020 is an average of the values for 2019-2021.\n",
    "\n"
   ]
  },
  {
   "attachments": {},
   "cell_type": "markdown",
   "metadata": {},
   "source": [
    "### Data dictionary"
   ]
  },
  {
   "cell_type": "code",
   "execution_count": 75,
   "metadata": {},
   "outputs": [
    {
     "data": {
      "text/html": [
       "<div>\n",
       "<style scoped>\n",
       "    .dataframe tbody tr th:only-of-type {\n",
       "        vertical-align: middle;\n",
       "    }\n",
       "\n",
       "    .dataframe tbody tr th {\n",
       "        vertical-align: top;\n",
       "    }\n",
       "\n",
       "    .dataframe thead th {\n",
       "        text-align: right;\n",
       "    }\n",
       "</style>\n",
       "<table border=\"1\" class=\"dataframe\">\n",
       "  <thead>\n",
       "    <tr style=\"text-align: right;\">\n",
       "      <th></th>\n",
       "      <th>Name</th>\n",
       "      <th>Description</th>\n",
       "      <th>Role</th>\n",
       "      <th>Type</th>\n",
       "      <th>Format</th>\n",
       "    </tr>\n",
       "  </thead>\n",
       "  <tbody>\n",
       "    <tr>\n",
       "      <th>0</th>\n",
       "      <td>Continent</td>\n",
       "      <td>Continent name</td>\n",
       "      <td>ID</td>\n",
       "      <td>nominal</td>\n",
       "      <td>category</td>\n",
       "    </tr>\n",
       "    <tr>\n",
       "      <th>1</th>\n",
       "      <td>Country</td>\n",
       "      <td>Country name</td>\n",
       "      <td>ID</td>\n",
       "      <td>nominal</td>\n",
       "      <td>object</td>\n",
       "    </tr>\n",
       "    <tr>\n",
       "      <th>2</th>\n",
       "      <td>Code</td>\n",
       "      <td>Country codes by alpha-3</td>\n",
       "      <td>ID</td>\n",
       "      <td>nominal</td>\n",
       "      <td>object</td>\n",
       "    </tr>\n",
       "    <tr>\n",
       "      <th>3</th>\n",
       "      <td>Year</td>\n",
       "      <td>Year: Only 2017 data was considered in this an...</td>\n",
       "      <td>ID</td>\n",
       "      <td>numeric</td>\n",
       "      <td>int64</td>\n",
       "    </tr>\n",
       "    <tr>\n",
       "      <th>4</th>\n",
       "      <td>Ø working hours</td>\n",
       "      <td>Working hours are the annual average per worker.</td>\n",
       "      <td>Predictor</td>\n",
       "      <td>numeric</td>\n",
       "      <td>float64</td>\n",
       "    </tr>\n",
       "    <tr>\n",
       "      <th>5</th>\n",
       "      <td>GDP</td>\n",
       "      <td>The GDP per capita by country in 2017 is listed.</td>\n",
       "      <td>Predictor</td>\n",
       "      <td>numeric</td>\n",
       "      <td>float64</td>\n",
       "    </tr>\n",
       "    <tr>\n",
       "      <th>6</th>\n",
       "      <td>Population</td>\n",
       "      <td>The number of population by country in 2017 is...</td>\n",
       "      <td>Predictor</td>\n",
       "      <td>numeric</td>\n",
       "      <td>int64</td>\n",
       "    </tr>\n",
       "    <tr>\n",
       "      <th>7</th>\n",
       "      <td>Gini coefficient</td>\n",
       "      <td>The 2017 Gini coefficient for each country is ...</td>\n",
       "      <td>Predictor</td>\n",
       "      <td>numeric</td>\n",
       "      <td>float64</td>\n",
       "    </tr>\n",
       "    <tr>\n",
       "      <th>8</th>\n",
       "      <td>Life satisfaction</td>\n",
       "      <td>The level of life satisfaction for each countr...</td>\n",
       "      <td>Predictor</td>\n",
       "      <td>numeric</td>\n",
       "      <td>float64</td>\n",
       "    </tr>\n",
       "    <tr>\n",
       "      <th>9</th>\n",
       "      <td>Productivity</td>\n",
       "      <td>Productivity is measured as gross domestic pro...</td>\n",
       "      <td>Response</td>\n",
       "      <td>numeric</td>\n",
       "      <td>float64</td>\n",
       "    </tr>\n",
       "    <tr>\n",
       "      <th>10</th>\n",
       "      <td>Health expenditure</td>\n",
       "      <td>Healthcare expenditure per capita is measured ...</td>\n",
       "      <td>Predictor</td>\n",
       "      <td>numeric</td>\n",
       "      <td>float64</td>\n",
       "    </tr>\n",
       "  </tbody>\n",
       "</table>\n",
       "</div>"
      ],
      "text/plain": [
       "                  Name                                        Description  \\\n",
       "0            Continent                                     Continent name   \n",
       "1              Country                                       Country name   \n",
       "2                 Code                           Country codes by alpha-3   \n",
       "3                 Year  Year: Only 2017 data was considered in this an...   \n",
       "4      Ø working hours   Working hours are the annual average per worker.   \n",
       "5                  GDP   The GDP per capita by country in 2017 is listed.   \n",
       "6           Population  The number of population by country in 2017 is...   \n",
       "7     Gini coefficient  The 2017 Gini coefficient for each country is ...   \n",
       "8    Life satisfaction  The level of life satisfaction for each countr...   \n",
       "9         Productivity  Productivity is measured as gross domestic pro...   \n",
       "10  Health expenditure  Healthcare expenditure per capita is measured ...   \n",
       "\n",
       "         Role     Type    Format  \n",
       "0          ID  nominal  category  \n",
       "1          ID  nominal    object  \n",
       "2          ID  nominal    object  \n",
       "3          ID  numeric     int64  \n",
       "4   Predictor  numeric   float64  \n",
       "5   Predictor  numeric   float64  \n",
       "6   Predictor  numeric     int64  \n",
       "7   Predictor  numeric   float64  \n",
       "8   Predictor  numeric   float64  \n",
       "9    Response  numeric   float64  \n",
       "10  Predictor  numeric   float64  "
      ]
     },
     "execution_count": 75,
     "metadata": {},
     "output_type": "execute_result"
    }
   ],
   "source": [
    "data_dictionary = {'Name': list(df.columns.values),\n",
    "            'Description': ['Continent name','Country name','Country codes by alpha-3','Year: Only 2017 data was considered in this analysis to satisfy the independence condition','Working hours are the annual average per worker.','The GDP per capita by country in 2017 is listed.','The number of population by country in 2017 is listed.','The 2017 Gini coefficient for each country is listed, so the level of income inequality can be determined.','The level of life satisfaction for each country has been measured by survey: “Please imagine a ladder, with steps numbered from 0 at the bottom to 10 at the top. The top of the ladder represents the best possible life for you and the bottom of the ladder represents the worst possible life for you. On which step of the ladder would you say you personally feel you stand at this time?”','Productivity is measured as gross domestic product (GDP) per hour of work. This data is adjusted for inflation and for differences in the cost of living between countries.','Healthcare expenditure per capita is measured in current international-$, which adjusts for price differences between countries.'],\n",
    "            'Role': ['ID','ID','ID','ID','Predictor','Predictor','Predictor','Predictor','Predictor','Response','Predictor'],\n",
    "            'Type': ['nominal','nominal','nominal','numeric','numeric','numeric','numeric','numeric','numeric','numeric','numeric'],\n",
    "            'Format': list(df.dtypes)}\n",
    "\n",
    "df_dictionary = pd.DataFrame(data_dictionary)\n",
    "df_dictionary"
   ]
  },
  {
   "attachments": {},
   "cell_type": "markdown",
   "metadata": {},
   "source": [
    "### Chart 1: Gini coefficient - distribution plot and boxplot"
   ]
  },
  {
   "cell_type": "code",
   "execution_count": 76,
   "metadata": {},
   "outputs": [
    {
     "name": "stderr",
     "output_type": "stream",
     "text": [
      "c:\\Users\\ji_so\\anaconda3\\envs\\stats\\lib\\site-packages\\altair\\utils\\core.py:317: FutureWarning: iteritems is deprecated and will be removed in a future version. Use .items instead.\n",
      "  for col_name, dtype in df.dtypes.iteritems():\n"
     ]
    },
    {
     "data": {
      "text/html": [
       "\n",
       "<div id=\"altair-viz-b99c4801b13b485788a4f3d531e9a4c5\"></div>\n",
       "<script type=\"text/javascript\">\n",
       "  var VEGA_DEBUG = (typeof VEGA_DEBUG == \"undefined\") ? {} : VEGA_DEBUG;\n",
       "  (function(spec, embedOpt){\n",
       "    let outputDiv = document.currentScript.previousElementSibling;\n",
       "    if (outputDiv.id !== \"altair-viz-b99c4801b13b485788a4f3d531e9a4c5\") {\n",
       "      outputDiv = document.getElementById(\"altair-viz-b99c4801b13b485788a4f3d531e9a4c5\");\n",
       "    }\n",
       "    const paths = {\n",
       "      \"vega\": \"https://cdn.jsdelivr.net/npm//vega@5?noext\",\n",
       "      \"vega-lib\": \"https://cdn.jsdelivr.net/npm//vega-lib?noext\",\n",
       "      \"vega-lite\": \"https://cdn.jsdelivr.net/npm//vega-lite@4.17.0?noext\",\n",
       "      \"vega-embed\": \"https://cdn.jsdelivr.net/npm//vega-embed@6?noext\",\n",
       "    };\n",
       "\n",
       "    function maybeLoadScript(lib, version) {\n",
       "      var key = `${lib.replace(\"-\", \"\")}_version`;\n",
       "      return (VEGA_DEBUG[key] == version) ?\n",
       "        Promise.resolve(paths[lib]) :\n",
       "        new Promise(function(resolve, reject) {\n",
       "          var s = document.createElement('script');\n",
       "          document.getElementsByTagName(\"head\")[0].appendChild(s);\n",
       "          s.async = true;\n",
       "          s.onload = () => {\n",
       "            VEGA_DEBUG[key] = version;\n",
       "            return resolve(paths[lib]);\n",
       "          };\n",
       "          s.onerror = () => reject(`Error loading script: ${paths[lib]}`);\n",
       "          s.src = paths[lib];\n",
       "        });\n",
       "    }\n",
       "\n",
       "    function showError(err) {\n",
       "      outputDiv.innerHTML = `<div class=\"error\" style=\"color:red;\">${err}</div>`;\n",
       "      throw err;\n",
       "    }\n",
       "\n",
       "    function displayChart(vegaEmbed) {\n",
       "      vegaEmbed(outputDiv, spec, embedOpt)\n",
       "        .catch(err => showError(`Javascript Error: ${err.message}<br>This usually means there's a typo in your chart specification. See the javascript console for the full traceback.`));\n",
       "    }\n",
       "\n",
       "    if(typeof define === \"function\" && define.amd) {\n",
       "      requirejs.config({paths});\n",
       "      require([\"vega-embed\"], displayChart, err => showError(`Error loading script: ${err.message}`));\n",
       "    } else {\n",
       "      maybeLoadScript(\"vega\", \"5\")\n",
       "        .then(() => maybeLoadScript(\"vega-lite\", \"4.17.0\"))\n",
       "        .then(() => maybeLoadScript(\"vega-embed\", \"6\"))\n",
       "        .catch(showError)\n",
       "        .then(() => displayChart(vegaEmbed));\n",
       "    }\n",
       "  })({\"config\": {\"view\": {\"continuousWidth\": 400, \"continuousHeight\": 300}}, \"vconcat\": [{\"mark\": \"bar\", \"encoding\": {\"x\": {\"bin\": {\"maxbins\": 20}, \"field\": \"Gini coefficient\", \"scale\": {\"zero\": true}, \"type\": \"quantitative\"}, \"y\": {\"aggregate\": \"count\", \"type\": \"quantitative\"}}}, {\"mark\": \"boxplot\", \"encoding\": {\"x\": {\"field\": \"Gini coefficient\", \"type\": \"quantitative\"}}}], \"data\": {\"name\": \"data-7e5e1d31b7d7dfe3b746d19bb1e7c61c\"}, \"$schema\": \"https://vega.github.io/schema/vega-lite/v4.17.0.json\", \"datasets\": {\"data-7e5e1d31b7d7dfe3b746d19bb1e7c61c\": [{\"Continent\": \"Americas\", \"Country\": \"Argentina\", \"Code\": \"ARG\", \"Year\": 2017, \"\\u00d8 working hours\": 1691.5363, \"GDP\": 23272.18, \"Population\": 44054616, \"Gini coefficient\": 0.3407793115, \"Life satisfaction\": 6.085560799, \"Productivity\": 30.95546039, \"Health expenditure\": 2470.11}, {\"Continent\": \"Oceania\", \"Country\": \"Australia\", \"Code\": \"AUS\", \"Year\": 2017, \"\\u00d8 working hours\": 1731.4943, \"GDP\": 52536.19, \"Population\": 24590336, \"Gini coefficient\": 0.3407793115, \"Life satisfaction\": 7.233994961, \"Productivity\": 60.3416786, \"Health expenditure\": 4715.83}, {\"Continent\": \"Europe\", \"Country\": \"Austria\", \"Code\": \"AUT\", \"Year\": 2017, \"\\u00d8 working hours\": 1613.0519, \"GDP\": 51954.28, \"Population\": 8797497, \"Gini coefficient\": 0.29737585, \"Life satisfaction\": 7.195361137, \"Productivity\": 64.7801697, \"Health expenditure\": 5641.18}, {\"Continent\": \"Asia\", \"Country\": \"Bangladesh\", \"Code\": \"BGD\", \"Year\": 2017, \"\\u00d8 working hours\": 2232.3542, \"GDP\": 4112.7, \"Population\": 161793968, \"Gini coefficient\": 0.3407793115, \"Life satisfaction\": 5.114216805, \"Productivity\": 4.307636988, \"Health expenditure\": 101.18}, {\"Continent\": \"Europe\", \"Country\": \"Belgium\", \"Code\": \"BEL\", \"Year\": 2017, \"\\u00d8 working hours\": 1544.269, \"GDP\": 45150.2, \"Population\": 11384491, \"Gini coefficient\": 0.273879678, \"Life satisfaction\": 6.772138119, \"Productivity\": 68.51652068, \"Health expenditure\": 5450.48}, {\"Continent\": \"Americas\", \"Country\": \"Brazil\", \"Code\": \"BRA\", \"Year\": 2017, \"\\u00d8 working hours\": 1709.4856, \"GDP\": 14284.61, \"Population\": 208504960, \"Gini coefficient\": 0.5333405, \"Life satisfaction\": 6.451148987, \"Productivity\": 19.18829359, \"Health expenditure\": 1375.66}, {\"Continent\": \"Europe\", \"Country\": \"Bulgaria\", \"Code\": \"BGR\", \"Year\": 2017, \"\\u00d8 working hours\": 1643.5475, \"GDP\": 19579.83, \"Population\": 7182430, \"Gini coefficient\": 0.403790468, \"Life satisfaction\": 5.108438015, \"Productivity\": 25.39212178, \"Health expenditure\": 1607.71}, {\"Continent\": \"Asia\", \"Country\": \"Cambodia\", \"Code\": \"KHM\", \"Year\": 2017, \"\\u00d8 working hours\": 2455.5508, \"GDP\": 3950.93, \"Population\": 15830694, \"Gini coefficient\": 0.3407793115, \"Life satisfaction\": 4.998284817, \"Productivity\": 3.022649989, \"Health expenditure\": 224.81}, {\"Continent\": \"Americas\", \"Country\": \"Canada\", \"Code\": \"CAN\", \"Year\": 2017, \"\\u00d8 working hours\": 1696.4624, \"GDP\": 48902.64, \"Population\": 36554344, \"Gini coefficient\": 0.333082063, \"Life satisfaction\": 7.1090765, \"Productivity\": 56.25571848, \"Health expenditure\": 5208.72}, {\"Continent\": \"Americas\", \"Country\": \"Chile\", \"Code\": \"CHL\", \"Year\": 2017, \"\\u00d8 working hours\": 1974.0, \"GDP\": 22864.05, \"Population\": 18368582, \"Gini coefficient\": 0.444410284, \"Life satisfaction\": 5.942250252, \"Productivity\": 27.26079146, \"Health expenditure\": 2219.14}, {\"Continent\": \"Asia\", \"Country\": \"China\", \"Code\": \"CHN\", \"Year\": 2017, \"\\u00d8 working hours\": 2174.3501, \"GDP\": 13854.23, \"Population\": 1410275968, \"Gini coefficient\": 0.390757759, \"Life satisfaction\": 5.144120216, \"Productivity\": 11.35773921, \"Health expenditure\": 706.37}, {\"Continent\": \"Americas\", \"Country\": \"Colombia\", \"Code\": \"COL\", \"Year\": 2017, \"\\u00d8 working hours\": 1997.748, \"GDP\": 13426.76, \"Population\": 48351668, \"Gini coefficient\": 0.497154848, \"Life satisfaction\": 6.350297928, \"Productivity\": 15.63291474, \"Health expenditure\": 1088.17}, {\"Continent\": \"Americas\", \"Country\": \"Costa Rica\", \"Code\": \"CRI\", \"Year\": 2017, \"\\u00d8 working hours\": 2212.3835, \"GDP\": 18127.81, \"Population\": 4993849, \"Gini coefficient\": 0.483465406, \"Life satisfaction\": 6.997618675, \"Productivity\": 18.72804079, \"Health expenditure\": 1439.77}, {\"Continent\": \"Europe\", \"Country\": \"Croatia\", \"Code\": \"HRV\", \"Year\": 2017, \"\\u00d8 working hours\": 1834.9327, \"GDP\": 25359.7, \"Population\": 4192468, \"Gini coefficient\": 0.303545759, \"Life satisfaction\": 5.625743866, \"Productivity\": 33.15712673, \"Health expenditure\": 1804.07}, {\"Continent\": \"Asia\", \"Country\": \"Cyprus\", \"Code\": \"CYP\", \"Year\": 2017, \"\\u00d8 working hours\": 1783.5206, \"GDP\": 31253.99, \"Population\": 1208527, \"Gini coefficient\": 0.31416234, \"Life satisfaction\": 6.136832714, \"Productivity\": 42.59221773, \"Health expenditure\": 2532.87}, {\"Continent\": \"Europe\", \"Country\": \"Czechia\", \"Code\": \"CZE\", \"Year\": 2017, \"\\u00d8 working hours\": 1776.162, \"GDP\": 35579.26, \"Population\": 10531315, \"Gini coefficient\": 0.248522097, \"Life satisfaction\": 6.24209404, \"Productivity\": 39.42304869, \"Health expenditure\": 2785.65}, {\"Continent\": \"Europe\", \"Country\": \"Denmark\", \"Code\": \"DNK\", \"Year\": 2017, \"\\u00d8 working hours\": 1400.3815, \"GDP\": 51671.6, \"Population\": 5737286, \"Gini coefficient\": 0.287466614, \"Life satisfaction\": 7.693003178, \"Productivity\": 72.54114087, \"Health expenditure\": 5573.28}, {\"Continent\": \"Americas\", \"Country\": \"Ecuador\", \"Code\": \"ECU\", \"Year\": 2017, \"\\u00d8 working hours\": 1701.3558, \"GDP\": 11413.08, \"Population\": 16696947, \"Gini coefficient\": 0.446730295, \"Life satisfaction\": 5.809131145, \"Productivity\": 15.32391947, \"Health expenditure\": 863.05}, {\"Continent\": \"Europe\", \"Country\": \"Estonia\", \"Code\": \"EST\", \"Year\": 2017, \"\\u00d8 working hours\": 1856.6827, \"GDP\": 30981.6, \"Population\": 1317550, \"Gini coefficient\": 0.303550262, \"Life satisfaction\": 6.034641266, \"Productivity\": 33.48799406, \"Health expenditure\": 2241.85}, {\"Continent\": \"Europe\", \"Country\": \"Finland\", \"Code\": \"FIN\", \"Year\": 2017, \"\\u00d8 working hours\": 1659.2806, \"GDP\": 43827.15, \"Population\": 5508146, \"Gini coefficient\": 0.273830854, \"Life satisfaction\": 7.780347824, \"Productivity\": 58.88463786, \"Health expenditure\": 4339.1}, {\"Continent\": \"Europe\", \"Country\": \"France\", \"Code\": \"FRA\", \"Year\": 2017, \"\\u00d8 working hours\": 1514.1371, \"GDP\": 42818.76, \"Population\": 64144092, \"Gini coefficient\": 0.316320654, \"Life satisfaction\": 6.689644337, \"Productivity\": 68.37434064, \"Health expenditure\": 5059.99}, {\"Continent\": \"Europe\", \"Country\": \"Germany\", \"Code\": \"DEU\", \"Year\": 2017, \"\\u00d8 working hours\": 1353.8868, \"GDP\": 51253.33, \"Population\": 82624368, \"Gini coefficient\": 0.312019051, \"Life satisfaction\": 7.035472393, \"Productivity\": 69.84848268, \"Health expenditure\": 6028.25}, {\"Continent\": \"Europe\", \"Country\": \"Greece\", \"Code\": \"GRC\", \"Year\": 2017, \"\\u00d8 working hours\": 2016.8954, \"GDP\": 26477.58, \"Population\": 10692230, \"Gini coefficient\": 0.343520211, \"Life satisfaction\": 5.952157497, \"Productivity\": 33.35995335, \"Health expenditure\": 2325.62}, {\"Continent\": \"Asia\", \"Country\": \"Hong Kong\", \"Code\": \"HKG\", \"Year\": 2017, \"\\u00d8 working hours\": 2185.5789, \"GDP\": 49927.07, \"Population\": 7461508, \"Gini coefficient\": 0.3407793115, \"Life satisfaction\": 5.659317017, \"Productivity\": 44.37298407, \"Health expenditure\": 2230.495}, {\"Continent\": \"Europe\", \"Country\": \"Hungary\", \"Code\": \"HUN\", \"Year\": 2017, \"\\u00d8 working hours\": 1937.3325, \"GDP\": 26908.97, \"Population\": 9788940, \"Gini coefficient\": 0.305841235, \"Life satisfaction\": 6.000259876, \"Productivity\": 33.0558028, \"Health expenditure\": 1988.7}, {\"Continent\": \"Europe\", \"Country\": \"Iceland\", \"Code\": \"ISL\", \"Year\": 2017, \"\\u00d8 working hours\": 1493.3651, \"GDP\": 49844.32, \"Population\": 343641, \"Gini coefficient\": 0.261315802, \"Life satisfaction\": 7.532504559, \"Productivity\": 59.12501586, \"Health expenditure\": 4762.73}, {\"Continent\": \"Asia\", \"Country\": \"India\", \"Code\": \"IND\", \"Year\": 2017, \"\\u00d8 working hours\": 2117.0117, \"GDP\": 6188.46, \"Population\": 1354195712, \"Gini coefficient\": 0.359430473, \"Life satisfaction\": 3.24876976, \"Productivity\": 8.009787126, \"Health expenditure\": 181.53}, {\"Continent\": \"Asia\", \"Country\": \"Indonesia\", \"Code\": \"IDN\", \"Year\": 2017, \"\\u00d8 working hours\": 2024.287, \"GDP\": 10640.7, \"Population\": 264498848, \"Gini coefficient\": 0.38785263, \"Life satisfaction\": 5.346512794, \"Productivity\": 11.35478727, \"Health expenditure\": 317.59}, {\"Continent\": \"Europe\", \"Country\": \"Ireland\", \"Code\": \"IRL\", \"Year\": 2017, \"\\u00d8 working hours\": 1745.6843, \"GDP\": 86808.65, \"Population\": 4771860, \"Gini coefficient\": 0.313598037, \"Life satisfaction\": 7.254841328, \"Productivity\": 109.488306, \"Health expenditure\": 5582.93}, {\"Continent\": \"Asia\", \"Country\": \"Israel\", \"Code\": \"ISR\", \"Year\": 2017, \"\\u00d8 working hours\": 1920.6106, \"GDP\": 38979.03, \"Population\": 8309256, \"Gini coefficient\": 0.382020644, \"Life satisfaction\": 7.331779957, \"Productivity\": 41.0201119, \"Health expenditure\": 2992.02}, {\"Continent\": \"Europe\", \"Country\": \"Italy\", \"Code\": \"ITA\", \"Year\": 2017, \"\\u00d8 working hours\": 1722.6113, \"GDP\": 40155.51, \"Population\": 60004024, \"Gini coefficient\": 0.359280009, \"Life satisfaction\": 6.445416927, \"Productivity\": 56.27207136, \"Health expenditure\": 3616.67}, {\"Continent\": \"Asia\", \"Country\": \"Japan\", \"Code\": \"JPN\", \"Year\": 2017, \"\\u00d8 working hours\": 1738.3633, \"GDP\": 39598.29, \"Population\": 126662464, \"Gini coefficient\": 0.3407793115, \"Life satisfaction\": 5.908039093, \"Productivity\": 42.4229346, \"Health expenditure\": 4398.02}, {\"Continent\": \"Europe\", \"Country\": \"Latvia\", \"Code\": \"LVA\", \"Year\": 2017, \"\\u00d8 working hours\": 1874.5979, \"GDP\": 27162.37, \"Population\": 1954861, \"Gini coefficient\": 0.355719346, \"Life satisfaction\": 5.969753742, \"Productivity\": 31.56864146, \"Health expenditure\": 1703.6}, {\"Continent\": \"Europe\", \"Country\": \"Lithuania\", \"Code\": \"LTU\", \"Year\": 2017, \"\\u00d8 working hours\": 1844.0171, \"GDP\": 29832.8, \"Population\": 2904452, \"Gini coefficient\": 0.372896992, \"Life satisfaction\": 6.064097881, \"Productivity\": 32.99194736, \"Health expenditure\": 2178.09}, {\"Continent\": \"Europe\", \"Country\": \"Luxembourg\", \"Code\": \"LUX\", \"Year\": 2017, \"\\u00d8 working hours\": 1518.8575, \"GDP\": 90597.55, \"Population\": 596290, \"Gini coefficient\": 0.345157399, \"Life satisfaction\": 7.404015541, \"Productivity\": 83.16536059, \"Health expenditure\": 5980.64}, {\"Continent\": \"Asia\", \"Country\": \"Malaysia\", \"Code\": \"MYS\", \"Year\": 2017, \"\\u00d8 working hours\": 2238.2729, \"GDP\": 24159.17, \"Population\": 31975812, \"Gini coefficient\": 0.3407793115, \"Life satisfaction\": 5.427954197, \"Productivity\": 23.65407513, \"Health expenditure\": 987.58}, {\"Continent\": \"Europe\", \"Country\": \"Malta\", \"Code\": \"MLT\", \"Year\": 2017, \"\\u00d8 working hours\": 2040.0317, \"GDP\": 35154.08, \"Population\": 479507, \"Gini coefficient\": 0.292322386, \"Life satisfaction\": 6.73297739, \"Productivity\": 39.21617358, \"Health expenditure\": 3873.25}, {\"Continent\": \"Americas\", \"Country\": \"Mexico\", \"Code\": \"MEX\", \"Year\": 2017, \"\\u00d8 working hours\": 2255.0, \"GDP\": 18939.9, \"Population\": 122839256, \"Gini coefficient\": 0.3407793115, \"Life satisfaction\": 6.431945324, \"Productivity\": 21.02031412, \"Health expenditure\": 1076.31}, {\"Continent\": \"Asia\", \"Country\": \"Myanmar\", \"Code\": \"MMR\", \"Year\": 2017, \"\\u00d8 working hours\": 2437.8633, \"GDP\": 4762.93, \"Population\": 52288344, \"Gini coefficient\": 0.306968695, \"Life satisfaction\": 4.43423748, \"Productivity\": 4.735483675, \"Health expenditure\": 214.63}, {\"Continent\": \"Europe\", \"Country\": \"Netherlands\", \"Code\": \"NLD\", \"Year\": 2017, \"\\u00d8 working hours\": 1430.0229, \"GDP\": 54233.45, \"Population\": 17207204, \"Gini coefficient\": 0.285358194, \"Life satisfaction\": 7.42526865, \"Productivity\": 70.61846134, \"Health expenditure\": 5602.59}, {\"Continent\": \"Oceania\", \"Country\": \"New Zealand\", \"Code\": \"NZL\", \"Year\": 2017, \"\\u00d8 working hours\": 1752.0, \"GDP\": 39728.86, \"Population\": 4746253, \"Gini coefficient\": 0.3407793115, \"Life satisfaction\": 7.205174446, \"Productivity\": 42.73759913, \"Health expenditure\": 3875.54}, {\"Continent\": \"Africa\", \"Country\": \"Nigeria\", \"Code\": \"NGA\", \"Year\": 2017, \"\\u00d8 working hours\": 1827.2401, \"GDP\": 5060.98, \"Population\": 193495904, \"Gini coefficient\": 0.3407793115, \"Life satisfaction\": 4.356419086, \"Productivity\": 34.62209549, \"Health expenditure\": 194.81}, {\"Continent\": \"Europe\", \"Country\": \"Norway\", \"Code\": \"NOR\", \"Year\": 2017, \"\\u00d8 working hours\": 1417.4723, \"GDP\": 69604.79, \"Population\": 5277396, \"Gini coefficient\": 0.269873302, \"Life satisfaction\": 7.442139626, \"Productivity\": 96.84903378, \"Health expenditure\": 6630.84}, {\"Continent\": \"Asia\", \"Country\": \"Pakistan\", \"Code\": \"PAK\", \"Year\": 2017, \"\\u00d8 working hours\": 2096.1443, \"GDP\": 4743.69, \"Population\": 216379648, \"Gini coefficient\": 0.3407793115, \"Life satisfaction\": 4.442717552, \"Productivity\": 8.322207396, \"Health expenditure\": 132.67}, {\"Continent\": \"Americas\", \"Country\": \"Peru\", \"Code\": \"PER\", \"Year\": 2017, \"\\u00d8 working hours\": 1932.4581, \"GDP\": 11956.63, \"Population\": 31605488, \"Gini coefficient\": 0.4329279, \"Life satisfaction\": 5.999381542, \"Productivity\": 10.7489986, \"Health expenditure\": 624.02}, {\"Continent\": \"Asia\", \"Country\": \"Philippines\", \"Code\": \"PHL\", \"Year\": 2017, \"\\u00d8 working hours\": 2148.5645, \"GDP\": 7858.48, \"Population\": 106738496, \"Gini coefficient\": 0.3407793115, \"Life satisfaction\": 6.267745018, \"Productivity\": 9.450449282, \"Health expenditure\": 321.62}, {\"Continent\": \"Europe\", \"Country\": \"Poland\", \"Code\": \"POL\", \"Year\": 2017, \"\\u00d8 working hours\": 2028.4952, \"GDP\": 29047.82, \"Population\": 38532816, \"Gini coefficient\": 0.302965813, \"Life satisfaction\": 6.24209404, \"Productivity\": 33.66429154, \"Health expenditure\": 1972.37}, {\"Continent\": \"Europe\", \"Country\": \"Portugal\", \"Code\": \"PRT\", \"Year\": 2017, \"\\u00d8 working hours\": 1863.1744, \"GDP\": 30430.03, \"Population\": 10307528, \"Gini coefficient\": 0.338038412, \"Life satisfaction\": 6.095473289, \"Productivity\": 34.62209549, \"Health expenditure\": 3072.32}, {\"Continent\": \"Europe\", \"Country\": \"Romania\", \"Code\": \"ROU\", \"Year\": 2017, \"\\u00d8 working hours\": 1805.9998, \"GDP\": 25424.06, \"Population\": 19698852, \"Gini coefficient\": 0.360168279, \"Life satisfaction\": 6.129942417, \"Productivity\": 32.2711146, \"Health expenditure\": 1398.55}, {\"Continent\": \"Europe\", \"Country\": \"Russia\", \"Code\": \"RUS\", \"Year\": 2017, \"\\u00d8 working hours\": 1974.0, \"GDP\": 26797.82, \"Population\": 145452544, \"Gini coefficient\": 0.37239071, \"Life satisfaction\": 5.440523624, \"Productivity\": 27.44623652, \"Health expenditure\": 1406.2}, {\"Continent\": \"Asia\", \"Country\": \"Singapore\", \"Code\": \"SGP\", \"Year\": 2017, \"\\u00d8 working hours\": 2237.7263, \"GDP\": 81444.79, \"Population\": 5764489, \"Gini coefficient\": 0.3407793115, \"Life satisfaction\": 6.378359795, \"Productivity\": 54.29877798, \"Health expenditure\": 4091.44}, {\"Continent\": \"Europe\", \"Country\": \"Slovakia\", \"Code\": \"SVK\", \"Year\": 2017, \"\\u00d8 working hours\": 1745.2307, \"GDP\": 26467.1, \"Population\": 5439418, \"Gini coefficient\": 0.23237751, \"Life satisfaction\": 6.243428707, \"Productivity\": 35.16566573, \"Health expenditure\": 2038.16}, {\"Continent\": \"Europe\", \"Country\": \"Slovenia\", \"Code\": \"SVN\", \"Year\": 2017, \"\\u00d8 working hours\": 1655.089, \"GDP\": 31594.71, \"Population\": 2098396, \"Gini coefficient\": 0.242193073, \"Life satisfaction\": 6.665273666, \"Productivity\": 40.55475278, \"Health expenditure\": 2998.32}, {\"Continent\": \"Africa\", \"Country\": \"South Africa\", \"Code\": \"ZAF\", \"Year\": 2017, \"\\u00d8 working hours\": 2209.0916, \"GDP\": 12735.03, \"Population\": 56641208, \"Gini coefficient\": 0.3407793115, \"Life satisfaction\": 5.034863472, \"Productivity\": 18.05485455, \"Health expenditure\": 1107.89}, {\"Continent\": \"Asia\", \"Country\": \"South Korea\", \"Code\": \"KOR\", \"Year\": 2017, \"\\u00d8 working hours\": 2063.3315, \"GDP\": 40875.21, \"Population\": 51511640, \"Gini coefficient\": 0.3407793115, \"Life satisfaction\": 5.902816772, \"Productivity\": 39.08392755, \"Health expenditure\": 2925.95}, {\"Continent\": \"Europe\", \"Country\": \"Spain\", \"Code\": \"ESP\", \"Year\": 2017, \"\\u00d8 working hours\": 1686.4973, \"GDP\": 38928.51, \"Population\": 46584168, \"Gini coefficient\": 0.346545469, \"Life satisfaction\": 6.457449436, \"Productivity\": 56.06301345, \"Health expenditure\": 3556.87}, {\"Continent\": \"Asia\", \"Country\": \"Sri Lanka\", \"Code\": \"LKA\", \"Year\": 2017, \"\\u00d8 working hours\": 1923.9354, \"GDP\": 12733.1, \"Population\": 21506816, \"Gini coefficient\": 0.3407793115, \"Life satisfaction\": 4.213299274, \"Productivity\": 17.04851325, \"Health expenditure\": 459.25}, {\"Continent\": \"Europe\", \"Country\": \"Sweden\", \"Code\": \"SWE\", \"Year\": 2017, \"\\u00d8 working hours\": 1609.2896, \"GDP\": 52032.67, \"Population\": 10058191, \"Gini coefficient\": 0.287746034, \"Life satisfaction\": 7.398092747, \"Productivity\": 64.3374695, \"Health expenditure\": 5655.7}, {\"Continent\": \"Europe\", \"Country\": \"Switzerland\", \"Code\": \"CHE\", \"Year\": 2017, \"\\u00d8 working hours\": 1589.6758, \"GDP\": 73624.98, \"Population\": 8451688, \"Gini coefficient\": 0.32676334, \"Life satisfaction\": 7.69422102, \"Productivity\": 80.58822762, \"Health expenditure\": 7989.64}, {\"Continent\": \"Asia\", \"Country\": \"Taiwan\", \"Code\": \"TWN\", \"Year\": 2017, \"\\u00d8 working hours\": 1990.3212, \"GDP\": 45375.41, \"Population\": 23665028, \"Gini coefficient\": 0.3407793115, \"Life satisfaction\": 6.537089825, \"Productivity\": 44.99929907, \"Health expenditure\": 2230.495}, {\"Continent\": \"Asia\", \"Country\": \"Thailand\", \"Code\": \"THA\", \"Year\": 2017, \"\\u00d8 working hours\": 2185.4456, \"GDP\": 16665.38, \"Population\": 70898208, \"Gini coefficient\": 0.36528755, \"Life satisfaction\": 6.02215147, \"Productivity\": 14.74583813, \"Health expenditure\": 669.58}, {\"Continent\": \"Asia\", \"Country\": \"Turkey\", \"Code\": \"TUR\", \"Year\": 2017, \"\\u00d8 working hours\": 1832.0, \"GDP\": 26611.18, \"Population\": 82089824, \"Gini coefficient\": 0.414056667, \"Life satisfaction\": 4.87207365, \"Productivity\": 41.79920311, \"Health expenditure\": 1166.73}, {\"Continent\": \"Europe\", \"Country\": \"United Kingdom\", \"Code\": \"GBR\", \"Year\": 2017, \"\\u00d8 working hours\": 1670.2728, \"GDP\": 44093.93, \"Population\": 66064808, \"Gini coefficient\": 0.351488307, \"Life satisfaction\": 7.157151222, \"Productivity\": 54.67692069, \"Health expenditure\": 4515.59}, {\"Continent\": \"Americas\", \"Country\": \"United States\", \"Code\": \"USA\", \"Year\": 2017, \"\\u00d8 working hours\": 1757.2255, \"GDP\": 60116.57, \"Population\": 329791232, \"Gini coefficient\": 0.411805587, \"Life satisfaction\": 6.943701267, \"Productivity\": 71.63857051, \"Health expenditure\": 10103.09}, {\"Continent\": \"Americas\", \"Country\": \"Uruguay\", \"Code\": \"URY\", \"Year\": 2017, \"\\u00d8 working hours\": 1552.347, \"GDP\": 20615.56, \"Population\": 3422205, \"Gini coefficient\": 0.394645312, \"Life satisfaction\": 6.600337029, \"Productivity\": 28.29584596, \"Health expenditure\": 2029.89}, {\"Continent\": \"Asia\", \"Country\": \"Vietnam\", \"Code\": \"VNM\", \"Year\": 2017, \"\\u00d8 working hours\": 2169.5916, \"GDP\": 6841.65, \"Population\": 94033048, \"Gini coefficient\": 0.3407793115, \"Life satisfaction\": 5.467451096, \"Productivity\": 5.652919029, \"Health expenditure\": 423.98}]}}, {\"mode\": \"vega-lite\"});\n",
       "</script>"
      ],
      "text/plain": [
       "alt.VConcatChart(...)"
      ]
     },
     "execution_count": 76,
     "metadata": {},
     "output_type": "execute_result"
    }
   ],
   "source": [
    "# By using distribution plot we can decide which technique we will use for dealing with missing values.\n",
    "# Variable = Gini coefficient\n",
    "\n",
    "# Histogram\n",
    "hist = alt.Chart(df).mark_bar().encode(\n",
    "    x=alt.X(\"Gini coefficient\", \n",
    "            bin=alt.BinParams(maxbins=20), \n",
    "            scale=alt.Scale(zero=True)),\n",
    "    y='count()',\n",
    ")\n",
    "\n",
    "# Boxplot \n",
    "box = alt.Chart(df).mark_boxplot().encode(\n",
    "    x='Gini coefficient',\n",
    ")\n",
    "\n",
    "alt.vconcat(hist, box)"
   ]
  },
  {
   "attachments": {},
   "cell_type": "markdown",
   "metadata": {},
   "source": [
    "### Chart 2: Life satisfaction - distribution plot and boxplot"
   ]
  },
  {
   "cell_type": "code",
   "execution_count": 77,
   "metadata": {},
   "outputs": [
    {
     "data": {
      "text/html": [
       "\n",
       "<div id=\"altair-viz-7e929f6dfc6043b2affda2ba27378c91\"></div>\n",
       "<script type=\"text/javascript\">\n",
       "  var VEGA_DEBUG = (typeof VEGA_DEBUG == \"undefined\") ? {} : VEGA_DEBUG;\n",
       "  (function(spec, embedOpt){\n",
       "    let outputDiv = document.currentScript.previousElementSibling;\n",
       "    if (outputDiv.id !== \"altair-viz-7e929f6dfc6043b2affda2ba27378c91\") {\n",
       "      outputDiv = document.getElementById(\"altair-viz-7e929f6dfc6043b2affda2ba27378c91\");\n",
       "    }\n",
       "    const paths = {\n",
       "      \"vega\": \"https://cdn.jsdelivr.net/npm//vega@5?noext\",\n",
       "      \"vega-lib\": \"https://cdn.jsdelivr.net/npm//vega-lib?noext\",\n",
       "      \"vega-lite\": \"https://cdn.jsdelivr.net/npm//vega-lite@4.17.0?noext\",\n",
       "      \"vega-embed\": \"https://cdn.jsdelivr.net/npm//vega-embed@6?noext\",\n",
       "    };\n",
       "\n",
       "    function maybeLoadScript(lib, version) {\n",
       "      var key = `${lib.replace(\"-\", \"\")}_version`;\n",
       "      return (VEGA_DEBUG[key] == version) ?\n",
       "        Promise.resolve(paths[lib]) :\n",
       "        new Promise(function(resolve, reject) {\n",
       "          var s = document.createElement('script');\n",
       "          document.getElementsByTagName(\"head\")[0].appendChild(s);\n",
       "          s.async = true;\n",
       "          s.onload = () => {\n",
       "            VEGA_DEBUG[key] = version;\n",
       "            return resolve(paths[lib]);\n",
       "          };\n",
       "          s.onerror = () => reject(`Error loading script: ${paths[lib]}`);\n",
       "          s.src = paths[lib];\n",
       "        });\n",
       "    }\n",
       "\n",
       "    function showError(err) {\n",
       "      outputDiv.innerHTML = `<div class=\"error\" style=\"color:red;\">${err}</div>`;\n",
       "      throw err;\n",
       "    }\n",
       "\n",
       "    function displayChart(vegaEmbed) {\n",
       "      vegaEmbed(outputDiv, spec, embedOpt)\n",
       "        .catch(err => showError(`Javascript Error: ${err.message}<br>This usually means there's a typo in your chart specification. See the javascript console for the full traceback.`));\n",
       "    }\n",
       "\n",
       "    if(typeof define === \"function\" && define.amd) {\n",
       "      requirejs.config({paths});\n",
       "      require([\"vega-embed\"], displayChart, err => showError(`Error loading script: ${err.message}`));\n",
       "    } else {\n",
       "      maybeLoadScript(\"vega\", \"5\")\n",
       "        .then(() => maybeLoadScript(\"vega-lite\", \"4.17.0\"))\n",
       "        .then(() => maybeLoadScript(\"vega-embed\", \"6\"))\n",
       "        .catch(showError)\n",
       "        .then(() => displayChart(vegaEmbed));\n",
       "    }\n",
       "  })({\"config\": {\"view\": {\"continuousWidth\": 400, \"continuousHeight\": 300}}, \"vconcat\": [{\"mark\": \"bar\", \"encoding\": {\"x\": {\"bin\": {\"maxbins\": 20}, \"field\": \"Life satisfaction\", \"scale\": {\"zero\": true}, \"type\": \"quantitative\"}, \"y\": {\"aggregate\": \"count\", \"type\": \"quantitative\"}}}, {\"mark\": \"boxplot\", \"encoding\": {\"x\": {\"field\": \"Life satisfaction\", \"type\": \"quantitative\"}}}], \"data\": {\"name\": \"data-7e5e1d31b7d7dfe3b746d19bb1e7c61c\"}, \"$schema\": \"https://vega.github.io/schema/vega-lite/v4.17.0.json\", \"datasets\": {\"data-7e5e1d31b7d7dfe3b746d19bb1e7c61c\": [{\"Continent\": \"Americas\", \"Country\": \"Argentina\", \"Code\": \"ARG\", \"Year\": 2017, \"\\u00d8 working hours\": 1691.5363, \"GDP\": 23272.18, \"Population\": 44054616, \"Gini coefficient\": 0.3407793115, \"Life satisfaction\": 6.085560799, \"Productivity\": 30.95546039, \"Health expenditure\": 2470.11}, {\"Continent\": \"Oceania\", \"Country\": \"Australia\", \"Code\": \"AUS\", \"Year\": 2017, \"\\u00d8 working hours\": 1731.4943, \"GDP\": 52536.19, \"Population\": 24590336, \"Gini coefficient\": 0.3407793115, \"Life satisfaction\": 7.233994961, \"Productivity\": 60.3416786, \"Health expenditure\": 4715.83}, {\"Continent\": \"Europe\", \"Country\": \"Austria\", \"Code\": \"AUT\", \"Year\": 2017, \"\\u00d8 working hours\": 1613.0519, \"GDP\": 51954.28, \"Population\": 8797497, \"Gini coefficient\": 0.29737585, \"Life satisfaction\": 7.195361137, \"Productivity\": 64.7801697, \"Health expenditure\": 5641.18}, {\"Continent\": \"Asia\", \"Country\": \"Bangladesh\", \"Code\": \"BGD\", \"Year\": 2017, \"\\u00d8 working hours\": 2232.3542, \"GDP\": 4112.7, \"Population\": 161793968, \"Gini coefficient\": 0.3407793115, \"Life satisfaction\": 5.114216805, \"Productivity\": 4.307636988, \"Health expenditure\": 101.18}, {\"Continent\": \"Europe\", \"Country\": \"Belgium\", \"Code\": \"BEL\", \"Year\": 2017, \"\\u00d8 working hours\": 1544.269, \"GDP\": 45150.2, \"Population\": 11384491, \"Gini coefficient\": 0.273879678, \"Life satisfaction\": 6.772138119, \"Productivity\": 68.51652068, \"Health expenditure\": 5450.48}, {\"Continent\": \"Americas\", \"Country\": \"Brazil\", \"Code\": \"BRA\", \"Year\": 2017, \"\\u00d8 working hours\": 1709.4856, \"GDP\": 14284.61, \"Population\": 208504960, \"Gini coefficient\": 0.5333405, \"Life satisfaction\": 6.451148987, \"Productivity\": 19.18829359, \"Health expenditure\": 1375.66}, {\"Continent\": \"Europe\", \"Country\": \"Bulgaria\", \"Code\": \"BGR\", \"Year\": 2017, \"\\u00d8 working hours\": 1643.5475, \"GDP\": 19579.83, \"Population\": 7182430, \"Gini coefficient\": 0.403790468, \"Life satisfaction\": 5.108438015, \"Productivity\": 25.39212178, \"Health expenditure\": 1607.71}, {\"Continent\": \"Asia\", \"Country\": \"Cambodia\", \"Code\": \"KHM\", \"Year\": 2017, \"\\u00d8 working hours\": 2455.5508, \"GDP\": 3950.93, \"Population\": 15830694, \"Gini coefficient\": 0.3407793115, \"Life satisfaction\": 4.998284817, \"Productivity\": 3.022649989, \"Health expenditure\": 224.81}, {\"Continent\": \"Americas\", \"Country\": \"Canada\", \"Code\": \"CAN\", \"Year\": 2017, \"\\u00d8 working hours\": 1696.4624, \"GDP\": 48902.64, \"Population\": 36554344, \"Gini coefficient\": 0.333082063, \"Life satisfaction\": 7.1090765, \"Productivity\": 56.25571848, \"Health expenditure\": 5208.72}, {\"Continent\": \"Americas\", \"Country\": \"Chile\", \"Code\": \"CHL\", \"Year\": 2017, \"\\u00d8 working hours\": 1974.0, \"GDP\": 22864.05, \"Population\": 18368582, \"Gini coefficient\": 0.444410284, \"Life satisfaction\": 5.942250252, \"Productivity\": 27.26079146, \"Health expenditure\": 2219.14}, {\"Continent\": \"Asia\", \"Country\": \"China\", \"Code\": \"CHN\", \"Year\": 2017, \"\\u00d8 working hours\": 2174.3501, \"GDP\": 13854.23, \"Population\": 1410275968, \"Gini coefficient\": 0.390757759, \"Life satisfaction\": 5.144120216, \"Productivity\": 11.35773921, \"Health expenditure\": 706.37}, {\"Continent\": \"Americas\", \"Country\": \"Colombia\", \"Code\": \"COL\", \"Year\": 2017, \"\\u00d8 working hours\": 1997.748, \"GDP\": 13426.76, \"Population\": 48351668, \"Gini coefficient\": 0.497154848, \"Life satisfaction\": 6.350297928, \"Productivity\": 15.63291474, \"Health expenditure\": 1088.17}, {\"Continent\": \"Americas\", \"Country\": \"Costa Rica\", \"Code\": \"CRI\", \"Year\": 2017, \"\\u00d8 working hours\": 2212.3835, \"GDP\": 18127.81, \"Population\": 4993849, \"Gini coefficient\": 0.483465406, \"Life satisfaction\": 6.997618675, \"Productivity\": 18.72804079, \"Health expenditure\": 1439.77}, {\"Continent\": \"Europe\", \"Country\": \"Croatia\", \"Code\": \"HRV\", \"Year\": 2017, \"\\u00d8 working hours\": 1834.9327, \"GDP\": 25359.7, \"Population\": 4192468, \"Gini coefficient\": 0.303545759, \"Life satisfaction\": 5.625743866, \"Productivity\": 33.15712673, \"Health expenditure\": 1804.07}, {\"Continent\": \"Asia\", \"Country\": \"Cyprus\", \"Code\": \"CYP\", \"Year\": 2017, \"\\u00d8 working hours\": 1783.5206, \"GDP\": 31253.99, \"Population\": 1208527, \"Gini coefficient\": 0.31416234, \"Life satisfaction\": 6.136832714, \"Productivity\": 42.59221773, \"Health expenditure\": 2532.87}, {\"Continent\": \"Europe\", \"Country\": \"Czechia\", \"Code\": \"CZE\", \"Year\": 2017, \"\\u00d8 working hours\": 1776.162, \"GDP\": 35579.26, \"Population\": 10531315, \"Gini coefficient\": 0.248522097, \"Life satisfaction\": 6.24209404, \"Productivity\": 39.42304869, \"Health expenditure\": 2785.65}, {\"Continent\": \"Europe\", \"Country\": \"Denmark\", \"Code\": \"DNK\", \"Year\": 2017, \"\\u00d8 working hours\": 1400.3815, \"GDP\": 51671.6, \"Population\": 5737286, \"Gini coefficient\": 0.287466614, \"Life satisfaction\": 7.693003178, \"Productivity\": 72.54114087, \"Health expenditure\": 5573.28}, {\"Continent\": \"Americas\", \"Country\": \"Ecuador\", \"Code\": \"ECU\", \"Year\": 2017, \"\\u00d8 working hours\": 1701.3558, \"GDP\": 11413.08, \"Population\": 16696947, \"Gini coefficient\": 0.446730295, \"Life satisfaction\": 5.809131145, \"Productivity\": 15.32391947, \"Health expenditure\": 863.05}, {\"Continent\": \"Europe\", \"Country\": \"Estonia\", \"Code\": \"EST\", \"Year\": 2017, \"\\u00d8 working hours\": 1856.6827, \"GDP\": 30981.6, \"Population\": 1317550, \"Gini coefficient\": 0.303550262, \"Life satisfaction\": 6.034641266, \"Productivity\": 33.48799406, \"Health expenditure\": 2241.85}, {\"Continent\": \"Europe\", \"Country\": \"Finland\", \"Code\": \"FIN\", \"Year\": 2017, \"\\u00d8 working hours\": 1659.2806, \"GDP\": 43827.15, \"Population\": 5508146, \"Gini coefficient\": 0.273830854, \"Life satisfaction\": 7.780347824, \"Productivity\": 58.88463786, \"Health expenditure\": 4339.1}, {\"Continent\": \"Europe\", \"Country\": \"France\", \"Code\": \"FRA\", \"Year\": 2017, \"\\u00d8 working hours\": 1514.1371, \"GDP\": 42818.76, \"Population\": 64144092, \"Gini coefficient\": 0.316320654, \"Life satisfaction\": 6.689644337, \"Productivity\": 68.37434064, \"Health expenditure\": 5059.99}, {\"Continent\": \"Europe\", \"Country\": \"Germany\", \"Code\": \"DEU\", \"Year\": 2017, \"\\u00d8 working hours\": 1353.8868, \"GDP\": 51253.33, \"Population\": 82624368, \"Gini coefficient\": 0.312019051, \"Life satisfaction\": 7.035472393, \"Productivity\": 69.84848268, \"Health expenditure\": 6028.25}, {\"Continent\": \"Europe\", \"Country\": \"Greece\", \"Code\": \"GRC\", \"Year\": 2017, \"\\u00d8 working hours\": 2016.8954, \"GDP\": 26477.58, \"Population\": 10692230, \"Gini coefficient\": 0.343520211, \"Life satisfaction\": 5.952157497, \"Productivity\": 33.35995335, \"Health expenditure\": 2325.62}, {\"Continent\": \"Asia\", \"Country\": \"Hong Kong\", \"Code\": \"HKG\", \"Year\": 2017, \"\\u00d8 working hours\": 2185.5789, \"GDP\": 49927.07, \"Population\": 7461508, \"Gini coefficient\": 0.3407793115, \"Life satisfaction\": 5.659317017, \"Productivity\": 44.37298407, \"Health expenditure\": 2230.495}, {\"Continent\": \"Europe\", \"Country\": \"Hungary\", \"Code\": \"HUN\", \"Year\": 2017, \"\\u00d8 working hours\": 1937.3325, \"GDP\": 26908.97, \"Population\": 9788940, \"Gini coefficient\": 0.305841235, \"Life satisfaction\": 6.000259876, \"Productivity\": 33.0558028, \"Health expenditure\": 1988.7}, {\"Continent\": \"Europe\", \"Country\": \"Iceland\", \"Code\": \"ISL\", \"Year\": 2017, \"\\u00d8 working hours\": 1493.3651, \"GDP\": 49844.32, \"Population\": 343641, \"Gini coefficient\": 0.261315802, \"Life satisfaction\": 7.532504559, \"Productivity\": 59.12501586, \"Health expenditure\": 4762.73}, {\"Continent\": \"Asia\", \"Country\": \"India\", \"Code\": \"IND\", \"Year\": 2017, \"\\u00d8 working hours\": 2117.0117, \"GDP\": 6188.46, \"Population\": 1354195712, \"Gini coefficient\": 0.359430473, \"Life satisfaction\": 3.24876976, \"Productivity\": 8.009787126, \"Health expenditure\": 181.53}, {\"Continent\": \"Asia\", \"Country\": \"Indonesia\", \"Code\": \"IDN\", \"Year\": 2017, \"\\u00d8 working hours\": 2024.287, \"GDP\": 10640.7, \"Population\": 264498848, \"Gini coefficient\": 0.38785263, \"Life satisfaction\": 5.346512794, \"Productivity\": 11.35478727, \"Health expenditure\": 317.59}, {\"Continent\": \"Europe\", \"Country\": \"Ireland\", \"Code\": \"IRL\", \"Year\": 2017, \"\\u00d8 working hours\": 1745.6843, \"GDP\": 86808.65, \"Population\": 4771860, \"Gini coefficient\": 0.313598037, \"Life satisfaction\": 7.254841328, \"Productivity\": 109.488306, \"Health expenditure\": 5582.93}, {\"Continent\": \"Asia\", \"Country\": \"Israel\", \"Code\": \"ISR\", \"Year\": 2017, \"\\u00d8 working hours\": 1920.6106, \"GDP\": 38979.03, \"Population\": 8309256, \"Gini coefficient\": 0.382020644, \"Life satisfaction\": 7.331779957, \"Productivity\": 41.0201119, \"Health expenditure\": 2992.02}, {\"Continent\": \"Europe\", \"Country\": \"Italy\", \"Code\": \"ITA\", \"Year\": 2017, \"\\u00d8 working hours\": 1722.6113, \"GDP\": 40155.51, \"Population\": 60004024, \"Gini coefficient\": 0.359280009, \"Life satisfaction\": 6.445416927, \"Productivity\": 56.27207136, \"Health expenditure\": 3616.67}, {\"Continent\": \"Asia\", \"Country\": \"Japan\", \"Code\": \"JPN\", \"Year\": 2017, \"\\u00d8 working hours\": 1738.3633, \"GDP\": 39598.29, \"Population\": 126662464, \"Gini coefficient\": 0.3407793115, \"Life satisfaction\": 5.908039093, \"Productivity\": 42.4229346, \"Health expenditure\": 4398.02}, {\"Continent\": \"Europe\", \"Country\": \"Latvia\", \"Code\": \"LVA\", \"Year\": 2017, \"\\u00d8 working hours\": 1874.5979, \"GDP\": 27162.37, \"Population\": 1954861, \"Gini coefficient\": 0.355719346, \"Life satisfaction\": 5.969753742, \"Productivity\": 31.56864146, \"Health expenditure\": 1703.6}, {\"Continent\": \"Europe\", \"Country\": \"Lithuania\", \"Code\": \"LTU\", \"Year\": 2017, \"\\u00d8 working hours\": 1844.0171, \"GDP\": 29832.8, \"Population\": 2904452, \"Gini coefficient\": 0.372896992, \"Life satisfaction\": 6.064097881, \"Productivity\": 32.99194736, \"Health expenditure\": 2178.09}, {\"Continent\": \"Europe\", \"Country\": \"Luxembourg\", \"Code\": \"LUX\", \"Year\": 2017, \"\\u00d8 working hours\": 1518.8575, \"GDP\": 90597.55, \"Population\": 596290, \"Gini coefficient\": 0.345157399, \"Life satisfaction\": 7.404015541, \"Productivity\": 83.16536059, \"Health expenditure\": 5980.64}, {\"Continent\": \"Asia\", \"Country\": \"Malaysia\", \"Code\": \"MYS\", \"Year\": 2017, \"\\u00d8 working hours\": 2238.2729, \"GDP\": 24159.17, \"Population\": 31975812, \"Gini coefficient\": 0.3407793115, \"Life satisfaction\": 5.427954197, \"Productivity\": 23.65407513, \"Health expenditure\": 987.58}, {\"Continent\": \"Europe\", \"Country\": \"Malta\", \"Code\": \"MLT\", \"Year\": 2017, \"\\u00d8 working hours\": 2040.0317, \"GDP\": 35154.08, \"Population\": 479507, \"Gini coefficient\": 0.292322386, \"Life satisfaction\": 6.73297739, \"Productivity\": 39.21617358, \"Health expenditure\": 3873.25}, {\"Continent\": \"Americas\", \"Country\": \"Mexico\", \"Code\": \"MEX\", \"Year\": 2017, \"\\u00d8 working hours\": 2255.0, \"GDP\": 18939.9, \"Population\": 122839256, \"Gini coefficient\": 0.3407793115, \"Life satisfaction\": 6.431945324, \"Productivity\": 21.02031412, \"Health expenditure\": 1076.31}, {\"Continent\": \"Asia\", \"Country\": \"Myanmar\", \"Code\": \"MMR\", \"Year\": 2017, \"\\u00d8 working hours\": 2437.8633, \"GDP\": 4762.93, \"Population\": 52288344, \"Gini coefficient\": 0.306968695, \"Life satisfaction\": 4.43423748, \"Productivity\": 4.735483675, \"Health expenditure\": 214.63}, {\"Continent\": \"Europe\", \"Country\": \"Netherlands\", \"Code\": \"NLD\", \"Year\": 2017, \"\\u00d8 working hours\": 1430.0229, \"GDP\": 54233.45, \"Population\": 17207204, \"Gini coefficient\": 0.285358194, \"Life satisfaction\": 7.42526865, \"Productivity\": 70.61846134, \"Health expenditure\": 5602.59}, {\"Continent\": \"Oceania\", \"Country\": \"New Zealand\", \"Code\": \"NZL\", \"Year\": 2017, \"\\u00d8 working hours\": 1752.0, \"GDP\": 39728.86, \"Population\": 4746253, \"Gini coefficient\": 0.3407793115, \"Life satisfaction\": 7.205174446, \"Productivity\": 42.73759913, \"Health expenditure\": 3875.54}, {\"Continent\": \"Africa\", \"Country\": \"Nigeria\", \"Code\": \"NGA\", \"Year\": 2017, \"\\u00d8 working hours\": 1827.2401, \"GDP\": 5060.98, \"Population\": 193495904, \"Gini coefficient\": 0.3407793115, \"Life satisfaction\": 4.356419086, \"Productivity\": 34.62209549, \"Health expenditure\": 194.81}, {\"Continent\": \"Europe\", \"Country\": \"Norway\", \"Code\": \"NOR\", \"Year\": 2017, \"\\u00d8 working hours\": 1417.4723, \"GDP\": 69604.79, \"Population\": 5277396, \"Gini coefficient\": 0.269873302, \"Life satisfaction\": 7.442139626, \"Productivity\": 96.84903378, \"Health expenditure\": 6630.84}, {\"Continent\": \"Asia\", \"Country\": \"Pakistan\", \"Code\": \"PAK\", \"Year\": 2017, \"\\u00d8 working hours\": 2096.1443, \"GDP\": 4743.69, \"Population\": 216379648, \"Gini coefficient\": 0.3407793115, \"Life satisfaction\": 4.442717552, \"Productivity\": 8.322207396, \"Health expenditure\": 132.67}, {\"Continent\": \"Americas\", \"Country\": \"Peru\", \"Code\": \"PER\", \"Year\": 2017, \"\\u00d8 working hours\": 1932.4581, \"GDP\": 11956.63, \"Population\": 31605488, \"Gini coefficient\": 0.4329279, \"Life satisfaction\": 5.999381542, \"Productivity\": 10.7489986, \"Health expenditure\": 624.02}, {\"Continent\": \"Asia\", \"Country\": \"Philippines\", \"Code\": \"PHL\", \"Year\": 2017, \"\\u00d8 working hours\": 2148.5645, \"GDP\": 7858.48, \"Population\": 106738496, \"Gini coefficient\": 0.3407793115, \"Life satisfaction\": 6.267745018, \"Productivity\": 9.450449282, \"Health expenditure\": 321.62}, {\"Continent\": \"Europe\", \"Country\": \"Poland\", \"Code\": \"POL\", \"Year\": 2017, \"\\u00d8 working hours\": 2028.4952, \"GDP\": 29047.82, \"Population\": 38532816, \"Gini coefficient\": 0.302965813, \"Life satisfaction\": 6.24209404, \"Productivity\": 33.66429154, \"Health expenditure\": 1972.37}, {\"Continent\": \"Europe\", \"Country\": \"Portugal\", \"Code\": \"PRT\", \"Year\": 2017, \"\\u00d8 working hours\": 1863.1744, \"GDP\": 30430.03, \"Population\": 10307528, \"Gini coefficient\": 0.338038412, \"Life satisfaction\": 6.095473289, \"Productivity\": 34.62209549, \"Health expenditure\": 3072.32}, {\"Continent\": \"Europe\", \"Country\": \"Romania\", \"Code\": \"ROU\", \"Year\": 2017, \"\\u00d8 working hours\": 1805.9998, \"GDP\": 25424.06, \"Population\": 19698852, \"Gini coefficient\": 0.360168279, \"Life satisfaction\": 6.129942417, \"Productivity\": 32.2711146, \"Health expenditure\": 1398.55}, {\"Continent\": \"Europe\", \"Country\": \"Russia\", \"Code\": \"RUS\", \"Year\": 2017, \"\\u00d8 working hours\": 1974.0, \"GDP\": 26797.82, \"Population\": 145452544, \"Gini coefficient\": 0.37239071, \"Life satisfaction\": 5.440523624, \"Productivity\": 27.44623652, \"Health expenditure\": 1406.2}, {\"Continent\": \"Asia\", \"Country\": \"Singapore\", \"Code\": \"SGP\", \"Year\": 2017, \"\\u00d8 working hours\": 2237.7263, \"GDP\": 81444.79, \"Population\": 5764489, \"Gini coefficient\": 0.3407793115, \"Life satisfaction\": 6.378359795, \"Productivity\": 54.29877798, \"Health expenditure\": 4091.44}, {\"Continent\": \"Europe\", \"Country\": \"Slovakia\", \"Code\": \"SVK\", \"Year\": 2017, \"\\u00d8 working hours\": 1745.2307, \"GDP\": 26467.1, \"Population\": 5439418, \"Gini coefficient\": 0.23237751, \"Life satisfaction\": 6.243428707, \"Productivity\": 35.16566573, \"Health expenditure\": 2038.16}, {\"Continent\": \"Europe\", \"Country\": \"Slovenia\", \"Code\": \"SVN\", \"Year\": 2017, \"\\u00d8 working hours\": 1655.089, \"GDP\": 31594.71, \"Population\": 2098396, \"Gini coefficient\": 0.242193073, \"Life satisfaction\": 6.665273666, \"Productivity\": 40.55475278, \"Health expenditure\": 2998.32}, {\"Continent\": \"Africa\", \"Country\": \"South Africa\", \"Code\": \"ZAF\", \"Year\": 2017, \"\\u00d8 working hours\": 2209.0916, \"GDP\": 12735.03, \"Population\": 56641208, \"Gini coefficient\": 0.3407793115, \"Life satisfaction\": 5.034863472, \"Productivity\": 18.05485455, \"Health expenditure\": 1107.89}, {\"Continent\": \"Asia\", \"Country\": \"South Korea\", \"Code\": \"KOR\", \"Year\": 2017, \"\\u00d8 working hours\": 2063.3315, \"GDP\": 40875.21, \"Population\": 51511640, \"Gini coefficient\": 0.3407793115, \"Life satisfaction\": 5.902816772, \"Productivity\": 39.08392755, \"Health expenditure\": 2925.95}, {\"Continent\": \"Europe\", \"Country\": \"Spain\", \"Code\": \"ESP\", \"Year\": 2017, \"\\u00d8 working hours\": 1686.4973, \"GDP\": 38928.51, \"Population\": 46584168, \"Gini coefficient\": 0.346545469, \"Life satisfaction\": 6.457449436, \"Productivity\": 56.06301345, \"Health expenditure\": 3556.87}, {\"Continent\": \"Asia\", \"Country\": \"Sri Lanka\", \"Code\": \"LKA\", \"Year\": 2017, \"\\u00d8 working hours\": 1923.9354, \"GDP\": 12733.1, \"Population\": 21506816, \"Gini coefficient\": 0.3407793115, \"Life satisfaction\": 4.213299274, \"Productivity\": 17.04851325, \"Health expenditure\": 459.25}, {\"Continent\": \"Europe\", \"Country\": \"Sweden\", \"Code\": \"SWE\", \"Year\": 2017, \"\\u00d8 working hours\": 1609.2896, \"GDP\": 52032.67, \"Population\": 10058191, \"Gini coefficient\": 0.287746034, \"Life satisfaction\": 7.398092747, \"Productivity\": 64.3374695, \"Health expenditure\": 5655.7}, {\"Continent\": \"Europe\", \"Country\": \"Switzerland\", \"Code\": \"CHE\", \"Year\": 2017, \"\\u00d8 working hours\": 1589.6758, \"GDP\": 73624.98, \"Population\": 8451688, \"Gini coefficient\": 0.32676334, \"Life satisfaction\": 7.69422102, \"Productivity\": 80.58822762, \"Health expenditure\": 7989.64}, {\"Continent\": \"Asia\", \"Country\": \"Taiwan\", \"Code\": \"TWN\", \"Year\": 2017, \"\\u00d8 working hours\": 1990.3212, \"GDP\": 45375.41, \"Population\": 23665028, \"Gini coefficient\": 0.3407793115, \"Life satisfaction\": 6.537089825, \"Productivity\": 44.99929907, \"Health expenditure\": 2230.495}, {\"Continent\": \"Asia\", \"Country\": \"Thailand\", \"Code\": \"THA\", \"Year\": 2017, \"\\u00d8 working hours\": 2185.4456, \"GDP\": 16665.38, \"Population\": 70898208, \"Gini coefficient\": 0.36528755, \"Life satisfaction\": 6.02215147, \"Productivity\": 14.74583813, \"Health expenditure\": 669.58}, {\"Continent\": \"Asia\", \"Country\": \"Turkey\", \"Code\": \"TUR\", \"Year\": 2017, \"\\u00d8 working hours\": 1832.0, \"GDP\": 26611.18, \"Population\": 82089824, \"Gini coefficient\": 0.414056667, \"Life satisfaction\": 4.87207365, \"Productivity\": 41.79920311, \"Health expenditure\": 1166.73}, {\"Continent\": \"Europe\", \"Country\": \"United Kingdom\", \"Code\": \"GBR\", \"Year\": 2017, \"\\u00d8 working hours\": 1670.2728, \"GDP\": 44093.93, \"Population\": 66064808, \"Gini coefficient\": 0.351488307, \"Life satisfaction\": 7.157151222, \"Productivity\": 54.67692069, \"Health expenditure\": 4515.59}, {\"Continent\": \"Americas\", \"Country\": \"United States\", \"Code\": \"USA\", \"Year\": 2017, \"\\u00d8 working hours\": 1757.2255, \"GDP\": 60116.57, \"Population\": 329791232, \"Gini coefficient\": 0.411805587, \"Life satisfaction\": 6.943701267, \"Productivity\": 71.63857051, \"Health expenditure\": 10103.09}, {\"Continent\": \"Americas\", \"Country\": \"Uruguay\", \"Code\": \"URY\", \"Year\": 2017, \"\\u00d8 working hours\": 1552.347, \"GDP\": 20615.56, \"Population\": 3422205, \"Gini coefficient\": 0.394645312, \"Life satisfaction\": 6.600337029, \"Productivity\": 28.29584596, \"Health expenditure\": 2029.89}, {\"Continent\": \"Asia\", \"Country\": \"Vietnam\", \"Code\": \"VNM\", \"Year\": 2017, \"\\u00d8 working hours\": 2169.5916, \"GDP\": 6841.65, \"Population\": 94033048, \"Gini coefficient\": 0.3407793115, \"Life satisfaction\": 5.467451096, \"Productivity\": 5.652919029, \"Health expenditure\": 423.98}]}}, {\"mode\": \"vega-lite\"});\n",
       "</script>"
      ],
      "text/plain": [
       "alt.VConcatChart(...)"
      ]
     },
     "execution_count": 77,
     "metadata": {},
     "output_type": "execute_result"
    }
   ],
   "source": [
    "# By using distribution plot we can decide which technique we will use for dealing with missing values.\n",
    "# Variable = Life satisfaction\n",
    "\n",
    "hist1 = alt.Chart(df).mark_bar().encode(\n",
    "    x=alt.X(\"Life satisfaction\", \n",
    "            bin=alt.BinParams(maxbins=20), \n",
    "            scale=alt.Scale(zero=True)),\n",
    "    y='count()',\n",
    ")\n",
    "\n",
    "box1 = alt.Chart(df).mark_boxplot().encode(\n",
    "    x='Life satisfaction',\n",
    ")\n",
    "\n",
    "alt.vconcat(hist1, box1)"
   ]
  },
  {
   "attachments": {},
   "cell_type": "markdown",
   "metadata": {},
   "source": [
    "### Chart 3: Productivity - distribution plot and boxplot"
   ]
  },
  {
   "cell_type": "code",
   "execution_count": 78,
   "metadata": {},
   "outputs": [
    {
     "data": {
      "text/html": [
       "\n",
       "<div id=\"altair-viz-e3d6739b2cf04641ae62c0c098693186\"></div>\n",
       "<script type=\"text/javascript\">\n",
       "  var VEGA_DEBUG = (typeof VEGA_DEBUG == \"undefined\") ? {} : VEGA_DEBUG;\n",
       "  (function(spec, embedOpt){\n",
       "    let outputDiv = document.currentScript.previousElementSibling;\n",
       "    if (outputDiv.id !== \"altair-viz-e3d6739b2cf04641ae62c0c098693186\") {\n",
       "      outputDiv = document.getElementById(\"altair-viz-e3d6739b2cf04641ae62c0c098693186\");\n",
       "    }\n",
       "    const paths = {\n",
       "      \"vega\": \"https://cdn.jsdelivr.net/npm//vega@5?noext\",\n",
       "      \"vega-lib\": \"https://cdn.jsdelivr.net/npm//vega-lib?noext\",\n",
       "      \"vega-lite\": \"https://cdn.jsdelivr.net/npm//vega-lite@4.17.0?noext\",\n",
       "      \"vega-embed\": \"https://cdn.jsdelivr.net/npm//vega-embed@6?noext\",\n",
       "    };\n",
       "\n",
       "    function maybeLoadScript(lib, version) {\n",
       "      var key = `${lib.replace(\"-\", \"\")}_version`;\n",
       "      return (VEGA_DEBUG[key] == version) ?\n",
       "        Promise.resolve(paths[lib]) :\n",
       "        new Promise(function(resolve, reject) {\n",
       "          var s = document.createElement('script');\n",
       "          document.getElementsByTagName(\"head\")[0].appendChild(s);\n",
       "          s.async = true;\n",
       "          s.onload = () => {\n",
       "            VEGA_DEBUG[key] = version;\n",
       "            return resolve(paths[lib]);\n",
       "          };\n",
       "          s.onerror = () => reject(`Error loading script: ${paths[lib]}`);\n",
       "          s.src = paths[lib];\n",
       "        });\n",
       "    }\n",
       "\n",
       "    function showError(err) {\n",
       "      outputDiv.innerHTML = `<div class=\"error\" style=\"color:red;\">${err}</div>`;\n",
       "      throw err;\n",
       "    }\n",
       "\n",
       "    function displayChart(vegaEmbed) {\n",
       "      vegaEmbed(outputDiv, spec, embedOpt)\n",
       "        .catch(err => showError(`Javascript Error: ${err.message}<br>This usually means there's a typo in your chart specification. See the javascript console for the full traceback.`));\n",
       "    }\n",
       "\n",
       "    if(typeof define === \"function\" && define.amd) {\n",
       "      requirejs.config({paths});\n",
       "      require([\"vega-embed\"], displayChart, err => showError(`Error loading script: ${err.message}`));\n",
       "    } else {\n",
       "      maybeLoadScript(\"vega\", \"5\")\n",
       "        .then(() => maybeLoadScript(\"vega-lite\", \"4.17.0\"))\n",
       "        .then(() => maybeLoadScript(\"vega-embed\", \"6\"))\n",
       "        .catch(showError)\n",
       "        .then(() => displayChart(vegaEmbed));\n",
       "    }\n",
       "  })({\"config\": {\"view\": {\"continuousWidth\": 400, \"continuousHeight\": 300}}, \"vconcat\": [{\"mark\": \"bar\", \"encoding\": {\"x\": {\"bin\": {\"maxbins\": 20}, \"field\": \"Productivity\", \"scale\": {\"zero\": true}, \"type\": \"quantitative\"}, \"y\": {\"aggregate\": \"count\", \"type\": \"quantitative\"}}}, {\"mark\": \"boxplot\", \"encoding\": {\"x\": {\"field\": \"Productivity\", \"type\": \"quantitative\"}}}], \"data\": {\"name\": \"data-7e5e1d31b7d7dfe3b746d19bb1e7c61c\"}, \"$schema\": \"https://vega.github.io/schema/vega-lite/v4.17.0.json\", \"datasets\": {\"data-7e5e1d31b7d7dfe3b746d19bb1e7c61c\": [{\"Continent\": \"Americas\", \"Country\": \"Argentina\", \"Code\": \"ARG\", \"Year\": 2017, \"\\u00d8 working hours\": 1691.5363, \"GDP\": 23272.18, \"Population\": 44054616, \"Gini coefficient\": 0.3407793115, \"Life satisfaction\": 6.085560799, \"Productivity\": 30.95546039, \"Health expenditure\": 2470.11}, {\"Continent\": \"Oceania\", \"Country\": \"Australia\", \"Code\": \"AUS\", \"Year\": 2017, \"\\u00d8 working hours\": 1731.4943, \"GDP\": 52536.19, \"Population\": 24590336, \"Gini coefficient\": 0.3407793115, \"Life satisfaction\": 7.233994961, \"Productivity\": 60.3416786, \"Health expenditure\": 4715.83}, {\"Continent\": \"Europe\", \"Country\": \"Austria\", \"Code\": \"AUT\", \"Year\": 2017, \"\\u00d8 working hours\": 1613.0519, \"GDP\": 51954.28, \"Population\": 8797497, \"Gini coefficient\": 0.29737585, \"Life satisfaction\": 7.195361137, \"Productivity\": 64.7801697, \"Health expenditure\": 5641.18}, {\"Continent\": \"Asia\", \"Country\": \"Bangladesh\", \"Code\": \"BGD\", \"Year\": 2017, \"\\u00d8 working hours\": 2232.3542, \"GDP\": 4112.7, \"Population\": 161793968, \"Gini coefficient\": 0.3407793115, \"Life satisfaction\": 5.114216805, \"Productivity\": 4.307636988, \"Health expenditure\": 101.18}, {\"Continent\": \"Europe\", \"Country\": \"Belgium\", \"Code\": \"BEL\", \"Year\": 2017, \"\\u00d8 working hours\": 1544.269, \"GDP\": 45150.2, \"Population\": 11384491, \"Gini coefficient\": 0.273879678, \"Life satisfaction\": 6.772138119, \"Productivity\": 68.51652068, \"Health expenditure\": 5450.48}, {\"Continent\": \"Americas\", \"Country\": \"Brazil\", \"Code\": \"BRA\", \"Year\": 2017, \"\\u00d8 working hours\": 1709.4856, \"GDP\": 14284.61, \"Population\": 208504960, \"Gini coefficient\": 0.5333405, \"Life satisfaction\": 6.451148987, \"Productivity\": 19.18829359, \"Health expenditure\": 1375.66}, {\"Continent\": \"Europe\", \"Country\": \"Bulgaria\", \"Code\": \"BGR\", \"Year\": 2017, \"\\u00d8 working hours\": 1643.5475, \"GDP\": 19579.83, \"Population\": 7182430, \"Gini coefficient\": 0.403790468, \"Life satisfaction\": 5.108438015, \"Productivity\": 25.39212178, \"Health expenditure\": 1607.71}, {\"Continent\": \"Asia\", \"Country\": \"Cambodia\", \"Code\": \"KHM\", \"Year\": 2017, \"\\u00d8 working hours\": 2455.5508, \"GDP\": 3950.93, \"Population\": 15830694, \"Gini coefficient\": 0.3407793115, \"Life satisfaction\": 4.998284817, \"Productivity\": 3.022649989, \"Health expenditure\": 224.81}, {\"Continent\": \"Americas\", \"Country\": \"Canada\", \"Code\": \"CAN\", \"Year\": 2017, \"\\u00d8 working hours\": 1696.4624, \"GDP\": 48902.64, \"Population\": 36554344, \"Gini coefficient\": 0.333082063, \"Life satisfaction\": 7.1090765, \"Productivity\": 56.25571848, \"Health expenditure\": 5208.72}, {\"Continent\": \"Americas\", \"Country\": \"Chile\", \"Code\": \"CHL\", \"Year\": 2017, \"\\u00d8 working hours\": 1974.0, \"GDP\": 22864.05, \"Population\": 18368582, \"Gini coefficient\": 0.444410284, \"Life satisfaction\": 5.942250252, \"Productivity\": 27.26079146, \"Health expenditure\": 2219.14}, {\"Continent\": \"Asia\", \"Country\": \"China\", \"Code\": \"CHN\", \"Year\": 2017, \"\\u00d8 working hours\": 2174.3501, \"GDP\": 13854.23, \"Population\": 1410275968, \"Gini coefficient\": 0.390757759, \"Life satisfaction\": 5.144120216, \"Productivity\": 11.35773921, \"Health expenditure\": 706.37}, {\"Continent\": \"Americas\", \"Country\": \"Colombia\", \"Code\": \"COL\", \"Year\": 2017, \"\\u00d8 working hours\": 1997.748, \"GDP\": 13426.76, \"Population\": 48351668, \"Gini coefficient\": 0.497154848, \"Life satisfaction\": 6.350297928, \"Productivity\": 15.63291474, \"Health expenditure\": 1088.17}, {\"Continent\": \"Americas\", \"Country\": \"Costa Rica\", \"Code\": \"CRI\", \"Year\": 2017, \"\\u00d8 working hours\": 2212.3835, \"GDP\": 18127.81, \"Population\": 4993849, \"Gini coefficient\": 0.483465406, \"Life satisfaction\": 6.997618675, \"Productivity\": 18.72804079, \"Health expenditure\": 1439.77}, {\"Continent\": \"Europe\", \"Country\": \"Croatia\", \"Code\": \"HRV\", \"Year\": 2017, \"\\u00d8 working hours\": 1834.9327, \"GDP\": 25359.7, \"Population\": 4192468, \"Gini coefficient\": 0.303545759, \"Life satisfaction\": 5.625743866, \"Productivity\": 33.15712673, \"Health expenditure\": 1804.07}, {\"Continent\": \"Asia\", \"Country\": \"Cyprus\", \"Code\": \"CYP\", \"Year\": 2017, \"\\u00d8 working hours\": 1783.5206, \"GDP\": 31253.99, \"Population\": 1208527, \"Gini coefficient\": 0.31416234, \"Life satisfaction\": 6.136832714, \"Productivity\": 42.59221773, \"Health expenditure\": 2532.87}, {\"Continent\": \"Europe\", \"Country\": \"Czechia\", \"Code\": \"CZE\", \"Year\": 2017, \"\\u00d8 working hours\": 1776.162, \"GDP\": 35579.26, \"Population\": 10531315, \"Gini coefficient\": 0.248522097, \"Life satisfaction\": 6.24209404, \"Productivity\": 39.42304869, \"Health expenditure\": 2785.65}, {\"Continent\": \"Europe\", \"Country\": \"Denmark\", \"Code\": \"DNK\", \"Year\": 2017, \"\\u00d8 working hours\": 1400.3815, \"GDP\": 51671.6, \"Population\": 5737286, \"Gini coefficient\": 0.287466614, \"Life satisfaction\": 7.693003178, \"Productivity\": 72.54114087, \"Health expenditure\": 5573.28}, {\"Continent\": \"Americas\", \"Country\": \"Ecuador\", \"Code\": \"ECU\", \"Year\": 2017, \"\\u00d8 working hours\": 1701.3558, \"GDP\": 11413.08, \"Population\": 16696947, \"Gini coefficient\": 0.446730295, \"Life satisfaction\": 5.809131145, \"Productivity\": 15.32391947, \"Health expenditure\": 863.05}, {\"Continent\": \"Europe\", \"Country\": \"Estonia\", \"Code\": \"EST\", \"Year\": 2017, \"\\u00d8 working hours\": 1856.6827, \"GDP\": 30981.6, \"Population\": 1317550, \"Gini coefficient\": 0.303550262, \"Life satisfaction\": 6.034641266, \"Productivity\": 33.48799406, \"Health expenditure\": 2241.85}, {\"Continent\": \"Europe\", \"Country\": \"Finland\", \"Code\": \"FIN\", \"Year\": 2017, \"\\u00d8 working hours\": 1659.2806, \"GDP\": 43827.15, \"Population\": 5508146, \"Gini coefficient\": 0.273830854, \"Life satisfaction\": 7.780347824, \"Productivity\": 58.88463786, \"Health expenditure\": 4339.1}, {\"Continent\": \"Europe\", \"Country\": \"France\", \"Code\": \"FRA\", \"Year\": 2017, \"\\u00d8 working hours\": 1514.1371, \"GDP\": 42818.76, \"Population\": 64144092, \"Gini coefficient\": 0.316320654, \"Life satisfaction\": 6.689644337, \"Productivity\": 68.37434064, \"Health expenditure\": 5059.99}, {\"Continent\": \"Europe\", \"Country\": \"Germany\", \"Code\": \"DEU\", \"Year\": 2017, \"\\u00d8 working hours\": 1353.8868, \"GDP\": 51253.33, \"Population\": 82624368, \"Gini coefficient\": 0.312019051, \"Life satisfaction\": 7.035472393, \"Productivity\": 69.84848268, \"Health expenditure\": 6028.25}, {\"Continent\": \"Europe\", \"Country\": \"Greece\", \"Code\": \"GRC\", \"Year\": 2017, \"\\u00d8 working hours\": 2016.8954, \"GDP\": 26477.58, \"Population\": 10692230, \"Gini coefficient\": 0.343520211, \"Life satisfaction\": 5.952157497, \"Productivity\": 33.35995335, \"Health expenditure\": 2325.62}, {\"Continent\": \"Asia\", \"Country\": \"Hong Kong\", \"Code\": \"HKG\", \"Year\": 2017, \"\\u00d8 working hours\": 2185.5789, \"GDP\": 49927.07, \"Population\": 7461508, \"Gini coefficient\": 0.3407793115, \"Life satisfaction\": 5.659317017, \"Productivity\": 44.37298407, \"Health expenditure\": 2230.495}, {\"Continent\": \"Europe\", \"Country\": \"Hungary\", \"Code\": \"HUN\", \"Year\": 2017, \"\\u00d8 working hours\": 1937.3325, \"GDP\": 26908.97, \"Population\": 9788940, \"Gini coefficient\": 0.305841235, \"Life satisfaction\": 6.000259876, \"Productivity\": 33.0558028, \"Health expenditure\": 1988.7}, {\"Continent\": \"Europe\", \"Country\": \"Iceland\", \"Code\": \"ISL\", \"Year\": 2017, \"\\u00d8 working hours\": 1493.3651, \"GDP\": 49844.32, \"Population\": 343641, \"Gini coefficient\": 0.261315802, \"Life satisfaction\": 7.532504559, \"Productivity\": 59.12501586, \"Health expenditure\": 4762.73}, {\"Continent\": \"Asia\", \"Country\": \"India\", \"Code\": \"IND\", \"Year\": 2017, \"\\u00d8 working hours\": 2117.0117, \"GDP\": 6188.46, \"Population\": 1354195712, \"Gini coefficient\": 0.359430473, \"Life satisfaction\": 3.24876976, \"Productivity\": 8.009787126, \"Health expenditure\": 181.53}, {\"Continent\": \"Asia\", \"Country\": \"Indonesia\", \"Code\": \"IDN\", \"Year\": 2017, \"\\u00d8 working hours\": 2024.287, \"GDP\": 10640.7, \"Population\": 264498848, \"Gini coefficient\": 0.38785263, \"Life satisfaction\": 5.346512794, \"Productivity\": 11.35478727, \"Health expenditure\": 317.59}, {\"Continent\": \"Europe\", \"Country\": \"Ireland\", \"Code\": \"IRL\", \"Year\": 2017, \"\\u00d8 working hours\": 1745.6843, \"GDP\": 86808.65, \"Population\": 4771860, \"Gini coefficient\": 0.313598037, \"Life satisfaction\": 7.254841328, \"Productivity\": 109.488306, \"Health expenditure\": 5582.93}, {\"Continent\": \"Asia\", \"Country\": \"Israel\", \"Code\": \"ISR\", \"Year\": 2017, \"\\u00d8 working hours\": 1920.6106, \"GDP\": 38979.03, \"Population\": 8309256, \"Gini coefficient\": 0.382020644, \"Life satisfaction\": 7.331779957, \"Productivity\": 41.0201119, \"Health expenditure\": 2992.02}, {\"Continent\": \"Europe\", \"Country\": \"Italy\", \"Code\": \"ITA\", \"Year\": 2017, \"\\u00d8 working hours\": 1722.6113, \"GDP\": 40155.51, \"Population\": 60004024, \"Gini coefficient\": 0.359280009, \"Life satisfaction\": 6.445416927, \"Productivity\": 56.27207136, \"Health expenditure\": 3616.67}, {\"Continent\": \"Asia\", \"Country\": \"Japan\", \"Code\": \"JPN\", \"Year\": 2017, \"\\u00d8 working hours\": 1738.3633, \"GDP\": 39598.29, \"Population\": 126662464, \"Gini coefficient\": 0.3407793115, \"Life satisfaction\": 5.908039093, \"Productivity\": 42.4229346, \"Health expenditure\": 4398.02}, {\"Continent\": \"Europe\", \"Country\": \"Latvia\", \"Code\": \"LVA\", \"Year\": 2017, \"\\u00d8 working hours\": 1874.5979, \"GDP\": 27162.37, \"Population\": 1954861, \"Gini coefficient\": 0.355719346, \"Life satisfaction\": 5.969753742, \"Productivity\": 31.56864146, \"Health expenditure\": 1703.6}, {\"Continent\": \"Europe\", \"Country\": \"Lithuania\", \"Code\": \"LTU\", \"Year\": 2017, \"\\u00d8 working hours\": 1844.0171, \"GDP\": 29832.8, \"Population\": 2904452, \"Gini coefficient\": 0.372896992, \"Life satisfaction\": 6.064097881, \"Productivity\": 32.99194736, \"Health expenditure\": 2178.09}, {\"Continent\": \"Europe\", \"Country\": \"Luxembourg\", \"Code\": \"LUX\", \"Year\": 2017, \"\\u00d8 working hours\": 1518.8575, \"GDP\": 90597.55, \"Population\": 596290, \"Gini coefficient\": 0.345157399, \"Life satisfaction\": 7.404015541, \"Productivity\": 83.16536059, \"Health expenditure\": 5980.64}, {\"Continent\": \"Asia\", \"Country\": \"Malaysia\", \"Code\": \"MYS\", \"Year\": 2017, \"\\u00d8 working hours\": 2238.2729, \"GDP\": 24159.17, \"Population\": 31975812, \"Gini coefficient\": 0.3407793115, \"Life satisfaction\": 5.427954197, \"Productivity\": 23.65407513, \"Health expenditure\": 987.58}, {\"Continent\": \"Europe\", \"Country\": \"Malta\", \"Code\": \"MLT\", \"Year\": 2017, \"\\u00d8 working hours\": 2040.0317, \"GDP\": 35154.08, \"Population\": 479507, \"Gini coefficient\": 0.292322386, \"Life satisfaction\": 6.73297739, \"Productivity\": 39.21617358, \"Health expenditure\": 3873.25}, {\"Continent\": \"Americas\", \"Country\": \"Mexico\", \"Code\": \"MEX\", \"Year\": 2017, \"\\u00d8 working hours\": 2255.0, \"GDP\": 18939.9, \"Population\": 122839256, \"Gini coefficient\": 0.3407793115, \"Life satisfaction\": 6.431945324, \"Productivity\": 21.02031412, \"Health expenditure\": 1076.31}, {\"Continent\": \"Asia\", \"Country\": \"Myanmar\", \"Code\": \"MMR\", \"Year\": 2017, \"\\u00d8 working hours\": 2437.8633, \"GDP\": 4762.93, \"Population\": 52288344, \"Gini coefficient\": 0.306968695, \"Life satisfaction\": 4.43423748, \"Productivity\": 4.735483675, \"Health expenditure\": 214.63}, {\"Continent\": \"Europe\", \"Country\": \"Netherlands\", \"Code\": \"NLD\", \"Year\": 2017, \"\\u00d8 working hours\": 1430.0229, \"GDP\": 54233.45, \"Population\": 17207204, \"Gini coefficient\": 0.285358194, \"Life satisfaction\": 7.42526865, \"Productivity\": 70.61846134, \"Health expenditure\": 5602.59}, {\"Continent\": \"Oceania\", \"Country\": \"New Zealand\", \"Code\": \"NZL\", \"Year\": 2017, \"\\u00d8 working hours\": 1752.0, \"GDP\": 39728.86, \"Population\": 4746253, \"Gini coefficient\": 0.3407793115, \"Life satisfaction\": 7.205174446, \"Productivity\": 42.73759913, \"Health expenditure\": 3875.54}, {\"Continent\": \"Africa\", \"Country\": \"Nigeria\", \"Code\": \"NGA\", \"Year\": 2017, \"\\u00d8 working hours\": 1827.2401, \"GDP\": 5060.98, \"Population\": 193495904, \"Gini coefficient\": 0.3407793115, \"Life satisfaction\": 4.356419086, \"Productivity\": 34.62209549, \"Health expenditure\": 194.81}, {\"Continent\": \"Europe\", \"Country\": \"Norway\", \"Code\": \"NOR\", \"Year\": 2017, \"\\u00d8 working hours\": 1417.4723, \"GDP\": 69604.79, \"Population\": 5277396, \"Gini coefficient\": 0.269873302, \"Life satisfaction\": 7.442139626, \"Productivity\": 96.84903378, \"Health expenditure\": 6630.84}, {\"Continent\": \"Asia\", \"Country\": \"Pakistan\", \"Code\": \"PAK\", \"Year\": 2017, \"\\u00d8 working hours\": 2096.1443, \"GDP\": 4743.69, \"Population\": 216379648, \"Gini coefficient\": 0.3407793115, \"Life satisfaction\": 4.442717552, \"Productivity\": 8.322207396, \"Health expenditure\": 132.67}, {\"Continent\": \"Americas\", \"Country\": \"Peru\", \"Code\": \"PER\", \"Year\": 2017, \"\\u00d8 working hours\": 1932.4581, \"GDP\": 11956.63, \"Population\": 31605488, \"Gini coefficient\": 0.4329279, \"Life satisfaction\": 5.999381542, \"Productivity\": 10.7489986, \"Health expenditure\": 624.02}, {\"Continent\": \"Asia\", \"Country\": \"Philippines\", \"Code\": \"PHL\", \"Year\": 2017, \"\\u00d8 working hours\": 2148.5645, \"GDP\": 7858.48, \"Population\": 106738496, \"Gini coefficient\": 0.3407793115, \"Life satisfaction\": 6.267745018, \"Productivity\": 9.450449282, \"Health expenditure\": 321.62}, {\"Continent\": \"Europe\", \"Country\": \"Poland\", \"Code\": \"POL\", \"Year\": 2017, \"\\u00d8 working hours\": 2028.4952, \"GDP\": 29047.82, \"Population\": 38532816, \"Gini coefficient\": 0.302965813, \"Life satisfaction\": 6.24209404, \"Productivity\": 33.66429154, \"Health expenditure\": 1972.37}, {\"Continent\": \"Europe\", \"Country\": \"Portugal\", \"Code\": \"PRT\", \"Year\": 2017, \"\\u00d8 working hours\": 1863.1744, \"GDP\": 30430.03, \"Population\": 10307528, \"Gini coefficient\": 0.338038412, \"Life satisfaction\": 6.095473289, \"Productivity\": 34.62209549, \"Health expenditure\": 3072.32}, {\"Continent\": \"Europe\", \"Country\": \"Romania\", \"Code\": \"ROU\", \"Year\": 2017, \"\\u00d8 working hours\": 1805.9998, \"GDP\": 25424.06, \"Population\": 19698852, \"Gini coefficient\": 0.360168279, \"Life satisfaction\": 6.129942417, \"Productivity\": 32.2711146, \"Health expenditure\": 1398.55}, {\"Continent\": \"Europe\", \"Country\": \"Russia\", \"Code\": \"RUS\", \"Year\": 2017, \"\\u00d8 working hours\": 1974.0, \"GDP\": 26797.82, \"Population\": 145452544, \"Gini coefficient\": 0.37239071, \"Life satisfaction\": 5.440523624, \"Productivity\": 27.44623652, \"Health expenditure\": 1406.2}, {\"Continent\": \"Asia\", \"Country\": \"Singapore\", \"Code\": \"SGP\", \"Year\": 2017, \"\\u00d8 working hours\": 2237.7263, \"GDP\": 81444.79, \"Population\": 5764489, \"Gini coefficient\": 0.3407793115, \"Life satisfaction\": 6.378359795, \"Productivity\": 54.29877798, \"Health expenditure\": 4091.44}, {\"Continent\": \"Europe\", \"Country\": \"Slovakia\", \"Code\": \"SVK\", \"Year\": 2017, \"\\u00d8 working hours\": 1745.2307, \"GDP\": 26467.1, \"Population\": 5439418, \"Gini coefficient\": 0.23237751, \"Life satisfaction\": 6.243428707, \"Productivity\": 35.16566573, \"Health expenditure\": 2038.16}, {\"Continent\": \"Europe\", \"Country\": \"Slovenia\", \"Code\": \"SVN\", \"Year\": 2017, \"\\u00d8 working hours\": 1655.089, \"GDP\": 31594.71, \"Population\": 2098396, \"Gini coefficient\": 0.242193073, \"Life satisfaction\": 6.665273666, \"Productivity\": 40.55475278, \"Health expenditure\": 2998.32}, {\"Continent\": \"Africa\", \"Country\": \"South Africa\", \"Code\": \"ZAF\", \"Year\": 2017, \"\\u00d8 working hours\": 2209.0916, \"GDP\": 12735.03, \"Population\": 56641208, \"Gini coefficient\": 0.3407793115, \"Life satisfaction\": 5.034863472, \"Productivity\": 18.05485455, \"Health expenditure\": 1107.89}, {\"Continent\": \"Asia\", \"Country\": \"South Korea\", \"Code\": \"KOR\", \"Year\": 2017, \"\\u00d8 working hours\": 2063.3315, \"GDP\": 40875.21, \"Population\": 51511640, \"Gini coefficient\": 0.3407793115, \"Life satisfaction\": 5.902816772, \"Productivity\": 39.08392755, \"Health expenditure\": 2925.95}, {\"Continent\": \"Europe\", \"Country\": \"Spain\", \"Code\": \"ESP\", \"Year\": 2017, \"\\u00d8 working hours\": 1686.4973, \"GDP\": 38928.51, \"Population\": 46584168, \"Gini coefficient\": 0.346545469, \"Life satisfaction\": 6.457449436, \"Productivity\": 56.06301345, \"Health expenditure\": 3556.87}, {\"Continent\": \"Asia\", \"Country\": \"Sri Lanka\", \"Code\": \"LKA\", \"Year\": 2017, \"\\u00d8 working hours\": 1923.9354, \"GDP\": 12733.1, \"Population\": 21506816, \"Gini coefficient\": 0.3407793115, \"Life satisfaction\": 4.213299274, \"Productivity\": 17.04851325, \"Health expenditure\": 459.25}, {\"Continent\": \"Europe\", \"Country\": \"Sweden\", \"Code\": \"SWE\", \"Year\": 2017, \"\\u00d8 working hours\": 1609.2896, \"GDP\": 52032.67, \"Population\": 10058191, \"Gini coefficient\": 0.287746034, \"Life satisfaction\": 7.398092747, \"Productivity\": 64.3374695, \"Health expenditure\": 5655.7}, {\"Continent\": \"Europe\", \"Country\": \"Switzerland\", \"Code\": \"CHE\", \"Year\": 2017, \"\\u00d8 working hours\": 1589.6758, \"GDP\": 73624.98, \"Population\": 8451688, \"Gini coefficient\": 0.32676334, \"Life satisfaction\": 7.69422102, \"Productivity\": 80.58822762, \"Health expenditure\": 7989.64}, {\"Continent\": \"Asia\", \"Country\": \"Taiwan\", \"Code\": \"TWN\", \"Year\": 2017, \"\\u00d8 working hours\": 1990.3212, \"GDP\": 45375.41, \"Population\": 23665028, \"Gini coefficient\": 0.3407793115, \"Life satisfaction\": 6.537089825, \"Productivity\": 44.99929907, \"Health expenditure\": 2230.495}, {\"Continent\": \"Asia\", \"Country\": \"Thailand\", \"Code\": \"THA\", \"Year\": 2017, \"\\u00d8 working hours\": 2185.4456, \"GDP\": 16665.38, \"Population\": 70898208, \"Gini coefficient\": 0.36528755, \"Life satisfaction\": 6.02215147, \"Productivity\": 14.74583813, \"Health expenditure\": 669.58}, {\"Continent\": \"Asia\", \"Country\": \"Turkey\", \"Code\": \"TUR\", \"Year\": 2017, \"\\u00d8 working hours\": 1832.0, \"GDP\": 26611.18, \"Population\": 82089824, \"Gini coefficient\": 0.414056667, \"Life satisfaction\": 4.87207365, \"Productivity\": 41.79920311, \"Health expenditure\": 1166.73}, {\"Continent\": \"Europe\", \"Country\": \"United Kingdom\", \"Code\": \"GBR\", \"Year\": 2017, \"\\u00d8 working hours\": 1670.2728, \"GDP\": 44093.93, \"Population\": 66064808, \"Gini coefficient\": 0.351488307, \"Life satisfaction\": 7.157151222, \"Productivity\": 54.67692069, \"Health expenditure\": 4515.59}, {\"Continent\": \"Americas\", \"Country\": \"United States\", \"Code\": \"USA\", \"Year\": 2017, \"\\u00d8 working hours\": 1757.2255, \"GDP\": 60116.57, \"Population\": 329791232, \"Gini coefficient\": 0.411805587, \"Life satisfaction\": 6.943701267, \"Productivity\": 71.63857051, \"Health expenditure\": 10103.09}, {\"Continent\": \"Americas\", \"Country\": \"Uruguay\", \"Code\": \"URY\", \"Year\": 2017, \"\\u00d8 working hours\": 1552.347, \"GDP\": 20615.56, \"Population\": 3422205, \"Gini coefficient\": 0.394645312, \"Life satisfaction\": 6.600337029, \"Productivity\": 28.29584596, \"Health expenditure\": 2029.89}, {\"Continent\": \"Asia\", \"Country\": \"Vietnam\", \"Code\": \"VNM\", \"Year\": 2017, \"\\u00d8 working hours\": 2169.5916, \"GDP\": 6841.65, \"Population\": 94033048, \"Gini coefficient\": 0.3407793115, \"Life satisfaction\": 5.467451096, \"Productivity\": 5.652919029, \"Health expenditure\": 423.98}]}}, {\"mode\": \"vega-lite\"});\n",
       "</script>"
      ],
      "text/plain": [
       "alt.VConcatChart(...)"
      ]
     },
     "execution_count": 78,
     "metadata": {},
     "output_type": "execute_result"
    }
   ],
   "source": [
    "# By using distribution plot we can decide which technique we will use for dealing with missing values.\n",
    "# Variable = Productivity\n",
    "\n",
    "hist2 = alt.Chart(df).mark_bar().encode(\n",
    "    x=alt.X(\"Productivity\", \n",
    "            bin=alt.BinParams(maxbins=20), \n",
    "            scale=alt.Scale(zero=True)),\n",
    "    y='count()',\n",
    ")\n",
    "\n",
    "box2 = alt.Chart(df).mark_boxplot().encode(\n",
    "    x='Productivity',\n",
    ")\n",
    "\n",
    "alt.vconcat(hist2, box2)"
   ]
  },
  {
   "attachments": {},
   "cell_type": "markdown",
   "metadata": {},
   "source": [
    "### Chart 4: Current health expenditure per capita - distribution plot and boxplot"
   ]
  },
  {
   "cell_type": "code",
   "execution_count": 79,
   "metadata": {},
   "outputs": [
    {
     "data": {
      "text/html": [
       "\n",
       "<div id=\"altair-viz-b7706f819cc04ecca6e0f59f5b5d7148\"></div>\n",
       "<script type=\"text/javascript\">\n",
       "  var VEGA_DEBUG = (typeof VEGA_DEBUG == \"undefined\") ? {} : VEGA_DEBUG;\n",
       "  (function(spec, embedOpt){\n",
       "    let outputDiv = document.currentScript.previousElementSibling;\n",
       "    if (outputDiv.id !== \"altair-viz-b7706f819cc04ecca6e0f59f5b5d7148\") {\n",
       "      outputDiv = document.getElementById(\"altair-viz-b7706f819cc04ecca6e0f59f5b5d7148\");\n",
       "    }\n",
       "    const paths = {\n",
       "      \"vega\": \"https://cdn.jsdelivr.net/npm//vega@5?noext\",\n",
       "      \"vega-lib\": \"https://cdn.jsdelivr.net/npm//vega-lib?noext\",\n",
       "      \"vega-lite\": \"https://cdn.jsdelivr.net/npm//vega-lite@4.17.0?noext\",\n",
       "      \"vega-embed\": \"https://cdn.jsdelivr.net/npm//vega-embed@6?noext\",\n",
       "    };\n",
       "\n",
       "    function maybeLoadScript(lib, version) {\n",
       "      var key = `${lib.replace(\"-\", \"\")}_version`;\n",
       "      return (VEGA_DEBUG[key] == version) ?\n",
       "        Promise.resolve(paths[lib]) :\n",
       "        new Promise(function(resolve, reject) {\n",
       "          var s = document.createElement('script');\n",
       "          document.getElementsByTagName(\"head\")[0].appendChild(s);\n",
       "          s.async = true;\n",
       "          s.onload = () => {\n",
       "            VEGA_DEBUG[key] = version;\n",
       "            return resolve(paths[lib]);\n",
       "          };\n",
       "          s.onerror = () => reject(`Error loading script: ${paths[lib]}`);\n",
       "          s.src = paths[lib];\n",
       "        });\n",
       "    }\n",
       "\n",
       "    function showError(err) {\n",
       "      outputDiv.innerHTML = `<div class=\"error\" style=\"color:red;\">${err}</div>`;\n",
       "      throw err;\n",
       "    }\n",
       "\n",
       "    function displayChart(vegaEmbed) {\n",
       "      vegaEmbed(outputDiv, spec, embedOpt)\n",
       "        .catch(err => showError(`Javascript Error: ${err.message}<br>This usually means there's a typo in your chart specification. See the javascript console for the full traceback.`));\n",
       "    }\n",
       "\n",
       "    if(typeof define === \"function\" && define.amd) {\n",
       "      requirejs.config({paths});\n",
       "      require([\"vega-embed\"], displayChart, err => showError(`Error loading script: ${err.message}`));\n",
       "    } else {\n",
       "      maybeLoadScript(\"vega\", \"5\")\n",
       "        .then(() => maybeLoadScript(\"vega-lite\", \"4.17.0\"))\n",
       "        .then(() => maybeLoadScript(\"vega-embed\", \"6\"))\n",
       "        .catch(showError)\n",
       "        .then(() => displayChart(vegaEmbed));\n",
       "    }\n",
       "  })({\"config\": {\"view\": {\"continuousWidth\": 400, \"continuousHeight\": 300}}, \"vconcat\": [{\"mark\": \"bar\", \"encoding\": {\"x\": {\"bin\": {\"maxbins\": 20}, \"field\": \"Health expenditure\", \"scale\": {\"zero\": true}, \"type\": \"quantitative\"}, \"y\": {\"aggregate\": \"count\", \"type\": \"quantitative\"}}}, {\"mark\": \"boxplot\", \"encoding\": {\"x\": {\"field\": \"Health expenditure\", \"type\": \"quantitative\"}}}], \"data\": {\"name\": \"data-7e5e1d31b7d7dfe3b746d19bb1e7c61c\"}, \"$schema\": \"https://vega.github.io/schema/vega-lite/v4.17.0.json\", \"datasets\": {\"data-7e5e1d31b7d7dfe3b746d19bb1e7c61c\": [{\"Continent\": \"Americas\", \"Country\": \"Argentina\", \"Code\": \"ARG\", \"Year\": 2017, \"\\u00d8 working hours\": 1691.5363, \"GDP\": 23272.18, \"Population\": 44054616, \"Gini coefficient\": 0.3407793115, \"Life satisfaction\": 6.085560799, \"Productivity\": 30.95546039, \"Health expenditure\": 2470.11}, {\"Continent\": \"Oceania\", \"Country\": \"Australia\", \"Code\": \"AUS\", \"Year\": 2017, \"\\u00d8 working hours\": 1731.4943, \"GDP\": 52536.19, \"Population\": 24590336, \"Gini coefficient\": 0.3407793115, \"Life satisfaction\": 7.233994961, \"Productivity\": 60.3416786, \"Health expenditure\": 4715.83}, {\"Continent\": \"Europe\", \"Country\": \"Austria\", \"Code\": \"AUT\", \"Year\": 2017, \"\\u00d8 working hours\": 1613.0519, \"GDP\": 51954.28, \"Population\": 8797497, \"Gini coefficient\": 0.29737585, \"Life satisfaction\": 7.195361137, \"Productivity\": 64.7801697, \"Health expenditure\": 5641.18}, {\"Continent\": \"Asia\", \"Country\": \"Bangladesh\", \"Code\": \"BGD\", \"Year\": 2017, \"\\u00d8 working hours\": 2232.3542, \"GDP\": 4112.7, \"Population\": 161793968, \"Gini coefficient\": 0.3407793115, \"Life satisfaction\": 5.114216805, \"Productivity\": 4.307636988, \"Health expenditure\": 101.18}, {\"Continent\": \"Europe\", \"Country\": \"Belgium\", \"Code\": \"BEL\", \"Year\": 2017, \"\\u00d8 working hours\": 1544.269, \"GDP\": 45150.2, \"Population\": 11384491, \"Gini coefficient\": 0.273879678, \"Life satisfaction\": 6.772138119, \"Productivity\": 68.51652068, \"Health expenditure\": 5450.48}, {\"Continent\": \"Americas\", \"Country\": \"Brazil\", \"Code\": \"BRA\", \"Year\": 2017, \"\\u00d8 working hours\": 1709.4856, \"GDP\": 14284.61, \"Population\": 208504960, \"Gini coefficient\": 0.5333405, \"Life satisfaction\": 6.451148987, \"Productivity\": 19.18829359, \"Health expenditure\": 1375.66}, {\"Continent\": \"Europe\", \"Country\": \"Bulgaria\", \"Code\": \"BGR\", \"Year\": 2017, \"\\u00d8 working hours\": 1643.5475, \"GDP\": 19579.83, \"Population\": 7182430, \"Gini coefficient\": 0.403790468, \"Life satisfaction\": 5.108438015, \"Productivity\": 25.39212178, \"Health expenditure\": 1607.71}, {\"Continent\": \"Asia\", \"Country\": \"Cambodia\", \"Code\": \"KHM\", \"Year\": 2017, \"\\u00d8 working hours\": 2455.5508, \"GDP\": 3950.93, \"Population\": 15830694, \"Gini coefficient\": 0.3407793115, \"Life satisfaction\": 4.998284817, \"Productivity\": 3.022649989, \"Health expenditure\": 224.81}, {\"Continent\": \"Americas\", \"Country\": \"Canada\", \"Code\": \"CAN\", \"Year\": 2017, \"\\u00d8 working hours\": 1696.4624, \"GDP\": 48902.64, \"Population\": 36554344, \"Gini coefficient\": 0.333082063, \"Life satisfaction\": 7.1090765, \"Productivity\": 56.25571848, \"Health expenditure\": 5208.72}, {\"Continent\": \"Americas\", \"Country\": \"Chile\", \"Code\": \"CHL\", \"Year\": 2017, \"\\u00d8 working hours\": 1974.0, \"GDP\": 22864.05, \"Population\": 18368582, \"Gini coefficient\": 0.444410284, \"Life satisfaction\": 5.942250252, \"Productivity\": 27.26079146, \"Health expenditure\": 2219.14}, {\"Continent\": \"Asia\", \"Country\": \"China\", \"Code\": \"CHN\", \"Year\": 2017, \"\\u00d8 working hours\": 2174.3501, \"GDP\": 13854.23, \"Population\": 1410275968, \"Gini coefficient\": 0.390757759, \"Life satisfaction\": 5.144120216, \"Productivity\": 11.35773921, \"Health expenditure\": 706.37}, {\"Continent\": \"Americas\", \"Country\": \"Colombia\", \"Code\": \"COL\", \"Year\": 2017, \"\\u00d8 working hours\": 1997.748, \"GDP\": 13426.76, \"Population\": 48351668, \"Gini coefficient\": 0.497154848, \"Life satisfaction\": 6.350297928, \"Productivity\": 15.63291474, \"Health expenditure\": 1088.17}, {\"Continent\": \"Americas\", \"Country\": \"Costa Rica\", \"Code\": \"CRI\", \"Year\": 2017, \"\\u00d8 working hours\": 2212.3835, \"GDP\": 18127.81, \"Population\": 4993849, \"Gini coefficient\": 0.483465406, \"Life satisfaction\": 6.997618675, \"Productivity\": 18.72804079, \"Health expenditure\": 1439.77}, {\"Continent\": \"Europe\", \"Country\": \"Croatia\", \"Code\": \"HRV\", \"Year\": 2017, \"\\u00d8 working hours\": 1834.9327, \"GDP\": 25359.7, \"Population\": 4192468, \"Gini coefficient\": 0.303545759, \"Life satisfaction\": 5.625743866, \"Productivity\": 33.15712673, \"Health expenditure\": 1804.07}, {\"Continent\": \"Asia\", \"Country\": \"Cyprus\", \"Code\": \"CYP\", \"Year\": 2017, \"\\u00d8 working hours\": 1783.5206, \"GDP\": 31253.99, \"Population\": 1208527, \"Gini coefficient\": 0.31416234, \"Life satisfaction\": 6.136832714, \"Productivity\": 42.59221773, \"Health expenditure\": 2532.87}, {\"Continent\": \"Europe\", \"Country\": \"Czechia\", \"Code\": \"CZE\", \"Year\": 2017, \"\\u00d8 working hours\": 1776.162, \"GDP\": 35579.26, \"Population\": 10531315, \"Gini coefficient\": 0.248522097, \"Life satisfaction\": 6.24209404, \"Productivity\": 39.42304869, \"Health expenditure\": 2785.65}, {\"Continent\": \"Europe\", \"Country\": \"Denmark\", \"Code\": \"DNK\", \"Year\": 2017, \"\\u00d8 working hours\": 1400.3815, \"GDP\": 51671.6, \"Population\": 5737286, \"Gini coefficient\": 0.287466614, \"Life satisfaction\": 7.693003178, \"Productivity\": 72.54114087, \"Health expenditure\": 5573.28}, {\"Continent\": \"Americas\", \"Country\": \"Ecuador\", \"Code\": \"ECU\", \"Year\": 2017, \"\\u00d8 working hours\": 1701.3558, \"GDP\": 11413.08, \"Population\": 16696947, \"Gini coefficient\": 0.446730295, \"Life satisfaction\": 5.809131145, \"Productivity\": 15.32391947, \"Health expenditure\": 863.05}, {\"Continent\": \"Europe\", \"Country\": \"Estonia\", \"Code\": \"EST\", \"Year\": 2017, \"\\u00d8 working hours\": 1856.6827, \"GDP\": 30981.6, \"Population\": 1317550, \"Gini coefficient\": 0.303550262, \"Life satisfaction\": 6.034641266, \"Productivity\": 33.48799406, \"Health expenditure\": 2241.85}, {\"Continent\": \"Europe\", \"Country\": \"Finland\", \"Code\": \"FIN\", \"Year\": 2017, \"\\u00d8 working hours\": 1659.2806, \"GDP\": 43827.15, \"Population\": 5508146, \"Gini coefficient\": 0.273830854, \"Life satisfaction\": 7.780347824, \"Productivity\": 58.88463786, \"Health expenditure\": 4339.1}, {\"Continent\": \"Europe\", \"Country\": \"France\", \"Code\": \"FRA\", \"Year\": 2017, \"\\u00d8 working hours\": 1514.1371, \"GDP\": 42818.76, \"Population\": 64144092, \"Gini coefficient\": 0.316320654, \"Life satisfaction\": 6.689644337, \"Productivity\": 68.37434064, \"Health expenditure\": 5059.99}, {\"Continent\": \"Europe\", \"Country\": \"Germany\", \"Code\": \"DEU\", \"Year\": 2017, \"\\u00d8 working hours\": 1353.8868, \"GDP\": 51253.33, \"Population\": 82624368, \"Gini coefficient\": 0.312019051, \"Life satisfaction\": 7.035472393, \"Productivity\": 69.84848268, \"Health expenditure\": 6028.25}, {\"Continent\": \"Europe\", \"Country\": \"Greece\", \"Code\": \"GRC\", \"Year\": 2017, \"\\u00d8 working hours\": 2016.8954, \"GDP\": 26477.58, \"Population\": 10692230, \"Gini coefficient\": 0.343520211, \"Life satisfaction\": 5.952157497, \"Productivity\": 33.35995335, \"Health expenditure\": 2325.62}, {\"Continent\": \"Asia\", \"Country\": \"Hong Kong\", \"Code\": \"HKG\", \"Year\": 2017, \"\\u00d8 working hours\": 2185.5789, \"GDP\": 49927.07, \"Population\": 7461508, \"Gini coefficient\": 0.3407793115, \"Life satisfaction\": 5.659317017, \"Productivity\": 44.37298407, \"Health expenditure\": 2230.495}, {\"Continent\": \"Europe\", \"Country\": \"Hungary\", \"Code\": \"HUN\", \"Year\": 2017, \"\\u00d8 working hours\": 1937.3325, \"GDP\": 26908.97, \"Population\": 9788940, \"Gini coefficient\": 0.305841235, \"Life satisfaction\": 6.000259876, \"Productivity\": 33.0558028, \"Health expenditure\": 1988.7}, {\"Continent\": \"Europe\", \"Country\": \"Iceland\", \"Code\": \"ISL\", \"Year\": 2017, \"\\u00d8 working hours\": 1493.3651, \"GDP\": 49844.32, \"Population\": 343641, \"Gini coefficient\": 0.261315802, \"Life satisfaction\": 7.532504559, \"Productivity\": 59.12501586, \"Health expenditure\": 4762.73}, {\"Continent\": \"Asia\", \"Country\": \"India\", \"Code\": \"IND\", \"Year\": 2017, \"\\u00d8 working hours\": 2117.0117, \"GDP\": 6188.46, \"Population\": 1354195712, \"Gini coefficient\": 0.359430473, \"Life satisfaction\": 3.24876976, \"Productivity\": 8.009787126, \"Health expenditure\": 181.53}, {\"Continent\": \"Asia\", \"Country\": \"Indonesia\", \"Code\": \"IDN\", \"Year\": 2017, \"\\u00d8 working hours\": 2024.287, \"GDP\": 10640.7, \"Population\": 264498848, \"Gini coefficient\": 0.38785263, \"Life satisfaction\": 5.346512794, \"Productivity\": 11.35478727, \"Health expenditure\": 317.59}, {\"Continent\": \"Europe\", \"Country\": \"Ireland\", \"Code\": \"IRL\", \"Year\": 2017, \"\\u00d8 working hours\": 1745.6843, \"GDP\": 86808.65, \"Population\": 4771860, \"Gini coefficient\": 0.313598037, \"Life satisfaction\": 7.254841328, \"Productivity\": 109.488306, \"Health expenditure\": 5582.93}, {\"Continent\": \"Asia\", \"Country\": \"Israel\", \"Code\": \"ISR\", \"Year\": 2017, \"\\u00d8 working hours\": 1920.6106, \"GDP\": 38979.03, \"Population\": 8309256, \"Gini coefficient\": 0.382020644, \"Life satisfaction\": 7.331779957, \"Productivity\": 41.0201119, \"Health expenditure\": 2992.02}, {\"Continent\": \"Europe\", \"Country\": \"Italy\", \"Code\": \"ITA\", \"Year\": 2017, \"\\u00d8 working hours\": 1722.6113, \"GDP\": 40155.51, \"Population\": 60004024, \"Gini coefficient\": 0.359280009, \"Life satisfaction\": 6.445416927, \"Productivity\": 56.27207136, \"Health expenditure\": 3616.67}, {\"Continent\": \"Asia\", \"Country\": \"Japan\", \"Code\": \"JPN\", \"Year\": 2017, \"\\u00d8 working hours\": 1738.3633, \"GDP\": 39598.29, \"Population\": 126662464, \"Gini coefficient\": 0.3407793115, \"Life satisfaction\": 5.908039093, \"Productivity\": 42.4229346, \"Health expenditure\": 4398.02}, {\"Continent\": \"Europe\", \"Country\": \"Latvia\", \"Code\": \"LVA\", \"Year\": 2017, \"\\u00d8 working hours\": 1874.5979, \"GDP\": 27162.37, \"Population\": 1954861, \"Gini coefficient\": 0.355719346, \"Life satisfaction\": 5.969753742, \"Productivity\": 31.56864146, \"Health expenditure\": 1703.6}, {\"Continent\": \"Europe\", \"Country\": \"Lithuania\", \"Code\": \"LTU\", \"Year\": 2017, \"\\u00d8 working hours\": 1844.0171, \"GDP\": 29832.8, \"Population\": 2904452, \"Gini coefficient\": 0.372896992, \"Life satisfaction\": 6.064097881, \"Productivity\": 32.99194736, \"Health expenditure\": 2178.09}, {\"Continent\": \"Europe\", \"Country\": \"Luxembourg\", \"Code\": \"LUX\", \"Year\": 2017, \"\\u00d8 working hours\": 1518.8575, \"GDP\": 90597.55, \"Population\": 596290, \"Gini coefficient\": 0.345157399, \"Life satisfaction\": 7.404015541, \"Productivity\": 83.16536059, \"Health expenditure\": 5980.64}, {\"Continent\": \"Asia\", \"Country\": \"Malaysia\", \"Code\": \"MYS\", \"Year\": 2017, \"\\u00d8 working hours\": 2238.2729, \"GDP\": 24159.17, \"Population\": 31975812, \"Gini coefficient\": 0.3407793115, \"Life satisfaction\": 5.427954197, \"Productivity\": 23.65407513, \"Health expenditure\": 987.58}, {\"Continent\": \"Europe\", \"Country\": \"Malta\", \"Code\": \"MLT\", \"Year\": 2017, \"\\u00d8 working hours\": 2040.0317, \"GDP\": 35154.08, \"Population\": 479507, \"Gini coefficient\": 0.292322386, \"Life satisfaction\": 6.73297739, \"Productivity\": 39.21617358, \"Health expenditure\": 3873.25}, {\"Continent\": \"Americas\", \"Country\": \"Mexico\", \"Code\": \"MEX\", \"Year\": 2017, \"\\u00d8 working hours\": 2255.0, \"GDP\": 18939.9, \"Population\": 122839256, \"Gini coefficient\": 0.3407793115, \"Life satisfaction\": 6.431945324, \"Productivity\": 21.02031412, \"Health expenditure\": 1076.31}, {\"Continent\": \"Asia\", \"Country\": \"Myanmar\", \"Code\": \"MMR\", \"Year\": 2017, \"\\u00d8 working hours\": 2437.8633, \"GDP\": 4762.93, \"Population\": 52288344, \"Gini coefficient\": 0.306968695, \"Life satisfaction\": 4.43423748, \"Productivity\": 4.735483675, \"Health expenditure\": 214.63}, {\"Continent\": \"Europe\", \"Country\": \"Netherlands\", \"Code\": \"NLD\", \"Year\": 2017, \"\\u00d8 working hours\": 1430.0229, \"GDP\": 54233.45, \"Population\": 17207204, \"Gini coefficient\": 0.285358194, \"Life satisfaction\": 7.42526865, \"Productivity\": 70.61846134, \"Health expenditure\": 5602.59}, {\"Continent\": \"Oceania\", \"Country\": \"New Zealand\", \"Code\": \"NZL\", \"Year\": 2017, \"\\u00d8 working hours\": 1752.0, \"GDP\": 39728.86, \"Population\": 4746253, \"Gini coefficient\": 0.3407793115, \"Life satisfaction\": 7.205174446, \"Productivity\": 42.73759913, \"Health expenditure\": 3875.54}, {\"Continent\": \"Africa\", \"Country\": \"Nigeria\", \"Code\": \"NGA\", \"Year\": 2017, \"\\u00d8 working hours\": 1827.2401, \"GDP\": 5060.98, \"Population\": 193495904, \"Gini coefficient\": 0.3407793115, \"Life satisfaction\": 4.356419086, \"Productivity\": 34.62209549, \"Health expenditure\": 194.81}, {\"Continent\": \"Europe\", \"Country\": \"Norway\", \"Code\": \"NOR\", \"Year\": 2017, \"\\u00d8 working hours\": 1417.4723, \"GDP\": 69604.79, \"Population\": 5277396, \"Gini coefficient\": 0.269873302, \"Life satisfaction\": 7.442139626, \"Productivity\": 96.84903378, \"Health expenditure\": 6630.84}, {\"Continent\": \"Asia\", \"Country\": \"Pakistan\", \"Code\": \"PAK\", \"Year\": 2017, \"\\u00d8 working hours\": 2096.1443, \"GDP\": 4743.69, \"Population\": 216379648, \"Gini coefficient\": 0.3407793115, \"Life satisfaction\": 4.442717552, \"Productivity\": 8.322207396, \"Health expenditure\": 132.67}, {\"Continent\": \"Americas\", \"Country\": \"Peru\", \"Code\": \"PER\", \"Year\": 2017, \"\\u00d8 working hours\": 1932.4581, \"GDP\": 11956.63, \"Population\": 31605488, \"Gini coefficient\": 0.4329279, \"Life satisfaction\": 5.999381542, \"Productivity\": 10.7489986, \"Health expenditure\": 624.02}, {\"Continent\": \"Asia\", \"Country\": \"Philippines\", \"Code\": \"PHL\", \"Year\": 2017, \"\\u00d8 working hours\": 2148.5645, \"GDP\": 7858.48, \"Population\": 106738496, \"Gini coefficient\": 0.3407793115, \"Life satisfaction\": 6.267745018, \"Productivity\": 9.450449282, \"Health expenditure\": 321.62}, {\"Continent\": \"Europe\", \"Country\": \"Poland\", \"Code\": \"POL\", \"Year\": 2017, \"\\u00d8 working hours\": 2028.4952, \"GDP\": 29047.82, \"Population\": 38532816, \"Gini coefficient\": 0.302965813, \"Life satisfaction\": 6.24209404, \"Productivity\": 33.66429154, \"Health expenditure\": 1972.37}, {\"Continent\": \"Europe\", \"Country\": \"Portugal\", \"Code\": \"PRT\", \"Year\": 2017, \"\\u00d8 working hours\": 1863.1744, \"GDP\": 30430.03, \"Population\": 10307528, \"Gini coefficient\": 0.338038412, \"Life satisfaction\": 6.095473289, \"Productivity\": 34.62209549, \"Health expenditure\": 3072.32}, {\"Continent\": \"Europe\", \"Country\": \"Romania\", \"Code\": \"ROU\", \"Year\": 2017, \"\\u00d8 working hours\": 1805.9998, \"GDP\": 25424.06, \"Population\": 19698852, \"Gini coefficient\": 0.360168279, \"Life satisfaction\": 6.129942417, \"Productivity\": 32.2711146, \"Health expenditure\": 1398.55}, {\"Continent\": \"Europe\", \"Country\": \"Russia\", \"Code\": \"RUS\", \"Year\": 2017, \"\\u00d8 working hours\": 1974.0, \"GDP\": 26797.82, \"Population\": 145452544, \"Gini coefficient\": 0.37239071, \"Life satisfaction\": 5.440523624, \"Productivity\": 27.44623652, \"Health expenditure\": 1406.2}, {\"Continent\": \"Asia\", \"Country\": \"Singapore\", \"Code\": \"SGP\", \"Year\": 2017, \"\\u00d8 working hours\": 2237.7263, \"GDP\": 81444.79, \"Population\": 5764489, \"Gini coefficient\": 0.3407793115, \"Life satisfaction\": 6.378359795, \"Productivity\": 54.29877798, \"Health expenditure\": 4091.44}, {\"Continent\": \"Europe\", \"Country\": \"Slovakia\", \"Code\": \"SVK\", \"Year\": 2017, \"\\u00d8 working hours\": 1745.2307, \"GDP\": 26467.1, \"Population\": 5439418, \"Gini coefficient\": 0.23237751, \"Life satisfaction\": 6.243428707, \"Productivity\": 35.16566573, \"Health expenditure\": 2038.16}, {\"Continent\": \"Europe\", \"Country\": \"Slovenia\", \"Code\": \"SVN\", \"Year\": 2017, \"\\u00d8 working hours\": 1655.089, \"GDP\": 31594.71, \"Population\": 2098396, \"Gini coefficient\": 0.242193073, \"Life satisfaction\": 6.665273666, \"Productivity\": 40.55475278, \"Health expenditure\": 2998.32}, {\"Continent\": \"Africa\", \"Country\": \"South Africa\", \"Code\": \"ZAF\", \"Year\": 2017, \"\\u00d8 working hours\": 2209.0916, \"GDP\": 12735.03, \"Population\": 56641208, \"Gini coefficient\": 0.3407793115, \"Life satisfaction\": 5.034863472, \"Productivity\": 18.05485455, \"Health expenditure\": 1107.89}, {\"Continent\": \"Asia\", \"Country\": \"South Korea\", \"Code\": \"KOR\", \"Year\": 2017, \"\\u00d8 working hours\": 2063.3315, \"GDP\": 40875.21, \"Population\": 51511640, \"Gini coefficient\": 0.3407793115, \"Life satisfaction\": 5.902816772, \"Productivity\": 39.08392755, \"Health expenditure\": 2925.95}, {\"Continent\": \"Europe\", \"Country\": \"Spain\", \"Code\": \"ESP\", \"Year\": 2017, \"\\u00d8 working hours\": 1686.4973, \"GDP\": 38928.51, \"Population\": 46584168, \"Gini coefficient\": 0.346545469, \"Life satisfaction\": 6.457449436, \"Productivity\": 56.06301345, \"Health expenditure\": 3556.87}, {\"Continent\": \"Asia\", \"Country\": \"Sri Lanka\", \"Code\": \"LKA\", \"Year\": 2017, \"\\u00d8 working hours\": 1923.9354, \"GDP\": 12733.1, \"Population\": 21506816, \"Gini coefficient\": 0.3407793115, \"Life satisfaction\": 4.213299274, \"Productivity\": 17.04851325, \"Health expenditure\": 459.25}, {\"Continent\": \"Europe\", \"Country\": \"Sweden\", \"Code\": \"SWE\", \"Year\": 2017, \"\\u00d8 working hours\": 1609.2896, \"GDP\": 52032.67, \"Population\": 10058191, \"Gini coefficient\": 0.287746034, \"Life satisfaction\": 7.398092747, \"Productivity\": 64.3374695, \"Health expenditure\": 5655.7}, {\"Continent\": \"Europe\", \"Country\": \"Switzerland\", \"Code\": \"CHE\", \"Year\": 2017, \"\\u00d8 working hours\": 1589.6758, \"GDP\": 73624.98, \"Population\": 8451688, \"Gini coefficient\": 0.32676334, \"Life satisfaction\": 7.69422102, \"Productivity\": 80.58822762, \"Health expenditure\": 7989.64}, {\"Continent\": \"Asia\", \"Country\": \"Taiwan\", \"Code\": \"TWN\", \"Year\": 2017, \"\\u00d8 working hours\": 1990.3212, \"GDP\": 45375.41, \"Population\": 23665028, \"Gini coefficient\": 0.3407793115, \"Life satisfaction\": 6.537089825, \"Productivity\": 44.99929907, \"Health expenditure\": 2230.495}, {\"Continent\": \"Asia\", \"Country\": \"Thailand\", \"Code\": \"THA\", \"Year\": 2017, \"\\u00d8 working hours\": 2185.4456, \"GDP\": 16665.38, \"Population\": 70898208, \"Gini coefficient\": 0.36528755, \"Life satisfaction\": 6.02215147, \"Productivity\": 14.74583813, \"Health expenditure\": 669.58}, {\"Continent\": \"Asia\", \"Country\": \"Turkey\", \"Code\": \"TUR\", \"Year\": 2017, \"\\u00d8 working hours\": 1832.0, \"GDP\": 26611.18, \"Population\": 82089824, \"Gini coefficient\": 0.414056667, \"Life satisfaction\": 4.87207365, \"Productivity\": 41.79920311, \"Health expenditure\": 1166.73}, {\"Continent\": \"Europe\", \"Country\": \"United Kingdom\", \"Code\": \"GBR\", \"Year\": 2017, \"\\u00d8 working hours\": 1670.2728, \"GDP\": 44093.93, \"Population\": 66064808, \"Gini coefficient\": 0.351488307, \"Life satisfaction\": 7.157151222, \"Productivity\": 54.67692069, \"Health expenditure\": 4515.59}, {\"Continent\": \"Americas\", \"Country\": \"United States\", \"Code\": \"USA\", \"Year\": 2017, \"\\u00d8 working hours\": 1757.2255, \"GDP\": 60116.57, \"Population\": 329791232, \"Gini coefficient\": 0.411805587, \"Life satisfaction\": 6.943701267, \"Productivity\": 71.63857051, \"Health expenditure\": 10103.09}, {\"Continent\": \"Americas\", \"Country\": \"Uruguay\", \"Code\": \"URY\", \"Year\": 2017, \"\\u00d8 working hours\": 1552.347, \"GDP\": 20615.56, \"Population\": 3422205, \"Gini coefficient\": 0.394645312, \"Life satisfaction\": 6.600337029, \"Productivity\": 28.29584596, \"Health expenditure\": 2029.89}, {\"Continent\": \"Asia\", \"Country\": \"Vietnam\", \"Code\": \"VNM\", \"Year\": 2017, \"\\u00d8 working hours\": 2169.5916, \"GDP\": 6841.65, \"Population\": 94033048, \"Gini coefficient\": 0.3407793115, \"Life satisfaction\": 5.467451096, \"Productivity\": 5.652919029, \"Health expenditure\": 423.98}]}}, {\"mode\": \"vega-lite\"});\n",
       "</script>"
      ],
      "text/plain": [
       "alt.VConcatChart(...)"
      ]
     },
     "execution_count": 79,
     "metadata": {},
     "output_type": "execute_result"
    }
   ],
   "source": [
    "# By using distribution plot we can decide which technique we will use for dealing with missing values.\n",
    "# Variable = Current health expenditure per capita\n",
    "\n",
    "hist3 = alt.Chart(df).mark_bar().encode(\n",
    "    x=alt.X(\"Health expenditure\", \n",
    "            bin=alt.BinParams(maxbins=20), \n",
    "            scale=alt.Scale(zero=True)),\n",
    "    y='count()',\n",
    ")\n",
    "\n",
    "box3 = alt.Chart(df).mark_boxplot().encode(\n",
    "    x='Health expenditure',\n",
    ")\n",
    "\n",
    "alt.vconcat(hist3, box3)\n"
   ]
  },
  {
   "attachments": {},
   "cell_type": "markdown",
   "metadata": {},
   "source": [
    "### Chart 5: Role of alpha"
   ]
  },
  {
   "cell_type": "code",
   "execution_count": 80,
   "metadata": {},
   "outputs": [
    {
     "data": {
      "image/png": "[encoded data removed]",
      "text/plain": [
       "<Figure size 640x480 with 1 Axes>"
      ]
     },
     "metadata": {},
     "output_type": "display_data"
    }
   ],
   "source": [
    "alphas = np.linspace(0.01,500,100)\n",
    "lasso = Lasso(max_iter=10000)\n",
    "coefs = []\n",
    "\n",
    "for a in alphas:\n",
    "    lasso.set_params(alpha=a)\n",
    "    lasso.fit(X_train, y_train)\n",
    "    coefs.append(lasso.coef_)\n",
    "\n",
    "ax = plt.gca()\n",
    "\n",
    "ax.plot(alphas, coefs)\n",
    "ax.set_xscale('log')\n",
    "plt.axis('tight')\n",
    "plt.xlabel('alpha')\n",
    "plt.ylabel('Standardized Coefficients')\n",
    "plt.title('Lasso coefficients as a function of alpha');"
   ]
  }
 ],
 "metadata": {
  "kernelspec": {
   "display_name": "base",
   "language": "python",
   "name": "python3"
  },
  "language_info": {
   "codemirror_mode": {
    "name": "ipython",
    "version": 3
   },
   "file_extension": ".py",
   "mimetype": "text/x-python",
   "name": "python",
   "nbconvert_exporter": "python",
   "pygments_lexer": "ipython3",
   "version": "3.9.13 (main, Aug 25 2022, 18:29:29) \n[Clang 12.0.0 ]"
  },
  "orig_nbformat": 4,
  "vscode": {
   "interpreter": {
    "hash": "d8989e2c4552408fc2cb8b2ba9f724a68f0706ff2853fa97d18f0a6b4f84c3a1"
   }
  }
 },
 "nbformat": 4,
 "nbformat_minor": 2
}

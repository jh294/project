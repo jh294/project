{
 "cells": [
  {
   "cell_type": "code",
   "execution_count": null,
   "metadata": {},
   "outputs": [],
   "source": []
  },
  {
   "attachments": {},
   "cell_type": "markdown",
   "metadata": {},
   "source": [
    "### Peer review team\n",
    "\n",
    "- Peer review by: Gruppe F\n",
    "- Names of team members that participated in this review: Ji Soo Ha, Alexander Hörmann\n",
    "\n",
    "### Goal of the project\n",
    "\n",
    "- Abgeleitet aus Daten des Seoul National University Hospitals soll der Einfluss des Alters von Patienten auf deren Aufenthaltsdauer identifiziert werden.\n",
    "\n",
    "### Data\n",
    "\n",
    "- Describe the data used or collected, if any. Is the data adequate for the project?\n",
    "\n",
    "- Die Aufzeichnungssysteme zur Datenerfassung wurden in 10 von 31 Operationssälen, von August 2016 bis Juni 2017 täglich 24 Stunden, verwendet. Damit handelt es sich um ein Cluster Sampling. Die Observations sollten möglichst divers sein um adäquate Ergebnisse zu liefern. Sofern in den Operationssälen nur eine bestimmte Art von Operationen vorgenommen wird, wäre dies nicht gegeben. Visualisierung der *Operationsarten* wäre hilfreich. \n",
    "- Block Ji Soo\n",
    "\n",
    "### Approach, tools and methods\n",
    "\n",
    "- Datenvisualisierung mit Histogram und Boxsplot pro Variable (Visualisierungen fehlen)\n",
    "- Rank Correlation nach Pearson\n",
    "- Linear regression model -> *Feature immportance?* -> Model selection (stepwise forward)\n",
    "- Lasso regression model\n",
    "- cross validation\n",
    "\n",
    "\n",
    "### Lack of clarity\n",
    "\n",
    "- Is there anything that is unclear from the proposal?\n",
    "\n",
    "- Research Question ist generisch formuliert. Abseits'Aufenthaltsdauer' und 'Alter' sind Variablen unklar die in die Betrachtung mit aufgenommen werden. Erst bei Abschnitt Data corrections & data splitting wird dies klar.\n",
    "- Bei Introduction werden die Begriffe 'Behandlungsdauer' und 'Aufenthaltsdauer' verwendet obwohl es sich um eine Variable handelt. Empfehlung für Aufenthaltsdauer analog data dictionary\n",
    "- Fehlende Dokumentation der Analyseschritte. Bspw. warum wurde Lasso regression verwendet oder wofür wurde Feature Importance genutzt.\n",
    "\n",
    "### Possible improvements\n",
    "\n",
    "- Research Question um Variablen 'recording_duration','asa','bmi','op_duration','estimated_blood_loss' erweitern.\n",
    "- keine kategorische Variable in Betrachtung enthalten. 'object sex' wäre optional zu ergänzen. In project proposal war die variable noch enthalten jedoch nicht in draft analysis\n",
    "- Begründung weshalb 'department', 'operation type', 'emop' Variablen aus Project proposal nicht in draft analysis überführt wurden\n",
    "\n",
    "### Presentation\n",
    "\n",
    "- Deep Dive (Erläuterung/Beschreibung) in die verwendeten Variablen\n",
    "- Weshalb hat man sich aus der vielzahl der Variablen im Datensatz für die vorliegene Auswahl entschieden?\n",
    "\n",
    "### Organization\n",
    "\n",
    "- Data Dictionary in Introduction ist unübersichtlich aufgrund fehlender Struktur. Link zur PDF Version im Repository angeben oder png einbetten.\n",
    "\n",
    "### Further comments\n",
    "\n",
    "- (Optional) Any further comments or feedback?"
   ]
  }
 ],
 "metadata": {
  "kernelspec": {
   "display_name": "base",
   "language": "python",
   "name": "python3"
  },
  "language_info": {
   "name": "python",
   "version": "3.9.13 (main, Aug 25 2022, 18:29:29) \n[Clang 12.0.0 ]"
  },
  "orig_nbformat": 4,
  "vscode": {
   "interpreter": {
    "hash": "d8989e2c4552408fc2cb8b2ba9f724a68f0706ff2853fa97d18f0a6b4f84c3a1"
   }
  }
 },
 "nbformat": 4,
 "nbformat_minor": 2
}

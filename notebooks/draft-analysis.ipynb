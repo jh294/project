{
 "cells": [
  {
   "attachments": {},
   "cell_type": "markdown",
   "metadata": {},
   "source": [
    "# Draft analysis \n",
    "\n",
    "---\n",
    "\n",
    "Group name: Group F (Ji Soo Ha & Alexander Hörmann)\n",
    "\n",
    "---\n"
   ]
  },
  {
   "attachments": {},
   "cell_type": "markdown",
   "metadata": {},
   "source": [
    "## Introduction\n",
    "\n",
    "### Intro\n",
    "\n",
    "The project group (herein, \"we\") decided to investigate the subject of **labor productivity**. **Productivity** is commonly defined as a ratio between the volume of output and the volume of inputs. In other words, it measures how efficiently production inputs, such as **labour**, is used in an economy to produce a given level of output. Hence it is a key source for economic growth and affects our future worklife.\n",
    "\n",
    "### Motivation\n",
    "\n",
    "The project idea is based on the following CNN news article regarding working hours in south korea https://edition.cnn.com/2018/07/02/health/south-korea-work-hours/index.html\n",
    "\n",
    "Our research question is motivated by the following literature:\n",
    "- OECD (2022), Labour productivity and utilisation (indicator). doi: 10.1787/02c02f63-en (Accessed on 11 December 2022) https://www.oecd-ilibrary.org/sites/3d9f648d-en/index.html?itemId=/content/component/3d9f648d-en\n",
    "- Pencavel, J. (2016), Recovery from Work and the Productivity of Working Hours. Economica, 83: 545-563. https://doi.org/10.1111/ecca.12206\n",
    "- Messenger, J. \"Working time and the future of work.\" ILO future of work research paper series 6.8 (2018): 33-37. http://www.ilo.int/wcmsp5/groups/public/---dgreports/---cabinet/documents/publication/wcms_649907.pdf\n",
    "\n",
    "\n",
    "### Research Questions\n",
    "1) Does the longer average annual working hours increase labor productivity?\n",
    "2) What is the most related factor in improving labor productivity?\n",
    "  - Annual working hours per worker\n",
    "  - GDP of the country\n",
    "  - Gini coefficient of country\n",
    "  - Life satisfaction level of worker\n",
    "  - Amount of health expenditure of worker\n",
    "\n",
    "### Hypotheses\n",
    "1) Labor productivity declines in case of Longer average annual working hours.\n",
    "2) Life satisfaction level of country is the most related factor (regarding factors listed above) in improving labor productivity."
   ]
  },
  {
   "cell_type": "markdown",
   "metadata": {},
   "source": [
    "## Setup"
   ]
  },
  {
   "cell_type": "code",
   "execution_count": 276,
   "metadata": {},
   "outputs": [],
   "source": [
    "import numpy as np\n",
    "import pandas as pd\n",
    "import altair as alt\n",
    "import matplotlib.pyplot as plt\n",
    "import joblib\n",
    "\n",
    "from sklearn.model_selection import train_test_split\n",
    "from sklearn.model_selection import cross_val_score\n",
    "from sklearn.linear_model import LinearRegression\n",
    "from sklearn.neighbors import KNeighborsRegressor\n",
    "from sklearn.metrics import r2_score\n",
    "from sklearn.metrics import mean_squared_error\n",
    "from sklearn.metrics import mean_absolute_error\n",
    "\n",
    "from sklearn.preprocessing import StandardScaler\n",
    "from sklearn.linear_model import Lasso\n",
    "\n",
    "import seaborn as sns\n",
    "from statsmodels.stats.outliers_influence import variance_inflation_factor\n",
    "from statsmodels.tools.tools import add_constant\n",
    "from statsmodels.formula.api import ols\n"
   ]
  },
  {
   "cell_type": "markdown",
   "metadata": {},
   "source": [
    "## Data"
   ]
  },
  {
   "cell_type": "markdown",
   "metadata": {},
   "source": [
    "## Import data"
   ]
  },
  {
   "cell_type": "code",
   "execution_count": 163,
   "metadata": {},
   "outputs": [],
   "source": [
    "df = pd.read_csv('https://raw.githubusercontent.com/jh294/project/main/data/raw/Labor_Productivity_Analysis_final.csv',sep=';',decimal=',')"
   ]
  },
  {
   "cell_type": "markdown",
   "metadata": {},
   "source": [
    "### Data structure"
   ]
  },
  {
   "cell_type": "code",
   "execution_count": 164,
   "metadata": {},
   "outputs": [
    {
     "data": {
      "text/html": [
       "<div>\n",
       "<style scoped>\n",
       "    .dataframe tbody tr th:only-of-type {\n",
       "        vertical-align: middle;\n",
       "    }\n",
       "\n",
       "    .dataframe tbody tr th {\n",
       "        vertical-align: top;\n",
       "    }\n",
       "\n",
       "    .dataframe thead th {\n",
       "        text-align: right;\n",
       "    }\n",
       "</style>\n",
       "<table border=\"1\" class=\"dataframe\">\n",
       "  <thead>\n",
       "    <tr style=\"text-align: right;\">\n",
       "      <th></th>\n",
       "      <th>Continent</th>\n",
       "      <th>Country</th>\n",
       "      <th>Code</th>\n",
       "      <th>Year</th>\n",
       "      <th>Average annual working hours per worker</th>\n",
       "      <th>GDP per capita</th>\n",
       "      <th>Population</th>\n",
       "      <th>gini_coefficient</th>\n",
       "      <th>Life satisfaction</th>\n",
       "      <th>Productivity</th>\n",
       "      <th>Current health expenditure per capita</th>\n",
       "    </tr>\n",
       "  </thead>\n",
       "  <tbody>\n",
       "    <tr>\n",
       "      <th>0</th>\n",
       "      <td>Americas</td>\n",
       "      <td>Argentina</td>\n",
       "      <td>ARG</td>\n",
       "      <td>2017</td>\n",
       "      <td>1691.5363</td>\n",
       "      <td>23272.18</td>\n",
       "      <td>44054616</td>\n",
       "      <td>NaN</td>\n",
       "      <td>6.085561</td>\n",
       "      <td>30.955460</td>\n",
       "      <td>2470.11</td>\n",
       "    </tr>\n",
       "    <tr>\n",
       "      <th>1</th>\n",
       "      <td>Oceania</td>\n",
       "      <td>Australia</td>\n",
       "      <td>AUS</td>\n",
       "      <td>2017</td>\n",
       "      <td>1731.4943</td>\n",
       "      <td>52536.19</td>\n",
       "      <td>24590336</td>\n",
       "      <td>NaN</td>\n",
       "      <td>7.233995</td>\n",
       "      <td>60.341679</td>\n",
       "      <td>4715.83</td>\n",
       "    </tr>\n",
       "    <tr>\n",
       "      <th>2</th>\n",
       "      <td>Europe</td>\n",
       "      <td>Austria</td>\n",
       "      <td>AUT</td>\n",
       "      <td>2017</td>\n",
       "      <td>1613.0519</td>\n",
       "      <td>51954.28</td>\n",
       "      <td>8797497</td>\n",
       "      <td>0.297376</td>\n",
       "      <td>7.195361</td>\n",
       "      <td>64.780170</td>\n",
       "      <td>5641.18</td>\n",
       "    </tr>\n",
       "    <tr>\n",
       "      <th>3</th>\n",
       "      <td>Asia</td>\n",
       "      <td>Bangladesh</td>\n",
       "      <td>BGD</td>\n",
       "      <td>2017</td>\n",
       "      <td>2232.3542</td>\n",
       "      <td>4112.70</td>\n",
       "      <td>161793968</td>\n",
       "      <td>NaN</td>\n",
       "      <td>5.114217</td>\n",
       "      <td>4.307637</td>\n",
       "      <td>101.18</td>\n",
       "    </tr>\n",
       "    <tr>\n",
       "      <th>4</th>\n",
       "      <td>Europe</td>\n",
       "      <td>Belgium</td>\n",
       "      <td>BEL</td>\n",
       "      <td>2017</td>\n",
       "      <td>1544.2690</td>\n",
       "      <td>45150.20</td>\n",
       "      <td>11384491</td>\n",
       "      <td>0.273880</td>\n",
       "      <td>6.772138</td>\n",
       "      <td>68.516521</td>\n",
       "      <td>5450.48</td>\n",
       "    </tr>\n",
       "    <tr>\n",
       "      <th>...</th>\n",
       "      <td>...</td>\n",
       "      <td>...</td>\n",
       "      <td>...</td>\n",
       "      <td>...</td>\n",
       "      <td>...</td>\n",
       "      <td>...</td>\n",
       "      <td>...</td>\n",
       "      <td>...</td>\n",
       "      <td>...</td>\n",
       "      <td>...</td>\n",
       "      <td>...</td>\n",
       "    </tr>\n",
       "    <tr>\n",
       "      <th>61</th>\n",
       "      <td>Asia</td>\n",
       "      <td>Turkey</td>\n",
       "      <td>TUR</td>\n",
       "      <td>2017</td>\n",
       "      <td>1832.0000</td>\n",
       "      <td>26611.18</td>\n",
       "      <td>82089824</td>\n",
       "      <td>0.414057</td>\n",
       "      <td>4.872074</td>\n",
       "      <td>41.799203</td>\n",
       "      <td>1166.73</td>\n",
       "    </tr>\n",
       "    <tr>\n",
       "      <th>62</th>\n",
       "      <td>Europe</td>\n",
       "      <td>United Kingdom</td>\n",
       "      <td>GBR</td>\n",
       "      <td>2017</td>\n",
       "      <td>1670.2728</td>\n",
       "      <td>44093.93</td>\n",
       "      <td>66064808</td>\n",
       "      <td>0.351488</td>\n",
       "      <td>7.157151</td>\n",
       "      <td>54.676921</td>\n",
       "      <td>4515.59</td>\n",
       "    </tr>\n",
       "    <tr>\n",
       "      <th>63</th>\n",
       "      <td>Americas</td>\n",
       "      <td>United States</td>\n",
       "      <td>USA</td>\n",
       "      <td>2017</td>\n",
       "      <td>1757.2255</td>\n",
       "      <td>60116.57</td>\n",
       "      <td>329791232</td>\n",
       "      <td>0.411806</td>\n",
       "      <td>6.943701</td>\n",
       "      <td>71.638571</td>\n",
       "      <td>10103.09</td>\n",
       "    </tr>\n",
       "    <tr>\n",
       "      <th>64</th>\n",
       "      <td>Americas</td>\n",
       "      <td>Uruguay</td>\n",
       "      <td>URY</td>\n",
       "      <td>2017</td>\n",
       "      <td>1552.3470</td>\n",
       "      <td>20615.56</td>\n",
       "      <td>3422205</td>\n",
       "      <td>0.394645</td>\n",
       "      <td>6.600337</td>\n",
       "      <td>28.295846</td>\n",
       "      <td>2029.89</td>\n",
       "    </tr>\n",
       "    <tr>\n",
       "      <th>65</th>\n",
       "      <td>Asia</td>\n",
       "      <td>Vietnam</td>\n",
       "      <td>VNM</td>\n",
       "      <td>2017</td>\n",
       "      <td>2169.5916</td>\n",
       "      <td>6841.65</td>\n",
       "      <td>94033048</td>\n",
       "      <td>NaN</td>\n",
       "      <td>5.467451</td>\n",
       "      <td>5.652919</td>\n",
       "      <td>423.98</td>\n",
       "    </tr>\n",
       "  </tbody>\n",
       "</table>\n",
       "<p>66 rows × 11 columns</p>\n",
       "</div>"
      ],
      "text/plain": [
       "   Continent         Country Code  Year  \\\n",
       "0   Americas       Argentina  ARG  2017   \n",
       "1    Oceania       Australia  AUS  2017   \n",
       "2     Europe         Austria  AUT  2017   \n",
       "3       Asia      Bangladesh  BGD  2017   \n",
       "4     Europe         Belgium  BEL  2017   \n",
       "..       ...             ...  ...   ...   \n",
       "61      Asia          Turkey  TUR  2017   \n",
       "62    Europe  United Kingdom  GBR  2017   \n",
       "63  Americas   United States  USA  2017   \n",
       "64  Americas         Uruguay  URY  2017   \n",
       "65      Asia         Vietnam  VNM  2017   \n",
       "\n",
       "    Average annual working hours per worker  GDP per capita  Population  \\\n",
       "0                                 1691.5363        23272.18    44054616   \n",
       "1                                 1731.4943        52536.19    24590336   \n",
       "2                                 1613.0519        51954.28     8797497   \n",
       "3                                 2232.3542         4112.70   161793968   \n",
       "4                                 1544.2690        45150.20    11384491   \n",
       "..                                      ...             ...         ...   \n",
       "61                                1832.0000        26611.18    82089824   \n",
       "62                                1670.2728        44093.93    66064808   \n",
       "63                                1757.2255        60116.57   329791232   \n",
       "64                                1552.3470        20615.56     3422205   \n",
       "65                                2169.5916         6841.65    94033048   \n",
       "\n",
       "    gini_coefficient  Life satisfaction  Productivity  \\\n",
       "0                NaN           6.085561     30.955460   \n",
       "1                NaN           7.233995     60.341679   \n",
       "2           0.297376           7.195361     64.780170   \n",
       "3                NaN           5.114217      4.307637   \n",
       "4           0.273880           6.772138     68.516521   \n",
       "..               ...                ...           ...   \n",
       "61          0.414057           4.872074     41.799203   \n",
       "62          0.351488           7.157151     54.676921   \n",
       "63          0.411806           6.943701     71.638571   \n",
       "64          0.394645           6.600337     28.295846   \n",
       "65               NaN           5.467451      5.652919   \n",
       "\n",
       "    Current health expenditure per capita  \n",
       "0                                 2470.11  \n",
       "1                                 4715.83  \n",
       "2                                 5641.18  \n",
       "3                                  101.18  \n",
       "4                                 5450.48  \n",
       "..                                    ...  \n",
       "61                                1166.73  \n",
       "62                                4515.59  \n",
       "63                               10103.09  \n",
       "64                                2029.89  \n",
       "65                                 423.98  \n",
       "\n",
       "[66 rows x 11 columns]"
      ]
     },
     "execution_count": 164,
     "metadata": {},
     "output_type": "execute_result"
    }
   ],
   "source": [
    "df"
   ]
  },
  {
   "cell_type": "code",
   "execution_count": 165,
   "metadata": {},
   "outputs": [
    {
     "name": "stdout",
     "output_type": "stream",
     "text": [
      "<class 'pandas.core.frame.DataFrame'>\n",
      "RangeIndex: 66 entries, 0 to 65\n",
      "Data columns (total 11 columns):\n",
      " #   Column                                   Non-Null Count  Dtype  \n",
      "---  ------                                   --------------  -----  \n",
      " 0   Continent                                66 non-null     object \n",
      " 1   Country                                  66 non-null     object \n",
      " 2   Code                                     66 non-null     object \n",
      " 3   Year                                     66 non-null     int64  \n",
      " 4   Average annual working hours per worker  66 non-null     float64\n",
      " 5   GDP per capita                           66 non-null     float64\n",
      " 6   Population                               66 non-null     int64  \n",
      " 7   gini_coefficient                         48 non-null     float64\n",
      " 8   Life satisfaction                        65 non-null     float64\n",
      " 9   Productivity                             65 non-null     float64\n",
      " 10  Current health expenditure per capita    64 non-null     float64\n",
      "dtypes: float64(6), int64(2), object(3)\n",
      "memory usage: 5.8+ KB\n"
     ]
    }
   ],
   "source": [
    "df.info()"
   ]
  },
  {
   "attachments": {},
   "cell_type": "markdown",
   "metadata": {},
   "source": [
    "This information reflects that our data set contains some null values. -> Data correction is needed."
   ]
  },
  {
   "cell_type": "markdown",
   "metadata": {},
   "source": [
    "### Data corrections"
   ]
  },
  {
   "cell_type": "code",
   "execution_count": 171,
   "metadata": {},
   "outputs": [],
   "source": [
    "# variable Continent is categorical\n",
    "df['Continent'] = df['Continent'].astype('category')"
   ]
  },
  {
   "cell_type": "code",
   "execution_count": 173,
   "metadata": {},
   "outputs": [
    {
     "name": "stdout",
     "output_type": "stream",
     "text": [
      "Continent                                  0\n",
      "Country                                    0\n",
      "Code                                       0\n",
      "Year                                       0\n",
      "Average annual working hours per worker    0\n",
      "GDP per capita                             0\n",
      "Population                                 0\n",
      "gini_coefficient                           0\n",
      "Life satisfaction                          0\n",
      "Productivity                               0\n",
      "Current health expenditure per capita      0\n",
      "dtype: int64\n"
     ]
    }
   ],
   "source": [
    "# Check for missing values for each variable.\n",
    "print(df.isnull().sum())"
   ]
  },
  {
   "cell_type": "code",
   "execution_count": 174,
   "metadata": {},
   "outputs": [],
   "source": [
    "# Drop missing values\n",
    "df.dropna(inplace=True)"
   ]
  },
  {
   "cell_type": "code",
   "execution_count": 175,
   "metadata": {},
   "outputs": [
    {
     "name": "stdout",
     "output_type": "stream",
     "text": [
      "Continent                                  0\n",
      "Country                                    0\n",
      "Code                                       0\n",
      "Year                                       0\n",
      "Average annual working hours per worker    0\n",
      "GDP per capita                             0\n",
      "Population                                 0\n",
      "gini_coefficient                           0\n",
      "Life satisfaction                          0\n",
      "Productivity                               0\n",
      "Current health expenditure per capita      0\n",
      "dtype: int64\n"
     ]
    }
   ],
   "source": [
    "print(df.isnull().sum())"
   ]
  },
  {
   "cell_type": "code",
   "execution_count": 176,
   "metadata": {},
   "outputs": [
    {
     "name": "stdout",
     "output_type": "stream",
     "text": [
      "<class 'pandas.core.frame.DataFrame'>\n",
      "Int64Index: 47 entries, 2 to 64\n",
      "Data columns (total 11 columns):\n",
      " #   Column                                   Non-Null Count  Dtype   \n",
      "---  ------                                   --------------  -----   \n",
      " 0   Continent                                47 non-null     category\n",
      " 1   Country                                  47 non-null     object  \n",
      " 2   Code                                     47 non-null     object  \n",
      " 3   Year                                     47 non-null     int64   \n",
      " 4   Average annual working hours per worker  47 non-null     float64 \n",
      " 5   GDP per capita                           47 non-null     float64 \n",
      " 6   Population                               47 non-null     int64   \n",
      " 7   gini_coefficient                         47 non-null     float64 \n",
      " 8   Life satisfaction                        47 non-null     float64 \n",
      " 9   Productivity                             47 non-null     float64 \n",
      " 10  Current health expenditure per capita    47 non-null     float64 \n",
      "dtypes: category(1), float64(6), int64(2), object(2)\n",
      "memory usage: 4.3+ KB\n"
     ]
    }
   ],
   "source": [
    "df.info()"
   ]
  },
  {
   "attachments": {},
   "cell_type": "markdown",
   "metadata": {},
   "source": [
    "## Evaluation of our first hypothesis\n",
    "\n",
    "As a first step, we have chosen the simplest method to evaluate our first hypothesis. With this simple method, we can first exclude all unnecessary variables so that we can look at how our independent variable (Average annual working hours) affects dependent variables (Labor productivity).\n",
    "\n",
    "- Labor productivity declines in case of longer average annual working hours.\n",
    "\n",
    "### **Single linear regression model**\n"
   ]
  },
  {
   "attachments": {},
   "cell_type": "markdown",
   "metadata": {},
   "source": [
    "### Variable lists"
   ]
  },
  {
   "attachments": {},
   "cell_type": "markdown",
   "metadata": {},
   "source": [
    "Define X and y variable for later use"
   ]
  },
  {
   "cell_type": "code",
   "execution_count": 177,
   "metadata": {},
   "outputs": [],
   "source": [
    "# define outcome variable as y_label\n",
    "y_label_H1 = 'Productivity'\n",
    "\n",
    "# select features\n",
    "X_H1 = df[[\"Average annual working hours per worker\"]]\n",
    "\n",
    "# create response\n",
    "y_H1 = df[y_label_H1]"
   ]
  },
  {
   "attachments": {},
   "cell_type": "markdown",
   "metadata": {},
   "source": [
    "### Data Splitting"
   ]
  },
  {
   "cell_type": "code",
   "execution_count": 178,
   "metadata": {},
   "outputs": [],
   "source": [
    "X_train_H1, X_test_H1, y_train_H1, y_test_H1 = train_test_split(X_H1, y_H1, \n",
    "                                                    test_size=0.2, \n",
    "                                                    shuffle=True,\n",
    "                                                    random_state=42)"
   ]
  },
  {
   "cell_type": "code",
   "execution_count": 179,
   "metadata": {},
   "outputs": [
    {
     "data": {
      "text/plain": [
       "((37, 1), (37,))"
      ]
     },
     "execution_count": 179,
     "metadata": {},
     "output_type": "execute_result"
    }
   ],
   "source": [
    "X_train_H1.shape, y_train_H1.shape"
   ]
  },
  {
   "cell_type": "code",
   "execution_count": 180,
   "metadata": {},
   "outputs": [
    {
     "data": {
      "text/html": [
       "<div>\n",
       "<style scoped>\n",
       "    .dataframe tbody tr th:only-of-type {\n",
       "        vertical-align: middle;\n",
       "    }\n",
       "\n",
       "    .dataframe tbody tr th {\n",
       "        vertical-align: top;\n",
       "    }\n",
       "\n",
       "    .dataframe thead th {\n",
       "        text-align: right;\n",
       "    }\n",
       "</style>\n",
       "<table border=\"1\" class=\"dataframe\">\n",
       "  <thead>\n",
       "    <tr style=\"text-align: right;\">\n",
       "      <th></th>\n",
       "      <th>Average annual working hours per worker</th>\n",
       "    </tr>\n",
       "  </thead>\n",
       "  <tbody>\n",
       "    <tr>\n",
       "      <th>12</th>\n",
       "      <td>2212.3835</td>\n",
       "    </tr>\n",
       "    <tr>\n",
       "      <th>6</th>\n",
       "      <td>1643.5475</td>\n",
       "    </tr>\n",
       "  </tbody>\n",
       "</table>\n",
       "</div>"
      ],
      "text/plain": [
       "    Average annual working hours per worker\n",
       "12                                2212.3835\n",
       "6                                 1643.5475"
      ]
     },
     "execution_count": 180,
     "metadata": {},
     "output_type": "execute_result"
    }
   ],
   "source": [
    "X_train_H1.head(2)"
   ]
  },
  {
   "cell_type": "code",
   "execution_count": 181,
   "metadata": {},
   "outputs": [
    {
     "data": {
      "text/plain": [
       "((10, 1), (10,))"
      ]
     },
     "execution_count": 181,
     "metadata": {},
     "output_type": "execute_result"
    }
   ],
   "source": [
    "X_test_H1.shape, y_test_H1.shape"
   ]
  },
  {
   "attachments": {},
   "cell_type": "markdown",
   "metadata": {},
   "source": [
    "We make a copy of the training data since we don’t want to alter our data during data exploration. We will use this data for our exploratory data analysis."
   ]
  },
  {
   "cell_type": "code",
   "execution_count": 182,
   "metadata": {},
   "outputs": [],
   "source": [
    "df_train_H1 = pd.DataFrame(X_train_H1.copy())\n",
    "df_train_H1 = df_train_H1.join(pd.DataFrame(y_train_H1))"
   ]
  },
  {
   "cell_type": "code",
   "execution_count": 184,
   "metadata": {},
   "outputs": [
    {
     "data": {
      "text/html": [
       "<div>\n",
       "<style scoped>\n",
       "    .dataframe tbody tr th:only-of-type {\n",
       "        vertical-align: middle;\n",
       "    }\n",
       "\n",
       "    .dataframe tbody tr th {\n",
       "        vertical-align: top;\n",
       "    }\n",
       "\n",
       "    .dataframe thead th {\n",
       "        text-align: right;\n",
       "    }\n",
       "</style>\n",
       "<table border=\"1\" class=\"dataframe\">\n",
       "  <thead>\n",
       "    <tr style=\"text-align: right;\">\n",
       "      <th></th>\n",
       "      <th>Average annual working hours per worker</th>\n",
       "      <th>Productivity</th>\n",
       "    </tr>\n",
       "  </thead>\n",
       "  <tbody>\n",
       "    <tr>\n",
       "      <th>12</th>\n",
       "      <td>2212.3835</td>\n",
       "      <td>18.728041</td>\n",
       "    </tr>\n",
       "    <tr>\n",
       "      <th>6</th>\n",
       "      <td>1643.5475</td>\n",
       "      <td>25.392122</td>\n",
       "    </tr>\n",
       "  </tbody>\n",
       "</table>\n",
       "</div>"
      ],
      "text/plain": [
       "    Average annual working hours per worker  Productivity\n",
       "12                                2212.3835     18.728041\n",
       "6                                 1643.5475     25.392122"
      ]
     },
     "execution_count": 184,
     "metadata": {},
     "output_type": "execute_result"
    }
   ],
   "source": [
    "df_train_H1.head(2)"
   ]
  },
  {
   "attachments": {},
   "cell_type": "markdown",
   "metadata": {},
   "source": [
    "### Analysis\n",
    "\n",
    "### Descriptive statistics"
   ]
  },
  {
   "cell_type": "code",
   "execution_count": 185,
   "metadata": {},
   "outputs": [
    {
     "data": {
      "text/html": [
       "<div>\n",
       "<style scoped>\n",
       "    .dataframe tbody tr th:only-of-type {\n",
       "        vertical-align: middle;\n",
       "    }\n",
       "\n",
       "    .dataframe tbody tr th {\n",
       "        vertical-align: top;\n",
       "    }\n",
       "\n",
       "    .dataframe thead th {\n",
       "        text-align: right;\n",
       "    }\n",
       "</style>\n",
       "<table border=\"1\" class=\"dataframe\">\n",
       "  <thead>\n",
       "    <tr style=\"text-align: right;\">\n",
       "      <th></th>\n",
       "      <th>count</th>\n",
       "      <th>mean</th>\n",
       "      <th>std</th>\n",
       "      <th>min</th>\n",
       "      <th>25%</th>\n",
       "      <th>50%</th>\n",
       "      <th>75%</th>\n",
       "      <th>max</th>\n",
       "    </tr>\n",
       "  </thead>\n",
       "  <tbody>\n",
       "    <tr>\n",
       "      <th>Average annual working hours per worker</th>\n",
       "      <td>37.0</td>\n",
       "      <td>1804.150616</td>\n",
       "      <td>256.349355</td>\n",
       "      <td>1353.886800</td>\n",
       "      <td>1613.051900</td>\n",
       "      <td>1783.520600</td>\n",
       "      <td>1997.74800</td>\n",
       "      <td>2437.863300</td>\n",
       "    </tr>\n",
       "    <tr>\n",
       "      <th>Productivity</th>\n",
       "      <td>37.0</td>\n",
       "      <td>42.669195</td>\n",
       "      <td>26.068821</td>\n",
       "      <td>4.735484</td>\n",
       "      <td>25.392122</td>\n",
       "      <td>34.622095</td>\n",
       "      <td>64.78017</td>\n",
       "      <td>109.488306</td>\n",
       "    </tr>\n",
       "  </tbody>\n",
       "</table>\n",
       "</div>"
      ],
      "text/plain": [
       "                                         count         mean         std  \\\n",
       "Average annual working hours per worker   37.0  1804.150616  256.349355   \n",
       "Productivity                              37.0    42.669195   26.068821   \n",
       "\n",
       "                                                 min          25%  \\\n",
       "Average annual working hours per worker  1353.886800  1613.051900   \n",
       "Productivity                                4.735484    25.392122   \n",
       "\n",
       "                                                 50%         75%          max  \n",
       "Average annual working hours per worker  1783.520600  1997.74800  2437.863300  \n",
       "Productivity                               34.622095    64.78017   109.488306  "
      ]
     },
     "execution_count": 185,
     "metadata": {},
     "output_type": "execute_result"
    }
   ],
   "source": [
    "df_train_H1.describe().T"
   ]
  },
  {
   "attachments": {},
   "cell_type": "markdown",
   "metadata": {},
   "source": [
    "### Exploratory data analysis"
   ]
  },
  {
   "cell_type": "code",
   "execution_count": 186,
   "metadata": {},
   "outputs": [
    {
     "name": "stderr",
     "output_type": "stream",
     "text": [
      "c:\\Users\\ji_so\\anaconda3\\envs\\stats\\lib\\site-packages\\altair\\utils\\core.py:317: FutureWarning: iteritems is deprecated and will be removed in a future version. Use .items instead.\n",
      "  for col_name, dtype in df.dtypes.iteritems():\n"
     ]
    },
    {
     "data": {
      "text/html": [
       "\n",
       "<div id=\"altair-viz-f66085b01284476485623c76b1acd7c6\"></div>\n",
       "<script type=\"text/javascript\">\n",
       "  var VEGA_DEBUG = (typeof VEGA_DEBUG == \"undefined\") ? {} : VEGA_DEBUG;\n",
       "  (function(spec, embedOpt){\n",
       "    let outputDiv = document.currentScript.previousElementSibling;\n",
       "    if (outputDiv.id !== \"altair-viz-f66085b01284476485623c76b1acd7c6\") {\n",
       "      outputDiv = document.getElementById(\"altair-viz-f66085b01284476485623c76b1acd7c6\");\n",
       "    }\n",
       "    const paths = {\n",
       "      \"vega\": \"https://cdn.jsdelivr.net/npm//vega@5?noext\",\n",
       "      \"vega-lib\": \"https://cdn.jsdelivr.net/npm//vega-lib?noext\",\n",
       "      \"vega-lite\": \"https://cdn.jsdelivr.net/npm//vega-lite@4.17.0?noext\",\n",
       "      \"vega-embed\": \"https://cdn.jsdelivr.net/npm//vega-embed@6?noext\",\n",
       "    };\n",
       "\n",
       "    function maybeLoadScript(lib, version) {\n",
       "      var key = `${lib.replace(\"-\", \"\")}_version`;\n",
       "      return (VEGA_DEBUG[key] == version) ?\n",
       "        Promise.resolve(paths[lib]) :\n",
       "        new Promise(function(resolve, reject) {\n",
       "          var s = document.createElement('script');\n",
       "          document.getElementsByTagName(\"head\")[0].appendChild(s);\n",
       "          s.async = true;\n",
       "          s.onload = () => {\n",
       "            VEGA_DEBUG[key] = version;\n",
       "            return resolve(paths[lib]);\n",
       "          };\n",
       "          s.onerror = () => reject(`Error loading script: ${paths[lib]}`);\n",
       "          s.src = paths[lib];\n",
       "        });\n",
       "    }\n",
       "\n",
       "    function showError(err) {\n",
       "      outputDiv.innerHTML = `<div class=\"error\" style=\"color:red;\">${err}</div>`;\n",
       "      throw err;\n",
       "    }\n",
       "\n",
       "    function displayChart(vegaEmbed) {\n",
       "      vegaEmbed(outputDiv, spec, embedOpt)\n",
       "        .catch(err => showError(`Javascript Error: ${err.message}<br>This usually means there's a typo in your chart specification. See the javascript console for the full traceback.`));\n",
       "    }\n",
       "\n",
       "    if(typeof define === \"function\" && define.amd) {\n",
       "      requirejs.config({paths});\n",
       "      require([\"vega-embed\"], displayChart, err => showError(`Error loading script: ${err.message}`));\n",
       "    } else {\n",
       "      maybeLoadScript(\"vega\", \"5\")\n",
       "        .then(() => maybeLoadScript(\"vega-lite\", \"4.17.0\"))\n",
       "        .then(() => maybeLoadScript(\"vega-embed\", \"6\"))\n",
       "        .catch(showError)\n",
       "        .then(() => displayChart(vegaEmbed));\n",
       "    }\n",
       "  })({\"config\": {\"view\": {\"continuousWidth\": 400, \"continuousHeight\": 300}}, \"data\": {\"name\": \"data-4548bb7893844aaac0bc40816b867429\"}, \"mark\": {\"type\": \"circle\", \"size\": 100}, \"encoding\": {\"x\": {\"field\": \"Average annual working hours per worker\", \"type\": \"quantitative\"}, \"y\": {\"field\": \"Productivity\", \"type\": \"quantitative\"}}, \"selection\": {\"selector005\": {\"type\": \"interval\", \"bind\": \"scales\", \"encodings\": [\"x\", \"y\"]}}, \"$schema\": \"https://vega.github.io/schema/vega-lite/v4.17.0.json\", \"datasets\": {\"data-4548bb7893844aaac0bc40816b867429\": [{\"Average annual working hours per worker\": 2212.3835, \"Productivity\": 18.72804079}, {\"Average annual working hours per worker\": 1643.5475, \"Productivity\": 25.39212178}, {\"Average annual working hours per worker\": 2174.3501, \"Productivity\": 11.35773921}, {\"Average annual working hours per worker\": 1609.2896, \"Productivity\": 64.3374695}, {\"Average annual working hours per worker\": 2028.4952, \"Productivity\": 33.66429154}, {\"Average annual working hours per worker\": 1856.6827, \"Productivity\": 33.48799406}, {\"Average annual working hours per worker\": 2016.8954, \"Productivity\": 33.35995335}, {\"Average annual working hours per worker\": 1670.2728, \"Productivity\": 54.67692069}, {\"Average annual working hours per worker\": 1514.1371, \"Productivity\": 68.37434064}, {\"Average annual working hours per worker\": 1834.9327, \"Productivity\": 33.15712673}, {\"Average annual working hours per worker\": 1353.8868, \"Productivity\": 69.84848268}, {\"Average annual working hours per worker\": 2437.8633, \"Productivity\": 4.735483675}, {\"Average annual working hours per worker\": 1932.4581, \"Productivity\": 10.7489986}, {\"Average annual working hours per worker\": 1757.2255, \"Productivity\": 71.63857051}, {\"Average annual working hours per worker\": 1613.0519, \"Productivity\": 64.7801697}, {\"Average annual working hours per worker\": 1417.4723, \"Productivity\": 96.84903378}, {\"Average annual working hours per worker\": 1430.0229, \"Productivity\": 70.61846134}, {\"Average annual working hours per worker\": 1974.0, \"Productivity\": 27.26079146}, {\"Average annual working hours per worker\": 1400.3815, \"Productivity\": 72.54114087}, {\"Average annual working hours per worker\": 1863.1744, \"Productivity\": 34.62209549}, {\"Average annual working hours per worker\": 1544.269, \"Productivity\": 68.51652068}, {\"Average annual working hours per worker\": 1589.6758, \"Productivity\": 80.58822762}, {\"Average annual working hours per worker\": 2024.287, \"Productivity\": 11.35478727}, {\"Average annual working hours per worker\": 1709.4856, \"Productivity\": 19.18829359}, {\"Average annual working hours per worker\": 1805.9998, \"Productivity\": 32.2711146}, {\"Average annual working hours per worker\": 1920.6106, \"Productivity\": 41.0201119}, {\"Average annual working hours per worker\": 1745.2307, \"Productivity\": 35.16566573}, {\"Average annual working hours per worker\": 1783.5206, \"Productivity\": 42.59221773}, {\"Average annual working hours per worker\": 1745.6843, \"Productivity\": 109.488306}, {\"Average annual working hours per worker\": 1937.3325, \"Productivity\": 33.0558028}, {\"Average annual working hours per worker\": 1552.347, \"Productivity\": 28.29584596}, {\"Average annual working hours per worker\": 2117.0117, \"Productivity\": 8.009787126}, {\"Average annual working hours per worker\": 1997.748, \"Productivity\": 15.63291474}, {\"Average annual working hours per worker\": 2185.4456, \"Productivity\": 14.74583813}, {\"Average annual working hours per worker\": 1659.2806, \"Productivity\": 58.88463786}, {\"Average annual working hours per worker\": 2040.0317, \"Productivity\": 39.21617358}, {\"Average annual working hours per worker\": 1655.089, \"Productivity\": 40.55475278}]}}, {\"mode\": \"vega-lite\"});\n",
       "</script>"
      ],
      "text/plain": [
       "alt.Chart(...)"
      ]
     },
     "execution_count": 186,
     "metadata": {},
     "output_type": "execute_result"
    }
   ],
   "source": [
    "# Visualize the data\n",
    "alt.Chart(df_train_H1).mark_circle(size=100).encode(\n",
    "    x='Average annual working hours per worker:Q',\n",
    "    y='Productivity:Q',\n",
    ").interactive()"
   ]
  },
  {
   "attachments": {},
   "cell_type": "markdown",
   "metadata": {},
   "source": [
    "As we can see in our scatterplot, we can assume that there is a negative relationship between these two variables. However, we cannot explain how strong the relationship is. \n",
    "So, we can use the simple regression model to look at the exact slope."
   ]
  },
  {
   "attachments": {},
   "cell_type": "markdown",
   "metadata": {},
   "source": [
    "### Simple regression model"
   ]
  },
  {
   "cell_type": "code",
   "execution_count": 187,
   "metadata": {},
   "outputs": [],
   "source": [
    "reg_H1 = LinearRegression()\n",
    "reg2_H1 = KNeighborsRegressor(n_neighbors=3)"
   ]
  },
  {
   "attachments": {},
   "cell_type": "markdown",
   "metadata": {},
   "source": [
    "### Training & Validation"
   ]
  },
  {
   "attachments": {},
   "cell_type": "markdown",
   "metadata": {},
   "source": [
    "We cannot ensure how well our model will perform. Therefore, as a better option, we will split our data into two sets: the training set and the test set, and then perform k-fold cross-validation. In k-fold cross-validation, the data set is split into k (here k = 5) iterations into training and test data sets. From each training and testing set we can get the error rate, so with this value we can observe how well our model performs on instances it has never seen before.\n",
    "If the training error is small (i.e. our model makes few errors in the training set) but the generalization error is high, this means that our model is overfitting the training data."
   ]
  },
  {
   "cell_type": "code",
   "execution_count": 192,
   "metadata": {},
   "outputs": [],
   "source": [
    "# cross-validation with 5 folds\n",
    "scores_H1 = cross_val_score(reg_H1, X_train_H1, y_train_H1, cv=5, scoring='neg_mean_squared_error') *-1\n",
    "scores2_H1 = cross_val_score(reg2_H1, X_train_H1, y_train_H1, cv=5, scoring='neg_mean_squared_error') *-1"
   ]
  },
  {
   "cell_type": "code",
   "execution_count": 193,
   "metadata": {},
   "outputs": [
    {
     "data": {
      "text/html": [
       "<style type=\"text/css\">\n",
       "#T_7a466_row0_col0 {\n",
       "  background-color: #eff6fc;\n",
       "  color: #000000;\n",
       "}\n",
       "#T_7a466_row0_col1, #T_7a466_row2_col0 {\n",
       "  background-color: #f7fbff;\n",
       "  color: #000000;\n",
       "}\n",
       "#T_7a466_row1_col0 {\n",
       "  background-color: #c4daee;\n",
       "  color: #000000;\n",
       "}\n",
       "#T_7a466_row1_col1 {\n",
       "  background-color: #f3f8fe;\n",
       "  color: #000000;\n",
       "}\n",
       "#T_7a466_row2_col1 {\n",
       "  background-color: #e1edf8;\n",
       "  color: #000000;\n",
       "}\n",
       "#T_7a466_row3_col0, #T_7a466_row3_col1 {\n",
       "  background-color: #08306b;\n",
       "  color: #f1f1f1;\n",
       "}\n",
       "#T_7a466_row4_col0 {\n",
       "  background-color: #bed8ec;\n",
       "  color: #000000;\n",
       "}\n",
       "#T_7a466_row4_col1 {\n",
       "  background-color: #b8d5ea;\n",
       "  color: #000000;\n",
       "}\n",
       "</style>\n",
       "<table id=\"T_7a466\">\n",
       "  <thead>\n",
       "    <tr>\n",
       "      <th class=\"blank level0\" >&nbsp;</th>\n",
       "      <th id=\"T_7a466_level0_col0\" class=\"col_heading level0 col0\" >lr</th>\n",
       "      <th id=\"T_7a466_level0_col1\" class=\"col_heading level0 col1\" >knn</th>\n",
       "    </tr>\n",
       "  </thead>\n",
       "  <tbody>\n",
       "    <tr>\n",
       "      <th id=\"T_7a466_level0_row0\" class=\"row_heading level0 row0\" >1</th>\n",
       "      <td id=\"T_7a466_row0_col0\" class=\"data row0 col0\" >148.850445</td>\n",
       "      <td id=\"T_7a466_row0_col1\" class=\"data row0 col1\" >181.016072</td>\n",
       "    </tr>\n",
       "    <tr>\n",
       "      <th id=\"T_7a466_level0_row1\" class=\"row_heading level0 row1\" >2</th>\n",
       "      <td id=\"T_7a466_row1_col0\" class=\"data row1 col0\" >279.624821</td>\n",
       "      <td id=\"T_7a466_row1_col1\" class=\"data row1 col1\" >195.118234</td>\n",
       "    </tr>\n",
       "    <tr>\n",
       "      <th id=\"T_7a466_level0_row2\" class=\"row_heading level0 row2\" >3</th>\n",
       "      <td id=\"T_7a466_row2_col0\" class=\"data row2 col0\" >123.071267</td>\n",
       "      <td id=\"T_7a466_row2_col1\" class=\"data row2 col1\" >248.821085</td>\n",
       "    </tr>\n",
       "    <tr>\n",
       "      <th id=\"T_7a466_level0_row3\" class=\"row_heading level0 row3\" >4</th>\n",
       "      <td id=\"T_7a466_row3_col0\" class=\"data row3 col0\" >736.257869</td>\n",
       "      <td id=\"T_7a466_row3_col1\" class=\"data row3 col1\" >787.521593</td>\n",
       "    </tr>\n",
       "    <tr>\n",
       "      <th id=\"T_7a466_level0_row4\" class=\"row_heading level0 row4\" >5</th>\n",
       "      <td id=\"T_7a466_row4_col0\" class=\"data row4 col0\" >291.053135</td>\n",
       "      <td id=\"T_7a466_row4_col1\" class=\"data row4 col1\" >360.756133</td>\n",
       "    </tr>\n",
       "  </tbody>\n",
       "</table>\n"
      ],
      "text/plain": [
       "<pandas.io.formats.style.Styler at 0x24bc2931eb0>"
      ]
     },
     "execution_count": 193,
     "metadata": {},
     "output_type": "execute_result"
    }
   ],
   "source": [
    "# store cross-validation scores\n",
    "df_scores_H1 = pd.DataFrame({\"lr\": scores_H1, \n",
    "                          \"knn\": scores2_H1})\n",
    "\n",
    "# reset index to match the number of folds\n",
    "df_scores_H1.index += 1\n",
    "\n",
    "# print dataframe\n",
    "df_scores_H1.style.background_gradient(cmap='Blues')"
   ]
  },
  {
   "cell_type": "code",
   "execution_count": 194,
   "metadata": {},
   "outputs": [
    {
     "name": "stderr",
     "output_type": "stream",
     "text": [
      "c:\\Users\\ji_so\\anaconda3\\envs\\stats\\lib\\site-packages\\altair\\utils\\core.py:317: FutureWarning: iteritems is deprecated and will be removed in a future version. Use .items instead.\n",
      "  for col_name, dtype in df.dtypes.iteritems():\n"
     ]
    },
    {
     "data": {
      "text/html": [
       "\n",
       "<div id=\"altair-viz-94f9c6b9536f4b368d496beb255870f8\"></div>\n",
       "<script type=\"text/javascript\">\n",
       "  var VEGA_DEBUG = (typeof VEGA_DEBUG == \"undefined\") ? {} : VEGA_DEBUG;\n",
       "  (function(spec, embedOpt){\n",
       "    let outputDiv = document.currentScript.previousElementSibling;\n",
       "    if (outputDiv.id !== \"altair-viz-94f9c6b9536f4b368d496beb255870f8\") {\n",
       "      outputDiv = document.getElementById(\"altair-viz-94f9c6b9536f4b368d496beb255870f8\");\n",
       "    }\n",
       "    const paths = {\n",
       "      \"vega\": \"https://cdn.jsdelivr.net/npm//vega@5?noext\",\n",
       "      \"vega-lib\": \"https://cdn.jsdelivr.net/npm//vega-lib?noext\",\n",
       "      \"vega-lite\": \"https://cdn.jsdelivr.net/npm//vega-lite@4.17.0?noext\",\n",
       "      \"vega-embed\": \"https://cdn.jsdelivr.net/npm//vega-embed@6?noext\",\n",
       "    };\n",
       "\n",
       "    function maybeLoadScript(lib, version) {\n",
       "      var key = `${lib.replace(\"-\", \"\")}_version`;\n",
       "      return (VEGA_DEBUG[key] == version) ?\n",
       "        Promise.resolve(paths[lib]) :\n",
       "        new Promise(function(resolve, reject) {\n",
       "          var s = document.createElement('script');\n",
       "          document.getElementsByTagName(\"head\")[0].appendChild(s);\n",
       "          s.async = true;\n",
       "          s.onload = () => {\n",
       "            VEGA_DEBUG[key] = version;\n",
       "            return resolve(paths[lib]);\n",
       "          };\n",
       "          s.onerror = () => reject(`Error loading script: ${paths[lib]}`);\n",
       "          s.src = paths[lib];\n",
       "        });\n",
       "    }\n",
       "\n",
       "    function showError(err) {\n",
       "      outputDiv.innerHTML = `<div class=\"error\" style=\"color:red;\">${err}</div>`;\n",
       "      throw err;\n",
       "    }\n",
       "\n",
       "    function displayChart(vegaEmbed) {\n",
       "      vegaEmbed(outputDiv, spec, embedOpt)\n",
       "        .catch(err => showError(`Javascript Error: ${err.message}<br>This usually means there's a typo in your chart specification. See the javascript console for the full traceback.`));\n",
       "    }\n",
       "\n",
       "    if(typeof define === \"function\" && define.amd) {\n",
       "      requirejs.config({paths});\n",
       "      require([\"vega-embed\"], displayChart, err => showError(`Error loading script: ${err.message}`));\n",
       "    } else {\n",
       "      maybeLoadScript(\"vega\", \"5\")\n",
       "        .then(() => maybeLoadScript(\"vega-lite\", \"4.17.0\"))\n",
       "        .then(() => maybeLoadScript(\"vega-embed\", \"6\"))\n",
       "        .catch(showError)\n",
       "        .then(() => displayChart(vegaEmbed));\n",
       "    }\n",
       "  })({\"config\": {\"view\": {\"continuousWidth\": 400, \"continuousHeight\": 300}}, \"repeat\": {\"layer\": [\"lr\", \"knn\"]}, \"spec\": {\"data\": {\"name\": \"data-24fedf5d098cb1e2dd99ffd9acce0392\"}, \"mark\": {\"type\": \"line\", \"point\": {}}, \"encoding\": {\"color\": {\"datum\": {\"repeat\": \"layer\"}}, \"x\": {\"axis\": {\"tickCount\": 5}, \"bin\": false, \"field\": \"index\", \"title\": \"Fold\", \"type\": \"quantitative\"}, \"y\": {\"aggregate\": \"mean\", \"field\": {\"repeat\": \"layer\"}, \"title\": \"Mean squared error (MSE)\"}}}, \"$schema\": \"https://vega.github.io/schema/vega-lite/v4.17.0.json\", \"datasets\": {\"data-24fedf5d098cb1e2dd99ffd9acce0392\": [{\"index\": 1, \"lr\": 148.85044516873717, \"knn\": 181.0160716545182}, {\"index\": 2, \"lr\": 279.6248214302612, \"knn\": 195.1182336922801}, {\"index\": 3, \"lr\": 123.07126695166271, \"knn\": 248.82108474861934}, {\"index\": 4, \"lr\": 736.2578687143485, \"knn\": 787.5215933329197}, {\"index\": 5, \"lr\": 291.0531354344093, \"knn\": 360.7561331559263}]}}, {\"mode\": \"vega-lite\"});\n",
       "</script>"
      ],
      "text/plain": [
       "alt.RepeatChart(...)"
      ]
     },
     "execution_count": 194,
     "metadata": {},
     "output_type": "execute_result"
    }
   ],
   "source": [
    "alt.Chart(df_scores_H1.reset_index()).mark_line(\n",
    "     point=alt.OverlayMarkDef()\n",
    ").encode(\n",
    "    x=alt.X(\"index\", bin=False, title=\"Fold\", axis=alt.Axis(tickCount=5)),\n",
    "    y=alt.Y(\n",
    "        alt.repeat(\"layer\"), aggregate=\"mean\", title=\"Mean squared error (MSE)\"\n",
    "    ),\n",
    "    color=alt.datum(alt.repeat(\"layer\")),\n",
    ").repeat(layer=[\"lr\", \"knn\"])"
   ]
  },
  {
   "cell_type": "code",
   "execution_count": 195,
   "metadata": {},
   "outputs": [
    {
     "data": {
      "text/html": [
       "<div>\n",
       "<style scoped>\n",
       "    .dataframe tbody tr th:only-of-type {\n",
       "        vertical-align: middle;\n",
       "    }\n",
       "\n",
       "    .dataframe tbody tr th {\n",
       "        vertical-align: top;\n",
       "    }\n",
       "\n",
       "    .dataframe thead th {\n",
       "        text-align: right;\n",
       "    }\n",
       "</style>\n",
       "<table border=\"1\" class=\"dataframe\">\n",
       "  <thead>\n",
       "    <tr style=\"text-align: right;\">\n",
       "      <th></th>\n",
       "      <th>count</th>\n",
       "      <th>mean</th>\n",
       "      <th>std</th>\n",
       "      <th>min</th>\n",
       "      <th>25%</th>\n",
       "      <th>50%</th>\n",
       "      <th>75%</th>\n",
       "      <th>max</th>\n",
       "    </tr>\n",
       "  </thead>\n",
       "  <tbody>\n",
       "    <tr>\n",
       "      <th>lr</th>\n",
       "      <td>5.0</td>\n",
       "      <td>315.771508</td>\n",
       "      <td>246.841237</td>\n",
       "      <td>123.071267</td>\n",
       "      <td>148.850445</td>\n",
       "      <td>279.624821</td>\n",
       "      <td>291.053135</td>\n",
       "      <td>736.257869</td>\n",
       "    </tr>\n",
       "    <tr>\n",
       "      <th>knn</th>\n",
       "      <td>5.0</td>\n",
       "      <td>354.646623</td>\n",
       "      <td>252.098188</td>\n",
       "      <td>181.016072</td>\n",
       "      <td>195.118234</td>\n",
       "      <td>248.821085</td>\n",
       "      <td>360.756133</td>\n",
       "      <td>787.521593</td>\n",
       "    </tr>\n",
       "  </tbody>\n",
       "</table>\n",
       "</div>"
      ],
      "text/plain": [
       "     count        mean         std         min         25%         50%  \\\n",
       "lr     5.0  315.771508  246.841237  123.071267  148.850445  279.624821   \n",
       "knn    5.0  354.646623  252.098188  181.016072  195.118234  248.821085   \n",
       "\n",
       "            75%         max  \n",
       "lr   291.053135  736.257869  \n",
       "knn  360.756133  787.521593  "
      ]
     },
     "execution_count": 195,
     "metadata": {},
     "output_type": "execute_result"
    }
   ],
   "source": [
    "df_scores_H1.describe().T"
   ]
  },
  {
   "attachments": {},
   "cell_type": "markdown",
   "metadata": {},
   "source": [
    "The difference in performance between the two models is relatively small. -> Chosse linear regression"
   ]
  },
  {
   "attachments": {},
   "cell_type": "markdown",
   "metadata": {},
   "source": [
    "### Final Training"
   ]
  },
  {
   "cell_type": "code",
   "execution_count": 215,
   "metadata": {},
   "outputs": [
    {
     "data": {
      "text/html": [
       "<style>#sk-container-id-11 {color: black;background-color: white;}#sk-container-id-11 pre{padding: 0;}#sk-container-id-11 div.sk-toggleable {background-color: white;}#sk-container-id-11 label.sk-toggleable__label {cursor: pointer;display: block;width: 100%;margin-bottom: 0;padding: 0.3em;box-sizing: border-box;text-align: center;}#sk-container-id-11 label.sk-toggleable__label-arrow:before {content: \"▸\";float: left;margin-right: 0.25em;color: #696969;}#sk-container-id-11 label.sk-toggleable__label-arrow:hover:before {color: black;}#sk-container-id-11 div.sk-estimator:hover label.sk-toggleable__label-arrow:before {color: black;}#sk-container-id-11 div.sk-toggleable__content {max-height: 0;max-width: 0;overflow: hidden;text-align: left;background-color: #f0f8ff;}#sk-container-id-11 div.sk-toggleable__content pre {margin: 0.2em;color: black;border-radius: 0.25em;background-color: #f0f8ff;}#sk-container-id-11 input.sk-toggleable__control:checked~div.sk-toggleable__content {max-height: 200px;max-width: 100%;overflow: auto;}#sk-container-id-11 input.sk-toggleable__control:checked~label.sk-toggleable__label-arrow:before {content: \"▾\";}#sk-container-id-11 div.sk-estimator input.sk-toggleable__control:checked~label.sk-toggleable__label {background-color: #d4ebff;}#sk-container-id-11 div.sk-label input.sk-toggleable__control:checked~label.sk-toggleable__label {background-color: #d4ebff;}#sk-container-id-11 input.sk-hidden--visually {border: 0;clip: rect(1px 1px 1px 1px);clip: rect(1px, 1px, 1px, 1px);height: 1px;margin: -1px;overflow: hidden;padding: 0;position: absolute;width: 1px;}#sk-container-id-11 div.sk-estimator {font-family: monospace;background-color: #f0f8ff;border: 1px dotted black;border-radius: 0.25em;box-sizing: border-box;margin-bottom: 0.5em;}#sk-container-id-11 div.sk-estimator:hover {background-color: #d4ebff;}#sk-container-id-11 div.sk-parallel-item::after {content: \"\";width: 100%;border-bottom: 1px solid gray;flex-grow: 1;}#sk-container-id-11 div.sk-label:hover label.sk-toggleable__label {background-color: #d4ebff;}#sk-container-id-11 div.sk-serial::before {content: \"\";position: absolute;border-left: 1px solid gray;box-sizing: border-box;top: 0;bottom: 0;left: 50%;z-index: 0;}#sk-container-id-11 div.sk-serial {display: flex;flex-direction: column;align-items: center;background-color: white;padding-right: 0.2em;padding-left: 0.2em;position: relative;}#sk-container-id-11 div.sk-item {position: relative;z-index: 1;}#sk-container-id-11 div.sk-parallel {display: flex;align-items: stretch;justify-content: center;background-color: white;position: relative;}#sk-container-id-11 div.sk-item::before, #sk-container-id-11 div.sk-parallel-item::before {content: \"\";position: absolute;border-left: 1px solid gray;box-sizing: border-box;top: 0;bottom: 0;left: 50%;z-index: -1;}#sk-container-id-11 div.sk-parallel-item {display: flex;flex-direction: column;z-index: 1;position: relative;background-color: white;}#sk-container-id-11 div.sk-parallel-item:first-child::after {align-self: flex-end;width: 50%;}#sk-container-id-11 div.sk-parallel-item:last-child::after {align-self: flex-start;width: 50%;}#sk-container-id-11 div.sk-parallel-item:only-child::after {width: 0;}#sk-container-id-11 div.sk-dashed-wrapped {border: 1px dashed gray;margin: 0 0.4em 0.5em 0.4em;box-sizing: border-box;padding-bottom: 0.4em;background-color: white;}#sk-container-id-11 div.sk-label label {font-family: monospace;font-weight: bold;display: inline-block;line-height: 1.2em;}#sk-container-id-11 div.sk-label-container {text-align: center;}#sk-container-id-11 div.sk-container {/* jupyter's `normalize.less` sets `[hidden] { display: none; }` but bootstrap.min.css set `[hidden] { display: none !important; }` so we also need the `!important` here to be able to override the default hidden behavior on the sphinx rendered scikit-learn.org. See: https://github.com/scikit-learn/scikit-learn/issues/21755 */display: inline-block !important;position: relative;}#sk-container-id-11 div.sk-text-repr-fallback {display: none;}</style><div id=\"sk-container-id-11\" class=\"sk-top-container\"><div class=\"sk-text-repr-fallback\"><pre>LinearRegression()</pre><b>In a Jupyter environment, please rerun this cell to show the HTML representation or trust the notebook. <br />On GitHub, the HTML representation is unable to render, please try loading this page with nbviewer.org.</b></div><div class=\"sk-container\" hidden><div class=\"sk-item\"><div class=\"sk-estimator sk-toggleable\"><input class=\"sk-toggleable__control sk-hidden--visually\" id=\"sk-estimator-id-11\" type=\"checkbox\" checked><label for=\"sk-estimator-id-11\" class=\"sk-toggleable__label sk-toggleable__label-arrow\">LinearRegression</label><div class=\"sk-toggleable__content\"><pre>LinearRegression()</pre></div></div></div></div></div>"
      ],
      "text/plain": [
       "LinearRegression()"
      ]
     },
     "execution_count": 215,
     "metadata": {},
     "output_type": "execute_result"
    }
   ],
   "source": [
    "# Fit the model\n",
    "reg_H1.fit(X_train_H1, y_train_H1)"
   ]
  },
  {
   "cell_type": "code",
   "execution_count": 216,
   "metadata": {},
   "outputs": [
    {
     "name": "stdout",
     "output_type": "stream",
     "text": [
      " Intercept: 1.8e+02 \n",
      " Slope: -0.07592\n"
     ]
    }
   ],
   "source": [
    "print(f' Intercept: {reg_H1.intercept_:.3} \\n Slope: {reg_H1.coef_[0]:.5f}')"
   ]
  },
  {
   "cell_type": "code",
   "execution_count": 268,
   "metadata": {},
   "outputs": [
    {
     "data": {
      "text/plain": [
       "179.63302203347519"
      ]
     },
     "execution_count": 268,
     "metadata": {},
     "output_type": "execute_result"
    }
   ],
   "source": [
    "reg_H1.intercept_"
   ]
  },
  {
   "attachments": {},
   "cell_type": "markdown",
   "metadata": {},
   "source": [
    "The intercept, 179,63, is the average predicted labor productivity that we assume the average working hours per worker is 0. To find the average labor productivity with average working hours per worker, we simply plug in average working hours per worker=1 to obtain 179,63 - 0,07592 * 1 = 179,55.\n",
    "\n",
    "As already hypothesized, labor productivity decreases with increasing average annual working hours, but the negative relationship is not as strong as expected."
   ]
  },
  {
   "cell_type": "code",
   "execution_count": 270,
   "metadata": {},
   "outputs": [
    {
     "data": {
      "text/plain": [
       "182.9702740581808"
      ]
     },
     "execution_count": 270,
     "metadata": {},
     "output_type": "execute_result"
    }
   ],
   "source": [
    "# Prediction for our test data\n",
    "y_pred_H1 = reg_H1.predict(X_test_H1)\n",
    "\n",
    "# Mean squared error\n",
    "mean_squared_error(y_test_H1, y_pred_H1)"
   ]
  },
  {
   "cell_type": "code",
   "execution_count": 271,
   "metadata": {},
   "outputs": [
    {
     "data": {
      "text/plain": [
       "13.526650511423025"
      ]
     },
     "execution_count": 271,
     "metadata": {},
     "output_type": "execute_result"
    }
   ],
   "source": [
    "# Root mean squared error\n",
    "mean_squared_error(y_test_H1, y_pred_H1, squared=False)"
   ]
  },
  {
   "cell_type": "code",
   "execution_count": 272,
   "metadata": {},
   "outputs": [
    {
     "data": {
      "text/plain": [
       "9.438685719582272"
      ]
     },
     "execution_count": 272,
     "metadata": {},
     "output_type": "execute_result"
    }
   ],
   "source": [
    "mean_absolute_error(y_test_H1, y_pred_H1)"
   ]
  },
  {
   "attachments": {},
   "cell_type": "markdown",
   "metadata": {},
   "source": [
    "## Evaluation of our second hypothese with using various models\n",
    "\n",
    "Our second hypothesis relates to more than one independent variable. Therefore, we will use two different models to evaluate this hypothesis: **Multiple linear regression & Lasso regression**\n",
    "\n",
    "- Life satisfaction level of country is the most related factor (regarding all existing factors) in improving labor productivity.\n",
    "\n",
    "\n",
    "\n",
    "### **Multiple linear regression**"
   ]
  },
  {
   "cell_type": "markdown",
   "metadata": {},
   "source": [
    "### Variable lists"
   ]
  },
  {
   "cell_type": "code",
   "execution_count": 220,
   "metadata": {},
   "outputs": [],
   "source": [
    "# define outcome variable as y_label\n",
    "y_label = 'Productivity'\n",
    "\n",
    "# select features\n",
    "features = [\"Average annual working hours per worker\", \n",
    "            \"GDP per capita\",\n",
    "            \"Population\",\n",
    "            \"gini_coefficient\",\n",
    "            \"Life satisfaction\",\n",
    "            \"Current health expenditure per capita\"\n",
    "            ]\n",
    "\n",
    "\n",
    "# create feature data\n",
    "X = df[features]\n",
    "\n",
    "# create response\n",
    "y = df[y_label]"
   ]
  },
  {
   "cell_type": "markdown",
   "metadata": {},
   "source": [
    "### Data splitting"
   ]
  },
  {
   "cell_type": "code",
   "execution_count": 221,
   "metadata": {},
   "outputs": [],
   "source": [
    "X_train, X_test, y_train, y_test = train_test_split(X, y, \n",
    "                                                    test_size=0.2,\n",
    "                                                    random_state=42)"
   ]
  },
  {
   "cell_type": "code",
   "execution_count": 222,
   "metadata": {},
   "outputs": [
    {
     "data": {
      "text/html": [
       "<div>\n",
       "<style scoped>\n",
       "    .dataframe tbody tr th:only-of-type {\n",
       "        vertical-align: middle;\n",
       "    }\n",
       "\n",
       "    .dataframe tbody tr th {\n",
       "        vertical-align: top;\n",
       "    }\n",
       "\n",
       "    .dataframe thead th {\n",
       "        text-align: right;\n",
       "    }\n",
       "</style>\n",
       "<table border=\"1\" class=\"dataframe\">\n",
       "  <thead>\n",
       "    <tr style=\"text-align: right;\">\n",
       "      <th></th>\n",
       "      <th>Average annual working hours per worker</th>\n",
       "      <th>GDP per capita</th>\n",
       "      <th>Population</th>\n",
       "      <th>gini_coefficient</th>\n",
       "      <th>Life satisfaction</th>\n",
       "      <th>Current health expenditure per capita</th>\n",
       "    </tr>\n",
       "  </thead>\n",
       "  <tbody>\n",
       "    <tr>\n",
       "      <th>12</th>\n",
       "      <td>2212.3835</td>\n",
       "      <td>18127.81</td>\n",
       "      <td>4993849</td>\n",
       "      <td>0.483465</td>\n",
       "      <td>6.997619</td>\n",
       "      <td>1439.77</td>\n",
       "    </tr>\n",
       "    <tr>\n",
       "      <th>6</th>\n",
       "      <td>1643.5475</td>\n",
       "      <td>19579.83</td>\n",
       "      <td>7182430</td>\n",
       "      <td>0.403790</td>\n",
       "      <td>5.108438</td>\n",
       "      <td>1607.71</td>\n",
       "    </tr>\n",
       "    <tr>\n",
       "      <th>10</th>\n",
       "      <td>2174.3501</td>\n",
       "      <td>13854.23</td>\n",
       "      <td>1410275968</td>\n",
       "      <td>0.390758</td>\n",
       "      <td>5.144120</td>\n",
       "      <td>706.37</td>\n",
       "    </tr>\n",
       "    <tr>\n",
       "      <th>57</th>\n",
       "      <td>1609.2896</td>\n",
       "      <td>52032.67</td>\n",
       "      <td>10058191</td>\n",
       "      <td>0.287746</td>\n",
       "      <td>7.398093</td>\n",
       "      <td>5655.70</td>\n",
       "    </tr>\n",
       "    <tr>\n",
       "      <th>46</th>\n",
       "      <td>2028.4952</td>\n",
       "      <td>29047.82</td>\n",
       "      <td>38532816</td>\n",
       "      <td>0.302966</td>\n",
       "      <td>6.242094</td>\n",
       "      <td>1972.37</td>\n",
       "    </tr>\n",
       "    <tr>\n",
       "      <th>18</th>\n",
       "      <td>1856.6827</td>\n",
       "      <td>30981.60</td>\n",
       "      <td>1317550</td>\n",
       "      <td>0.303550</td>\n",
       "      <td>6.034641</td>\n",
       "      <td>2241.85</td>\n",
       "    </tr>\n",
       "    <tr>\n",
       "      <th>22</th>\n",
       "      <td>2016.8954</td>\n",
       "      <td>26477.58</td>\n",
       "      <td>10692230</td>\n",
       "      <td>0.343520</td>\n",
       "      <td>5.952157</td>\n",
       "      <td>2325.62</td>\n",
       "    </tr>\n",
       "    <tr>\n",
       "      <th>62</th>\n",
       "      <td>1670.2728</td>\n",
       "      <td>44093.93</td>\n",
       "      <td>66064808</td>\n",
       "      <td>0.351488</td>\n",
       "      <td>7.157151</td>\n",
       "      <td>4515.59</td>\n",
       "    </tr>\n",
       "    <tr>\n",
       "      <th>20</th>\n",
       "      <td>1514.1371</td>\n",
       "      <td>42818.76</td>\n",
       "      <td>64144092</td>\n",
       "      <td>0.316321</td>\n",
       "      <td>6.689644</td>\n",
       "      <td>5059.99</td>\n",
       "    </tr>\n",
       "    <tr>\n",
       "      <th>13</th>\n",
       "      <td>1834.9327</td>\n",
       "      <td>25359.70</td>\n",
       "      <td>4192468</td>\n",
       "      <td>0.303546</td>\n",
       "      <td>5.625744</td>\n",
       "      <td>1804.07</td>\n",
       "    </tr>\n",
       "    <tr>\n",
       "      <th>21</th>\n",
       "      <td>1353.8868</td>\n",
       "      <td>51253.33</td>\n",
       "      <td>82624368</td>\n",
       "      <td>0.312019</td>\n",
       "      <td>7.035472</td>\n",
       "      <td>6028.25</td>\n",
       "    </tr>\n",
       "    <tr>\n",
       "      <th>38</th>\n",
       "      <td>2437.8633</td>\n",
       "      <td>4762.93</td>\n",
       "      <td>52288344</td>\n",
       "      <td>0.306969</td>\n",
       "      <td>4.434237</td>\n",
       "      <td>214.63</td>\n",
       "    </tr>\n",
       "    <tr>\n",
       "      <th>44</th>\n",
       "      <td>1932.4581</td>\n",
       "      <td>11956.63</td>\n",
       "      <td>31605488</td>\n",
       "      <td>0.432928</td>\n",
       "      <td>5.999382</td>\n",
       "      <td>624.02</td>\n",
       "    </tr>\n",
       "    <tr>\n",
       "      <th>63</th>\n",
       "      <td>1757.2255</td>\n",
       "      <td>60116.57</td>\n",
       "      <td>329791232</td>\n",
       "      <td>0.411806</td>\n",
       "      <td>6.943701</td>\n",
       "      <td>10103.09</td>\n",
       "    </tr>\n",
       "    <tr>\n",
       "      <th>2</th>\n",
       "      <td>1613.0519</td>\n",
       "      <td>51954.28</td>\n",
       "      <td>8797497</td>\n",
       "      <td>0.297376</td>\n",
       "      <td>7.195361</td>\n",
       "      <td>5641.18</td>\n",
       "    </tr>\n",
       "    <tr>\n",
       "      <th>42</th>\n",
       "      <td>1417.4723</td>\n",
       "      <td>69604.79</td>\n",
       "      <td>5277396</td>\n",
       "      <td>0.269873</td>\n",
       "      <td>7.442140</td>\n",
       "      <td>6630.84</td>\n",
       "    </tr>\n",
       "    <tr>\n",
       "      <th>39</th>\n",
       "      <td>1430.0229</td>\n",
       "      <td>54233.45</td>\n",
       "      <td>17207204</td>\n",
       "      <td>0.285358</td>\n",
       "      <td>7.425269</td>\n",
       "      <td>5602.59</td>\n",
       "    </tr>\n",
       "    <tr>\n",
       "      <th>9</th>\n",
       "      <td>1974.0000</td>\n",
       "      <td>22864.05</td>\n",
       "      <td>18368582</td>\n",
       "      <td>0.444410</td>\n",
       "      <td>5.942250</td>\n",
       "      <td>2219.14</td>\n",
       "    </tr>\n",
       "    <tr>\n",
       "      <th>16</th>\n",
       "      <td>1400.3815</td>\n",
       "      <td>51671.60</td>\n",
       "      <td>5737286</td>\n",
       "      <td>0.287467</td>\n",
       "      <td>7.693003</td>\n",
       "      <td>5573.28</td>\n",
       "    </tr>\n",
       "    <tr>\n",
       "      <th>47</th>\n",
       "      <td>1863.1744</td>\n",
       "      <td>30430.03</td>\n",
       "      <td>10307528</td>\n",
       "      <td>0.338038</td>\n",
       "      <td>6.095473</td>\n",
       "      <td>3072.32</td>\n",
       "    </tr>\n",
       "    <tr>\n",
       "      <th>4</th>\n",
       "      <td>1544.2690</td>\n",
       "      <td>45150.20</td>\n",
       "      <td>11384491</td>\n",
       "      <td>0.273880</td>\n",
       "      <td>6.772138</td>\n",
       "      <td>5450.48</td>\n",
       "    </tr>\n",
       "    <tr>\n",
       "      <th>58</th>\n",
       "      <td>1589.6758</td>\n",
       "      <td>73624.98</td>\n",
       "      <td>8451688</td>\n",
       "      <td>0.326763</td>\n",
       "      <td>7.694221</td>\n",
       "      <td>7989.64</td>\n",
       "    </tr>\n",
       "    <tr>\n",
       "      <th>27</th>\n",
       "      <td>2024.2870</td>\n",
       "      <td>10640.70</td>\n",
       "      <td>264498848</td>\n",
       "      <td>0.387853</td>\n",
       "      <td>5.346513</td>\n",
       "      <td>317.59</td>\n",
       "    </tr>\n",
       "    <tr>\n",
       "      <th>5</th>\n",
       "      <td>1709.4856</td>\n",
       "      <td>14284.61</td>\n",
       "      <td>208504960</td>\n",
       "      <td>0.533340</td>\n",
       "      <td>6.451149</td>\n",
       "      <td>1375.66</td>\n",
       "    </tr>\n",
       "    <tr>\n",
       "      <th>48</th>\n",
       "      <td>1805.9998</td>\n",
       "      <td>25424.06</td>\n",
       "      <td>19698852</td>\n",
       "      <td>0.360168</td>\n",
       "      <td>6.129942</td>\n",
       "      <td>1398.55</td>\n",
       "    </tr>\n",
       "    <tr>\n",
       "      <th>29</th>\n",
       "      <td>1920.6106</td>\n",
       "      <td>38979.03</td>\n",
       "      <td>8309256</td>\n",
       "      <td>0.382021</td>\n",
       "      <td>7.331780</td>\n",
       "      <td>2992.02</td>\n",
       "    </tr>\n",
       "    <tr>\n",
       "      <th>51</th>\n",
       "      <td>1745.2307</td>\n",
       "      <td>26467.10</td>\n",
       "      <td>5439418</td>\n",
       "      <td>0.232378</td>\n",
       "      <td>6.243429</td>\n",
       "      <td>2038.16</td>\n",
       "    </tr>\n",
       "    <tr>\n",
       "      <th>14</th>\n",
       "      <td>1783.5206</td>\n",
       "      <td>31253.99</td>\n",
       "      <td>1208527</td>\n",
       "      <td>0.314162</td>\n",
       "      <td>6.136833</td>\n",
       "      <td>2532.87</td>\n",
       "    </tr>\n",
       "    <tr>\n",
       "      <th>28</th>\n",
       "      <td>1745.6843</td>\n",
       "      <td>86808.65</td>\n",
       "      <td>4771860</td>\n",
       "      <td>0.313598</td>\n",
       "      <td>7.254841</td>\n",
       "      <td>5582.93</td>\n",
       "    </tr>\n",
       "    <tr>\n",
       "      <th>24</th>\n",
       "      <td>1937.3325</td>\n",
       "      <td>26908.97</td>\n",
       "      <td>9788940</td>\n",
       "      <td>0.305841</td>\n",
       "      <td>6.000260</td>\n",
       "      <td>1988.70</td>\n",
       "    </tr>\n",
       "    <tr>\n",
       "      <th>64</th>\n",
       "      <td>1552.3470</td>\n",
       "      <td>20615.56</td>\n",
       "      <td>3422205</td>\n",
       "      <td>0.394645</td>\n",
       "      <td>6.600337</td>\n",
       "      <td>2029.89</td>\n",
       "    </tr>\n",
       "    <tr>\n",
       "      <th>26</th>\n",
       "      <td>2117.0117</td>\n",
       "      <td>6188.46</td>\n",
       "      <td>1354195712</td>\n",
       "      <td>0.359430</td>\n",
       "      <td>3.248770</td>\n",
       "      <td>181.53</td>\n",
       "    </tr>\n",
       "    <tr>\n",
       "      <th>11</th>\n",
       "      <td>1997.7480</td>\n",
       "      <td>13426.76</td>\n",
       "      <td>48351668</td>\n",
       "      <td>0.497155</td>\n",
       "      <td>6.350298</td>\n",
       "      <td>1088.17</td>\n",
       "    </tr>\n",
       "    <tr>\n",
       "      <th>60</th>\n",
       "      <td>2185.4456</td>\n",
       "      <td>16665.38</td>\n",
       "      <td>70898208</td>\n",
       "      <td>0.365288</td>\n",
       "      <td>6.022151</td>\n",
       "      <td>669.58</td>\n",
       "    </tr>\n",
       "    <tr>\n",
       "      <th>19</th>\n",
       "      <td>1659.2806</td>\n",
       "      <td>43827.15</td>\n",
       "      <td>5508146</td>\n",
       "      <td>0.273831</td>\n",
       "      <td>7.780348</td>\n",
       "      <td>4339.10</td>\n",
       "    </tr>\n",
       "    <tr>\n",
       "      <th>36</th>\n",
       "      <td>2040.0317</td>\n",
       "      <td>35154.08</td>\n",
       "      <td>479507</td>\n",
       "      <td>0.292322</td>\n",
       "      <td>6.732977</td>\n",
       "      <td>3873.25</td>\n",
       "    </tr>\n",
       "    <tr>\n",
       "      <th>52</th>\n",
       "      <td>1655.0890</td>\n",
       "      <td>31594.71</td>\n",
       "      <td>2098396</td>\n",
       "      <td>0.242193</td>\n",
       "      <td>6.665274</td>\n",
       "      <td>2998.32</td>\n",
       "    </tr>\n",
       "  </tbody>\n",
       "</table>\n",
       "</div>"
      ],
      "text/plain": [
       "    Average annual working hours per worker  GDP per capita  Population  \\\n",
       "12                                2212.3835        18127.81     4993849   \n",
       "6                                 1643.5475        19579.83     7182430   \n",
       "10                                2174.3501        13854.23  1410275968   \n",
       "57                                1609.2896        52032.67    10058191   \n",
       "46                                2028.4952        29047.82    38532816   \n",
       "18                                1856.6827        30981.60     1317550   \n",
       "22                                2016.8954        26477.58    10692230   \n",
       "62                                1670.2728        44093.93    66064808   \n",
       "20                                1514.1371        42818.76    64144092   \n",
       "13                                1834.9327        25359.70     4192468   \n",
       "21                                1353.8868        51253.33    82624368   \n",
       "38                                2437.8633         4762.93    52288344   \n",
       "44                                1932.4581        11956.63    31605488   \n",
       "63                                1757.2255        60116.57   329791232   \n",
       "2                                 1613.0519        51954.28     8797497   \n",
       "42                                1417.4723        69604.79     5277396   \n",
       "39                                1430.0229        54233.45    17207204   \n",
       "9                                 1974.0000        22864.05    18368582   \n",
       "16                                1400.3815        51671.60     5737286   \n",
       "47                                1863.1744        30430.03    10307528   \n",
       "4                                 1544.2690        45150.20    11384491   \n",
       "58                                1589.6758        73624.98     8451688   \n",
       "27                                2024.2870        10640.70   264498848   \n",
       "5                                 1709.4856        14284.61   208504960   \n",
       "48                                1805.9998        25424.06    19698852   \n",
       "29                                1920.6106        38979.03     8309256   \n",
       "51                                1745.2307        26467.10     5439418   \n",
       "14                                1783.5206        31253.99     1208527   \n",
       "28                                1745.6843        86808.65     4771860   \n",
       "24                                1937.3325        26908.97     9788940   \n",
       "64                                1552.3470        20615.56     3422205   \n",
       "26                                2117.0117         6188.46  1354195712   \n",
       "11                                1997.7480        13426.76    48351668   \n",
       "60                                2185.4456        16665.38    70898208   \n",
       "19                                1659.2806        43827.15     5508146   \n",
       "36                                2040.0317        35154.08      479507   \n",
       "52                                1655.0890        31594.71     2098396   \n",
       "\n",
       "    gini_coefficient  Life satisfaction  Current health expenditure per capita  \n",
       "12          0.483465           6.997619                                1439.77  \n",
       "6           0.403790           5.108438                                1607.71  \n",
       "10          0.390758           5.144120                                 706.37  \n",
       "57          0.287746           7.398093                                5655.70  \n",
       "46          0.302966           6.242094                                1972.37  \n",
       "18          0.303550           6.034641                                2241.85  \n",
       "22          0.343520           5.952157                                2325.62  \n",
       "62          0.351488           7.157151                                4515.59  \n",
       "20          0.316321           6.689644                                5059.99  \n",
       "13          0.303546           5.625744                                1804.07  \n",
       "21          0.312019           7.035472                                6028.25  \n",
       "38          0.306969           4.434237                                 214.63  \n",
       "44          0.432928           5.999382                                 624.02  \n",
       "63          0.411806           6.943701                               10103.09  \n",
       "2           0.297376           7.195361                                5641.18  \n",
       "42          0.269873           7.442140                                6630.84  \n",
       "39          0.285358           7.425269                                5602.59  \n",
       "9           0.444410           5.942250                                2219.14  \n",
       "16          0.287467           7.693003                                5573.28  \n",
       "47          0.338038           6.095473                                3072.32  \n",
       "4           0.273880           6.772138                                5450.48  \n",
       "58          0.326763           7.694221                                7989.64  \n",
       "27          0.387853           5.346513                                 317.59  \n",
       "5           0.533340           6.451149                                1375.66  \n",
       "48          0.360168           6.129942                                1398.55  \n",
       "29          0.382021           7.331780                                2992.02  \n",
       "51          0.232378           6.243429                                2038.16  \n",
       "14          0.314162           6.136833                                2532.87  \n",
       "28          0.313598           7.254841                                5582.93  \n",
       "24          0.305841           6.000260                                1988.70  \n",
       "64          0.394645           6.600337                                2029.89  \n",
       "26          0.359430           3.248770                                 181.53  \n",
       "11          0.497155           6.350298                                1088.17  \n",
       "60          0.365288           6.022151                                 669.58  \n",
       "19          0.273831           7.780348                                4339.10  \n",
       "36          0.292322           6.732977                                3873.25  \n",
       "52          0.242193           6.665274                                2998.32  "
      ]
     },
     "execution_count": 222,
     "metadata": {},
     "output_type": "execute_result"
    }
   ],
   "source": [
    "X_train"
   ]
  },
  {
   "cell_type": "code",
   "execution_count": 223,
   "metadata": {},
   "outputs": [],
   "source": [
    "# data exploration set\n",
    "df_train = pd.DataFrame(X_train.copy())\n",
    "df_train = df_train.join(pd.DataFrame(y_train))"
   ]
  },
  {
   "cell_type": "markdown",
   "metadata": {},
   "source": [
    "## Analysis"
   ]
  },
  {
   "cell_type": "markdown",
   "metadata": {},
   "source": [
    "### Descriptive statistics"
   ]
  },
  {
   "cell_type": "code",
   "execution_count": 224,
   "metadata": {},
   "outputs": [
    {
     "data": {
      "text/html": [
       "<div>\n",
       "<style scoped>\n",
       "    .dataframe tbody tr th:only-of-type {\n",
       "        vertical-align: middle;\n",
       "    }\n",
       "\n",
       "    .dataframe tbody tr th {\n",
       "        vertical-align: top;\n",
       "    }\n",
       "\n",
       "    .dataframe thead th {\n",
       "        text-align: right;\n",
       "    }\n",
       "</style>\n",
       "<table border=\"1\" class=\"dataframe\">\n",
       "  <thead>\n",
       "    <tr style=\"text-align: right;\">\n",
       "      <th></th>\n",
       "      <th>count</th>\n",
       "      <th>mean</th>\n",
       "      <th>std</th>\n",
       "      <th>min</th>\n",
       "      <th>25%</th>\n",
       "      <th>50%</th>\n",
       "      <th>75%</th>\n",
       "      <th>max</th>\n",
       "    </tr>\n",
       "  </thead>\n",
       "  <tbody>\n",
       "    <tr>\n",
       "      <th>Average annual working hours per worker</th>\n",
       "      <td>37.0</td>\n",
       "      <td>1.804151e+03</td>\n",
       "      <td>2.563494e+02</td>\n",
       "      <td>1353.886800</td>\n",
       "      <td>1.613052e+03</td>\n",
       "      <td>1.783521e+03</td>\n",
       "      <td>1.997748e+03</td>\n",
       "      <td>2.437863e+03</td>\n",
       "    </tr>\n",
       "    <tr>\n",
       "      <th>GDP per capita</th>\n",
       "      <td>37.0</td>\n",
       "      <td>3.400638e+04</td>\n",
       "      <td>1.951846e+04</td>\n",
       "      <td>4762.930000</td>\n",
       "      <td>1.957983e+04</td>\n",
       "      <td>3.043003e+04</td>\n",
       "      <td>4.515020e+04</td>\n",
       "      <td>8.680865e+04</td>\n",
       "    </tr>\n",
       "    <tr>\n",
       "      <th>Population</th>\n",
       "      <td>37.0</td>\n",
       "      <td>1.136884e+08</td>\n",
       "      <td>3.160795e+08</td>\n",
       "      <td>479507.000000</td>\n",
       "      <td>5.439418e+06</td>\n",
       "      <td>1.030753e+07</td>\n",
       "      <td>5.228834e+07</td>\n",
       "      <td>1.410276e+09</td>\n",
       "    </tr>\n",
       "    <tr>\n",
       "      <th>gini_coefficient</th>\n",
       "      <td>37.0</td>\n",
       "      <td>3.440071e-01</td>\n",
       "      <td>7.042963e-02</td>\n",
       "      <td>0.232378</td>\n",
       "      <td>2.973758e-01</td>\n",
       "      <td>3.163207e-01</td>\n",
       "      <td>3.878526e-01</td>\n",
       "      <td>5.333405e-01</td>\n",
       "    </tr>\n",
       "    <tr>\n",
       "      <th>Life satisfaction</th>\n",
       "      <td>37.0</td>\n",
       "      <td>6.413980e+00</td>\n",
       "      <td>9.534856e-01</td>\n",
       "      <td>3.248770</td>\n",
       "      <td>6.000260e+00</td>\n",
       "      <td>6.451149e+00</td>\n",
       "      <td>7.157151e+00</td>\n",
       "      <td>7.780348e+00</td>\n",
       "    </tr>\n",
       "    <tr>\n",
       "      <th>Current health expenditure per capita</th>\n",
       "      <td>37.0</td>\n",
       "      <td>3.240130e+03</td>\n",
       "      <td>2.383217e+03</td>\n",
       "      <td>181.530000</td>\n",
       "      <td>1.439770e+03</td>\n",
       "      <td>2.325620e+03</td>\n",
       "      <td>5.450480e+03</td>\n",
       "      <td>1.010309e+04</td>\n",
       "    </tr>\n",
       "    <tr>\n",
       "      <th>Productivity</th>\n",
       "      <td>37.0</td>\n",
       "      <td>4.266920e+01</td>\n",
       "      <td>2.606882e+01</td>\n",
       "      <td>4.735484</td>\n",
       "      <td>2.539212e+01</td>\n",
       "      <td>3.462210e+01</td>\n",
       "      <td>6.478017e+01</td>\n",
       "      <td>1.094883e+02</td>\n",
       "    </tr>\n",
       "  </tbody>\n",
       "</table>\n",
       "</div>"
      ],
      "text/plain": [
       "                                         count          mean           std  \\\n",
       "Average annual working hours per worker   37.0  1.804151e+03  2.563494e+02   \n",
       "GDP per capita                            37.0  3.400638e+04  1.951846e+04   \n",
       "Population                                37.0  1.136884e+08  3.160795e+08   \n",
       "gini_coefficient                          37.0  3.440071e-01  7.042963e-02   \n",
       "Life satisfaction                         37.0  6.413980e+00  9.534856e-01   \n",
       "Current health expenditure per capita     37.0  3.240130e+03  2.383217e+03   \n",
       "Productivity                              37.0  4.266920e+01  2.606882e+01   \n",
       "\n",
       "                                                   min           25%  \\\n",
       "Average annual working hours per worker    1353.886800  1.613052e+03   \n",
       "GDP per capita                             4762.930000  1.957983e+04   \n",
       "Population                               479507.000000  5.439418e+06   \n",
       "gini_coefficient                              0.232378  2.973758e-01   \n",
       "Life satisfaction                             3.248770  6.000260e+00   \n",
       "Current health expenditure per capita       181.530000  1.439770e+03   \n",
       "Productivity                                  4.735484  2.539212e+01   \n",
       "\n",
       "                                                  50%           75%  \\\n",
       "Average annual working hours per worker  1.783521e+03  1.997748e+03   \n",
       "GDP per capita                           3.043003e+04  4.515020e+04   \n",
       "Population                               1.030753e+07  5.228834e+07   \n",
       "gini_coefficient                         3.163207e-01  3.878526e-01   \n",
       "Life satisfaction                        6.451149e+00  7.157151e+00   \n",
       "Current health expenditure per capita    2.325620e+03  5.450480e+03   \n",
       "Productivity                             3.462210e+01  6.478017e+01   \n",
       "\n",
       "                                                  max  \n",
       "Average annual working hours per worker  2.437863e+03  \n",
       "GDP per capita                           8.680865e+04  \n",
       "Population                               1.410276e+09  \n",
       "gini_coefficient                         5.333405e-01  \n",
       "Life satisfaction                        7.780348e+00  \n",
       "Current health expenditure per capita    1.010309e+04  \n",
       "Productivity                             1.094883e+02  "
      ]
     },
     "execution_count": 224,
     "metadata": {},
     "output_type": "execute_result"
    }
   ],
   "source": [
    "df_train.describe().T"
   ]
  },
  {
   "cell_type": "markdown",
   "metadata": {},
   "source": [
    "### Exploratory data analysis"
   ]
  },
  {
   "cell_type": "code",
   "execution_count": 225,
   "metadata": {},
   "outputs": [
    {
     "name": "stderr",
     "output_type": "stream",
     "text": [
      "c:\\Users\\ji_so\\anaconda3\\envs\\stats\\lib\\site-packages\\altair\\utils\\core.py:317: FutureWarning: iteritems is deprecated and will be removed in a future version. Use .items instead.\n",
      "  for col_name, dtype in df.dtypes.iteritems():\n"
     ]
    },
    {
     "data": {
      "text/html": [
       "\n",
       "<div id=\"altair-viz-75a58263c6d440039befbf6c8154cea8\"></div>\n",
       "<script type=\"text/javascript\">\n",
       "  var VEGA_DEBUG = (typeof VEGA_DEBUG == \"undefined\") ? {} : VEGA_DEBUG;\n",
       "  (function(spec, embedOpt){\n",
       "    let outputDiv = document.currentScript.previousElementSibling;\n",
       "    if (outputDiv.id !== \"altair-viz-75a58263c6d440039befbf6c8154cea8\") {\n",
       "      outputDiv = document.getElementById(\"altair-viz-75a58263c6d440039befbf6c8154cea8\");\n",
       "    }\n",
       "    const paths = {\n",
       "      \"vega\": \"https://cdn.jsdelivr.net/npm//vega@5?noext\",\n",
       "      \"vega-lib\": \"https://cdn.jsdelivr.net/npm//vega-lib?noext\",\n",
       "      \"vega-lite\": \"https://cdn.jsdelivr.net/npm//vega-lite@4.17.0?noext\",\n",
       "      \"vega-embed\": \"https://cdn.jsdelivr.net/npm//vega-embed@6?noext\",\n",
       "    };\n",
       "\n",
       "    function maybeLoadScript(lib, version) {\n",
       "      var key = `${lib.replace(\"-\", \"\")}_version`;\n",
       "      return (VEGA_DEBUG[key] == version) ?\n",
       "        Promise.resolve(paths[lib]) :\n",
       "        new Promise(function(resolve, reject) {\n",
       "          var s = document.createElement('script');\n",
       "          document.getElementsByTagName(\"head\")[0].appendChild(s);\n",
       "          s.async = true;\n",
       "          s.onload = () => {\n",
       "            VEGA_DEBUG[key] = version;\n",
       "            return resolve(paths[lib]);\n",
       "          };\n",
       "          s.onerror = () => reject(`Error loading script: ${paths[lib]}`);\n",
       "          s.src = paths[lib];\n",
       "        });\n",
       "    }\n",
       "\n",
       "    function showError(err) {\n",
       "      outputDiv.innerHTML = `<div class=\"error\" style=\"color:red;\">${err}</div>`;\n",
       "      throw err;\n",
       "    }\n",
       "\n",
       "    function displayChart(vegaEmbed) {\n",
       "      vegaEmbed(outputDiv, spec, embedOpt)\n",
       "        .catch(err => showError(`Javascript Error: ${err.message}<br>This usually means there's a typo in your chart specification. See the javascript console for the full traceback.`));\n",
       "    }\n",
       "\n",
       "    if(typeof define === \"function\" && define.amd) {\n",
       "      requirejs.config({paths});\n",
       "      require([\"vega-embed\"], displayChart, err => showError(`Error loading script: ${err.message}`));\n",
       "    } else {\n",
       "      maybeLoadScript(\"vega\", \"5\")\n",
       "        .then(() => maybeLoadScript(\"vega-lite\", \"4.17.0\"))\n",
       "        .then(() => maybeLoadScript(\"vega-embed\", \"6\"))\n",
       "        .catch(showError)\n",
       "        .then(() => displayChart(vegaEmbed));\n",
       "    }\n",
       "  })({\"config\": {\"view\": {\"continuousWidth\": 400, \"continuousHeight\": 300}}, \"repeat\": {\"column\": [\"Productivity\", \"Average annual working hours per worker\", \"GDP per capita\", \"Population\", \"gini_coefficient\", \"Life satisfaction\", \"Current health expenditure per capita\"]}, \"spec\": {\"data\": {\"name\": \"data-5a5f0f23ea21a0895c3f5b434a197e41\"}, \"mark\": \"bar\", \"encoding\": {\"x\": {\"bin\": true, \"field\": {\"repeat\": \"column\"}, \"type\": \"quantitative\"}, \"y\": {\"aggregate\": \"count\", \"type\": \"quantitative\"}}, \"height\": 150, \"width\": 150}, \"$schema\": \"https://vega.github.io/schema/vega-lite/v4.17.0.json\", \"datasets\": {\"data-5a5f0f23ea21a0895c3f5b434a197e41\": [{\"Average annual working hours per worker\": 2212.3835, \"GDP per capita\": 18127.81, \"Population\": 4993849, \"gini_coefficient\": 0.483465406, \"Life satisfaction\": 6.997618675, \"Current health expenditure per capita\": 1439.77, \"Productivity\": 18.72804079}, {\"Average annual working hours per worker\": 1643.5475, \"GDP per capita\": 19579.83, \"Population\": 7182430, \"gini_coefficient\": 0.403790468, \"Life satisfaction\": 5.108438015, \"Current health expenditure per capita\": 1607.71, \"Productivity\": 25.39212178}, {\"Average annual working hours per worker\": 2174.3501, \"GDP per capita\": 13854.23, \"Population\": 1410275968, \"gini_coefficient\": 0.390757759, \"Life satisfaction\": 5.144120216, \"Current health expenditure per capita\": 706.37, \"Productivity\": 11.35773921}, {\"Average annual working hours per worker\": 1609.2896, \"GDP per capita\": 52032.67, \"Population\": 10058191, \"gini_coefficient\": 0.287746034, \"Life satisfaction\": 7.398092747, \"Current health expenditure per capita\": 5655.7, \"Productivity\": 64.3374695}, {\"Average annual working hours per worker\": 2028.4952, \"GDP per capita\": 29047.82, \"Population\": 38532816, \"gini_coefficient\": 0.302965813, \"Life satisfaction\": 6.24209404, \"Current health expenditure per capita\": 1972.37, \"Productivity\": 33.66429154}, {\"Average annual working hours per worker\": 1856.6827, \"GDP per capita\": 30981.6, \"Population\": 1317550, \"gini_coefficient\": 0.303550262, \"Life satisfaction\": 6.034641266, \"Current health expenditure per capita\": 2241.85, \"Productivity\": 33.48799406}, {\"Average annual working hours per worker\": 2016.8954, \"GDP per capita\": 26477.58, \"Population\": 10692230, \"gini_coefficient\": 0.343520211, \"Life satisfaction\": 5.952157497, \"Current health expenditure per capita\": 2325.62, \"Productivity\": 33.35995335}, {\"Average annual working hours per worker\": 1670.2728, \"GDP per capita\": 44093.93, \"Population\": 66064808, \"gini_coefficient\": 0.351488307, \"Life satisfaction\": 7.157151222, \"Current health expenditure per capita\": 4515.59, \"Productivity\": 54.67692069}, {\"Average annual working hours per worker\": 1514.1371, \"GDP per capita\": 42818.76, \"Population\": 64144092, \"gini_coefficient\": 0.316320654, \"Life satisfaction\": 6.689644337, \"Current health expenditure per capita\": 5059.99, \"Productivity\": 68.37434064}, {\"Average annual working hours per worker\": 1834.9327, \"GDP per capita\": 25359.7, \"Population\": 4192468, \"gini_coefficient\": 0.303545759, \"Life satisfaction\": 5.625743866, \"Current health expenditure per capita\": 1804.07, \"Productivity\": 33.15712673}, {\"Average annual working hours per worker\": 1353.8868, \"GDP per capita\": 51253.33, \"Population\": 82624368, \"gini_coefficient\": 0.312019051, \"Life satisfaction\": 7.035472393, \"Current health expenditure per capita\": 6028.25, \"Productivity\": 69.84848268}, {\"Average annual working hours per worker\": 2437.8633, \"GDP per capita\": 4762.93, \"Population\": 52288344, \"gini_coefficient\": 0.306968695, \"Life satisfaction\": 4.43423748, \"Current health expenditure per capita\": 214.63, \"Productivity\": 4.735483675}, {\"Average annual working hours per worker\": 1932.4581, \"GDP per capita\": 11956.63, \"Population\": 31605488, \"gini_coefficient\": 0.4329279, \"Life satisfaction\": 5.999381542, \"Current health expenditure per capita\": 624.02, \"Productivity\": 10.7489986}, {\"Average annual working hours per worker\": 1757.2255, \"GDP per capita\": 60116.57, \"Population\": 329791232, \"gini_coefficient\": 0.411805587, \"Life satisfaction\": 6.943701267, \"Current health expenditure per capita\": 10103.09, \"Productivity\": 71.63857051}, {\"Average annual working hours per worker\": 1613.0519, \"GDP per capita\": 51954.28, \"Population\": 8797497, \"gini_coefficient\": 0.29737585, \"Life satisfaction\": 7.195361137, \"Current health expenditure per capita\": 5641.18, \"Productivity\": 64.7801697}, {\"Average annual working hours per worker\": 1417.4723, \"GDP per capita\": 69604.79, \"Population\": 5277396, \"gini_coefficient\": 0.269873302, \"Life satisfaction\": 7.442139626, \"Current health expenditure per capita\": 6630.84, \"Productivity\": 96.84903378}, {\"Average annual working hours per worker\": 1430.0229, \"GDP per capita\": 54233.45, \"Population\": 17207204, \"gini_coefficient\": 0.285358194, \"Life satisfaction\": 7.42526865, \"Current health expenditure per capita\": 5602.59, \"Productivity\": 70.61846134}, {\"Average annual working hours per worker\": 1974.0, \"GDP per capita\": 22864.05, \"Population\": 18368582, \"gini_coefficient\": 0.444410284, \"Life satisfaction\": 5.942250252, \"Current health expenditure per capita\": 2219.14, \"Productivity\": 27.26079146}, {\"Average annual working hours per worker\": 1400.3815, \"GDP per capita\": 51671.6, \"Population\": 5737286, \"gini_coefficient\": 0.287466614, \"Life satisfaction\": 7.693003178, \"Current health expenditure per capita\": 5573.28, \"Productivity\": 72.54114087}, {\"Average annual working hours per worker\": 1863.1744, \"GDP per capita\": 30430.03, \"Population\": 10307528, \"gini_coefficient\": 0.338038412, \"Life satisfaction\": 6.095473289, \"Current health expenditure per capita\": 3072.32, \"Productivity\": 34.62209549}, {\"Average annual working hours per worker\": 1544.269, \"GDP per capita\": 45150.2, \"Population\": 11384491, \"gini_coefficient\": 0.273879678, \"Life satisfaction\": 6.772138119, \"Current health expenditure per capita\": 5450.48, \"Productivity\": 68.51652068}, {\"Average annual working hours per worker\": 1589.6758, \"GDP per capita\": 73624.98, \"Population\": 8451688, \"gini_coefficient\": 0.32676334, \"Life satisfaction\": 7.69422102, \"Current health expenditure per capita\": 7989.64, \"Productivity\": 80.58822762}, {\"Average annual working hours per worker\": 2024.287, \"GDP per capita\": 10640.7, \"Population\": 264498848, \"gini_coefficient\": 0.38785263, \"Life satisfaction\": 5.346512794, \"Current health expenditure per capita\": 317.59, \"Productivity\": 11.35478727}, {\"Average annual working hours per worker\": 1709.4856, \"GDP per capita\": 14284.61, \"Population\": 208504960, \"gini_coefficient\": 0.5333405, \"Life satisfaction\": 6.451148987, \"Current health expenditure per capita\": 1375.66, \"Productivity\": 19.18829359}, {\"Average annual working hours per worker\": 1805.9998, \"GDP per capita\": 25424.06, \"Population\": 19698852, \"gini_coefficient\": 0.360168279, \"Life satisfaction\": 6.129942417, \"Current health expenditure per capita\": 1398.55, \"Productivity\": 32.2711146}, {\"Average annual working hours per worker\": 1920.6106, \"GDP per capita\": 38979.03, \"Population\": 8309256, \"gini_coefficient\": 0.382020644, \"Life satisfaction\": 7.331779957, \"Current health expenditure per capita\": 2992.02, \"Productivity\": 41.0201119}, {\"Average annual working hours per worker\": 1745.2307, \"GDP per capita\": 26467.1, \"Population\": 5439418, \"gini_coefficient\": 0.23237751, \"Life satisfaction\": 6.243428707, \"Current health expenditure per capita\": 2038.16, \"Productivity\": 35.16566573}, {\"Average annual working hours per worker\": 1783.5206, \"GDP per capita\": 31253.99, \"Population\": 1208527, \"gini_coefficient\": 0.31416234, \"Life satisfaction\": 6.136832714, \"Current health expenditure per capita\": 2532.87, \"Productivity\": 42.59221773}, {\"Average annual working hours per worker\": 1745.6843, \"GDP per capita\": 86808.65, \"Population\": 4771860, \"gini_coefficient\": 0.313598037, \"Life satisfaction\": 7.254841328, \"Current health expenditure per capita\": 5582.93, \"Productivity\": 109.488306}, {\"Average annual working hours per worker\": 1937.3325, \"GDP per capita\": 26908.97, \"Population\": 9788940, \"gini_coefficient\": 0.305841235, \"Life satisfaction\": 6.000259876, \"Current health expenditure per capita\": 1988.7, \"Productivity\": 33.0558028}, {\"Average annual working hours per worker\": 1552.347, \"GDP per capita\": 20615.56, \"Population\": 3422205, \"gini_coefficient\": 0.394645312, \"Life satisfaction\": 6.600337029, \"Current health expenditure per capita\": 2029.89, \"Productivity\": 28.29584596}, {\"Average annual working hours per worker\": 2117.0117, \"GDP per capita\": 6188.46, \"Population\": 1354195712, \"gini_coefficient\": 0.359430473, \"Life satisfaction\": 3.24876976, \"Current health expenditure per capita\": 181.53, \"Productivity\": 8.009787126}, {\"Average annual working hours per worker\": 1997.748, \"GDP per capita\": 13426.76, \"Population\": 48351668, \"gini_coefficient\": 0.497154848, \"Life satisfaction\": 6.350297928, \"Current health expenditure per capita\": 1088.17, \"Productivity\": 15.63291474}, {\"Average annual working hours per worker\": 2185.4456, \"GDP per capita\": 16665.38, \"Population\": 70898208, \"gini_coefficient\": 0.36528755, \"Life satisfaction\": 6.02215147, \"Current health expenditure per capita\": 669.58, \"Productivity\": 14.74583813}, {\"Average annual working hours per worker\": 1659.2806, \"GDP per capita\": 43827.15, \"Population\": 5508146, \"gini_coefficient\": 0.273830854, \"Life satisfaction\": 7.780347824, \"Current health expenditure per capita\": 4339.1, \"Productivity\": 58.88463786}, {\"Average annual working hours per worker\": 2040.0317, \"GDP per capita\": 35154.08, \"Population\": 479507, \"gini_coefficient\": 0.292322386, \"Life satisfaction\": 6.73297739, \"Current health expenditure per capita\": 3873.25, \"Productivity\": 39.21617358}, {\"Average annual working hours per worker\": 1655.089, \"GDP per capita\": 31594.71, \"Population\": 2098396, \"gini_coefficient\": 0.242193073, \"Life satisfaction\": 6.665273666, \"Current health expenditure per capita\": 2998.32, \"Productivity\": 40.55475278}]}}, {\"mode\": \"vega-lite\"});\n",
       "</script>"
      ],
      "text/plain": [
       "alt.RepeatChart(...)"
      ]
     },
     "execution_count": 225,
     "metadata": {},
     "output_type": "execute_result"
    }
   ],
   "source": [
    "alt.Chart(df_train).mark_bar().encode(\n",
    "    alt.X(alt.repeat(\"column\"), type=\"quantitative\", bin=True),\n",
    "    y='count()',\n",
    ").properties(\n",
    "    width=150,\n",
    "    height=150\n",
    ").repeat(\n",
    "    column=['Productivity', 'Average annual working hours per worker', 'GDP per capita', 'Population','gini_coefficient','Life satisfaction','Current health expenditure per capita']\n",
    ")"
   ]
  },
  {
   "cell_type": "code",
   "execution_count": 226,
   "metadata": {},
   "outputs": [
    {
     "data": {
      "text/html": [
       "\n",
       "<div id=\"altair-viz-8b04830dbe2e418c84ffcc27a8301e01\"></div>\n",
       "<script type=\"text/javascript\">\n",
       "  var VEGA_DEBUG = (typeof VEGA_DEBUG == \"undefined\") ? {} : VEGA_DEBUG;\n",
       "  (function(spec, embedOpt){\n",
       "    let outputDiv = document.currentScript.previousElementSibling;\n",
       "    if (outputDiv.id !== \"altair-viz-8b04830dbe2e418c84ffcc27a8301e01\") {\n",
       "      outputDiv = document.getElementById(\"altair-viz-8b04830dbe2e418c84ffcc27a8301e01\");\n",
       "    }\n",
       "    const paths = {\n",
       "      \"vega\": \"https://cdn.jsdelivr.net/npm//vega@5?noext\",\n",
       "      \"vega-lib\": \"https://cdn.jsdelivr.net/npm//vega-lib?noext\",\n",
       "      \"vega-lite\": \"https://cdn.jsdelivr.net/npm//vega-lite@4.17.0?noext\",\n",
       "      \"vega-embed\": \"https://cdn.jsdelivr.net/npm//vega-embed@6?noext\",\n",
       "    };\n",
       "\n",
       "    function maybeLoadScript(lib, version) {\n",
       "      var key = `${lib.replace(\"-\", \"\")}_version`;\n",
       "      return (VEGA_DEBUG[key] == version) ?\n",
       "        Promise.resolve(paths[lib]) :\n",
       "        new Promise(function(resolve, reject) {\n",
       "          var s = document.createElement('script');\n",
       "          document.getElementsByTagName(\"head\")[0].appendChild(s);\n",
       "          s.async = true;\n",
       "          s.onload = () => {\n",
       "            VEGA_DEBUG[key] = version;\n",
       "            return resolve(paths[lib]);\n",
       "          };\n",
       "          s.onerror = () => reject(`Error loading script: ${paths[lib]}`);\n",
       "          s.src = paths[lib];\n",
       "        });\n",
       "    }\n",
       "\n",
       "    function showError(err) {\n",
       "      outputDiv.innerHTML = `<div class=\"error\" style=\"color:red;\">${err}</div>`;\n",
       "      throw err;\n",
       "    }\n",
       "\n",
       "    function displayChart(vegaEmbed) {\n",
       "      vegaEmbed(outputDiv, spec, embedOpt)\n",
       "        .catch(err => showError(`Javascript Error: ${err.message}<br>This usually means there's a typo in your chart specification. See the javascript console for the full traceback.`));\n",
       "    }\n",
       "\n",
       "    if(typeof define === \"function\" && define.amd) {\n",
       "      requirejs.config({paths});\n",
       "      require([\"vega-embed\"], displayChart, err => showError(`Error loading script: ${err.message}`));\n",
       "    } else {\n",
       "      maybeLoadScript(\"vega\", \"5\")\n",
       "        .then(() => maybeLoadScript(\"vega-lite\", \"4.17.0\"))\n",
       "        .then(() => maybeLoadScript(\"vega-embed\", \"6\"))\n",
       "        .catch(showError)\n",
       "        .then(() => displayChart(vegaEmbed));\n",
       "    }\n",
       "  })({\"config\": {\"view\": {\"continuousWidth\": 400, \"continuousHeight\": 300}}, \"repeat\": {\"column\": [\"Productivity\", \"Average annual working hours per worker\", \"GDP per capita\", \"Population\", \"gini_coefficient\", \"Life satisfaction\", \"Current health expenditure per capita\"], \"row\": [\"Productivity\", \"Average annual working hours per worker\", \"GDP per capita\", \"Population\", \"gini_coefficient\", \"Life satisfaction\", \"Current health expenditure per capita\"]}, \"spec\": {\"data\": {\"name\": \"data-5a5f0f23ea21a0895c3f5b434a197e41\"}, \"mark\": \"circle\", \"encoding\": {\"x\": {\"field\": {\"repeat\": \"column\"}, \"type\": \"quantitative\"}, \"y\": {\"field\": {\"repeat\": \"row\"}, \"type\": \"quantitative\"}}, \"height\": 150, \"selection\": {\"selector006\": {\"type\": \"interval\", \"bind\": \"scales\", \"encodings\": [\"x\", \"y\"]}}, \"width\": 150}, \"$schema\": \"https://vega.github.io/schema/vega-lite/v4.17.0.json\", \"datasets\": {\"data-5a5f0f23ea21a0895c3f5b434a197e41\": [{\"Average annual working hours per worker\": 2212.3835, \"GDP per capita\": 18127.81, \"Population\": 4993849, \"gini_coefficient\": 0.483465406, \"Life satisfaction\": 6.997618675, \"Current health expenditure per capita\": 1439.77, \"Productivity\": 18.72804079}, {\"Average annual working hours per worker\": 1643.5475, \"GDP per capita\": 19579.83, \"Population\": 7182430, \"gini_coefficient\": 0.403790468, \"Life satisfaction\": 5.108438015, \"Current health expenditure per capita\": 1607.71, \"Productivity\": 25.39212178}, {\"Average annual working hours per worker\": 2174.3501, \"GDP per capita\": 13854.23, \"Population\": 1410275968, \"gini_coefficient\": 0.390757759, \"Life satisfaction\": 5.144120216, \"Current health expenditure per capita\": 706.37, \"Productivity\": 11.35773921}, {\"Average annual working hours per worker\": 1609.2896, \"GDP per capita\": 52032.67, \"Population\": 10058191, \"gini_coefficient\": 0.287746034, \"Life satisfaction\": 7.398092747, \"Current health expenditure per capita\": 5655.7, \"Productivity\": 64.3374695}, {\"Average annual working hours per worker\": 2028.4952, \"GDP per capita\": 29047.82, \"Population\": 38532816, \"gini_coefficient\": 0.302965813, \"Life satisfaction\": 6.24209404, \"Current health expenditure per capita\": 1972.37, \"Productivity\": 33.66429154}, {\"Average annual working hours per worker\": 1856.6827, \"GDP per capita\": 30981.6, \"Population\": 1317550, \"gini_coefficient\": 0.303550262, \"Life satisfaction\": 6.034641266, \"Current health expenditure per capita\": 2241.85, \"Productivity\": 33.48799406}, {\"Average annual working hours per worker\": 2016.8954, \"GDP per capita\": 26477.58, \"Population\": 10692230, \"gini_coefficient\": 0.343520211, \"Life satisfaction\": 5.952157497, \"Current health expenditure per capita\": 2325.62, \"Productivity\": 33.35995335}, {\"Average annual working hours per worker\": 1670.2728, \"GDP per capita\": 44093.93, \"Population\": 66064808, \"gini_coefficient\": 0.351488307, \"Life satisfaction\": 7.157151222, \"Current health expenditure per capita\": 4515.59, \"Productivity\": 54.67692069}, {\"Average annual working hours per worker\": 1514.1371, \"GDP per capita\": 42818.76, \"Population\": 64144092, \"gini_coefficient\": 0.316320654, \"Life satisfaction\": 6.689644337, \"Current health expenditure per capita\": 5059.99, \"Productivity\": 68.37434064}, {\"Average annual working hours per worker\": 1834.9327, \"GDP per capita\": 25359.7, \"Population\": 4192468, \"gini_coefficient\": 0.303545759, \"Life satisfaction\": 5.625743866, \"Current health expenditure per capita\": 1804.07, \"Productivity\": 33.15712673}, {\"Average annual working hours per worker\": 1353.8868, \"GDP per capita\": 51253.33, \"Population\": 82624368, \"gini_coefficient\": 0.312019051, \"Life satisfaction\": 7.035472393, \"Current health expenditure per capita\": 6028.25, \"Productivity\": 69.84848268}, {\"Average annual working hours per worker\": 2437.8633, \"GDP per capita\": 4762.93, \"Population\": 52288344, \"gini_coefficient\": 0.306968695, \"Life satisfaction\": 4.43423748, \"Current health expenditure per capita\": 214.63, \"Productivity\": 4.735483675}, {\"Average annual working hours per worker\": 1932.4581, \"GDP per capita\": 11956.63, \"Population\": 31605488, \"gini_coefficient\": 0.4329279, \"Life satisfaction\": 5.999381542, \"Current health expenditure per capita\": 624.02, \"Productivity\": 10.7489986}, {\"Average annual working hours per worker\": 1757.2255, \"GDP per capita\": 60116.57, \"Population\": 329791232, \"gini_coefficient\": 0.411805587, \"Life satisfaction\": 6.943701267, \"Current health expenditure per capita\": 10103.09, \"Productivity\": 71.63857051}, {\"Average annual working hours per worker\": 1613.0519, \"GDP per capita\": 51954.28, \"Population\": 8797497, \"gini_coefficient\": 0.29737585, \"Life satisfaction\": 7.195361137, \"Current health expenditure per capita\": 5641.18, \"Productivity\": 64.7801697}, {\"Average annual working hours per worker\": 1417.4723, \"GDP per capita\": 69604.79, \"Population\": 5277396, \"gini_coefficient\": 0.269873302, \"Life satisfaction\": 7.442139626, \"Current health expenditure per capita\": 6630.84, \"Productivity\": 96.84903378}, {\"Average annual working hours per worker\": 1430.0229, \"GDP per capita\": 54233.45, \"Population\": 17207204, \"gini_coefficient\": 0.285358194, \"Life satisfaction\": 7.42526865, \"Current health expenditure per capita\": 5602.59, \"Productivity\": 70.61846134}, {\"Average annual working hours per worker\": 1974.0, \"GDP per capita\": 22864.05, \"Population\": 18368582, \"gini_coefficient\": 0.444410284, \"Life satisfaction\": 5.942250252, \"Current health expenditure per capita\": 2219.14, \"Productivity\": 27.26079146}, {\"Average annual working hours per worker\": 1400.3815, \"GDP per capita\": 51671.6, \"Population\": 5737286, \"gini_coefficient\": 0.287466614, \"Life satisfaction\": 7.693003178, \"Current health expenditure per capita\": 5573.28, \"Productivity\": 72.54114087}, {\"Average annual working hours per worker\": 1863.1744, \"GDP per capita\": 30430.03, \"Population\": 10307528, \"gini_coefficient\": 0.338038412, \"Life satisfaction\": 6.095473289, \"Current health expenditure per capita\": 3072.32, \"Productivity\": 34.62209549}, {\"Average annual working hours per worker\": 1544.269, \"GDP per capita\": 45150.2, \"Population\": 11384491, \"gini_coefficient\": 0.273879678, \"Life satisfaction\": 6.772138119, \"Current health expenditure per capita\": 5450.48, \"Productivity\": 68.51652068}, {\"Average annual working hours per worker\": 1589.6758, \"GDP per capita\": 73624.98, \"Population\": 8451688, \"gini_coefficient\": 0.32676334, \"Life satisfaction\": 7.69422102, \"Current health expenditure per capita\": 7989.64, \"Productivity\": 80.58822762}, {\"Average annual working hours per worker\": 2024.287, \"GDP per capita\": 10640.7, \"Population\": 264498848, \"gini_coefficient\": 0.38785263, \"Life satisfaction\": 5.346512794, \"Current health expenditure per capita\": 317.59, \"Productivity\": 11.35478727}, {\"Average annual working hours per worker\": 1709.4856, \"GDP per capita\": 14284.61, \"Population\": 208504960, \"gini_coefficient\": 0.5333405, \"Life satisfaction\": 6.451148987, \"Current health expenditure per capita\": 1375.66, \"Productivity\": 19.18829359}, {\"Average annual working hours per worker\": 1805.9998, \"GDP per capita\": 25424.06, \"Population\": 19698852, \"gini_coefficient\": 0.360168279, \"Life satisfaction\": 6.129942417, \"Current health expenditure per capita\": 1398.55, \"Productivity\": 32.2711146}, {\"Average annual working hours per worker\": 1920.6106, \"GDP per capita\": 38979.03, \"Population\": 8309256, \"gini_coefficient\": 0.382020644, \"Life satisfaction\": 7.331779957, \"Current health expenditure per capita\": 2992.02, \"Productivity\": 41.0201119}, {\"Average annual working hours per worker\": 1745.2307, \"GDP per capita\": 26467.1, \"Population\": 5439418, \"gini_coefficient\": 0.23237751, \"Life satisfaction\": 6.243428707, \"Current health expenditure per capita\": 2038.16, \"Productivity\": 35.16566573}, {\"Average annual working hours per worker\": 1783.5206, \"GDP per capita\": 31253.99, \"Population\": 1208527, \"gini_coefficient\": 0.31416234, \"Life satisfaction\": 6.136832714, \"Current health expenditure per capita\": 2532.87, \"Productivity\": 42.59221773}, {\"Average annual working hours per worker\": 1745.6843, \"GDP per capita\": 86808.65, \"Population\": 4771860, \"gini_coefficient\": 0.313598037, \"Life satisfaction\": 7.254841328, \"Current health expenditure per capita\": 5582.93, \"Productivity\": 109.488306}, {\"Average annual working hours per worker\": 1937.3325, \"GDP per capita\": 26908.97, \"Population\": 9788940, \"gini_coefficient\": 0.305841235, \"Life satisfaction\": 6.000259876, \"Current health expenditure per capita\": 1988.7, \"Productivity\": 33.0558028}, {\"Average annual working hours per worker\": 1552.347, \"GDP per capita\": 20615.56, \"Population\": 3422205, \"gini_coefficient\": 0.394645312, \"Life satisfaction\": 6.600337029, \"Current health expenditure per capita\": 2029.89, \"Productivity\": 28.29584596}, {\"Average annual working hours per worker\": 2117.0117, \"GDP per capita\": 6188.46, \"Population\": 1354195712, \"gini_coefficient\": 0.359430473, \"Life satisfaction\": 3.24876976, \"Current health expenditure per capita\": 181.53, \"Productivity\": 8.009787126}, {\"Average annual working hours per worker\": 1997.748, \"GDP per capita\": 13426.76, \"Population\": 48351668, \"gini_coefficient\": 0.497154848, \"Life satisfaction\": 6.350297928, \"Current health expenditure per capita\": 1088.17, \"Productivity\": 15.63291474}, {\"Average annual working hours per worker\": 2185.4456, \"GDP per capita\": 16665.38, \"Population\": 70898208, \"gini_coefficient\": 0.36528755, \"Life satisfaction\": 6.02215147, \"Current health expenditure per capita\": 669.58, \"Productivity\": 14.74583813}, {\"Average annual working hours per worker\": 1659.2806, \"GDP per capita\": 43827.15, \"Population\": 5508146, \"gini_coefficient\": 0.273830854, \"Life satisfaction\": 7.780347824, \"Current health expenditure per capita\": 4339.1, \"Productivity\": 58.88463786}, {\"Average annual working hours per worker\": 2040.0317, \"GDP per capita\": 35154.08, \"Population\": 479507, \"gini_coefficient\": 0.292322386, \"Life satisfaction\": 6.73297739, \"Current health expenditure per capita\": 3873.25, \"Productivity\": 39.21617358}, {\"Average annual working hours per worker\": 1655.089, \"GDP per capita\": 31594.71, \"Population\": 2098396, \"gini_coefficient\": 0.242193073, \"Life satisfaction\": 6.665273666, \"Current health expenditure per capita\": 2998.32, \"Productivity\": 40.55475278}]}}, {\"mode\": \"vega-lite\"});\n",
       "</script>"
      ],
      "text/plain": [
       "alt.RepeatChart(...)"
      ]
     },
     "execution_count": 226,
     "metadata": {},
     "output_type": "execute_result"
    }
   ],
   "source": [
    "alt.Chart(df_train).mark_circle().encode(\n",
    "    alt.X(alt.repeat(\"column\"), type='quantitative'),\n",
    "    alt.Y(alt.repeat(\"row\"), type='quantitative')\n",
    ").properties(\n",
    "    width=150,\n",
    "    height=150\n",
    ").repeat(\n",
    "    row=['Productivity', 'Average annual working hours per worker', 'GDP per capita', 'Population','gini_coefficient','Life satisfaction','Current health expenditure per capita'],\n",
    "    column=['Productivity', 'Average annual working hours per worker', 'GDP per capita', 'Population','gini_coefficient','Life satisfaction','Current health expenditure per capita']\n",
    ").interactive()"
   ]
  },
  {
   "cell_type": "code",
   "execution_count": 275,
   "metadata": {},
   "outputs": [
    {
     "data": {
      "text/plain": [
       "<seaborn.axisgrid.PairGrid at 0x24bc13c8880>"
      ]
     },
     "execution_count": 275,
     "metadata": {},
     "output_type": "execute_result"
    },
    {
     "data": {
      "image/png": "[encoded data removed]",
      "text/plain": [
       "<Figure size 1750x1750 with 56 Axes>"
      ]
     },
     "metadata": {},
     "output_type": "display_data"
    }
   ],
   "source": [
    "sns.pairplot(df_train)"
   ]
  },
  {
   "attachments": {},
   "cell_type": "markdown",
   "metadata": {},
   "source": [
    "Findings:\n",
    "\n",
    "- Positive association between GDP per Capita and Productivity, between Life satisfaction and Productivity as well as between Current health expenditure per capita and Productivity.\n",
    "- Negative association between Average annual working hours per worker and Productivity as well as between gini-coefficient and Productivity.\n",
    "- Relationships seem to be linear in all cases."
   ]
  },
  {
   "cell_type": "markdown",
   "metadata": {},
   "source": [
    "### Relationships"
   ]
  },
  {
   "cell_type": "code",
   "execution_count": 227,
   "metadata": {},
   "outputs": [
    {
     "data": {
      "text/plain": [
       "Productivity                               1.000000\n",
       "GDP per capita                             0.980352\n",
       "Current health expenditure per capita      0.898485\n",
       "Life satisfaction                          0.744095\n",
       "Population                                -0.321787\n",
       "gini_coefficient                          -0.496877\n",
       "Average annual working hours per worker   -0.746524\n",
       "Name: Productivity, dtype: float64"
      ]
     },
     "execution_count": 227,
     "metadata": {},
     "output_type": "execute_result"
    }
   ],
   "source": [
    "# inspect correlation between outcome and possible predictors\n",
    "corr = df_train.corr()\n",
    "corr[y_label].sort_values(ascending=False)"
   ]
  },
  {
   "cell_type": "code",
   "execution_count": 228,
   "metadata": {},
   "outputs": [
    {
     "data": {
      "text/html": [
       "<style type=\"text/css\">\n",
       "#T_4e68c_row0_col0, #T_4e68c_row1_col1, #T_4e68c_row2_col2, #T_4e68c_row3_col3, #T_4e68c_row4_col4, #T_4e68c_row5_col5, #T_4e68c_row6_col6 {\n",
       "  background-color: #08306b;\n",
       "  color: #f1f1f1;\n",
       "}\n",
       "#T_4e68c_row0_col1, #T_4e68c_row0_col4, #T_4e68c_row0_col5, #T_4e68c_row0_col6, #T_4e68c_row4_col2, #T_4e68c_row6_col0, #T_4e68c_row6_col3 {\n",
       "  background-color: #f7fbff;\n",
       "  color: #000000;\n",
       "}\n",
       "#T_4e68c_row0_col2 {\n",
       "  background-color: #529dcc;\n",
       "  color: #f1f1f1;\n",
       "}\n",
       "#T_4e68c_row0_col3 {\n",
       "  background-color: #539ecd;\n",
       "  color: #f1f1f1;\n",
       "}\n",
       "#T_4e68c_row1_col0, #T_4e68c_row2_col4 {\n",
       "  background-color: #eef5fc;\n",
       "  color: #000000;\n",
       "}\n",
       "#T_4e68c_row1_col2 {\n",
       "  background-color: #d6e6f4;\n",
       "  color: #000000;\n",
       "}\n",
       "#T_4e68c_row1_col3 {\n",
       "  background-color: #f2f8fd;\n",
       "  color: #000000;\n",
       "}\n",
       "#T_4e68c_row1_col4, #T_4e68c_row4_col6 {\n",
       "  background-color: #0c56a0;\n",
       "  color: #f1f1f1;\n",
       "}\n",
       "#T_4e68c_row1_col5 {\n",
       "  background-color: #083d7f;\n",
       "  color: #f1f1f1;\n",
       "}\n",
       "#T_4e68c_row1_col6 {\n",
       "  background-color: #08326e;\n",
       "  color: #f1f1f1;\n",
       "}\n",
       "#T_4e68c_row2_col0 {\n",
       "  background-color: #4493c7;\n",
       "  color: #f1f1f1;\n",
       "}\n",
       "#T_4e68c_row2_col1 {\n",
       "  background-color: #cddff1;\n",
       "  color: #000000;\n",
       "}\n",
       "#T_4e68c_row2_col3 {\n",
       "  background-color: #79b5d9;\n",
       "  color: #000000;\n",
       "}\n",
       "#T_4e68c_row2_col5, #T_4e68c_row3_col4 {\n",
       "  background-color: #c3daee;\n",
       "  color: #000000;\n",
       "}\n",
       "#T_4e68c_row2_col6 {\n",
       "  background-color: #c7dcef;\n",
       "  color: #000000;\n",
       "}\n",
       "#T_4e68c_row3_col0 {\n",
       "  background-color: #4090c5;\n",
       "  color: #f1f1f1;\n",
       "}\n",
       "#T_4e68c_row3_col1 {\n",
       "  background-color: #deebf7;\n",
       "  color: #000000;\n",
       "}\n",
       "#T_4e68c_row3_col2 {\n",
       "  background-color: #6fb0d7;\n",
       "  color: #f1f1f1;\n",
       "}\n",
       "#T_4e68c_row3_col5 {\n",
       "  background-color: #d1e2f3;\n",
       "  color: #000000;\n",
       "}\n",
       "#T_4e68c_row3_col6 {\n",
       "  background-color: #dbe9f6;\n",
       "  color: #000000;\n",
       "}\n",
       "#T_4e68c_row4_col0 {\n",
       "  background-color: #ecf4fb;\n",
       "  color: #000000;\n",
       "}\n",
       "#T_4e68c_row4_col1 {\n",
       "  background-color: #0b559f;\n",
       "  color: #f1f1f1;\n",
       "}\n",
       "#T_4e68c_row4_col3 {\n",
       "  background-color: #d3e3f3;\n",
       "  color: #000000;\n",
       "}\n",
       "#T_4e68c_row4_col5 {\n",
       "  background-color: #0f5aa3;\n",
       "  color: #f1f1f1;\n",
       "}\n",
       "#T_4e68c_row5_col0 {\n",
       "  background-color: #f1f7fd;\n",
       "  color: #000000;\n",
       "}\n",
       "#T_4e68c_row5_col1, #T_4e68c_row5_col6 {\n",
       "  background-color: #083e81;\n",
       "  color: #f1f1f1;\n",
       "}\n",
       "#T_4e68c_row5_col2 {\n",
       "  background-color: #cfe1f2;\n",
       "  color: #000000;\n",
       "}\n",
       "#T_4e68c_row5_col3 {\n",
       "  background-color: #e5eff9;\n",
       "  color: #000000;\n",
       "}\n",
       "#T_4e68c_row5_col4 {\n",
       "  background-color: #105ba4;\n",
       "  color: #f1f1f1;\n",
       "}\n",
       "#T_4e68c_row6_col1 {\n",
       "  background-color: #083370;\n",
       "  color: #f1f1f1;\n",
       "}\n",
       "#T_4e68c_row6_col2 {\n",
       "  background-color: #d8e7f5;\n",
       "  color: #000000;\n",
       "}\n",
       "#T_4e68c_row6_col4 {\n",
       "  background-color: #0e58a2;\n",
       "  color: #f1f1f1;\n",
       "}\n",
       "#T_4e68c_row6_col5 {\n",
       "  background-color: #084082;\n",
       "  color: #f1f1f1;\n",
       "}\n",
       "</style>\n",
       "<table id=\"T_4e68c\">\n",
       "  <thead>\n",
       "    <tr>\n",
       "      <th class=\"blank level0\" >&nbsp;</th>\n",
       "      <th id=\"T_4e68c_level0_col0\" class=\"col_heading level0 col0\" >Average annual working hours per worker</th>\n",
       "      <th id=\"T_4e68c_level0_col1\" class=\"col_heading level0 col1\" >GDP per capita</th>\n",
       "      <th id=\"T_4e68c_level0_col2\" class=\"col_heading level0 col2\" >Population</th>\n",
       "      <th id=\"T_4e68c_level0_col3\" class=\"col_heading level0 col3\" >gini_coefficient</th>\n",
       "      <th id=\"T_4e68c_level0_col4\" class=\"col_heading level0 col4\" >Life satisfaction</th>\n",
       "      <th id=\"T_4e68c_level0_col5\" class=\"col_heading level0 col5\" >Current health expenditure per capita</th>\n",
       "      <th id=\"T_4e68c_level0_col6\" class=\"col_heading level0 col6\" >Productivity</th>\n",
       "    </tr>\n",
       "  </thead>\n",
       "  <tbody>\n",
       "    <tr>\n",
       "      <th id=\"T_4e68c_level0_row0\" class=\"row_heading level0 row0\" >Average annual working hours per worker</th>\n",
       "      <td id=\"T_4e68c_row0_col0\" class=\"data row0 col0\" >1.000000</td>\n",
       "      <td id=\"T_4e68c_row0_col1\" class=\"data row0 col1\" >-0.671149</td>\n",
       "      <td id=\"T_4e68c_row0_col2\" class=\"data row0 col2\" >0.333927</td>\n",
       "      <td id=\"T_4e68c_row0_col3\" class=\"data row0 col3\" >0.358698</td>\n",
       "      <td id=\"T_4e68c_row0_col4\" class=\"data row0 col4\" >-0.644917</td>\n",
       "      <td id=\"T_4e68c_row0_col5\" class=\"data row0 col5\" >-0.686490</td>\n",
       "      <td id=\"T_4e68c_row0_col6\" class=\"data row0 col6\" >-0.746524</td>\n",
       "    </tr>\n",
       "    <tr>\n",
       "      <th id=\"T_4e68c_level0_row1\" class=\"row_heading level0 row1\" >GDP per capita</th>\n",
       "      <td id=\"T_4e68c_row1_col0\" class=\"data row1 col0\" >-0.671149</td>\n",
       "      <td id=\"T_4e68c_row1_col1\" class=\"data row1 col1\" >1.000000</td>\n",
       "      <td id=\"T_4e68c_row1_col2\" class=\"data row1 col2\" >-0.309999</td>\n",
       "      <td id=\"T_4e68c_row1_col3\" class=\"data row1 col3\" >-0.457773</td>\n",
       "      <td id=\"T_4e68c_row1_col4\" class=\"data row1 col4\" >0.759601</td>\n",
       "      <td id=\"T_4e68c_row1_col5\" class=\"data row1 col5\" >0.908126</td>\n",
       "      <td id=\"T_4e68c_row1_col6\" class=\"data row1 col6\" >0.980352</td>\n",
       "    </tr>\n",
       "    <tr>\n",
       "      <th id=\"T_4e68c_level0_row2\" class=\"row_heading level0 row2\" >Population</th>\n",
       "      <td id=\"T_4e68c_row2_col0\" class=\"data row2 col0\" >0.333927</td>\n",
       "      <td id=\"T_4e68c_row2_col1\" class=\"data row2 col1\" >-0.309999</td>\n",
       "      <td id=\"T_4e68c_row2_col2\" class=\"data row2 col2\" >1.000000</td>\n",
       "      <td id=\"T_4e68c_row2_col3\" class=\"data row2 col3\" >0.202878</td>\n",
       "      <td id=\"T_4e68c_row2_col4\" class=\"data row2 col4\" >-0.568573</td>\n",
       "      <td id=\"T_4e68c_row2_col5\" class=\"data row2 col5\" >-0.246294</td>\n",
       "      <td id=\"T_4e68c_row2_col6\" class=\"data row2 col6\" >-0.321787</td>\n",
       "    </tr>\n",
       "    <tr>\n",
       "      <th id=\"T_4e68c_level0_row3\" class=\"row_heading level0 row3\" >gini_coefficient</th>\n",
       "      <td id=\"T_4e68c_row3_col0\" class=\"data row3 col0\" >0.358698</td>\n",
       "      <td id=\"T_4e68c_row3_col1\" class=\"data row3 col1\" >-0.457773</td>\n",
       "      <td id=\"T_4e68c_row3_col2\" class=\"data row3 col2\" >0.202878</td>\n",
       "      <td id=\"T_4e68c_row3_col3\" class=\"data row3 col3\" >1.000000</td>\n",
       "      <td id=\"T_4e68c_row3_col4\" class=\"data row3 col4\" >-0.219546</td>\n",
       "      <td id=\"T_4e68c_row3_col5\" class=\"data row3 col5\" >-0.360122</td>\n",
       "      <td id=\"T_4e68c_row3_col6\" class=\"data row3 col6\" >-0.496877</td>\n",
       "    </tr>\n",
       "    <tr>\n",
       "      <th id=\"T_4e68c_level0_row4\" class=\"row_heading level0 row4\" >Life satisfaction</th>\n",
       "      <td id=\"T_4e68c_row4_col0\" class=\"data row4 col0\" >-0.644917</td>\n",
       "      <td id=\"T_4e68c_row4_col1\" class=\"data row4 col1\" >0.759601</td>\n",
       "      <td id=\"T_4e68c_row4_col2\" class=\"data row4 col2\" >-0.568573</td>\n",
       "      <td id=\"T_4e68c_row4_col3\" class=\"data row4 col3\" >-0.219546</td>\n",
       "      <td id=\"T_4e68c_row4_col4\" class=\"data row4 col4\" >1.000000</td>\n",
       "      <td id=\"T_4e68c_row4_col5\" class=\"data row4 col5\" >0.725361</td>\n",
       "      <td id=\"T_4e68c_row4_col6\" class=\"data row4 col6\" >0.744095</td>\n",
       "    </tr>\n",
       "    <tr>\n",
       "      <th id=\"T_4e68c_level0_row5\" class=\"row_heading level0 row5\" >Current health expenditure per capita</th>\n",
       "      <td id=\"T_4e68c_row5_col0\" class=\"data row5 col0\" >-0.686490</td>\n",
       "      <td id=\"T_4e68c_row5_col1\" class=\"data row5 col1\" >0.908126</td>\n",
       "      <td id=\"T_4e68c_row5_col2\" class=\"data row5 col2\" >-0.246294</td>\n",
       "      <td id=\"T_4e68c_row5_col3\" class=\"data row5 col3\" >-0.360122</td>\n",
       "      <td id=\"T_4e68c_row5_col4\" class=\"data row5 col4\" >0.725361</td>\n",
       "      <td id=\"T_4e68c_row5_col5\" class=\"data row5 col5\" >1.000000</td>\n",
       "      <td id=\"T_4e68c_row5_col6\" class=\"data row5 col6\" >0.898485</td>\n",
       "    </tr>\n",
       "    <tr>\n",
       "      <th id=\"T_4e68c_level0_row6\" class=\"row_heading level0 row6\" >Productivity</th>\n",
       "      <td id=\"T_4e68c_row6_col0\" class=\"data row6 col0\" >-0.746524</td>\n",
       "      <td id=\"T_4e68c_row6_col1\" class=\"data row6 col1\" >0.980352</td>\n",
       "      <td id=\"T_4e68c_row6_col2\" class=\"data row6 col2\" >-0.321787</td>\n",
       "      <td id=\"T_4e68c_row6_col3\" class=\"data row6 col3\" >-0.496877</td>\n",
       "      <td id=\"T_4e68c_row6_col4\" class=\"data row6 col4\" >0.744095</td>\n",
       "      <td id=\"T_4e68c_row6_col5\" class=\"data row6 col5\" >0.898485</td>\n",
       "      <td id=\"T_4e68c_row6_col6\" class=\"data row6 col6\" >1.000000</td>\n",
       "    </tr>\n",
       "  </tbody>\n",
       "</table>\n"
      ],
      "text/plain": [
       "<pandas.io.formats.style.Styler at 0x24bc2bb09a0>"
      ]
     },
     "execution_count": 228,
     "metadata": {},
     "output_type": "execute_result"
    }
   ],
   "source": [
    "# take a look at all correlations\n",
    "corr.style.background_gradient(cmap='Blues')"
   ]
  },
  {
   "attachments": {},
   "cell_type": "markdown",
   "metadata": {},
   "source": [
    "## Multiple linear regression"
   ]
  },
  {
   "cell_type": "markdown",
   "metadata": {},
   "source": [
    "### Select model"
   ]
  },
  {
   "cell_type": "code",
   "execution_count": 229,
   "metadata": {},
   "outputs": [],
   "source": [
    "# Choose the linear regression model\n",
    "reg = LinearRegression()"
   ]
  },
  {
   "cell_type": "markdown",
   "metadata": {},
   "source": [
    "### Training and validation"
   ]
  },
  {
   "cell_type": "code",
   "execution_count": 230,
   "metadata": {},
   "outputs": [],
   "source": [
    "# cross-validation with 5 folds\n",
    "scores = cross_val_score(reg, X_train, y_train, cv=5, scoring='neg_mean_squared_error') *-1"
   ]
  },
  {
   "cell_type": "code",
   "execution_count": 231,
   "metadata": {},
   "outputs": [
    {
     "data": {
      "text/html": [
       "<style type=\"text/css\">\n",
       "#T_dcc88_row0_col0 {\n",
       "  background-color: #4896c8;\n",
       "  color: #f1f1f1;\n",
       "}\n",
       "#T_dcc88_row1_col0 {\n",
       "  background-color: #0d57a1;\n",
       "  color: #f1f1f1;\n",
       "}\n",
       "#T_dcc88_row2_col0 {\n",
       "  background-color: #08306b;\n",
       "  color: #f1f1f1;\n",
       "}\n",
       "#T_dcc88_row3_col0 {\n",
       "  background-color: #084082;\n",
       "  color: #f1f1f1;\n",
       "}\n",
       "#T_dcc88_row4_col0 {\n",
       "  background-color: #f7fbff;\n",
       "  color: #000000;\n",
       "}\n",
       "</style>\n",
       "<table id=\"T_dcc88\">\n",
       "  <thead>\n",
       "    <tr>\n",
       "      <th class=\"blank level0\" >&nbsp;</th>\n",
       "      <th id=\"T_dcc88_level0_col0\" class=\"col_heading level0 col0\" >lr</th>\n",
       "    </tr>\n",
       "  </thead>\n",
       "  <tbody>\n",
       "    <tr>\n",
       "      <th id=\"T_dcc88_level0_row0\" class=\"row_heading level0 row0\" >1</th>\n",
       "      <td id=\"T_dcc88_row0_col0\" class=\"data row0 col0\" >24.994464</td>\n",
       "    </tr>\n",
       "    <tr>\n",
       "      <th id=\"T_dcc88_level0_row1\" class=\"row_heading level0 row1\" >2</th>\n",
       "      <td id=\"T_dcc88_row1_col0\" class=\"data row1 col0\" >32.687938</td>\n",
       "    </tr>\n",
       "    <tr>\n",
       "      <th id=\"T_dcc88_level0_row2\" class=\"row_heading level0 row2\" >3</th>\n",
       "      <td id=\"T_dcc88_row2_col0\" class=\"data row2 col0\" >37.529093</td>\n",
       "    </tr>\n",
       "    <tr>\n",
       "      <th id=\"T_dcc88_level0_row3\" class=\"row_heading level0 row3\" >4</th>\n",
       "      <td id=\"T_dcc88_row3_col0\" class=\"data row3 col0\" >35.528422</td>\n",
       "    </tr>\n",
       "    <tr>\n",
       "      <th id=\"T_dcc88_level0_row4\" class=\"row_heading level0 row4\" >5</th>\n",
       "      <td id=\"T_dcc88_row4_col0\" class=\"data row4 col0\" >5.505207</td>\n",
       "    </tr>\n",
       "  </tbody>\n",
       "</table>\n"
      ],
      "text/plain": [
       "<pandas.io.formats.style.Styler at 0x24bc2bb0310>"
      ]
     },
     "execution_count": 231,
     "metadata": {},
     "output_type": "execute_result"
    }
   ],
   "source": [
    "# store cross-validation scores\n",
    "df_scores = pd.DataFrame({\"lr\": scores})\n",
    "\n",
    "# reset index to match the number of folds\n",
    "df_scores.index += 1\n",
    "\n",
    "# print dataframe\n",
    "df_scores.style.background_gradient(cmap='Blues')"
   ]
  },
  {
   "cell_type": "code",
   "execution_count": 232,
   "metadata": {},
   "outputs": [
    {
     "name": "stderr",
     "output_type": "stream",
     "text": [
      "c:\\Users\\ji_so\\anaconda3\\envs\\stats\\lib\\site-packages\\altair\\utils\\core.py:317: FutureWarning: iteritems is deprecated and will be removed in a future version. Use .items instead.\n",
      "  for col_name, dtype in df.dtypes.iteritems():\n"
     ]
    },
    {
     "data": {
      "text/html": [
       "\n",
       "<div id=\"altair-viz-0c004d85a6304fc5a802dbe233d593df\"></div>\n",
       "<script type=\"text/javascript\">\n",
       "  var VEGA_DEBUG = (typeof VEGA_DEBUG == \"undefined\") ? {} : VEGA_DEBUG;\n",
       "  (function(spec, embedOpt){\n",
       "    let outputDiv = document.currentScript.previousElementSibling;\n",
       "    if (outputDiv.id !== \"altair-viz-0c004d85a6304fc5a802dbe233d593df\") {\n",
       "      outputDiv = document.getElementById(\"altair-viz-0c004d85a6304fc5a802dbe233d593df\");\n",
       "    }\n",
       "    const paths = {\n",
       "      \"vega\": \"https://cdn.jsdelivr.net/npm//vega@5?noext\",\n",
       "      \"vega-lib\": \"https://cdn.jsdelivr.net/npm//vega-lib?noext\",\n",
       "      \"vega-lite\": \"https://cdn.jsdelivr.net/npm//vega-lite@4.17.0?noext\",\n",
       "      \"vega-embed\": \"https://cdn.jsdelivr.net/npm//vega-embed@6?noext\",\n",
       "    };\n",
       "\n",
       "    function maybeLoadScript(lib, version) {\n",
       "      var key = `${lib.replace(\"-\", \"\")}_version`;\n",
       "      return (VEGA_DEBUG[key] == version) ?\n",
       "        Promise.resolve(paths[lib]) :\n",
       "        new Promise(function(resolve, reject) {\n",
       "          var s = document.createElement('script');\n",
       "          document.getElementsByTagName(\"head\")[0].appendChild(s);\n",
       "          s.async = true;\n",
       "          s.onload = () => {\n",
       "            VEGA_DEBUG[key] = version;\n",
       "            return resolve(paths[lib]);\n",
       "          };\n",
       "          s.onerror = () => reject(`Error loading script: ${paths[lib]}`);\n",
       "          s.src = paths[lib];\n",
       "        });\n",
       "    }\n",
       "\n",
       "    function showError(err) {\n",
       "      outputDiv.innerHTML = `<div class=\"error\" style=\"color:red;\">${err}</div>`;\n",
       "      throw err;\n",
       "    }\n",
       "\n",
       "    function displayChart(vegaEmbed) {\n",
       "      vegaEmbed(outputDiv, spec, embedOpt)\n",
       "        .catch(err => showError(`Javascript Error: ${err.message}<br>This usually means there's a typo in your chart specification. See the javascript console for the full traceback.`));\n",
       "    }\n",
       "\n",
       "    if(typeof define === \"function\" && define.amd) {\n",
       "      requirejs.config({paths});\n",
       "      require([\"vega-embed\"], displayChart, err => showError(`Error loading script: ${err.message}`));\n",
       "    } else {\n",
       "      maybeLoadScript(\"vega\", \"5\")\n",
       "        .then(() => maybeLoadScript(\"vega-lite\", \"4.17.0\"))\n",
       "        .then(() => maybeLoadScript(\"vega-embed\", \"6\"))\n",
       "        .catch(showError)\n",
       "        .then(() => displayChart(vegaEmbed));\n",
       "    }\n",
       "  })({\"config\": {\"view\": {\"continuousWidth\": 400, \"continuousHeight\": 300}}, \"data\": {\"name\": \"data-11f20b988823fd582f103a551e124233\"}, \"mark\": {\"type\": \"line\", \"point\": {}}, \"encoding\": {\"x\": {\"axis\": {\"tickCount\": 5}, \"bin\": false, \"field\": \"index\", \"title\": \"Fold\", \"type\": \"quantitative\"}, \"y\": {\"aggregate\": \"mean\", \"field\": \"lr\", \"title\": \"Mean squared error (MSE)\", \"type\": \"quantitative\"}}, \"$schema\": \"https://vega.github.io/schema/vega-lite/v4.17.0.json\", \"datasets\": {\"data-11f20b988823fd582f103a551e124233\": [{\"index\": 1, \"lr\": 24.99446431105775}, {\"index\": 2, \"lr\": 32.68793787762513}, {\"index\": 3, \"lr\": 37.529093116635956}, {\"index\": 4, \"lr\": 35.52842189779697}, {\"index\": 5, \"lr\": 5.505206596182252}]}}, {\"mode\": \"vega-lite\"});\n",
       "</script>"
      ],
      "text/plain": [
       "alt.Chart(...)"
      ]
     },
     "execution_count": 232,
     "metadata": {},
     "output_type": "execute_result"
    }
   ],
   "source": [
    "alt.Chart(df_scores.reset_index()).mark_line(\n",
    "     point=alt.OverlayMarkDef()\n",
    ").encode(\n",
    "    x=alt.X(\"index\", bin=False, title=\"Fold\", axis=alt.Axis(tickCount=5)),\n",
    "    y=alt.Y(\"lr\", aggregate=\"mean\", title=\"Mean squared error (MSE)\")\n",
    ")"
   ]
  },
  {
   "cell_type": "code",
   "execution_count": 233,
   "metadata": {},
   "outputs": [
    {
     "data": {
      "text/html": [
       "<div>\n",
       "<style scoped>\n",
       "    .dataframe tbody tr th:only-of-type {\n",
       "        vertical-align: middle;\n",
       "    }\n",
       "\n",
       "    .dataframe tbody tr th {\n",
       "        vertical-align: top;\n",
       "    }\n",
       "\n",
       "    .dataframe thead th {\n",
       "        text-align: right;\n",
       "    }\n",
       "</style>\n",
       "<table border=\"1\" class=\"dataframe\">\n",
       "  <thead>\n",
       "    <tr style=\"text-align: right;\">\n",
       "      <th></th>\n",
       "      <th>count</th>\n",
       "      <th>mean</th>\n",
       "      <th>std</th>\n",
       "      <th>min</th>\n",
       "      <th>25%</th>\n",
       "      <th>50%</th>\n",
       "      <th>75%</th>\n",
       "      <th>max</th>\n",
       "    </tr>\n",
       "  </thead>\n",
       "  <tbody>\n",
       "    <tr>\n",
       "      <th>lr</th>\n",
       "      <td>5.0</td>\n",
       "      <td>27.249025</td>\n",
       "      <td>13.054565</td>\n",
       "      <td>5.505207</td>\n",
       "      <td>24.994464</td>\n",
       "      <td>32.687938</td>\n",
       "      <td>35.528422</td>\n",
       "      <td>37.529093</td>\n",
       "    </tr>\n",
       "  </tbody>\n",
       "</table>\n",
       "</div>"
      ],
      "text/plain": [
       "    count       mean        std       min        25%        50%        75%  \\\n",
       "lr    5.0  27.249025  13.054565  5.505207  24.994464  32.687938  35.528422   \n",
       "\n",
       "          max  \n",
       "lr  37.529093  "
      ]
     },
     "execution_count": 233,
     "metadata": {},
     "output_type": "execute_result"
    }
   ],
   "source": [
    "df_scores.describe().T"
   ]
  },
  {
   "cell_type": "markdown",
   "metadata": {},
   "source": [
    "### Fit model"
   ]
  },
  {
   "cell_type": "code",
   "execution_count": 234,
   "metadata": {},
   "outputs": [
    {
     "data": {
      "text/html": [
       "<style>#sk-container-id-12 {color: black;background-color: white;}#sk-container-id-12 pre{padding: 0;}#sk-container-id-12 div.sk-toggleable {background-color: white;}#sk-container-id-12 label.sk-toggleable__label {cursor: pointer;display: block;width: 100%;margin-bottom: 0;padding: 0.3em;box-sizing: border-box;text-align: center;}#sk-container-id-12 label.sk-toggleable__label-arrow:before {content: \"▸\";float: left;margin-right: 0.25em;color: #696969;}#sk-container-id-12 label.sk-toggleable__label-arrow:hover:before {color: black;}#sk-container-id-12 div.sk-estimator:hover label.sk-toggleable__label-arrow:before {color: black;}#sk-container-id-12 div.sk-toggleable__content {max-height: 0;max-width: 0;overflow: hidden;text-align: left;background-color: #f0f8ff;}#sk-container-id-12 div.sk-toggleable__content pre {margin: 0.2em;color: black;border-radius: 0.25em;background-color: #f0f8ff;}#sk-container-id-12 input.sk-toggleable__control:checked~div.sk-toggleable__content {max-height: 200px;max-width: 100%;overflow: auto;}#sk-container-id-12 input.sk-toggleable__control:checked~label.sk-toggleable__label-arrow:before {content: \"▾\";}#sk-container-id-12 div.sk-estimator input.sk-toggleable__control:checked~label.sk-toggleable__label {background-color: #d4ebff;}#sk-container-id-12 div.sk-label input.sk-toggleable__control:checked~label.sk-toggleable__label {background-color: #d4ebff;}#sk-container-id-12 input.sk-hidden--visually {border: 0;clip: rect(1px 1px 1px 1px);clip: rect(1px, 1px, 1px, 1px);height: 1px;margin: -1px;overflow: hidden;padding: 0;position: absolute;width: 1px;}#sk-container-id-12 div.sk-estimator {font-family: monospace;background-color: #f0f8ff;border: 1px dotted black;border-radius: 0.25em;box-sizing: border-box;margin-bottom: 0.5em;}#sk-container-id-12 div.sk-estimator:hover {background-color: #d4ebff;}#sk-container-id-12 div.sk-parallel-item::after {content: \"\";width: 100%;border-bottom: 1px solid gray;flex-grow: 1;}#sk-container-id-12 div.sk-label:hover label.sk-toggleable__label {background-color: #d4ebff;}#sk-container-id-12 div.sk-serial::before {content: \"\";position: absolute;border-left: 1px solid gray;box-sizing: border-box;top: 0;bottom: 0;left: 50%;z-index: 0;}#sk-container-id-12 div.sk-serial {display: flex;flex-direction: column;align-items: center;background-color: white;padding-right: 0.2em;padding-left: 0.2em;position: relative;}#sk-container-id-12 div.sk-item {position: relative;z-index: 1;}#sk-container-id-12 div.sk-parallel {display: flex;align-items: stretch;justify-content: center;background-color: white;position: relative;}#sk-container-id-12 div.sk-item::before, #sk-container-id-12 div.sk-parallel-item::before {content: \"\";position: absolute;border-left: 1px solid gray;box-sizing: border-box;top: 0;bottom: 0;left: 50%;z-index: -1;}#sk-container-id-12 div.sk-parallel-item {display: flex;flex-direction: column;z-index: 1;position: relative;background-color: white;}#sk-container-id-12 div.sk-parallel-item:first-child::after {align-self: flex-end;width: 50%;}#sk-container-id-12 div.sk-parallel-item:last-child::after {align-self: flex-start;width: 50%;}#sk-container-id-12 div.sk-parallel-item:only-child::after {width: 0;}#sk-container-id-12 div.sk-dashed-wrapped {border: 1px dashed gray;margin: 0 0.4em 0.5em 0.4em;box-sizing: border-box;padding-bottom: 0.4em;background-color: white;}#sk-container-id-12 div.sk-label label {font-family: monospace;font-weight: bold;display: inline-block;line-height: 1.2em;}#sk-container-id-12 div.sk-label-container {text-align: center;}#sk-container-id-12 div.sk-container {/* jupyter's `normalize.less` sets `[hidden] { display: none; }` but bootstrap.min.css set `[hidden] { display: none !important; }` so we also need the `!important` here to be able to override the default hidden behavior on the sphinx rendered scikit-learn.org. See: https://github.com/scikit-learn/scikit-learn/issues/21755 */display: inline-block !important;position: relative;}#sk-container-id-12 div.sk-text-repr-fallback {display: none;}</style><div id=\"sk-container-id-12\" class=\"sk-top-container\"><div class=\"sk-text-repr-fallback\"><pre>LinearRegression()</pre><b>In a Jupyter environment, please rerun this cell to show the HTML representation or trust the notebook. <br />On GitHub, the HTML representation is unable to render, please try loading this page with nbviewer.org.</b></div><div class=\"sk-container\" hidden><div class=\"sk-item\"><div class=\"sk-estimator sk-toggleable\"><input class=\"sk-toggleable__control sk-hidden--visually\" id=\"sk-estimator-id-12\" type=\"checkbox\" checked><label for=\"sk-estimator-id-12\" class=\"sk-toggleable__label sk-toggleable__label-arrow\">LinearRegression</label><div class=\"sk-toggleable__content\"><pre>LinearRegression()</pre></div></div></div></div></div>"
      ],
      "text/plain": [
       "LinearRegression()"
      ]
     },
     "execution_count": 234,
     "metadata": {},
     "output_type": "execute_result"
    }
   ],
   "source": [
    "# Fit the model to the data\n",
    "reg.fit(X_train, y_train)"
   ]
  },
  {
   "cell_type": "code",
   "execution_count": 235,
   "metadata": {},
   "outputs": [
    {
     "data": {
      "text/html": [
       "<div>\n",
       "<style scoped>\n",
       "    .dataframe tbody tr th:only-of-type {\n",
       "        vertical-align: middle;\n",
       "    }\n",
       "\n",
       "    .dataframe tbody tr th {\n",
       "        vertical-align: top;\n",
       "    }\n",
       "\n",
       "    .dataframe thead th {\n",
       "        text-align: right;\n",
       "    }\n",
       "</style>\n",
       "<table border=\"1\" class=\"dataframe\">\n",
       "  <thead>\n",
       "    <tr style=\"text-align: right;\">\n",
       "      <th></th>\n",
       "      <th>Name</th>\n",
       "      <th>Coefficient</th>\n",
       "    </tr>\n",
       "  </thead>\n",
       "  <tbody>\n",
       "    <tr>\n",
       "      <th>0</th>\n",
       "      <td>Intercept</td>\n",
       "      <td>47.720948</td>\n",
       "    </tr>\n",
       "  </tbody>\n",
       "</table>\n",
       "</div>"
      ],
      "text/plain": [
       "        Name  Coefficient\n",
       "0  Intercept    47.720948"
      ]
     },
     "execution_count": 235,
     "metadata": {},
     "output_type": "execute_result"
    }
   ],
   "source": [
    "# Intercept \n",
    "intercept = pd.DataFrame({\n",
    "    \"Name\": [\"Intercept\"],\n",
    "    \"Coefficient\":[reg.intercept_]}\n",
    "    )\n",
    "intercept"
   ]
  },
  {
   "cell_type": "code",
   "execution_count": 236,
   "metadata": {},
   "outputs": [
    {
     "data": {
      "text/html": [
       "<div>\n",
       "<style scoped>\n",
       "    .dataframe tbody tr th:only-of-type {\n",
       "        vertical-align: middle;\n",
       "    }\n",
       "\n",
       "    .dataframe tbody tr th {\n",
       "        vertical-align: top;\n",
       "    }\n",
       "\n",
       "    .dataframe thead th {\n",
       "        text-align: right;\n",
       "    }\n",
       "</style>\n",
       "<table border=\"1\" class=\"dataframe\">\n",
       "  <thead>\n",
       "    <tr style=\"text-align: right;\">\n",
       "      <th></th>\n",
       "      <th>Name</th>\n",
       "      <th>Coefficient</th>\n",
       "    </tr>\n",
       "  </thead>\n",
       "  <tbody>\n",
       "    <tr>\n",
       "      <th>0</th>\n",
       "      <td>Average annual working hours per worker</td>\n",
       "      <td>-1.702993e-02</td>\n",
       "    </tr>\n",
       "    <tr>\n",
       "      <th>1</th>\n",
       "      <td>GDP per capita</td>\n",
       "      <td>1.183650e-03</td>\n",
       "    </tr>\n",
       "    <tr>\n",
       "      <th>2</th>\n",
       "      <td>Population</td>\n",
       "      <td>-1.094956e-09</td>\n",
       "    </tr>\n",
       "    <tr>\n",
       "      <th>3</th>\n",
       "      <td>gini_coefficient</td>\n",
       "      <td>-1.490838e+01</td>\n",
       "    </tr>\n",
       "    <tr>\n",
       "      <th>4</th>\n",
       "      <td>Life satisfaction</td>\n",
       "      <td>-1.450817e+00</td>\n",
       "    </tr>\n",
       "    <tr>\n",
       "      <th>5</th>\n",
       "      <td>Current health expenditure per capita</td>\n",
       "      <td>-6.252246e-06</td>\n",
       "    </tr>\n",
       "  </tbody>\n",
       "</table>\n",
       "</div>"
      ],
      "text/plain": [
       "                                      Name   Coefficient\n",
       "0  Average annual working hours per worker -1.702993e-02\n",
       "1                           GDP per capita  1.183650e-03\n",
       "2                               Population -1.094956e-09\n",
       "3                         gini_coefficient -1.490838e+01\n",
       "4                        Life satisfaction -1.450817e+00\n",
       "5    Current health expenditure per capita -6.252246e-06"
      ]
     },
     "execution_count": 236,
     "metadata": {},
     "output_type": "execute_result"
    }
   ],
   "source": [
    "# Slope coefficients\n",
    "slope = pd.DataFrame({\n",
    "    \"Name\": features,\n",
    "    \"Coefficient\": reg.coef_}\n",
    ")\n",
    "slope"
   ]
  },
  {
   "cell_type": "code",
   "execution_count": 237,
   "metadata": {},
   "outputs": [
    {
     "data": {
      "text/html": [
       "<div>\n",
       "<style scoped>\n",
       "    .dataframe tbody tr th:only-of-type {\n",
       "        vertical-align: middle;\n",
       "    }\n",
       "\n",
       "    .dataframe tbody tr th {\n",
       "        vertical-align: top;\n",
       "    }\n",
       "\n",
       "    .dataframe thead th {\n",
       "        text-align: right;\n",
       "    }\n",
       "</style>\n",
       "<table border=\"1\" class=\"dataframe\">\n",
       "  <thead>\n",
       "    <tr style=\"text-align: right;\">\n",
       "      <th></th>\n",
       "      <th>Name</th>\n",
       "      <th>Coefficient</th>\n",
       "    </tr>\n",
       "  </thead>\n",
       "  <tbody>\n",
       "    <tr>\n",
       "      <th>0</th>\n",
       "      <td>Intercept</td>\n",
       "      <td>47.72095</td>\n",
       "    </tr>\n",
       "    <tr>\n",
       "      <th>1</th>\n",
       "      <td>Average annual working hours per worker</td>\n",
       "      <td>-0.01703</td>\n",
       "    </tr>\n",
       "    <tr>\n",
       "      <th>2</th>\n",
       "      <td>GDP per capita</td>\n",
       "      <td>0.00118</td>\n",
       "    </tr>\n",
       "    <tr>\n",
       "      <th>3</th>\n",
       "      <td>Population</td>\n",
       "      <td>-0.00000</td>\n",
       "    </tr>\n",
       "    <tr>\n",
       "      <th>4</th>\n",
       "      <td>gini_coefficient</td>\n",
       "      <td>-14.90838</td>\n",
       "    </tr>\n",
       "    <tr>\n",
       "      <th>5</th>\n",
       "      <td>Life satisfaction</td>\n",
       "      <td>-1.45082</td>\n",
       "    </tr>\n",
       "    <tr>\n",
       "      <th>6</th>\n",
       "      <td>Current health expenditure per capita</td>\n",
       "      <td>-0.00001</td>\n",
       "    </tr>\n",
       "  </tbody>\n",
       "</table>\n",
       "</div>"
      ],
      "text/plain": [
       "                                      Name  Coefficient\n",
       "0                                Intercept     47.72095\n",
       "1  Average annual working hours per worker     -0.01703\n",
       "2                           GDP per capita      0.00118\n",
       "3                               Population     -0.00000\n",
       "4                         gini_coefficient    -14.90838\n",
       "5                        Life satisfaction     -1.45082\n",
       "6    Current health expenditure per capita     -0.00001"
      ]
     },
     "execution_count": 237,
     "metadata": {},
     "output_type": "execute_result"
    }
   ],
   "source": [
    "# combine dataframes\n",
    "table = pd.concat([intercept, slope], ignore_index=True, sort=False)\n",
    "\n",
    "round(table, 5)"
   ]
  },
  {
   "attachments": {},
   "cell_type": "markdown",
   "metadata": {},
   "source": [
    "We assumed that life satisfaction level of country is the most related factor (regarding all existing factors) in improving labor productivity. Obviously "
   ]
  },
  {
   "attachments": {},
   "cell_type": "markdown",
   "metadata": {},
   "source": [
    "### Evaluation on data set"
   ]
  },
  {
   "cell_type": "code",
   "execution_count": 256,
   "metadata": {},
   "outputs": [],
   "source": [
    "# Make predictions on the data\n",
    "y_pred_data = reg.predict(X)"
   ]
  },
  {
   "cell_type": "code",
   "execution_count": 257,
   "metadata": {},
   "outputs": [
    {
     "data": {
      "text/plain": [
       "0.94045"
      ]
     },
     "execution_count": 257,
     "metadata": {},
     "output_type": "execute_result"
    }
   ],
   "source": [
    "# R squared\n",
    "r2_score(y, y_pred_data).round(5)"
   ]
  },
  {
   "cell_type": "code",
   "execution_count": 258,
   "metadata": {},
   "outputs": [
    {
     "data": {
      "text/plain": [
       "35.5987"
      ]
     },
     "execution_count": 258,
     "metadata": {},
     "output_type": "execute_result"
    }
   ],
   "source": [
    "#MSE\n",
    "mean_squared_error(y, y_pred_data).round(5)"
   ]
  },
  {
   "cell_type": "code",
   "execution_count": 259,
   "metadata": {},
   "outputs": [
    {
     "data": {
      "text/plain": [
       "5.96646"
      ]
     },
     "execution_count": 259,
     "metadata": {},
     "output_type": "execute_result"
    }
   ],
   "source": [
    "#RMSE\n",
    "mean_squared_error(y, y_pred_data, squared=False).round(5)"
   ]
  },
  {
   "cell_type": "code",
   "execution_count": 260,
   "metadata": {},
   "outputs": [
    {
     "data": {
      "text/plain": [
       "3.79007"
      ]
     },
     "execution_count": 260,
     "metadata": {},
     "output_type": "execute_result"
    }
   ],
   "source": [
    "# MAE\n",
    "mean_absolute_error(y, y_pred_data).round(5)"
   ]
  },
  {
   "cell_type": "markdown",
   "metadata": {},
   "source": [
    "### Evaluation on test set"
   ]
  },
  {
   "cell_type": "code",
   "execution_count": 261,
   "metadata": {},
   "outputs": [],
   "source": [
    "# obtain predictions\n",
    "y_pred_test = reg.predict(X_test)"
   ]
  },
  {
   "cell_type": "code",
   "execution_count": 262,
   "metadata": {},
   "outputs": [
    {
     "data": {
      "text/plain": [
       "0.67909"
      ]
     },
     "execution_count": 262,
     "metadata": {},
     "output_type": "execute_result"
    }
   ],
   "source": [
    "# R squared\n",
    "r2_score(y_test, y_pred_test).round(5)"
   ]
  },
  {
   "cell_type": "code",
   "execution_count": 263,
   "metadata": {},
   "outputs": [
    {
     "data": {
      "text/plain": [
       "113.79038"
      ]
     },
     "execution_count": 263,
     "metadata": {},
     "output_type": "execute_result"
    }
   ],
   "source": [
    "# MSE\n",
    "mean_squared_error(y_test, y_pred_test).round(5)"
   ]
  },
  {
   "cell_type": "code",
   "execution_count": 264,
   "metadata": {},
   "outputs": [
    {
     "data": {
      "text/plain": [
       "10.66726"
      ]
     },
     "execution_count": 264,
     "metadata": {},
     "output_type": "execute_result"
    }
   ],
   "source": [
    "# RMSE\n",
    "mean_squared_error(y_test, y_pred_test, squared=False).round(5)"
   ]
  },
  {
   "cell_type": "code",
   "execution_count": 265,
   "metadata": {},
   "outputs": [
    {
     "data": {
      "text/plain": [
       "7.35264"
      ]
     },
     "execution_count": 265,
     "metadata": {},
     "output_type": "execute_result"
    }
   ],
   "source": [
    "# MAE\n",
    "mean_absolute_error(y_test, y_pred_test).round(5)"
   ]
  },
  {
   "attachments": {},
   "cell_type": "markdown",
   "metadata": {},
   "source": [
    "### Model diagnostics"
   ]
  },
  {
   "cell_type": "code",
   "execution_count": 308,
   "metadata": {},
   "outputs": [],
   "source": [
    "# rename columns using underscores\n",
    "df.columns = [c.replace(' ','_') for c in df.columns]"
   ]
  },
  {
   "cell_type": "code",
   "execution_count": 317,
   "metadata": {},
   "outputs": [],
   "source": [
    "# estimate the model and save it as lm (linear model)\n",
    "lm = ols(\"Productivity ~ Average_annual_working_hours_per_worker + GDP_per_capita + Population + gini_coefficient + Life_satisfaction + Current_health_expenditure_per_capita\", data=df).fit()"
   ]
  },
  {
   "cell_type": "code",
   "execution_count": 318,
   "metadata": {},
   "outputs": [
    {
     "name": "stdout",
     "output_type": "stream",
     "text": [
      "                            OLS Regression Results                            \n",
      "==============================================================================\n",
      "Dep. Variable:           Productivity   R-squared:                       0.953\n",
      "Model:                            OLS   Adj. R-squared:                  0.946\n",
      "Method:                 Least Squares   F-statistic:                     135.1\n",
      "Date:                Wed, 28 Dec 2022   Prob (F-statistic):           5.89e-25\n",
      "Time:                        19:32:49   Log-Likelihood:                -145.09\n",
      "No. Observations:                  47   AIC:                             304.2\n",
      "Df Residuals:                      40   BIC:                             317.1\n",
      "Df Model:                           6                                         \n",
      "Covariance Type:            nonrobust                                         \n",
      "===========================================================================================================\n",
      "                                              coef    std err          t      P>|t|      [0.025      0.975]\n",
      "-----------------------------------------------------------------------------------------------------------\n",
      "Intercept                                  55.8753     15.568      3.589      0.001      24.410      87.340\n",
      "Average_annual_working_hours_per_worker    -0.0170      0.005     -3.298      0.002      -0.027      -0.007\n",
      "GDP_per_capita                              0.0009   9.94e-05      9.069      0.000       0.001       0.001\n",
      "Population                              -2.418e-09   3.75e-09     -0.645      0.522   -9.99e-09    5.15e-09\n",
      "gini_coefficient                          -25.0660     14.539     -1.724      0.092     -54.451       4.319\n",
      "Life_satisfaction                          -1.5747      1.733     -0.909      0.369      -5.077       1.928\n",
      "Current_health_expenditure_per_capita       0.0017      0.001      1.843      0.073      -0.000       0.003\n",
      "==============================================================================\n",
      "Omnibus:                        6.881   Durbin-Watson:                   1.927\n",
      "Prob(Omnibus):                  0.032   Jarque-Bera (JB):               11.674\n",
      "Skew:                          -0.013   Prob(JB):                      0.00292\n",
      "Kurtosis:                       5.441   Cond. No.                     5.90e+09\n",
      "==============================================================================\n",
      "\n",
      "Notes:\n",
      "[1] Standard Errors assume that the covariance matrix of the errors is correctly specified.\n",
      "[2] The condition number is large, 5.9e+09. This might indicate that there are\n",
      "strong multicollinearity or other numerical problems.\n"
     ]
    }
   ],
   "source": [
    "# print regression results\n",
    "print(lm.summary())"
   ]
  },
  {
   "attachments": {},
   "cell_type": "markdown",
   "metadata": {},
   "source": [
    "The p-values of most variables are not statistically significant because their p-values are greater than 0.05. This result can be obtained if there are too many variables or if there is multicollinearity among the variables. Therefore, in the above model, we should consider removing variables that are not statistically significant."
   ]
  },
  {
   "cell_type": "code",
   "execution_count": 382,
   "metadata": {},
   "outputs": [],
   "source": [
    "# compute regression with only few variables\n",
    "lm2 = ols(\"Productivity ~ Life_satisfaction\", data=df).fit()"
   ]
  },
  {
   "cell_type": "code",
   "execution_count": 383,
   "metadata": {},
   "outputs": [
    {
     "name": "stdout",
     "output_type": "stream",
     "text": [
      "                            OLS Regression Results                            \n",
      "==============================================================================\n",
      "Dep. Variable:           Productivity   R-squared:                       0.544\n",
      "Model:                            OLS   Adj. R-squared:                  0.534\n",
      "Method:                 Least Squares   F-statistic:                     53.73\n",
      "Date:                Wed, 28 Dec 2022   Prob (F-statistic):           3.31e-09\n",
      "Time:                        20:30:26   Log-Likelihood:                -198.47\n",
      "No. Observations:                  47   AIC:                             400.9\n",
      "Df Residuals:                      45   BIC:                             404.6\n",
      "Df Model:                           1                                         \n",
      "Covariance Type:            nonrobust                                         \n",
      "=====================================================================================\n",
      "                        coef    std err          t      P>|t|      [0.025      0.975]\n",
      "-------------------------------------------------------------------------------------\n",
      "Intercept           -82.4927     17.347     -4.755      0.000    -117.431     -47.554\n",
      "Life_satisfaction    19.6921      2.686      7.330      0.000      14.281      25.103\n",
      "==============================================================================\n",
      "Omnibus:                        3.200   Durbin-Watson:                   2.564\n",
      "Prob(Omnibus):                  0.202   Jarque-Bera (JB):                2.125\n",
      "Skew:                           0.434   Prob(JB):                        0.346\n",
      "Kurtosis:                       3.577   Cond. No.                         46.6\n",
      "==============================================================================\n",
      "\n",
      "Notes:\n",
      "[1] Standard Errors assume that the covariance matrix of the errors is correctly specified.\n"
     ]
    }
   ],
   "source": [
    "# print regression results\n",
    "print(lm2.summary())"
   ]
  },
  {
   "attachments": {},
   "cell_type": "markdown",
   "metadata": {},
   "source": [
    "The result shows us that there is strong multicollinearity in our variable or other numerical problem."
   ]
  },
  {
   "cell_type": "code",
   "execution_count": 370,
   "metadata": {},
   "outputs": [],
   "source": [
    "# compute regression with only few variables related to our second hypothesis\n",
    "lm3 = ols(\"Productivity ~ Life_satisfaction\", data=df).fit()"
   ]
  },
  {
   "cell_type": "code",
   "execution_count": 371,
   "metadata": {},
   "outputs": [
    {
     "name": "stdout",
     "output_type": "stream",
     "text": [
      "                            OLS Regression Results                            \n",
      "==============================================================================\n",
      "Dep. Variable:           Productivity   R-squared:                       0.544\n",
      "Model:                            OLS   Adj. R-squared:                  0.534\n",
      "Method:                 Least Squares   F-statistic:                     53.73\n",
      "Date:                Wed, 28 Dec 2022   Prob (F-statistic):           3.31e-09\n",
      "Time:                        20:14:44   Log-Likelihood:                -198.47\n",
      "No. Observations:                  47   AIC:                             400.9\n",
      "Df Residuals:                      45   BIC:                             404.6\n",
      "Df Model:                           1                                         \n",
      "Covariance Type:            nonrobust                                         \n",
      "=====================================================================================\n",
      "                        coef    std err          t      P>|t|      [0.025      0.975]\n",
      "-------------------------------------------------------------------------------------\n",
      "Intercept           -82.4927     17.347     -4.755      0.000    -117.431     -47.554\n",
      "Life_satisfaction    19.6921      2.686      7.330      0.000      14.281      25.103\n",
      "==============================================================================\n",
      "Omnibus:                        3.200   Durbin-Watson:                   2.564\n",
      "Prob(Omnibus):                  0.202   Jarque-Bera (JB):                2.125\n",
      "Skew:                           0.434   Prob(JB):                        0.346\n",
      "Kurtosis:                       3.577   Cond. No.                         46.6\n",
      "==============================================================================\n",
      "\n",
      "Notes:\n",
      "[1] Standard Errors assume that the covariance matrix of the errors is correctly specified.\n"
     ]
    }
   ],
   "source": [
    "# print regression results\n",
    "print(lm3.summary())"
   ]
  },
  {
   "attachments": {},
   "cell_type": "markdown",
   "metadata": {},
   "source": [
    "If we include only a few variables in our regression model that are directly related to our second hypothesis, we can observe that the p-value of these variables is statistically significant. The coefficient of these variables also explains the positive relationship between life satisfaction and labor productivity."
   ]
  },
  {
   "attachments": {},
   "cell_type": "markdown",
   "metadata": {},
   "source": [
    "It shows us that we need to reduce the number of variables, because the more variables, the higher the risk of misevaluation."
   ]
  },
  {
   "attachments": {},
   "cell_type": "markdown",
   "metadata": {},
   "source": [
    "## Check for multicollinearity"
   ]
  },
  {
   "cell_type": "code",
   "execution_count": 327,
   "metadata": {},
   "outputs": [
    {
     "name": "stderr",
     "output_type": "stream",
     "text": [
      "C:\\Users\\ji_so\\AppData\\Local\\Temp\\ipykernel_31432\\1835051848.py:3: FutureWarning: The default value of numeric_only in DataFrame.corr is deprecated. In a future version, it will default to False. Select only valid columns or specify the value of numeric_only to silence this warning.\n",
      "  corr = df.corr()\n"
     ]
    },
    {
     "data": {
      "image/png": "[encoded data removed]",
      "text/plain": [
       "<Figure size 640x480 with 2 Axes>"
      ]
     },
     "metadata": {},
     "output_type": "display_data"
    }
   ],
   "source": [
    "# Inspect correlation\n",
    "# Calculate correlation using the default method ( \"pearson\")\n",
    "corr = df.corr()\n",
    "# optimize aesthetics: generate mask for removing duplicate / unnecessary info\n",
    "mask = np.zeros_like(corr, dtype=bool)\n",
    "mask[np.triu_indices_from(mask)] = True\n",
    "# Generate a custom diverging colormap as indicator for correlations:\n",
    "cmap = sns.diverging_palette(220, 10, as_cmap=True)\n",
    "# Plot\n",
    "sns.heatmap(corr, mask=mask, cmap=cmap, annot=True,  square=True, annot_kws={\"size\": 12});"
   ]
  },
  {
   "attachments": {},
   "cell_type": "markdown",
   "metadata": {},
   "source": [
    "### Variance inflation factor (VIF)\n",
    "- The smallest possible value for VIF is 1, which indicates the complete absence of collinearity.\n",
    "- VIF value that exceeds 5 indicates a problematic amount of collinearity and the parameter estimates will have large standard errors because of this."
   ]
  },
  {
   "cell_type": "code",
   "execution_count": 329,
   "metadata": {},
   "outputs": [
    {
     "data": {
      "text/html": [
       "<div>\n",
       "<style scoped>\n",
       "    .dataframe tbody tr th:only-of-type {\n",
       "        vertical-align: middle;\n",
       "    }\n",
       "\n",
       "    .dataframe tbody tr th {\n",
       "        vertical-align: top;\n",
       "    }\n",
       "\n",
       "    .dataframe thead th {\n",
       "        text-align: right;\n",
       "    }\n",
       "</style>\n",
       "<table border=\"1\" class=\"dataframe\">\n",
       "  <thead>\n",
       "    <tr style=\"text-align: right;\">\n",
       "      <th></th>\n",
       "      <th>VIF Factor</th>\n",
       "      <th>Feature</th>\n",
       "    </tr>\n",
       "  </thead>\n",
       "  <tbody>\n",
       "    <tr>\n",
       "      <th>0</th>\n",
       "      <td>344.87</td>\n",
       "      <td>const</td>\n",
       "    </tr>\n",
       "    <tr>\n",
       "      <th>1</th>\n",
       "      <td>2.11</td>\n",
       "      <td>Average_annual_working_hours_per_worker</td>\n",
       "    </tr>\n",
       "    <tr>\n",
       "      <th>2</th>\n",
       "      <td>5.41</td>\n",
       "      <td>GDP_per_capita</td>\n",
       "    </tr>\n",
       "    <tr>\n",
       "      <th>3</th>\n",
       "      <td>1.56</td>\n",
       "      <td>Population</td>\n",
       "    </tr>\n",
       "    <tr>\n",
       "      <th>4</th>\n",
       "      <td>1.30</td>\n",
       "      <td>gini_coefficient</td>\n",
       "    </tr>\n",
       "    <tr>\n",
       "      <th>5</th>\n",
       "      <td>3.59</td>\n",
       "      <td>Life_satisfaction</td>\n",
       "    </tr>\n",
       "    <tr>\n",
       "      <th>6</th>\n",
       "      <td>5.83</td>\n",
       "      <td>Current_health_expenditure_per_capita</td>\n",
       "    </tr>\n",
       "  </tbody>\n",
       "</table>\n",
       "</div>"
      ],
      "text/plain": [
       "   VIF Factor                                  Feature\n",
       "0      344.87                                    const\n",
       "1        2.11  Average_annual_working_hours_per_worker\n",
       "2        5.41                           GDP_per_capita\n",
       "3        1.56                               Population\n",
       "4        1.30                         gini_coefficient\n",
       "5        3.59                        Life_satisfaction\n",
       "6        5.83    Current_health_expenditure_per_capita"
      ]
     },
     "execution_count": 329,
     "metadata": {},
     "output_type": "execute_result"
    }
   ],
   "source": [
    "# choose features and add constant\n",
    "features = add_constant(df[['Average_annual_working_hours_per_worker', 'GDP_per_capita', 'Population','gini_coefficient','Life_satisfaction','Current_health_expenditure_per_capita']])\n",
    "# create empty DataFrame\n",
    "vif = pd.DataFrame()\n",
    "# calculate vif\n",
    "vif[\"VIF Factor\"] = [variance_inflation_factor(features.values, i) for i in range(features.shape[1])]\n",
    "# add feature names\n",
    "vif[\"Feature\"] = features.columns\n",
    "\n",
    "vif.round(2)"
   ]
  },
  {
   "attachments": {},
   "cell_type": "markdown",
   "metadata": {},
   "source": [
    "We have a problematic amount of collinearity in our data.\n",
    "- Current health expenditure per capita"
   ]
  },
  {
   "attachments": {},
   "cell_type": "markdown",
   "metadata": {},
   "source": [
    "## **Lasso regression model**"
   ]
  },
  {
   "attachments": {},
   "cell_type": "markdown",
   "metadata": {},
   "source": [
    "Lasso regression is based on the linear regression model, but additionally performs what is known as regularization, where additional information is introduced to prevent overfitting.\n",
    "As a result, we can fit a model containing all possible predictors and use lasso to perform variable selection using a technique that regularizes the coefficient estimates (it shrinks the coefficient estimates to zero). In particular, the minimization objective includes not only the residual sum of squares (RSS) - as in the OLS regression setting - but also the sum of the absolute values of coefficients."
   ]
  },
  {
   "attachments": {},
   "cell_type": "markdown",
   "metadata": {},
   "source": [
    "### Create labels and features"
   ]
  },
  {
   "attachments": {},
   "cell_type": "markdown",
   "metadata": {},
   "source": [
    "Since we will use the lasso algorithm from scikit learn, we need to encode our categorical features as numeric features (dummy variables):"
   ]
  },
  {
   "cell_type": "code",
   "execution_count": 339,
   "metadata": {},
   "outputs": [],
   "source": [
    "dummies = pd.get_dummies(df[['Continent']])"
   ]
  },
  {
   "cell_type": "code",
   "execution_count": 340,
   "metadata": {},
   "outputs": [
    {
     "name": "stdout",
     "output_type": "stream",
     "text": [
      "<class 'pandas.core.frame.DataFrame'>\n",
      "Int64Index: 47 entries, 2 to 64\n",
      "Data columns (total 5 columns):\n",
      " #   Column              Non-Null Count  Dtype\n",
      "---  ------              --------------  -----\n",
      " 0   Continent_Africa    47 non-null     uint8\n",
      " 1   Continent_Americas  47 non-null     uint8\n",
      " 2   Continent_Asia      47 non-null     uint8\n",
      " 3   Continent_Europe    47 non-null     uint8\n",
      " 4   Continent_Oceania   47 non-null     uint8\n",
      "dtypes: uint8(5)\n",
      "memory usage: 611.0 bytes\n"
     ]
    }
   ],
   "source": [
    "dummies.info()"
   ]
  },
  {
   "cell_type": "code",
   "execution_count": 341,
   "metadata": {},
   "outputs": [
    {
     "name": "stdout",
     "output_type": "stream",
     "text": [
      "   Continent_Africa  Continent_Americas  Continent_Asia  Continent_Europe  \\\n",
      "2                 0                   0               0                 1   \n",
      "4                 0                   0               0                 1   \n",
      "5                 0                   1               0                 0   \n",
      "6                 0                   0               0                 1   \n",
      "8                 0                   1               0                 0   \n",
      "\n",
      "   Continent_Oceania  \n",
      "2                  0  \n",
      "4                  0  \n",
      "5                  0  \n",
      "6                  0  \n",
      "8                  0  \n"
     ]
    }
   ],
   "source": [
    "print(dummies.head())"
   ]
  },
  {
   "cell_type": "code",
   "execution_count": 346,
   "metadata": {},
   "outputs": [],
   "source": [
    "# create our label y\n",
    "y_LR = df['Productivity']"
   ]
  },
  {
   "cell_type": "code",
   "execution_count": 347,
   "metadata": {},
   "outputs": [],
   "source": [
    "# We drop the column with the outcome variable (Productivity), and categorical columns for which we already created dummy variables:\n",
    "X_numerical = df.drop(['Productivity', 'Continent', 'Country', 'Code', 'Year'], axis=1).astype('float64')"
   ]
  },
  {
   "cell_type": "code",
   "execution_count": 348,
   "metadata": {},
   "outputs": [
    {
     "data": {
      "text/plain": [
       "Index(['Average_annual_working_hours_per_worker', 'GDP_per_capita',\n",
       "       'Population', 'gini_coefficient', 'Life_satisfaction',\n",
       "       'Current_health_expenditure_per_capita'],\n",
       "      dtype='object')"
      ]
     },
     "execution_count": 348,
     "metadata": {},
     "output_type": "execute_result"
    }
   ],
   "source": [
    "# Make a list of all numerical features (we need them later):\n",
    "list_numerical = X_numerical.columns\n",
    "list_numerical"
   ]
  },
  {
   "cell_type": "code",
   "execution_count": 349,
   "metadata": {},
   "outputs": [
    {
     "name": "stdout",
     "output_type": "stream",
     "text": [
      "<class 'pandas.core.frame.DataFrame'>\n",
      "Int64Index: 47 entries, 2 to 64\n",
      "Data columns (total 11 columns):\n",
      " #   Column                                   Non-Null Count  Dtype  \n",
      "---  ------                                   --------------  -----  \n",
      " 0   Average_annual_working_hours_per_worker  47 non-null     float64\n",
      " 1   GDP_per_capita                           47 non-null     float64\n",
      " 2   Population                               47 non-null     float64\n",
      " 3   gini_coefficient                         47 non-null     float64\n",
      " 4   Life_satisfaction                        47 non-null     float64\n",
      " 5   Current_health_expenditure_per_capita    47 non-null     float64\n",
      " 6   Continent_Americas                       47 non-null     uint8  \n",
      " 7   Continent_Oceania                        47 non-null     uint8  \n",
      " 8   Continent_Europe                         47 non-null     uint8  \n",
      " 9   Continent_Asia                           47 non-null     uint8  \n",
      " 10  Continent_Africa                         47 non-null     uint8  \n",
      "dtypes: float64(6), uint8(5)\n",
      "memory usage: 2.8 KB\n"
     ]
    }
   ],
   "source": [
    "# Create all features\n",
    "X_LR = pd.concat([X_numerical, dummies[['Continent_Americas', 'Continent_Oceania', 'Continent_Europe', 'Continent_Asia', 'Continent_Africa']]], axis=1)\n",
    "X_LR.info()"
   ]
  },
  {
   "attachments": {},
   "cell_type": "markdown",
   "metadata": {},
   "source": [
    "### Split data"
   ]
  },
  {
   "cell_type": "code",
   "execution_count": 350,
   "metadata": {},
   "outputs": [],
   "source": [
    "# Split the data set into train and test set with the first 70% of the data for training and the remaining 30% for testing.\n",
    "X_train_LR, X_test_LR, y_train_LR, y_test_LR = train_test_split(X_LR, y_LR, test_size=0.3, random_state=10)"
   ]
  },
  {
   "cell_type": "code",
   "execution_count": 351,
   "metadata": {},
   "outputs": [
    {
     "data": {
      "text/html": [
       "<div>\n",
       "<style scoped>\n",
       "    .dataframe tbody tr th:only-of-type {\n",
       "        vertical-align: middle;\n",
       "    }\n",
       "\n",
       "    .dataframe tbody tr th {\n",
       "        vertical-align: top;\n",
       "    }\n",
       "\n",
       "    .dataframe thead th {\n",
       "        text-align: right;\n",
       "    }\n",
       "</style>\n",
       "<table border=\"1\" class=\"dataframe\">\n",
       "  <thead>\n",
       "    <tr style=\"text-align: right;\">\n",
       "      <th></th>\n",
       "      <th>Average_annual_working_hours_per_worker</th>\n",
       "      <th>GDP_per_capita</th>\n",
       "      <th>Population</th>\n",
       "      <th>gini_coefficient</th>\n",
       "      <th>Life_satisfaction</th>\n",
       "      <th>Current_health_expenditure_per_capita</th>\n",
       "      <th>Continent_Americas</th>\n",
       "      <th>Continent_Oceania</th>\n",
       "      <th>Continent_Europe</th>\n",
       "      <th>Continent_Asia</th>\n",
       "      <th>Continent_Africa</th>\n",
       "    </tr>\n",
       "  </thead>\n",
       "  <tbody>\n",
       "    <tr>\n",
       "      <th>27</th>\n",
       "      <td>2024.2870</td>\n",
       "      <td>10640.70</td>\n",
       "      <td>264498848.0</td>\n",
       "      <td>0.387853</td>\n",
       "      <td>5.346513</td>\n",
       "      <td>317.59</td>\n",
       "      <td>0</td>\n",
       "      <td>0</td>\n",
       "      <td>0</td>\n",
       "      <td>1</td>\n",
       "      <td>0</td>\n",
       "    </tr>\n",
       "    <tr>\n",
       "      <th>47</th>\n",
       "      <td>1863.1744</td>\n",
       "      <td>30430.03</td>\n",
       "      <td>10307528.0</td>\n",
       "      <td>0.338038</td>\n",
       "      <td>6.095473</td>\n",
       "      <td>3072.32</td>\n",
       "      <td>0</td>\n",
       "      <td>0</td>\n",
       "      <td>1</td>\n",
       "      <td>0</td>\n",
       "      <td>0</td>\n",
       "    </tr>\n",
       "    <tr>\n",
       "      <th>34</th>\n",
       "      <td>1518.8575</td>\n",
       "      <td>90597.55</td>\n",
       "      <td>596290.0</td>\n",
       "      <td>0.345157</td>\n",
       "      <td>7.404016</td>\n",
       "      <td>5980.64</td>\n",
       "      <td>0</td>\n",
       "      <td>0</td>\n",
       "      <td>1</td>\n",
       "      <td>0</td>\n",
       "      <td>0</td>\n",
       "    </tr>\n",
       "    <tr>\n",
       "      <th>24</th>\n",
       "      <td>1937.3325</td>\n",
       "      <td>26908.97</td>\n",
       "      <td>9788940.0</td>\n",
       "      <td>0.305841</td>\n",
       "      <td>6.000260</td>\n",
       "      <td>1988.70</td>\n",
       "      <td>0</td>\n",
       "      <td>0</td>\n",
       "      <td>1</td>\n",
       "      <td>0</td>\n",
       "      <td>0</td>\n",
       "    </tr>\n",
       "    <tr>\n",
       "      <th>42</th>\n",
       "      <td>1417.4723</td>\n",
       "      <td>69604.79</td>\n",
       "      <td>5277396.0</td>\n",
       "      <td>0.269873</td>\n",
       "      <td>7.442140</td>\n",
       "      <td>6630.84</td>\n",
       "      <td>0</td>\n",
       "      <td>0</td>\n",
       "      <td>1</td>\n",
       "      <td>0</td>\n",
       "      <td>0</td>\n",
       "    </tr>\n",
       "  </tbody>\n",
       "</table>\n",
       "</div>"
      ],
      "text/plain": [
       "    Average_annual_working_hours_per_worker  GDP_per_capita   Population  \\\n",
       "27                                2024.2870        10640.70  264498848.0   \n",
       "47                                1863.1744        30430.03   10307528.0   \n",
       "34                                1518.8575        90597.55     596290.0   \n",
       "24                                1937.3325        26908.97    9788940.0   \n",
       "42                                1417.4723        69604.79    5277396.0   \n",
       "\n",
       "    gini_coefficient  Life_satisfaction  \\\n",
       "27          0.387853           5.346513   \n",
       "47          0.338038           6.095473   \n",
       "34          0.345157           7.404016   \n",
       "24          0.305841           6.000260   \n",
       "42          0.269873           7.442140   \n",
       "\n",
       "    Current_health_expenditure_per_capita  Continent_Americas  \\\n",
       "27                                 317.59                   0   \n",
       "47                                3072.32                   0   \n",
       "34                                5980.64                   0   \n",
       "24                                1988.70                   0   \n",
       "42                                6630.84                   0   \n",
       "\n",
       "    Continent_Oceania  Continent_Europe  Continent_Asia  Continent_Africa  \n",
       "27                  0                 0               1                 0  \n",
       "47                  0                 1               0                 0  \n",
       "34                  0                 1               0                 0  \n",
       "24                  0                 1               0                 0  \n",
       "42                  0                 1               0                 0  "
      ]
     },
     "execution_count": 351,
     "metadata": {},
     "output_type": "execute_result"
    }
   ],
   "source": [
    "X_train_LR.head()"
   ]
  },
  {
   "attachments": {},
   "cell_type": "markdown",
   "metadata": {},
   "source": [
    "### Standardization"
   ]
  },
  {
   "attachments": {},
   "cell_type": "markdown",
   "metadata": {},
   "source": [
    "To avoid data leaks, the standardization of numerical features should always be done after data splitting and only from training data. In addition, we obtain all necessary statistics for our features (mean and standard deviation) from training data and use them for test data as well. Note that we do not standardize our dummy variables (which only have values of 0 or 1)."
   ]
  },
  {
   "cell_type": "code",
   "execution_count": 352,
   "metadata": {},
   "outputs": [],
   "source": [
    "scaler = StandardScaler().fit(X_train_LR[list_numerical]) \n",
    "\n",
    "X_train_LR[list_numerical] = scaler.transform(X_train_LR[list_numerical])\n",
    "X_test_LR[list_numerical] = scaler.transform(X_test_LR[list_numerical])"
   ]
  },
  {
   "cell_type": "code",
   "execution_count": 353,
   "metadata": {},
   "outputs": [
    {
     "data": {
      "text/html": [
       "<div>\n",
       "<style scoped>\n",
       "    .dataframe tbody tr th:only-of-type {\n",
       "        vertical-align: middle;\n",
       "    }\n",
       "\n",
       "    .dataframe tbody tr th {\n",
       "        vertical-align: top;\n",
       "    }\n",
       "\n",
       "    .dataframe thead th {\n",
       "        text-align: right;\n",
       "    }\n",
       "</style>\n",
       "<table border=\"1\" class=\"dataframe\">\n",
       "  <thead>\n",
       "    <tr style=\"text-align: right;\">\n",
       "      <th></th>\n",
       "      <th>Average_annual_working_hours_per_worker</th>\n",
       "      <th>GDP_per_capita</th>\n",
       "      <th>Population</th>\n",
       "      <th>gini_coefficient</th>\n",
       "      <th>Life_satisfaction</th>\n",
       "      <th>Current_health_expenditure_per_capita</th>\n",
       "      <th>Continent_Americas</th>\n",
       "      <th>Continent_Oceania</th>\n",
       "      <th>Continent_Europe</th>\n",
       "      <th>Continent_Asia</th>\n",
       "      <th>Continent_Africa</th>\n",
       "    </tr>\n",
       "  </thead>\n",
       "  <tbody>\n",
       "    <tr>\n",
       "      <th>27</th>\n",
       "      <td>0.943645</td>\n",
       "      <td>-1.334215</td>\n",
       "      <td>4.356824</td>\n",
       "      <td>0.936206</td>\n",
       "      <td>-1.358227</td>\n",
       "      <td>-1.517961</td>\n",
       "      <td>0</td>\n",
       "      <td>0</td>\n",
       "      <td>0</td>\n",
       "      <td>1</td>\n",
       "      <td>0</td>\n",
       "    </tr>\n",
       "    <tr>\n",
       "      <th>47</th>\n",
       "      <td>0.307149</td>\n",
       "      <td>-0.323042</td>\n",
       "      <td>-0.414694</td>\n",
       "      <td>0.060374</td>\n",
       "      <td>-0.441545</td>\n",
       "      <td>-0.092208</td>\n",
       "      <td>0</td>\n",
       "      <td>0</td>\n",
       "      <td>1</td>\n",
       "      <td>0</td>\n",
       "      <td>0</td>\n",
       "    </tr>\n",
       "    <tr>\n",
       "      <th>34</th>\n",
       "      <td>-1.053118</td>\n",
       "      <td>2.751331</td>\n",
       "      <td>-0.596987</td>\n",
       "      <td>0.185540</td>\n",
       "      <td>1.160032</td>\n",
       "      <td>1.413038</td>\n",
       "      <td>0</td>\n",
       "      <td>0</td>\n",
       "      <td>1</td>\n",
       "      <td>0</td>\n",
       "      <td>0</td>\n",
       "    </tr>\n",
       "    <tr>\n",
       "      <th>24</th>\n",
       "      <td>0.600120</td>\n",
       "      <td>-0.502957</td>\n",
       "      <td>-0.424429</td>\n",
       "      <td>-0.505717</td>\n",
       "      <td>-0.558080</td>\n",
       "      <td>-0.653053</td>\n",
       "      <td>0</td>\n",
       "      <td>0</td>\n",
       "      <td>1</td>\n",
       "      <td>0</td>\n",
       "      <td>0</td>\n",
       "    </tr>\n",
       "    <tr>\n",
       "      <th>42</th>\n",
       "      <td>-1.453653</td>\n",
       "      <td>1.678666</td>\n",
       "      <td>-0.509116</td>\n",
       "      <td>-1.138104</td>\n",
       "      <td>1.206694</td>\n",
       "      <td>1.749559</td>\n",
       "      <td>0</td>\n",
       "      <td>0</td>\n",
       "      <td>1</td>\n",
       "      <td>0</td>\n",
       "      <td>0</td>\n",
       "    </tr>\n",
       "    <tr>\n",
       "      <th>4</th>\n",
       "      <td>-0.952727</td>\n",
       "      <td>0.429113</td>\n",
       "      <td>-0.394478</td>\n",
       "      <td>-1.067664</td>\n",
       "      <td>0.386652</td>\n",
       "      <td>1.138645</td>\n",
       "      <td>0</td>\n",
       "      <td>0</td>\n",
       "      <td>1</td>\n",
       "      <td>0</td>\n",
       "      <td>0</td>\n",
       "    </tr>\n",
       "    <tr>\n",
       "      <th>17</th>\n",
       "      <td>-0.332136</td>\n",
       "      <td>-1.294749</td>\n",
       "      <td>-0.294756</td>\n",
       "      <td>1.971393</td>\n",
       "      <td>-0.792010</td>\n",
       "      <td>-1.235650</td>\n",
       "      <td>1</td>\n",
       "      <td>0</td>\n",
       "      <td>0</td>\n",
       "      <td>0</td>\n",
       "      <td>0</td>\n",
       "    </tr>\n",
       "    <tr>\n",
       "      <th>46</th>\n",
       "      <td>0.960270</td>\n",
       "      <td>-0.393669</td>\n",
       "      <td>0.115133</td>\n",
       "      <td>-0.556272</td>\n",
       "      <td>-0.262090</td>\n",
       "      <td>-0.661504</td>\n",
       "      <td>0</td>\n",
       "      <td>0</td>\n",
       "      <td>1</td>\n",
       "      <td>0</td>\n",
       "      <td>0</td>\n",
       "    </tr>\n",
       "    <tr>\n",
       "      <th>60</th>\n",
       "      <td>1.580322</td>\n",
       "      <td>-1.026373</td>\n",
       "      <td>0.722676</td>\n",
       "      <td>0.539468</td>\n",
       "      <td>-0.531286</td>\n",
       "      <td>-1.335784</td>\n",
       "      <td>0</td>\n",
       "      <td>0</td>\n",
       "      <td>0</td>\n",
       "      <td>1</td>\n",
       "      <td>0</td>\n",
       "    </tr>\n",
       "    <tr>\n",
       "      <th>33</th>\n",
       "      <td>0.231466</td>\n",
       "      <td>-0.353559</td>\n",
       "      <td>-0.553660</td>\n",
       "      <td>0.673257</td>\n",
       "      <td>-0.479946</td>\n",
       "      <td>-0.555031</td>\n",
       "      <td>0</td>\n",
       "      <td>0</td>\n",
       "      <td>1</td>\n",
       "      <td>0</td>\n",
       "      <td>0</td>\n",
       "    </tr>\n",
       "    <tr>\n",
       "      <th>9</th>\n",
       "      <td>0.744979</td>\n",
       "      <td>-0.709640</td>\n",
       "      <td>-0.263377</td>\n",
       "      <td>1.930602</td>\n",
       "      <td>-0.629080</td>\n",
       "      <td>-0.533785</td>\n",
       "      <td>1</td>\n",
       "      <td>0</td>\n",
       "      <td>0</td>\n",
       "      <td>0</td>\n",
       "      <td>0</td>\n",
       "    </tr>\n",
       "    <tr>\n",
       "      <th>18</th>\n",
       "      <td>0.281503</td>\n",
       "      <td>-0.294858</td>\n",
       "      <td>-0.583448</td>\n",
       "      <td>-0.545996</td>\n",
       "      <td>-0.515999</td>\n",
       "      <td>-0.522031</td>\n",
       "      <td>0</td>\n",
       "      <td>0</td>\n",
       "      <td>1</td>\n",
       "      <td>0</td>\n",
       "      <td>0</td>\n",
       "    </tr>\n",
       "    <tr>\n",
       "      <th>28</th>\n",
       "      <td>-0.157011</td>\n",
       "      <td>2.557730</td>\n",
       "      <td>-0.518606</td>\n",
       "      <td>-0.369337</td>\n",
       "      <td>0.977452</td>\n",
       "      <td>1.207197</td>\n",
       "      <td>0</td>\n",
       "      <td>0</td>\n",
       "      <td>1</td>\n",
       "      <td>0</td>\n",
       "      <td>0</td>\n",
       "    </tr>\n",
       "    <tr>\n",
       "      <th>25</th>\n",
       "      <td>-1.153829</td>\n",
       "      <td>0.668968</td>\n",
       "      <td>-0.601730</td>\n",
       "      <td>-1.288562</td>\n",
       "      <td>1.317295</td>\n",
       "      <td>0.782690</td>\n",
       "      <td>0</td>\n",
       "      <td>0</td>\n",
       "      <td>1</td>\n",
       "      <td>0</td>\n",
       "      <td>0</td>\n",
       "    </tr>\n",
       "    <tr>\n",
       "      <th>22</th>\n",
       "      <td>0.914443</td>\n",
       "      <td>-0.525000</td>\n",
       "      <td>-0.407473</td>\n",
       "      <td>0.156755</td>\n",
       "      <td>-0.616955</td>\n",
       "      <td>-0.478674</td>\n",
       "      <td>0</td>\n",
       "      <td>0</td>\n",
       "      <td>1</td>\n",
       "      <td>0</td>\n",
       "      <td>0</td>\n",
       "    </tr>\n",
       "    <tr>\n",
       "      <th>19</th>\n",
       "      <td>-0.498359</td>\n",
       "      <td>0.361509</td>\n",
       "      <td>-0.504785</td>\n",
       "      <td>-1.068523</td>\n",
       "      <td>1.620641</td>\n",
       "      <td>0.563433</td>\n",
       "      <td>0</td>\n",
       "      <td>0</td>\n",
       "      <td>1</td>\n",
       "      <td>0</td>\n",
       "      <td>0</td>\n",
       "    </tr>\n",
       "    <tr>\n",
       "      <th>8</th>\n",
       "      <td>-0.351468</td>\n",
       "      <td>0.620851</td>\n",
       "      <td>0.077995</td>\n",
       "      <td>-0.026769</td>\n",
       "      <td>0.799045</td>\n",
       "      <td>1.013519</td>\n",
       "      <td>1</td>\n",
       "      <td>0</td>\n",
       "      <td>0</td>\n",
       "      <td>0</td>\n",
       "      <td>0</td>\n",
       "    </tr>\n",
       "    <tr>\n",
       "      <th>52</th>\n",
       "      <td>-0.514919</td>\n",
       "      <td>-0.263530</td>\n",
       "      <td>-0.568791</td>\n",
       "      <td>-1.624778</td>\n",
       "      <td>0.255857</td>\n",
       "      <td>-0.130508</td>\n",
       "      <td>0</td>\n",
       "      <td>0</td>\n",
       "      <td>1</td>\n",
       "      <td>0</td>\n",
       "      <td>0</td>\n",
       "    </tr>\n",
       "    <tr>\n",
       "      <th>30</th>\n",
       "      <td>-0.248163</td>\n",
       "      <td>0.173900</td>\n",
       "      <td>0.518177</td>\n",
       "      <td>0.433843</td>\n",
       "      <td>-0.013235</td>\n",
       "      <td>0.189529</td>\n",
       "      <td>0</td>\n",
       "      <td>0</td>\n",
       "      <td>1</td>\n",
       "      <td>0</td>\n",
       "      <td>0</td>\n",
       "    </tr>\n",
       "    <tr>\n",
       "      <th>16</th>\n",
       "      <td>-1.521173</td>\n",
       "      <td>0.762336</td>\n",
       "      <td>-0.500484</td>\n",
       "      <td>-0.828779</td>\n",
       "      <td>1.513736</td>\n",
       "      <td>1.202202</td>\n",
       "      <td>0</td>\n",
       "      <td>0</td>\n",
       "      <td>1</td>\n",
       "      <td>0</td>\n",
       "      <td>0</td>\n",
       "    </tr>\n",
       "    <tr>\n",
       "      <th>21</th>\n",
       "      <td>-1.704856</td>\n",
       "      <td>0.740964</td>\n",
       "      <td>0.942792</td>\n",
       "      <td>-0.397098</td>\n",
       "      <td>0.708958</td>\n",
       "      <td>1.437679</td>\n",
       "      <td>0</td>\n",
       "      <td>0</td>\n",
       "      <td>1</td>\n",
       "      <td>0</td>\n",
       "      <td>0</td>\n",
       "    </tr>\n",
       "    <tr>\n",
       "      <th>61</th>\n",
       "      <td>0.183991</td>\n",
       "      <td>-0.518173</td>\n",
       "      <td>0.932758</td>\n",
       "      <td>1.396925</td>\n",
       "      <td>-1.938912</td>\n",
       "      <td>-1.078476</td>\n",
       "      <td>0</td>\n",
       "      <td>0</td>\n",
       "      <td>0</td>\n",
       "      <td>1</td>\n",
       "      <td>0</td>\n",
       "    </tr>\n",
       "    <tr>\n",
       "      <th>64</th>\n",
       "      <td>-0.920814</td>\n",
       "      <td>-0.824531</td>\n",
       "      <td>-0.543941</td>\n",
       "      <td>1.055635</td>\n",
       "      <td>0.176378</td>\n",
       "      <td>-0.631734</td>\n",
       "      <td>1</td>\n",
       "      <td>0</td>\n",
       "      <td>0</td>\n",
       "      <td>0</td>\n",
       "      <td>0</td>\n",
       "    </tr>\n",
       "    <tr>\n",
       "      <th>12</th>\n",
       "      <td>1.686743</td>\n",
       "      <td>-0.951647</td>\n",
       "      <td>-0.514439</td>\n",
       "      <td>2.617269</td>\n",
       "      <td>0.662627</td>\n",
       "      <td>-0.937160</td>\n",
       "      <td>1</td>\n",
       "      <td>0</td>\n",
       "      <td>0</td>\n",
       "      <td>0</td>\n",
       "      <td>0</td>\n",
       "    </tr>\n",
       "    <tr>\n",
       "      <th>57</th>\n",
       "      <td>-0.695855</td>\n",
       "      <td>0.780786</td>\n",
       "      <td>-0.419374</td>\n",
       "      <td>-0.823866</td>\n",
       "      <td>1.152783</td>\n",
       "      <td>1.244860</td>\n",
       "      <td>0</td>\n",
       "      <td>0</td>\n",
       "      <td>1</td>\n",
       "      <td>0</td>\n",
       "      <td>0</td>\n",
       "    </tr>\n",
       "    <tr>\n",
       "      <th>38</th>\n",
       "      <td>2.577530</td>\n",
       "      <td>-1.634551</td>\n",
       "      <td>0.373343</td>\n",
       "      <td>-0.485894</td>\n",
       "      <td>-2.474797</td>\n",
       "      <td>-1.571250</td>\n",
       "      <td>0</td>\n",
       "      <td>0</td>\n",
       "      <td>0</td>\n",
       "      <td>1</td>\n",
       "      <td>0</td>\n",
       "    </tr>\n",
       "    <tr>\n",
       "      <th>32</th>\n",
       "      <td>0.352279</td>\n",
       "      <td>-0.490009</td>\n",
       "      <td>-0.571485</td>\n",
       "      <td>0.371240</td>\n",
       "      <td>-0.595418</td>\n",
       "      <td>-0.800610</td>\n",
       "      <td>0</td>\n",
       "      <td>0</td>\n",
       "      <td>1</td>\n",
       "      <td>0</td>\n",
       "      <td>0</td>\n",
       "    </tr>\n",
       "    <tr>\n",
       "      <th>36</th>\n",
       "      <td>1.005846</td>\n",
       "      <td>-0.081658</td>\n",
       "      <td>-0.599179</td>\n",
       "      <td>-0.743405</td>\n",
       "      <td>0.338722</td>\n",
       "      <td>0.322326</td>\n",
       "      <td>0</td>\n",
       "      <td>0</td>\n",
       "      <td>1</td>\n",
       "      <td>0</td>\n",
       "      <td>0</td>\n",
       "    </tr>\n",
       "    <tr>\n",
       "      <th>2</th>\n",
       "      <td>-0.680992</td>\n",
       "      <td>0.776780</td>\n",
       "      <td>-0.443039</td>\n",
       "      <td>-0.654555</td>\n",
       "      <td>0.904652</td>\n",
       "      <td>1.237345</td>\n",
       "      <td>0</td>\n",
       "      <td>0</td>\n",
       "      <td>1</td>\n",
       "      <td>0</td>\n",
       "      <td>0</td>\n",
       "    </tr>\n",
       "    <tr>\n",
       "      <th>20</th>\n",
       "      <td>-1.071767</td>\n",
       "      <td>0.309984</td>\n",
       "      <td>0.595892</td>\n",
       "      <td>-0.321468</td>\n",
       "      <td>0.285685</td>\n",
       "      <td>0.936541</td>\n",
       "      <td>0</td>\n",
       "      <td>0</td>\n",
       "      <td>1</td>\n",
       "      <td>0</td>\n",
       "      <td>0</td>\n",
       "    </tr>\n",
       "    <tr>\n",
       "      <th>49</th>\n",
       "      <td>0.744979</td>\n",
       "      <td>-0.508637</td>\n",
       "      <td>2.122163</td>\n",
       "      <td>0.664355</td>\n",
       "      <td>-1.243164</td>\n",
       "      <td>-0.954534</td>\n",
       "      <td>0</td>\n",
       "      <td>0</td>\n",
       "      <td>1</td>\n",
       "      <td>0</td>\n",
       "      <td>0</td>\n",
       "    </tr>\n",
       "    <tr>\n",
       "      <th>13</th>\n",
       "      <td>0.195577</td>\n",
       "      <td>-0.582120</td>\n",
       "      <td>-0.529482</td>\n",
       "      <td>-0.546076</td>\n",
       "      <td>-1.016465</td>\n",
       "      <td>-0.748611</td>\n",
       "      <td>0</td>\n",
       "      <td>0</td>\n",
       "      <td>1</td>\n",
       "      <td>0</td>\n",
       "      <td>0</td>\n",
       "    </tr>\n",
       "  </tbody>\n",
       "</table>\n",
       "</div>"
      ],
      "text/plain": [
       "    Average_annual_working_hours_per_worker  GDP_per_capita  Population  \\\n",
       "27                                 0.943645       -1.334215    4.356824   \n",
       "47                                 0.307149       -0.323042   -0.414694   \n",
       "34                                -1.053118        2.751331   -0.596987   \n",
       "24                                 0.600120       -0.502957   -0.424429   \n",
       "42                                -1.453653        1.678666   -0.509116   \n",
       "4                                 -0.952727        0.429113   -0.394478   \n",
       "17                                -0.332136       -1.294749   -0.294756   \n",
       "46                                 0.960270       -0.393669    0.115133   \n",
       "60                                 1.580322       -1.026373    0.722676   \n",
       "33                                 0.231466       -0.353559   -0.553660   \n",
       "9                                  0.744979       -0.709640   -0.263377   \n",
       "18                                 0.281503       -0.294858   -0.583448   \n",
       "28                                -0.157011        2.557730   -0.518606   \n",
       "25                                -1.153829        0.668968   -0.601730   \n",
       "22                                 0.914443       -0.525000   -0.407473   \n",
       "19                                -0.498359        0.361509   -0.504785   \n",
       "8                                 -0.351468        0.620851    0.077995   \n",
       "52                                -0.514919       -0.263530   -0.568791   \n",
       "30                                -0.248163        0.173900    0.518177   \n",
       "16                                -1.521173        0.762336   -0.500484   \n",
       "21                                -1.704856        0.740964    0.942792   \n",
       "61                                 0.183991       -0.518173    0.932758   \n",
       "64                                -0.920814       -0.824531   -0.543941   \n",
       "12                                 1.686743       -0.951647   -0.514439   \n",
       "57                                -0.695855        0.780786   -0.419374   \n",
       "38                                 2.577530       -1.634551    0.373343   \n",
       "32                                 0.352279       -0.490009   -0.571485   \n",
       "36                                 1.005846       -0.081658   -0.599179   \n",
       "2                                 -0.680992        0.776780   -0.443039   \n",
       "20                                -1.071767        0.309984    0.595892   \n",
       "49                                 0.744979       -0.508637    2.122163   \n",
       "13                                 0.195577       -0.582120   -0.529482   \n",
       "\n",
       "    gini_coefficient  Life_satisfaction  \\\n",
       "27          0.936206          -1.358227   \n",
       "47          0.060374          -0.441545   \n",
       "34          0.185540           1.160032   \n",
       "24         -0.505717          -0.558080   \n",
       "42         -1.138104           1.206694   \n",
       "4          -1.067664           0.386652   \n",
       "17          1.971393          -0.792010   \n",
       "46         -0.556272          -0.262090   \n",
       "60          0.539468          -0.531286   \n",
       "33          0.673257          -0.479946   \n",
       "9           1.930602          -0.629080   \n",
       "18         -0.545996          -0.515999   \n",
       "28         -0.369337           0.977452   \n",
       "25         -1.288562           1.317295   \n",
       "22          0.156755          -0.616955   \n",
       "19         -1.068523           1.620641   \n",
       "8          -0.026769           0.799045   \n",
       "52         -1.624778           0.255857   \n",
       "30          0.433843          -0.013235   \n",
       "16         -0.828779           1.513736   \n",
       "21         -0.397098           0.708958   \n",
       "61          1.396925          -1.938912   \n",
       "64          1.055635           0.176378   \n",
       "12          2.617269           0.662627   \n",
       "57         -0.823866           1.152783   \n",
       "38         -0.485894          -2.474797   \n",
       "32          0.371240          -0.595418   \n",
       "36         -0.743405           0.338722   \n",
       "2          -0.654555           0.904652   \n",
       "20         -0.321468           0.285685   \n",
       "49          0.664355          -1.243164   \n",
       "13         -0.546076          -1.016465   \n",
       "\n",
       "    Current_health_expenditure_per_capita  Continent_Americas  \\\n",
       "27                              -1.517961                   0   \n",
       "47                              -0.092208                   0   \n",
       "34                               1.413038                   0   \n",
       "24                              -0.653053                   0   \n",
       "42                               1.749559                   0   \n",
       "4                                1.138645                   0   \n",
       "17                              -1.235650                   1   \n",
       "46                              -0.661504                   0   \n",
       "60                              -1.335784                   0   \n",
       "33                              -0.555031                   0   \n",
       "9                               -0.533785                   1   \n",
       "18                              -0.522031                   0   \n",
       "28                               1.207197                   0   \n",
       "25                               0.782690                   0   \n",
       "22                              -0.478674                   0   \n",
       "19                               0.563433                   0   \n",
       "8                                1.013519                   1   \n",
       "52                              -0.130508                   0   \n",
       "30                               0.189529                   0   \n",
       "16                               1.202202                   0   \n",
       "21                               1.437679                   0   \n",
       "61                              -1.078476                   0   \n",
       "64                              -0.631734                   1   \n",
       "12                              -0.937160                   1   \n",
       "57                               1.244860                   0   \n",
       "38                              -1.571250                   0   \n",
       "32                              -0.800610                   0   \n",
       "36                               0.322326                   0   \n",
       "2                                1.237345                   0   \n",
       "20                               0.936541                   0   \n",
       "49                              -0.954534                   0   \n",
       "13                              -0.748611                   0   \n",
       "\n",
       "    Continent_Oceania  Continent_Europe  Continent_Asia  Continent_Africa  \n",
       "27                  0                 0               1                 0  \n",
       "47                  0                 1               0                 0  \n",
       "34                  0                 1               0                 0  \n",
       "24                  0                 1               0                 0  \n",
       "42                  0                 1               0                 0  \n",
       "4                   0                 1               0                 0  \n",
       "17                  0                 0               0                 0  \n",
       "46                  0                 1               0                 0  \n",
       "60                  0                 0               1                 0  \n",
       "33                  0                 1               0                 0  \n",
       "9                   0                 0               0                 0  \n",
       "18                  0                 1               0                 0  \n",
       "28                  0                 1               0                 0  \n",
       "25                  0                 1               0                 0  \n",
       "22                  0                 1               0                 0  \n",
       "19                  0                 1               0                 0  \n",
       "8                   0                 0               0                 0  \n",
       "52                  0                 1               0                 0  \n",
       "30                  0                 1               0                 0  \n",
       "16                  0                 1               0                 0  \n",
       "21                  0                 1               0                 0  \n",
       "61                  0                 0               1                 0  \n",
       "64                  0                 0               0                 0  \n",
       "12                  0                 0               0                 0  \n",
       "57                  0                 1               0                 0  \n",
       "38                  0                 0               1                 0  \n",
       "32                  0                 1               0                 0  \n",
       "36                  0                 1               0                 0  \n",
       "2                   0                 1               0                 0  \n",
       "20                  0                 1               0                 0  \n",
       "49                  0                 1               0                 0  \n",
       "13                  0                 1               0                 0  "
      ]
     },
     "execution_count": 353,
     "metadata": {},
     "output_type": "execute_result"
    }
   ],
   "source": [
    "X_train_LR"
   ]
  },
  {
   "attachments": {},
   "cell_type": "markdown",
   "metadata": {},
   "source": [
    "### Lasso regression"
   ]
  },
  {
   "attachments": {},
   "cell_type": "markdown",
   "metadata": {},
   "source": [
    "First, we apply lasso regression on the training set with an arbitrarily regularization parameter **alpha** of 1"
   ]
  },
  {
   "cell_type": "code",
   "execution_count": 354,
   "metadata": {},
   "outputs": [
    {
     "data": {
      "text/html": [
       "<style>#sk-container-id-13 {color: black;background-color: white;}#sk-container-id-13 pre{padding: 0;}#sk-container-id-13 div.sk-toggleable {background-color: white;}#sk-container-id-13 label.sk-toggleable__label {cursor: pointer;display: block;width: 100%;margin-bottom: 0;padding: 0.3em;box-sizing: border-box;text-align: center;}#sk-container-id-13 label.sk-toggleable__label-arrow:before {content: \"▸\";float: left;margin-right: 0.25em;color: #696969;}#sk-container-id-13 label.sk-toggleable__label-arrow:hover:before {color: black;}#sk-container-id-13 div.sk-estimator:hover label.sk-toggleable__label-arrow:before {color: black;}#sk-container-id-13 div.sk-toggleable__content {max-height: 0;max-width: 0;overflow: hidden;text-align: left;background-color: #f0f8ff;}#sk-container-id-13 div.sk-toggleable__content pre {margin: 0.2em;color: black;border-radius: 0.25em;background-color: #f0f8ff;}#sk-container-id-13 input.sk-toggleable__control:checked~div.sk-toggleable__content {max-height: 200px;max-width: 100%;overflow: auto;}#sk-container-id-13 input.sk-toggleable__control:checked~label.sk-toggleable__label-arrow:before {content: \"▾\";}#sk-container-id-13 div.sk-estimator input.sk-toggleable__control:checked~label.sk-toggleable__label {background-color: #d4ebff;}#sk-container-id-13 div.sk-label input.sk-toggleable__control:checked~label.sk-toggleable__label {background-color: #d4ebff;}#sk-container-id-13 input.sk-hidden--visually {border: 0;clip: rect(1px 1px 1px 1px);clip: rect(1px, 1px, 1px, 1px);height: 1px;margin: -1px;overflow: hidden;padding: 0;position: absolute;width: 1px;}#sk-container-id-13 div.sk-estimator {font-family: monospace;background-color: #f0f8ff;border: 1px dotted black;border-radius: 0.25em;box-sizing: border-box;margin-bottom: 0.5em;}#sk-container-id-13 div.sk-estimator:hover {background-color: #d4ebff;}#sk-container-id-13 div.sk-parallel-item::after {content: \"\";width: 100%;border-bottom: 1px solid gray;flex-grow: 1;}#sk-container-id-13 div.sk-label:hover label.sk-toggleable__label {background-color: #d4ebff;}#sk-container-id-13 div.sk-serial::before {content: \"\";position: absolute;border-left: 1px solid gray;box-sizing: border-box;top: 0;bottom: 0;left: 50%;z-index: 0;}#sk-container-id-13 div.sk-serial {display: flex;flex-direction: column;align-items: center;background-color: white;padding-right: 0.2em;padding-left: 0.2em;position: relative;}#sk-container-id-13 div.sk-item {position: relative;z-index: 1;}#sk-container-id-13 div.sk-parallel {display: flex;align-items: stretch;justify-content: center;background-color: white;position: relative;}#sk-container-id-13 div.sk-item::before, #sk-container-id-13 div.sk-parallel-item::before {content: \"\";position: absolute;border-left: 1px solid gray;box-sizing: border-box;top: 0;bottom: 0;left: 50%;z-index: -1;}#sk-container-id-13 div.sk-parallel-item {display: flex;flex-direction: column;z-index: 1;position: relative;background-color: white;}#sk-container-id-13 div.sk-parallel-item:first-child::after {align-self: flex-end;width: 50%;}#sk-container-id-13 div.sk-parallel-item:last-child::after {align-self: flex-start;width: 50%;}#sk-container-id-13 div.sk-parallel-item:only-child::after {width: 0;}#sk-container-id-13 div.sk-dashed-wrapped {border: 1px dashed gray;margin: 0 0.4em 0.5em 0.4em;box-sizing: border-box;padding-bottom: 0.4em;background-color: white;}#sk-container-id-13 div.sk-label label {font-family: monospace;font-weight: bold;display: inline-block;line-height: 1.2em;}#sk-container-id-13 div.sk-label-container {text-align: center;}#sk-container-id-13 div.sk-container {/* jupyter's `normalize.less` sets `[hidden] { display: none; }` but bootstrap.min.css set `[hidden] { display: none !important; }` so we also need the `!important` here to be able to override the default hidden behavior on the sphinx rendered scikit-learn.org. See: https://github.com/scikit-learn/scikit-learn/issues/21755 */display: inline-block !important;position: relative;}#sk-container-id-13 div.sk-text-repr-fallback {display: none;}</style><div id=\"sk-container-id-13\" class=\"sk-top-container\"><div class=\"sk-text-repr-fallback\"><pre>Lasso(alpha=1)</pre><b>In a Jupyter environment, please rerun this cell to show the HTML representation or trust the notebook. <br />On GitHub, the HTML representation is unable to render, please try loading this page with nbviewer.org.</b></div><div class=\"sk-container\" hidden><div class=\"sk-item\"><div class=\"sk-estimator sk-toggleable\"><input class=\"sk-toggleable__control sk-hidden--visually\" id=\"sk-estimator-id-13\" type=\"checkbox\" checked><label for=\"sk-estimator-id-13\" class=\"sk-toggleable__label sk-toggleable__label-arrow\">Lasso</label><div class=\"sk-toggleable__content\"><pre>Lasso(alpha=1)</pre></div></div></div></div></div>"
      ],
      "text/plain": [
       "Lasso(alpha=1)"
      ]
     },
     "execution_count": 354,
     "metadata": {},
     "output_type": "execute_result"
    }
   ],
   "source": [
    "reg_LR = Lasso(alpha=1)\n",
    "reg_LR.fit(X_train_LR, y_train_LR)"
   ]
  },
  {
   "attachments": {},
   "cell_type": "markdown",
   "metadata": {},
   "source": [
    "### Model evaluation"
   ]
  },
  {
   "attachments": {},
   "cell_type": "markdown",
   "metadata": {},
   "source": [
    "We print the R-squared score for the training and test set."
   ]
  },
  {
   "cell_type": "code",
   "execution_count": 355,
   "metadata": {},
   "outputs": [
    {
     "name": "stdout",
     "output_type": "stream",
     "text": [
      "R squared training set 93.92\n",
      "R squared test set 93.16\n"
     ]
    }
   ],
   "source": [
    "print('R squared training set', round(reg_LR.score(X_train_LR, y_train_LR)*100, 2))\n",
    "print('R squared test set', round(reg_LR.score(X_test_LR, y_test_LR)*100, 2))"
   ]
  },
  {
   "attachments": {},
   "cell_type": "markdown",
   "metadata": {},
   "source": [
    "MSE for the training and test set"
   ]
  },
  {
   "cell_type": "code",
   "execution_count": 356,
   "metadata": {},
   "outputs": [
    {
     "name": "stdout",
     "output_type": "stream",
     "text": [
      "MSE training set 37.05\n",
      "MSE test set 36.68\n"
     ]
    }
   ],
   "source": [
    "# Training data\n",
    "pred_train_LR = reg_LR.predict(X_train_LR)\n",
    "mse_train_LR = mean_squared_error(y_train_LR, pred_train_LR)\n",
    "print('MSE training set', round(mse_train_LR, 2))\n",
    "\n",
    "# Test data\n",
    "pred_LR = reg_LR.predict(X_test_LR)\n",
    "mse_test_LR =mean_squared_error(y_test_LR, pred_LR)\n",
    "print('MSE test set', round(mse_test_LR, 2))"
   ]
  },
  {
   "attachments": {},
   "cell_type": "markdown",
   "metadata": {},
   "source": [
    "### Role of alpha"
   ]
  },
  {
   "attachments": {},
   "cell_type": "markdown",
   "metadata": {},
   "source": [
    "To better understand the role of alpha, we plot the lasso coefficients as a function of alpha (max_iter are the maximum number of iterations):"
   ]
  },
  {
   "cell_type": "code",
   "execution_count": 357,
   "metadata": {},
   "outputs": [
    {
     "data": {
      "image/png": "[encoded data removed]",
      "text/plain": [
       "<Figure size 640x480 with 1 Axes>"
      ]
     },
     "metadata": {},
     "output_type": "display_data"
    }
   ],
   "source": [
    "alphas = np.linspace(0.01,500,100)\n",
    "lasso = Lasso(max_iter=10000)\n",
    "coefs = []\n",
    "\n",
    "for a in alphas:\n",
    "    lasso.set_params(alpha=a)\n",
    "    lasso.fit(X_train, y_train)\n",
    "    coefs.append(lasso.coef_)\n",
    "\n",
    "ax = plt.gca()\n",
    "\n",
    "ax.plot(alphas, coefs)\n",
    "ax.set_xscale('log')\n",
    "plt.axis('tight')\n",
    "plt.xlabel('alpha')\n",
    "plt.ylabel('Standardized Coefficients')\n",
    "plt.title('Lasso coefficients as a function of alpha');"
   ]
  },
  {
   "attachments": {},
   "cell_type": "markdown",
   "metadata": {},
   "source": [
    "Moving from left to right in our plot, we notice that the lasso models initially contain many predictors with high magnitudes of coefficient estimates. As the alpha increases, the coefficient estimates approach zero."
   ]
  },
  {
   "attachments": {},
   "cell_type": "markdown",
   "metadata": {},
   "source": [
    "### Lasso with optimal alpha"
   ]
  },
  {
   "attachments": {},
   "cell_type": "markdown",
   "metadata": {},
   "source": [
    "To find the optimal value of alpha, we use scikit learns lasso linear model with iterative fitting along a regularization path (LassoCV). The best model is selected by cross-validation."
   ]
  },
  {
   "attachments": {},
   "cell_type": "markdown",
   "metadata": {},
   "source": [
    "### K-fold cross validation"
   ]
  },
  {
   "cell_type": "code",
   "execution_count": 358,
   "metadata": {},
   "outputs": [
    {
     "data": {
      "text/html": [
       "<style>#sk-container-id-14 {color: black;background-color: white;}#sk-container-id-14 pre{padding: 0;}#sk-container-id-14 div.sk-toggleable {background-color: white;}#sk-container-id-14 label.sk-toggleable__label {cursor: pointer;display: block;width: 100%;margin-bottom: 0;padding: 0.3em;box-sizing: border-box;text-align: center;}#sk-container-id-14 label.sk-toggleable__label-arrow:before {content: \"▸\";float: left;margin-right: 0.25em;color: #696969;}#sk-container-id-14 label.sk-toggleable__label-arrow:hover:before {color: black;}#sk-container-id-14 div.sk-estimator:hover label.sk-toggleable__label-arrow:before {color: black;}#sk-container-id-14 div.sk-toggleable__content {max-height: 0;max-width: 0;overflow: hidden;text-align: left;background-color: #f0f8ff;}#sk-container-id-14 div.sk-toggleable__content pre {margin: 0.2em;color: black;border-radius: 0.25em;background-color: #f0f8ff;}#sk-container-id-14 input.sk-toggleable__control:checked~div.sk-toggleable__content {max-height: 200px;max-width: 100%;overflow: auto;}#sk-container-id-14 input.sk-toggleable__control:checked~label.sk-toggleable__label-arrow:before {content: \"▾\";}#sk-container-id-14 div.sk-estimator input.sk-toggleable__control:checked~label.sk-toggleable__label {background-color: #d4ebff;}#sk-container-id-14 div.sk-label input.sk-toggleable__control:checked~label.sk-toggleable__label {background-color: #d4ebff;}#sk-container-id-14 input.sk-hidden--visually {border: 0;clip: rect(1px 1px 1px 1px);clip: rect(1px, 1px, 1px, 1px);height: 1px;margin: -1px;overflow: hidden;padding: 0;position: absolute;width: 1px;}#sk-container-id-14 div.sk-estimator {font-family: monospace;background-color: #f0f8ff;border: 1px dotted black;border-radius: 0.25em;box-sizing: border-box;margin-bottom: 0.5em;}#sk-container-id-14 div.sk-estimator:hover {background-color: #d4ebff;}#sk-container-id-14 div.sk-parallel-item::after {content: \"\";width: 100%;border-bottom: 1px solid gray;flex-grow: 1;}#sk-container-id-14 div.sk-label:hover label.sk-toggleable__label {background-color: #d4ebff;}#sk-container-id-14 div.sk-serial::before {content: \"\";position: absolute;border-left: 1px solid gray;box-sizing: border-box;top: 0;bottom: 0;left: 50%;z-index: 0;}#sk-container-id-14 div.sk-serial {display: flex;flex-direction: column;align-items: center;background-color: white;padding-right: 0.2em;padding-left: 0.2em;position: relative;}#sk-container-id-14 div.sk-item {position: relative;z-index: 1;}#sk-container-id-14 div.sk-parallel {display: flex;align-items: stretch;justify-content: center;background-color: white;position: relative;}#sk-container-id-14 div.sk-item::before, #sk-container-id-14 div.sk-parallel-item::before {content: \"\";position: absolute;border-left: 1px solid gray;box-sizing: border-box;top: 0;bottom: 0;left: 50%;z-index: -1;}#sk-container-id-14 div.sk-parallel-item {display: flex;flex-direction: column;z-index: 1;position: relative;background-color: white;}#sk-container-id-14 div.sk-parallel-item:first-child::after {align-self: flex-end;width: 50%;}#sk-container-id-14 div.sk-parallel-item:last-child::after {align-self: flex-start;width: 50%;}#sk-container-id-14 div.sk-parallel-item:only-child::after {width: 0;}#sk-container-id-14 div.sk-dashed-wrapped {border: 1px dashed gray;margin: 0 0.4em 0.5em 0.4em;box-sizing: border-box;padding-bottom: 0.4em;background-color: white;}#sk-container-id-14 div.sk-label label {font-family: monospace;font-weight: bold;display: inline-block;line-height: 1.2em;}#sk-container-id-14 div.sk-label-container {text-align: center;}#sk-container-id-14 div.sk-container {/* jupyter's `normalize.less` sets `[hidden] { display: none; }` but bootstrap.min.css set `[hidden] { display: none !important; }` so we also need the `!important` here to be able to override the default hidden behavior on the sphinx rendered scikit-learn.org. See: https://github.com/scikit-learn/scikit-learn/issues/21755 */display: inline-block !important;position: relative;}#sk-container-id-14 div.sk-text-repr-fallback {display: none;}</style><div id=\"sk-container-id-14\" class=\"sk-top-container\"><div class=\"sk-text-repr-fallback\"><pre>LassoCV(cv=5, max_iter=10000, random_state=0)</pre><b>In a Jupyter environment, please rerun this cell to show the HTML representation or trust the notebook. <br />On GitHub, the HTML representation is unable to render, please try loading this page with nbviewer.org.</b></div><div class=\"sk-container\" hidden><div class=\"sk-item\"><div class=\"sk-estimator sk-toggleable\"><input class=\"sk-toggleable__control sk-hidden--visually\" id=\"sk-estimator-id-14\" type=\"checkbox\" checked><label for=\"sk-estimator-id-14\" class=\"sk-toggleable__label sk-toggleable__label-arrow\">LassoCV</label><div class=\"sk-toggleable__content\"><pre>LassoCV(cv=5, max_iter=10000, random_state=0)</pre></div></div></div></div></div>"
      ],
      "text/plain": [
       "LassoCV(cv=5, max_iter=10000, random_state=0)"
      ]
     },
     "execution_count": 358,
     "metadata": {},
     "output_type": "execute_result"
    }
   ],
   "source": [
    "from sklearn.linear_model import LassoCV\n",
    "\n",
    "# Lasso with 5 fold cross-validation\n",
    "model_LR = LassoCV(cv=5, random_state=0, max_iter=10000)\n",
    "\n",
    "# Fit model\n",
    "model_LR.fit(X_train_LR, y_train_LR)"
   ]
  },
  {
   "attachments": {},
   "cell_type": "markdown",
   "metadata": {},
   "source": [
    "Show best value of penalization chosen by cross validation:"
   ]
  },
  {
   "cell_type": "code",
   "execution_count": 360,
   "metadata": {},
   "outputs": [
    {
     "data": {
      "text/plain": [
       "0.8852697267339502"
      ]
     },
     "execution_count": 360,
     "metadata": {},
     "output_type": "execute_result"
    }
   ],
   "source": [
    "model_LR.alpha_"
   ]
  },
  {
   "attachments": {},
   "cell_type": "markdown",
   "metadata": {},
   "source": [
    "### Best model"
   ]
  },
  {
   "attachments": {},
   "cell_type": "markdown",
   "metadata": {},
   "source": [
    "Use best value for our final model:"
   ]
  },
  {
   "cell_type": "code",
   "execution_count": 361,
   "metadata": {},
   "outputs": [
    {
     "data": {
      "text/html": [
       "<style>#sk-container-id-15 {color: black;background-color: white;}#sk-container-id-15 pre{padding: 0;}#sk-container-id-15 div.sk-toggleable {background-color: white;}#sk-container-id-15 label.sk-toggleable__label {cursor: pointer;display: block;width: 100%;margin-bottom: 0;padding: 0.3em;box-sizing: border-box;text-align: center;}#sk-container-id-15 label.sk-toggleable__label-arrow:before {content: \"▸\";float: left;margin-right: 0.25em;color: #696969;}#sk-container-id-15 label.sk-toggleable__label-arrow:hover:before {color: black;}#sk-container-id-15 div.sk-estimator:hover label.sk-toggleable__label-arrow:before {color: black;}#sk-container-id-15 div.sk-toggleable__content {max-height: 0;max-width: 0;overflow: hidden;text-align: left;background-color: #f0f8ff;}#sk-container-id-15 div.sk-toggleable__content pre {margin: 0.2em;color: black;border-radius: 0.25em;background-color: #f0f8ff;}#sk-container-id-15 input.sk-toggleable__control:checked~div.sk-toggleable__content {max-height: 200px;max-width: 100%;overflow: auto;}#sk-container-id-15 input.sk-toggleable__control:checked~label.sk-toggleable__label-arrow:before {content: \"▾\";}#sk-container-id-15 div.sk-estimator input.sk-toggleable__control:checked~label.sk-toggleable__label {background-color: #d4ebff;}#sk-container-id-15 div.sk-label input.sk-toggleable__control:checked~label.sk-toggleable__label {background-color: #d4ebff;}#sk-container-id-15 input.sk-hidden--visually {border: 0;clip: rect(1px 1px 1px 1px);clip: rect(1px, 1px, 1px, 1px);height: 1px;margin: -1px;overflow: hidden;padding: 0;position: absolute;width: 1px;}#sk-container-id-15 div.sk-estimator {font-family: monospace;background-color: #f0f8ff;border: 1px dotted black;border-radius: 0.25em;box-sizing: border-box;margin-bottom: 0.5em;}#sk-container-id-15 div.sk-estimator:hover {background-color: #d4ebff;}#sk-container-id-15 div.sk-parallel-item::after {content: \"\";width: 100%;border-bottom: 1px solid gray;flex-grow: 1;}#sk-container-id-15 div.sk-label:hover label.sk-toggleable__label {background-color: #d4ebff;}#sk-container-id-15 div.sk-serial::before {content: \"\";position: absolute;border-left: 1px solid gray;box-sizing: border-box;top: 0;bottom: 0;left: 50%;z-index: 0;}#sk-container-id-15 div.sk-serial {display: flex;flex-direction: column;align-items: center;background-color: white;padding-right: 0.2em;padding-left: 0.2em;position: relative;}#sk-container-id-15 div.sk-item {position: relative;z-index: 1;}#sk-container-id-15 div.sk-parallel {display: flex;align-items: stretch;justify-content: center;background-color: white;position: relative;}#sk-container-id-15 div.sk-item::before, #sk-container-id-15 div.sk-parallel-item::before {content: \"\";position: absolute;border-left: 1px solid gray;box-sizing: border-box;top: 0;bottom: 0;left: 50%;z-index: -1;}#sk-container-id-15 div.sk-parallel-item {display: flex;flex-direction: column;z-index: 1;position: relative;background-color: white;}#sk-container-id-15 div.sk-parallel-item:first-child::after {align-self: flex-end;width: 50%;}#sk-container-id-15 div.sk-parallel-item:last-child::after {align-self: flex-start;width: 50%;}#sk-container-id-15 div.sk-parallel-item:only-child::after {width: 0;}#sk-container-id-15 div.sk-dashed-wrapped {border: 1px dashed gray;margin: 0 0.4em 0.5em 0.4em;box-sizing: border-box;padding-bottom: 0.4em;background-color: white;}#sk-container-id-15 div.sk-label label {font-family: monospace;font-weight: bold;display: inline-block;line-height: 1.2em;}#sk-container-id-15 div.sk-label-container {text-align: center;}#sk-container-id-15 div.sk-container {/* jupyter's `normalize.less` sets `[hidden] { display: none; }` but bootstrap.min.css set `[hidden] { display: none !important; }` so we also need the `!important` here to be able to override the default hidden behavior on the sphinx rendered scikit-learn.org. See: https://github.com/scikit-learn/scikit-learn/issues/21755 */display: inline-block !important;position: relative;}#sk-container-id-15 div.sk-text-repr-fallback {display: none;}</style><div id=\"sk-container-id-15\" class=\"sk-top-container\"><div class=\"sk-text-repr-fallback\"><pre>Lasso(alpha=0.8852697267339502)</pre><b>In a Jupyter environment, please rerun this cell to show the HTML representation or trust the notebook. <br />On GitHub, the HTML representation is unable to render, please try loading this page with nbviewer.org.</b></div><div class=\"sk-container\" hidden><div class=\"sk-item\"><div class=\"sk-estimator sk-toggleable\"><input class=\"sk-toggleable__control sk-hidden--visually\" id=\"sk-estimator-id-15\" type=\"checkbox\" checked><label for=\"sk-estimator-id-15\" class=\"sk-toggleable__label sk-toggleable__label-arrow\">Lasso</label><div class=\"sk-toggleable__content\"><pre>Lasso(alpha=0.8852697267339502)</pre></div></div></div></div></div>"
      ],
      "text/plain": [
       "Lasso(alpha=0.8852697267339502)"
      ]
     },
     "execution_count": 361,
     "metadata": {},
     "output_type": "execute_result"
    }
   ],
   "source": [
    "# Set best alpha\n",
    "lasso_best = Lasso(alpha=model_LR.alpha_)\n",
    "lasso_best.fit(X_train_LR, y_train_LR)"
   ]
  },
  {
   "attachments": {},
   "cell_type": "markdown",
   "metadata": {},
   "source": [
    "Show model coefficients and names:"
   ]
  },
  {
   "cell_type": "code",
   "execution_count": 362,
   "metadata": {},
   "outputs": [
    {
     "name": "stdout",
     "output_type": "stream",
     "text": [
      "[(-2.2541626761141096, 'Average_annual_working_hours_per_worker'), (15.314348935885674, 'GDP_per_capita'), (0.0, 'Population'), (-0.0782228672969546, 'gini_coefficient'), (-0.0, 'Life_satisfaction'), (6.494898080826205, 'Current_health_expenditure_per_capita'), (-0.0, 'Continent_Americas'), (0.0, 'Continent_Oceania'), (0.0, 'Continent_Europe'), (0.0, 'Continent_Asia'), (0.0, 'Continent_Africa')]\n"
     ]
    }
   ],
   "source": [
    "print(list(zip(lasso_best.coef_, X_LR)))"
   ]
  },
  {
   "attachments": {},
   "cell_type": "markdown",
   "metadata": {},
   "source": [
    "### Model evaluation"
   ]
  },
  {
   "cell_type": "code",
   "execution_count": 363,
   "metadata": {},
   "outputs": [
    {
     "name": "stdout",
     "output_type": "stream",
     "text": [
      "R squared training set 93.97\n",
      "R squared test set 93.36\n"
     ]
    }
   ],
   "source": [
    "print('R squared training set', round(lasso_best.score(X_train_LR, y_train_LR)*100, 2))\n",
    "print('R squared test set', round(lasso_best.score(X_test_LR, y_test_LR)*100, 2))"
   ]
  },
  {
   "cell_type": "code",
   "execution_count": 364,
   "metadata": {},
   "outputs": [
    {
     "data": {
      "text/plain": [
       "35.60017339954395"
      ]
     },
     "execution_count": 364,
     "metadata": {},
     "output_type": "execute_result"
    }
   ],
   "source": [
    "mean_squared_error(y_test_LR, lasso_best.predict(X_test_LR))"
   ]
  },
  {
   "cell_type": "code",
   "execution_count": 365,
   "metadata": {},
   "outputs": [
    {
     "data": {
      "image/png": "[encoded data removed]",
      "text/plain": [
       "<Figure size 640x480 with 1 Axes>"
      ]
     },
     "metadata": {},
     "output_type": "display_data"
    }
   ],
   "source": [
    "plt.semilogx(model_LR.alphas_, model_LR.mse_path_, \":\")\n",
    "plt.plot(\n",
    "    model_LR.alphas_ ,\n",
    "    model_LR.mse_path_.mean(axis=-1),\n",
    "    \"k\",\n",
    "    label=\"Average across the folds\",\n",
    "    linewidth=2,\n",
    ")\n",
    "plt.axvline(\n",
    "    model_LR.alpha_, linestyle=\"--\", color=\"k\", label=\"alpha: CV estimate\"\n",
    ")\n",
    "\n",
    "plt.legend()\n",
    "plt.xlabel(\"alphas\")\n",
    "plt.ylabel(\"Mean square error\")\n",
    "plt.title(\"Mean square error on each fold\")\n",
    "plt.axis(\"tight\")\n",
    "\n",
    "ymin, ymax = 10, 1000\n",
    "plt.ylim(ymin, ymax);"
   ]
  },
  {
   "cell_type": "markdown",
   "metadata": {},
   "source": [
    "### Save model\n"
   ]
  },
  {
   "cell_type": "markdown",
   "metadata": {},
   "source": [
    "\n",
    "Save your model in the folder `models/`. Use a meaningful name and a timestamp."
   ]
  },
  {
   "cell_type": "code",
   "execution_count": 404,
   "metadata": {},
   "outputs": [
    {
     "data": {
      "text/plain": [
       "['../models/reg_SR_2022-12-28_21-06-15.pkl']"
      ]
     },
     "execution_count": 404,
     "metadata": {},
     "output_type": "execute_result"
    }
   ],
   "source": [
    "# Save single regression model\n",
    "joblib.dump(reg_H1, \"../models/reg_SR_2022-12-28_21-06-15.pkl\")"
   ]
  },
  {
   "cell_type": "code",
   "execution_count": 405,
   "metadata": {},
   "outputs": [
    {
     "data": {
      "text/html": [
       "<style>#sk-container-id-18 {color: black;background-color: white;}#sk-container-id-18 pre{padding: 0;}#sk-container-id-18 div.sk-toggleable {background-color: white;}#sk-container-id-18 label.sk-toggleable__label {cursor: pointer;display: block;width: 100%;margin-bottom: 0;padding: 0.3em;box-sizing: border-box;text-align: center;}#sk-container-id-18 label.sk-toggleable__label-arrow:before {content: \"▸\";float: left;margin-right: 0.25em;color: #696969;}#sk-container-id-18 label.sk-toggleable__label-arrow:hover:before {color: black;}#sk-container-id-18 div.sk-estimator:hover label.sk-toggleable__label-arrow:before {color: black;}#sk-container-id-18 div.sk-toggleable__content {max-height: 0;max-width: 0;overflow: hidden;text-align: left;background-color: #f0f8ff;}#sk-container-id-18 div.sk-toggleable__content pre {margin: 0.2em;color: black;border-radius: 0.25em;background-color: #f0f8ff;}#sk-container-id-18 input.sk-toggleable__control:checked~div.sk-toggleable__content {max-height: 200px;max-width: 100%;overflow: auto;}#sk-container-id-18 input.sk-toggleable__control:checked~label.sk-toggleable__label-arrow:before {content: \"▾\";}#sk-container-id-18 div.sk-estimator input.sk-toggleable__control:checked~label.sk-toggleable__label {background-color: #d4ebff;}#sk-container-id-18 div.sk-label input.sk-toggleable__control:checked~label.sk-toggleable__label {background-color: #d4ebff;}#sk-container-id-18 input.sk-hidden--visually {border: 0;clip: rect(1px 1px 1px 1px);clip: rect(1px, 1px, 1px, 1px);height: 1px;margin: -1px;overflow: hidden;padding: 0;position: absolute;width: 1px;}#sk-container-id-18 div.sk-estimator {font-family: monospace;background-color: #f0f8ff;border: 1px dotted black;border-radius: 0.25em;box-sizing: border-box;margin-bottom: 0.5em;}#sk-container-id-18 div.sk-estimator:hover {background-color: #d4ebff;}#sk-container-id-18 div.sk-parallel-item::after {content: \"\";width: 100%;border-bottom: 1px solid gray;flex-grow: 1;}#sk-container-id-18 div.sk-label:hover label.sk-toggleable__label {background-color: #d4ebff;}#sk-container-id-18 div.sk-serial::before {content: \"\";position: absolute;border-left: 1px solid gray;box-sizing: border-box;top: 0;bottom: 0;left: 50%;z-index: 0;}#sk-container-id-18 div.sk-serial {display: flex;flex-direction: column;align-items: center;background-color: white;padding-right: 0.2em;padding-left: 0.2em;position: relative;}#sk-container-id-18 div.sk-item {position: relative;z-index: 1;}#sk-container-id-18 div.sk-parallel {display: flex;align-items: stretch;justify-content: center;background-color: white;position: relative;}#sk-container-id-18 div.sk-item::before, #sk-container-id-18 div.sk-parallel-item::before {content: \"\";position: absolute;border-left: 1px solid gray;box-sizing: border-box;top: 0;bottom: 0;left: 50%;z-index: -1;}#sk-container-id-18 div.sk-parallel-item {display: flex;flex-direction: column;z-index: 1;position: relative;background-color: white;}#sk-container-id-18 div.sk-parallel-item:first-child::after {align-self: flex-end;width: 50%;}#sk-container-id-18 div.sk-parallel-item:last-child::after {align-self: flex-start;width: 50%;}#sk-container-id-18 div.sk-parallel-item:only-child::after {width: 0;}#sk-container-id-18 div.sk-dashed-wrapped {border: 1px dashed gray;margin: 0 0.4em 0.5em 0.4em;box-sizing: border-box;padding-bottom: 0.4em;background-color: white;}#sk-container-id-18 div.sk-label label {font-family: monospace;font-weight: bold;display: inline-block;line-height: 1.2em;}#sk-container-id-18 div.sk-label-container {text-align: center;}#sk-container-id-18 div.sk-container {/* jupyter's `normalize.less` sets `[hidden] { display: none; }` but bootstrap.min.css set `[hidden] { display: none !important; }` so we also need the `!important` here to be able to override the default hidden behavior on the sphinx rendered scikit-learn.org. See: https://github.com/scikit-learn/scikit-learn/issues/21755 */display: inline-block !important;position: relative;}#sk-container-id-18 div.sk-text-repr-fallback {display: none;}</style><div id=\"sk-container-id-18\" class=\"sk-top-container\"><div class=\"sk-text-repr-fallback\"><pre>LinearRegression()</pre><b>In a Jupyter environment, please rerun this cell to show the HTML representation or trust the notebook. <br />On GitHub, the HTML representation is unable to render, please try loading this page with nbviewer.org.</b></div><div class=\"sk-container\" hidden><div class=\"sk-item\"><div class=\"sk-estimator sk-toggleable\"><input class=\"sk-toggleable__control sk-hidden--visually\" id=\"sk-estimator-id-18\" type=\"checkbox\" checked><label for=\"sk-estimator-id-18\" class=\"sk-toggleable__label sk-toggleable__label-arrow\">LinearRegression</label><div class=\"sk-toggleable__content\"><pre>LinearRegression()</pre></div></div></div></div></div>"
      ],
      "text/plain": [
       "LinearRegression()"
      ]
     },
     "execution_count": 405,
     "metadata": {},
     "output_type": "execute_result"
    }
   ],
   "source": [
    "joblib.load(\"../models/reg_SR_2022-12-28_21-06-15.pkl\")"
   ]
  },
  {
   "cell_type": "code",
   "execution_count": 403,
   "metadata": {},
   "outputs": [
    {
     "data": {
      "text/plain": [
       "['../models/reg_2022-12-28_21-05-10.pkl']"
      ]
     },
     "execution_count": 403,
     "metadata": {},
     "output_type": "execute_result"
    }
   ],
   "source": [
    "# Save multiple regression model\n",
    "joblib.dump(reg, \"../models/reg_2022-12-28_21-05-10.pkl\")"
   ]
  },
  {
   "cell_type": "code",
   "execution_count": 406,
   "metadata": {},
   "outputs": [
    {
     "data": {
      "text/html": [
       "<style>#sk-container-id-19 {color: black;background-color: white;}#sk-container-id-19 pre{padding: 0;}#sk-container-id-19 div.sk-toggleable {background-color: white;}#sk-container-id-19 label.sk-toggleable__label {cursor: pointer;display: block;width: 100%;margin-bottom: 0;padding: 0.3em;box-sizing: border-box;text-align: center;}#sk-container-id-19 label.sk-toggleable__label-arrow:before {content: \"▸\";float: left;margin-right: 0.25em;color: #696969;}#sk-container-id-19 label.sk-toggleable__label-arrow:hover:before {color: black;}#sk-container-id-19 div.sk-estimator:hover label.sk-toggleable__label-arrow:before {color: black;}#sk-container-id-19 div.sk-toggleable__content {max-height: 0;max-width: 0;overflow: hidden;text-align: left;background-color: #f0f8ff;}#sk-container-id-19 div.sk-toggleable__content pre {margin: 0.2em;color: black;border-radius: 0.25em;background-color: #f0f8ff;}#sk-container-id-19 input.sk-toggleable__control:checked~div.sk-toggleable__content {max-height: 200px;max-width: 100%;overflow: auto;}#sk-container-id-19 input.sk-toggleable__control:checked~label.sk-toggleable__label-arrow:before {content: \"▾\";}#sk-container-id-19 div.sk-estimator input.sk-toggleable__control:checked~label.sk-toggleable__label {background-color: #d4ebff;}#sk-container-id-19 div.sk-label input.sk-toggleable__control:checked~label.sk-toggleable__label {background-color: #d4ebff;}#sk-container-id-19 input.sk-hidden--visually {border: 0;clip: rect(1px 1px 1px 1px);clip: rect(1px, 1px, 1px, 1px);height: 1px;margin: -1px;overflow: hidden;padding: 0;position: absolute;width: 1px;}#sk-container-id-19 div.sk-estimator {font-family: monospace;background-color: #f0f8ff;border: 1px dotted black;border-radius: 0.25em;box-sizing: border-box;margin-bottom: 0.5em;}#sk-container-id-19 div.sk-estimator:hover {background-color: #d4ebff;}#sk-container-id-19 div.sk-parallel-item::after {content: \"\";width: 100%;border-bottom: 1px solid gray;flex-grow: 1;}#sk-container-id-19 div.sk-label:hover label.sk-toggleable__label {background-color: #d4ebff;}#sk-container-id-19 div.sk-serial::before {content: \"\";position: absolute;border-left: 1px solid gray;box-sizing: border-box;top: 0;bottom: 0;left: 50%;z-index: 0;}#sk-container-id-19 div.sk-serial {display: flex;flex-direction: column;align-items: center;background-color: white;padding-right: 0.2em;padding-left: 0.2em;position: relative;}#sk-container-id-19 div.sk-item {position: relative;z-index: 1;}#sk-container-id-19 div.sk-parallel {display: flex;align-items: stretch;justify-content: center;background-color: white;position: relative;}#sk-container-id-19 div.sk-item::before, #sk-container-id-19 div.sk-parallel-item::before {content: \"\";position: absolute;border-left: 1px solid gray;box-sizing: border-box;top: 0;bottom: 0;left: 50%;z-index: -1;}#sk-container-id-19 div.sk-parallel-item {display: flex;flex-direction: column;z-index: 1;position: relative;background-color: white;}#sk-container-id-19 div.sk-parallel-item:first-child::after {align-self: flex-end;width: 50%;}#sk-container-id-19 div.sk-parallel-item:last-child::after {align-self: flex-start;width: 50%;}#sk-container-id-19 div.sk-parallel-item:only-child::after {width: 0;}#sk-container-id-19 div.sk-dashed-wrapped {border: 1px dashed gray;margin: 0 0.4em 0.5em 0.4em;box-sizing: border-box;padding-bottom: 0.4em;background-color: white;}#sk-container-id-19 div.sk-label label {font-family: monospace;font-weight: bold;display: inline-block;line-height: 1.2em;}#sk-container-id-19 div.sk-label-container {text-align: center;}#sk-container-id-19 div.sk-container {/* jupyter's `normalize.less` sets `[hidden] { display: none; }` but bootstrap.min.css set `[hidden] { display: none !important; }` so we also need the `!important` here to be able to override the default hidden behavior on the sphinx rendered scikit-learn.org. See: https://github.com/scikit-learn/scikit-learn/issues/21755 */display: inline-block !important;position: relative;}#sk-container-id-19 div.sk-text-repr-fallback {display: none;}</style><div id=\"sk-container-id-19\" class=\"sk-top-container\"><div class=\"sk-text-repr-fallback\"><pre>LinearRegression()</pre><b>In a Jupyter environment, please rerun this cell to show the HTML representation or trust the notebook. <br />On GitHub, the HTML representation is unable to render, please try loading this page with nbviewer.org.</b></div><div class=\"sk-container\" hidden><div class=\"sk-item\"><div class=\"sk-estimator sk-toggleable\"><input class=\"sk-toggleable__control sk-hidden--visually\" id=\"sk-estimator-id-19\" type=\"checkbox\" checked><label for=\"sk-estimator-id-19\" class=\"sk-toggleable__label sk-toggleable__label-arrow\">LinearRegression</label><div class=\"sk-toggleable__content\"><pre>LinearRegression()</pre></div></div></div></div></div>"
      ],
      "text/plain": [
       "LinearRegression()"
      ]
     },
     "execution_count": 406,
     "metadata": {},
     "output_type": "execute_result"
    }
   ],
   "source": [
    "joblib.load(\"../models/reg_2022-12-28_21-05-10.pkl\")"
   ]
  },
  {
   "cell_type": "code",
   "execution_count": 401,
   "metadata": {},
   "outputs": [
    {
     "data": {
      "text/plain": [
       "['../models/lasse_best_model_2022-12-28_21-03-35.pkl']"
      ]
     },
     "execution_count": 401,
     "metadata": {},
     "output_type": "execute_result"
    }
   ],
   "source": [
    "# Save lasso best model\n",
    "joblib.dump(lasso_best, \"../models/lasse_best_model_2022-12-28_21-03-35.pkl\")"
   ]
  },
  {
   "cell_type": "code",
   "execution_count": 402,
   "metadata": {},
   "outputs": [
    {
     "data": {
      "text/html": [
       "<style>#sk-container-id-17 {color: black;background-color: white;}#sk-container-id-17 pre{padding: 0;}#sk-container-id-17 div.sk-toggleable {background-color: white;}#sk-container-id-17 label.sk-toggleable__label {cursor: pointer;display: block;width: 100%;margin-bottom: 0;padding: 0.3em;box-sizing: border-box;text-align: center;}#sk-container-id-17 label.sk-toggleable__label-arrow:before {content: \"▸\";float: left;margin-right: 0.25em;color: #696969;}#sk-container-id-17 label.sk-toggleable__label-arrow:hover:before {color: black;}#sk-container-id-17 div.sk-estimator:hover label.sk-toggleable__label-arrow:before {color: black;}#sk-container-id-17 div.sk-toggleable__content {max-height: 0;max-width: 0;overflow: hidden;text-align: left;background-color: #f0f8ff;}#sk-container-id-17 div.sk-toggleable__content pre {margin: 0.2em;color: black;border-radius: 0.25em;background-color: #f0f8ff;}#sk-container-id-17 input.sk-toggleable__control:checked~div.sk-toggleable__content {max-height: 200px;max-width: 100%;overflow: auto;}#sk-container-id-17 input.sk-toggleable__control:checked~label.sk-toggleable__label-arrow:before {content: \"▾\";}#sk-container-id-17 div.sk-estimator input.sk-toggleable__control:checked~label.sk-toggleable__label {background-color: #d4ebff;}#sk-container-id-17 div.sk-label input.sk-toggleable__control:checked~label.sk-toggleable__label {background-color: #d4ebff;}#sk-container-id-17 input.sk-hidden--visually {border: 0;clip: rect(1px 1px 1px 1px);clip: rect(1px, 1px, 1px, 1px);height: 1px;margin: -1px;overflow: hidden;padding: 0;position: absolute;width: 1px;}#sk-container-id-17 div.sk-estimator {font-family: monospace;background-color: #f0f8ff;border: 1px dotted black;border-radius: 0.25em;box-sizing: border-box;margin-bottom: 0.5em;}#sk-container-id-17 div.sk-estimator:hover {background-color: #d4ebff;}#sk-container-id-17 div.sk-parallel-item::after {content: \"\";width: 100%;border-bottom: 1px solid gray;flex-grow: 1;}#sk-container-id-17 div.sk-label:hover label.sk-toggleable__label {background-color: #d4ebff;}#sk-container-id-17 div.sk-serial::before {content: \"\";position: absolute;border-left: 1px solid gray;box-sizing: border-box;top: 0;bottom: 0;left: 50%;z-index: 0;}#sk-container-id-17 div.sk-serial {display: flex;flex-direction: column;align-items: center;background-color: white;padding-right: 0.2em;padding-left: 0.2em;position: relative;}#sk-container-id-17 div.sk-item {position: relative;z-index: 1;}#sk-container-id-17 div.sk-parallel {display: flex;align-items: stretch;justify-content: center;background-color: white;position: relative;}#sk-container-id-17 div.sk-item::before, #sk-container-id-17 div.sk-parallel-item::before {content: \"\";position: absolute;border-left: 1px solid gray;box-sizing: border-box;top: 0;bottom: 0;left: 50%;z-index: -1;}#sk-container-id-17 div.sk-parallel-item {display: flex;flex-direction: column;z-index: 1;position: relative;background-color: white;}#sk-container-id-17 div.sk-parallel-item:first-child::after {align-self: flex-end;width: 50%;}#sk-container-id-17 div.sk-parallel-item:last-child::after {align-self: flex-start;width: 50%;}#sk-container-id-17 div.sk-parallel-item:only-child::after {width: 0;}#sk-container-id-17 div.sk-dashed-wrapped {border: 1px dashed gray;margin: 0 0.4em 0.5em 0.4em;box-sizing: border-box;padding-bottom: 0.4em;background-color: white;}#sk-container-id-17 div.sk-label label {font-family: monospace;font-weight: bold;display: inline-block;line-height: 1.2em;}#sk-container-id-17 div.sk-label-container {text-align: center;}#sk-container-id-17 div.sk-container {/* jupyter's `normalize.less` sets `[hidden] { display: none; }` but bootstrap.min.css set `[hidden] { display: none !important; }` so we also need the `!important` here to be able to override the default hidden behavior on the sphinx rendered scikit-learn.org. See: https://github.com/scikit-learn/scikit-learn/issues/21755 */display: inline-block !important;position: relative;}#sk-container-id-17 div.sk-text-repr-fallback {display: none;}</style><div id=\"sk-container-id-17\" class=\"sk-top-container\"><div class=\"sk-text-repr-fallback\"><pre>Lasso(alpha=0.8852697267339502)</pre><b>In a Jupyter environment, please rerun this cell to show the HTML representation or trust the notebook. <br />On GitHub, the HTML representation is unable to render, please try loading this page with nbviewer.org.</b></div><div class=\"sk-container\" hidden><div class=\"sk-item\"><div class=\"sk-estimator sk-toggleable\"><input class=\"sk-toggleable__control sk-hidden--visually\" id=\"sk-estimator-id-17\" type=\"checkbox\" checked><label for=\"sk-estimator-id-17\" class=\"sk-toggleable__label sk-toggleable__label-arrow\">Lasso</label><div class=\"sk-toggleable__content\"><pre>Lasso(alpha=0.8852697267339502)</pre></div></div></div></div></div>"
      ],
      "text/plain": [
       "Lasso(alpha=0.8852697267339502)"
      ]
     },
     "execution_count": 402,
     "metadata": {},
     "output_type": "execute_result"
    }
   ],
   "source": [
    "joblib.load(\"../models/lasse_best_model_2022-12-28_21-03-35.pkl\")"
   ]
  },
  {
   "cell_type": "markdown",
   "metadata": {},
   "source": [
    "## Conclusions"
   ]
  },
  {
   "attachments": {},
   "cell_type": "markdown",
   "metadata": {},
   "source": [
    "In this analysis, we used various models to test the two hypotheses mentioned in the introduction. By using models such as simple regression analysis, multiple regression analysis, and Lasso regression, we could observe the problems regarding to number of explanatory variables as well as multicollinearity between those variables.\n",
    "For future analyses, we should reduce the number of predictors in order to correctly evaluate our hypothesis.\n",
    "\n",
    "Despite these problems, we were able to explain two things about our hypothese:\n",
    "- Labor productivity decreases with increasing average annual working hours, but the negative relationship is not as strong as expected.\n",
    "- While we can say that a country's life satisfaction is strongly correlated with labor productivity growth, we cannot say that it is the most relevant factor. This is because, contrary to expectations, the Gini coefficient has a large correlation with labor productivity.\n"
   ]
  }
 ],
 "metadata": {
  "kernelspec": {
   "display_name": "stats",
   "language": "python",
   "name": "python3"
  },
  "language_info": {
   "codemirror_mode": {
    "name": "ipython",
    "version": 3
   },
   "file_extension": ".py",
   "mimetype": "text/x-python",
   "name": "python",
   "nbconvert_exporter": "python",
   "pygments_lexer": "ipython3",
   "version": "3.9.15"
  },
  "orig_nbformat": 4,
  "vscode": {
   "interpreter": {
    "hash": "b9704ef2e3ddc6ab1d4edd47e00303b813a51cacc3c66724fdde1852648cee03"
   }
  }
 },
 "nbformat": 4,
 "nbformat_minor": 2
}
